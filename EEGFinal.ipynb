{
  "cells": [
    {
      "cell_type": "markdown",
      "metadata": {
        "id": "view-in-github",
        "colab_type": "text"
      },
      "source": [
        "<a href=\"https://colab.research.google.com/github/AyeshaAnzerBCIT/Multisource/blob/main/EEGFinal.ipynb\" target=\"_parent\"><img src=\"https://colab.research.google.com/assets/colab-badge.svg\" alt=\"Open In Colab\"/></a>"
      ]
    },
    {
      "cell_type": "code",
      "execution_count": null,
      "id": "27253cb4-5334-4d01-9725-49d1ee4c23ba",
      "metadata": {
        "id": "27253cb4-5334-4d01-9725-49d1ee4c23ba",
        "outputId": "8ba0f659-4a32-45b4-d6d3-6b3159d84190"
      },
      "outputs": [
        {
          "name": "stdout",
          "output_type": "stream",
          "text": [
            "Using device: cuda:0\n",
            "Starting GCS-based EEG .mat processing for all patients, with resume-on-crash...\n",
            "\n",
            "Found 1489 .mat files in GCS using pattern:\n",
            "  gs://eegchild/EEG_extracted/**/mat_format/*.mat\n"
          ]
        },
        {
          "name": "stderr",
          "output_type": "stream",
          "text": [
            "Processing .mat files:   0%|                   | 2/1489 [00:00<01:25, 17.33it/s]"
          ]
        },
        {
          "name": "stdout",
          "output_type": "stream",
          "text": [
            "Skipping gip_A00051826005 (features already exist).\n",
            "Skipping gp_A00051826001 (features already exist).\n",
            "Skipping gp_A00051826002 (features already exist).\n"
          ]
        },
        {
          "name": "stderr",
          "output_type": "stream",
          "text": [
            "Processing .mat files:   0%|                   | 4/1489 [00:00<01:22, 17.93it/s]"
          ]
        },
        {
          "name": "stdout",
          "output_type": "stream",
          "text": [
            "Skipping gp_A00051826003 (features already exist).\n"
          ]
        },
        {
          "name": "stderr",
          "output_type": "stream",
          "text": [
            "Processing .mat files:   0%|                   | 6/1489 [00:00<01:23, 17.74it/s]"
          ]
        },
        {
          "name": "stdout",
          "output_type": "stream",
          "text": [
            "Skipping gp_A00051826004 (features already exist).\n",
            "Skipping oip_A00051826006 (features already exist).\n",
            "Skipping oip_A00051826007 (features already exist).\n"
          ]
        },
        {
          "name": "stderr",
          "output_type": "stream",
          "text": [
            "Processing .mat files:   1%|                   | 8/1489 [00:00<01:22, 17.93it/s]"
          ]
        },
        {
          "name": "stdout",
          "output_type": "stream",
          "text": [
            "Skipping oip_A00051826008 (features already exist).\n"
          ]
        },
        {
          "name": "stderr",
          "output_type": "stream",
          "text": [
            "Processing .mat files:   1%|                  | 10/1489 [00:00<01:22, 17.98it/s]"
          ]
        },
        {
          "name": "stdout",
          "output_type": "stream",
          "text": [
            "Skipping oip_A00051826009 (features already exist).\n",
            "Skipping oip_A00051826010 (features already exist).\n",
            "Skipping oip_A00051826011 (features already exist).\n"
          ]
        },
        {
          "name": "stderr",
          "output_type": "stream",
          "text": [
            "Processing .mat files:   1%|▏                 | 12/1489 [00:00<01:19, 18.55it/s]"
          ]
        },
        {
          "name": "stdout",
          "output_type": "stream",
          "text": [
            "Skipping gip_A00051886002 (features already exist).\n"
          ]
        },
        {
          "name": "stderr",
          "output_type": "stream",
          "text": [
            "Processing .mat files:   1%|▏                 | 15/1489 [00:00<01:17, 18.92it/s]"
          ]
        },
        {
          "name": "stdout",
          "output_type": "stream",
          "text": [
            "Skipping gip_A00051886003 (features already exist).\n",
            "Skipping gip_A00051886005 (features already exist).\n",
            "Skipping gip_A00051886006 (features already exist).\n",
            "Skipping gip_A00051886008 (features already exist).\n"
          ]
        },
        {
          "name": "stderr",
          "output_type": "stream",
          "text": [
            "Processing .mat files:   1%|▏                 | 19/1489 [00:01<01:19, 18.46it/s]"
          ]
        },
        {
          "name": "stdout",
          "output_type": "stream",
          "text": [
            "Skipping gip_A00051886010 (features already exist).\n",
            "Skipping gp_A00051886001 (features already exist).\n",
            "Skipping gp_A00051886004 (features already exist).\n",
            "Skipping gp_A00051886007 (features already exist).\n"
          ]
        },
        {
          "name": "stderr",
          "output_type": "stream",
          "text": [
            "Processing .mat files:   1%|▎                 | 21/1489 [00:01<01:19, 18.49it/s]"
          ]
        },
        {
          "name": "stdout",
          "output_type": "stream",
          "text": [
            "Skipping gp_A00051886009 (features already exist).\n",
            "Skipping gp_A00051886011 (features already exist).\n",
            "Skipping gip_A00051955001 (features already exist).\n"
          ]
        },
        {
          "name": "stderr",
          "output_type": "stream",
          "text": [
            "Processing .mat files:   2%|▎                 | 24/1489 [00:01<01:17, 18.83it/s]"
          ]
        },
        {
          "name": "stdout",
          "output_type": "stream",
          "text": [
            "Skipping gip_A00051955003 (features already exist).\n"
          ]
        },
        {
          "name": "stderr",
          "output_type": "stream",
          "text": [
            "Processing .mat files:   2%|▎                 | 26/1489 [00:01<01:17, 18.87it/s]"
          ]
        },
        {
          "name": "stdout",
          "output_type": "stream",
          "text": [
            "Skipping gip_A00051955005 (features already exist).\n",
            "Skipping gip_A00051955006 (features already exist).\n",
            "Skipping gip_A00051955007 (features already exist).\n"
          ]
        },
        {
          "name": "stderr",
          "output_type": "stream",
          "text": [
            "Processing .mat files:   2%|▎                 | 28/1489 [00:01<01:17, 18.86it/s]"
          ]
        },
        {
          "name": "stdout",
          "output_type": "stream",
          "text": [
            "Skipping gip_A00051955008 (features already exist).\n"
          ]
        },
        {
          "name": "stderr",
          "output_type": "stream",
          "text": [
            "Processing .mat files:   2%|▎                 | 30/1489 [00:01<01:17, 18.88it/s]"
          ]
        },
        {
          "name": "stdout",
          "output_type": "stream",
          "text": [
            "Skipping gip_A00051955009 (features already exist).\n",
            "Skipping gip_A00051955010 (features already exist).\n",
            "Skipping gp_A00051955002 (features already exist).\n"
          ]
        },
        {
          "name": "stderr",
          "output_type": "stream",
          "text": [
            "Processing .mat files:   2%|▍                 | 32/1489 [00:01<01:15, 19.17it/s]"
          ]
        },
        {
          "name": "stdout",
          "output_type": "stream",
          "text": [
            "Skipping gp_A00051955011 (features already exist).\n"
          ]
        },
        {
          "name": "stderr",
          "output_type": "stream",
          "text": [
            "Processing .mat files:   2%|▍                 | 34/1489 [00:01<01:17, 18.75it/s]"
          ]
        },
        {
          "name": "stdout",
          "output_type": "stream",
          "text": [
            "Skipping op_A00051955004 (features already exist).\n",
            "Skipping bip_A00053375001 (features already exist).\n",
            "Skipping bip_A00053375002 (features already exist).\n"
          ]
        },
        {
          "name": "stderr",
          "output_type": "stream",
          "text": [
            "Processing .mat files:   2%|▍                 | 36/1489 [00:01<01:17, 18.75it/s]"
          ]
        },
        {
          "name": "stdout",
          "output_type": "stream",
          "text": [
            "Skipping bip_A00053375003 (features already exist).\n"
          ]
        },
        {
          "name": "stderr",
          "output_type": "stream",
          "text": [
            "Processing .mat files:   3%|▍                 | 38/1489 [00:02<01:17, 18.74it/s]"
          ]
        },
        {
          "name": "stdout",
          "output_type": "stream",
          "text": [
            "Skipping bip_A00053375004 (features already exist).\n",
            "Skipping bip_A00053375008 (features already exist).\n",
            "Skipping bip_A00053375009 (features already exist).\n"
          ]
        },
        {
          "name": "stderr",
          "output_type": "stream",
          "text": [
            "Processing .mat files:   3%|▍                 | 40/1489 [00:02<01:17, 18.61it/s]"
          ]
        },
        {
          "name": "stdout",
          "output_type": "stream",
          "text": [
            "Skipping bp_A00053375006 (features already exist).\n"
          ]
        },
        {
          "name": "stderr",
          "output_type": "stream",
          "text": [
            "Processing .mat files:   3%|▌                 | 42/1489 [00:02<01:17, 18.72it/s]"
          ]
        },
        {
          "name": "stdout",
          "output_type": "stream",
          "text": [
            "Skipping oip_A00053375005 (features already exist).\n",
            "Skipping oip_A00053375007 (features already exist).\n",
            "Skipping bip_A00053398_part2003 (features already exist).\n"
          ]
        },
        {
          "name": "stderr",
          "output_type": "stream",
          "text": [
            "Processing .mat files:   3%|▌                 | 44/1489 [00:02<01:16, 18.93it/s]"
          ]
        },
        {
          "name": "stdout",
          "output_type": "stream",
          "text": [
            "Skipping bip_A00053398_part2004 (features already exist).\n"
          ]
        },
        {
          "name": "stderr",
          "output_type": "stream",
          "text": [
            "Processing .mat files:   3%|▌                 | 46/1489 [00:02<01:15, 19.05it/s]"
          ]
        },
        {
          "name": "stdout",
          "output_type": "stream",
          "text": [
            "Skipping bip_A00053398_part2005 (features already exist).\n",
            "Skipping bip_A00053398_part2006 (features already exist).\n",
            "Skipping bp_A00053398_part2007 (features already exist).\n"
          ]
        },
        {
          "name": "stderr",
          "output_type": "stream",
          "text": [
            "Processing .mat files:   3%|▌                 | 48/1489 [00:02<01:16, 18.77it/s]"
          ]
        },
        {
          "name": "stdout",
          "output_type": "stream",
          "text": [
            "Skipping gip_A00053398_part2009 (features already exist).\n"
          ]
        },
        {
          "name": "stderr",
          "output_type": "stream",
          "text": [
            "Processing .mat files:   3%|▌                 | 50/1489 [00:02<01:15, 19.09it/s]"
          ]
        },
        {
          "name": "stdout",
          "output_type": "stream",
          "text": [
            "Skipping gp_A00053398 (features already exist).\n",
            "Skipping oip_A00053398_part2001 (features already exist).\n",
            "Skipping oip_A00053398_part2002 (features already exist).\n",
            "Skipping oip_A00053398_part2010 (features already exist).\n"
          ]
        },
        {
          "name": "stderr",
          "output_type": "stream",
          "text": [
            "Processing .mat files:   4%|▋                 | 53/1489 [00:02<01:12, 19.74it/s]"
          ]
        },
        {
          "name": "stdout",
          "output_type": "stream",
          "text": [
            "Skipping oip_A00053398_part2011 (features already exist).\n"
          ]
        },
        {
          "name": "stderr",
          "output_type": "stream",
          "text": [
            "Processing .mat files:   4%|▋                 | 55/1489 [00:02<01:13, 19.41it/s]"
          ]
        },
        {
          "name": "stdout",
          "output_type": "stream",
          "text": [
            "Skipping op_A00053398_part2008 (features already exist).\n",
            "Skipping gip_A00053440001 (features already exist).\n",
            "Skipping gip_A00053440002 (features already exist).\n"
          ]
        },
        {
          "name": "stderr",
          "output_type": "stream",
          "text": [
            "Processing .mat files:   4%|▋                 | 57/1489 [00:03<01:16, 18.67it/s]"
          ]
        },
        {
          "name": "stdout",
          "output_type": "stream",
          "text": [
            "Skipping gip_A00053440_part2002 (features already exist).\n"
          ]
        },
        {
          "name": "stderr",
          "output_type": "stream",
          "text": [
            "Processing .mat files:   4%|▋                 | 59/1489 [00:03<01:16, 18.72it/s]"
          ]
        },
        {
          "name": "stdout",
          "output_type": "stream",
          "text": [
            "Skipping gp_A00053440003 (features already exist).\n",
            "Skipping gp_A00053440004 (features already exist).\n",
            "Skipping gp_A00053440005 (features already exist).\n"
          ]
        },
        {
          "name": "stderr",
          "output_type": "stream",
          "text": [
            "Processing .mat files:   4%|▋                 | 61/1489 [00:03<01:17, 18.46it/s]"
          ]
        },
        {
          "name": "stdout",
          "output_type": "stream",
          "text": [
            "Skipping gp_A00053440006 (features already exist).\n"
          ]
        },
        {
          "name": "stderr",
          "output_type": "stream",
          "text": [
            "Processing .mat files:   4%|▊                 | 63/1489 [00:03<01:17, 18.45it/s]"
          ]
        },
        {
          "name": "stdout",
          "output_type": "stream",
          "text": [
            "Skipping gp_A00053440_part2001 (features already exist).\n",
            "Skipping gp_A00053440_part2003 (features already exist).\n",
            "Skipping gp_A00053440_part2005 (features already exist).\n"
          ]
        },
        {
          "name": "stderr",
          "output_type": "stream",
          "text": [
            "Processing .mat files:   4%|▊                 | 65/1489 [00:03<01:18, 18.10it/s]"
          ]
        },
        {
          "name": "stdout",
          "output_type": "stream",
          "text": [
            "Skipping oip_A00053440_part2004 (features already exist).\n"
          ]
        },
        {
          "name": "stderr",
          "output_type": "stream",
          "text": [
            "Processing .mat files:   4%|▊                 | 67/1489 [00:03<01:17, 18.39it/s]"
          ]
        },
        {
          "name": "stdout",
          "output_type": "stream",
          "text": [
            "Skipping gip_A00053460001 (features already exist).\n",
            "Skipping gip_A00053460008 (features already exist).\n",
            "Skipping gip_A00053460009 (features already exist).\n"
          ]
        },
        {
          "name": "stderr",
          "output_type": "stream",
          "text": [
            "Processing .mat files:   5%|▊                 | 69/1489 [00:03<01:16, 18.46it/s]"
          ]
        },
        {
          "name": "stdout",
          "output_type": "stream",
          "text": [
            "Skipping oip_A00053460003 (features already exist).\n"
          ]
        },
        {
          "name": "stderr",
          "output_type": "stream",
          "text": [
            "Processing .mat files:   5%|▊                 | 71/1489 [00:03<01:15, 18.76it/s]"
          ]
        },
        {
          "name": "stdout",
          "output_type": "stream",
          "text": [
            "Skipping oip_A00053460004 (features already exist).\n",
            "Skipping oip_A00053460005 (features already exist).\n",
            "Skipping oip_A00053460006 (features already exist).\n"
          ]
        },
        {
          "name": "stderr",
          "output_type": "stream",
          "text": [
            "Processing .mat files:   5%|▉                 | 73/1489 [00:03<01:15, 18.81it/s]"
          ]
        },
        {
          "name": "stdout",
          "output_type": "stream",
          "text": [
            "Skipping oip_A00053460010 (features already exist).\n"
          ]
        },
        {
          "name": "stderr",
          "output_type": "stream",
          "text": [
            "Processing .mat files:   5%|▉                 | 75/1489 [00:04<01:16, 18.41it/s]"
          ]
        },
        {
          "name": "stdout",
          "output_type": "stream",
          "text": [
            "Skipping op_A00053460002 (features already exist).\n",
            "Skipping op_A00053460007 (features already exist).\n",
            "Skipping oip_A00053480001 (features already exist).\n"
          ]
        },
        {
          "name": "stderr",
          "output_type": "stream",
          "text": [
            "Processing .mat files:   5%|▉                 | 77/1489 [00:04<01:16, 18.46it/s]"
          ]
        },
        {
          "name": "stdout",
          "output_type": "stream",
          "text": [
            "Skipping oip_A00053480002 (features already exist).\n"
          ]
        },
        {
          "name": "stderr",
          "output_type": "stream",
          "text": [
            "Processing .mat files:   5%|▉                 | 79/1489 [00:04<01:15, 18.73it/s]"
          ]
        },
        {
          "name": "stdout",
          "output_type": "stream",
          "text": [
            "Skipping oip_A00053480003 (features already exist).\n",
            "Skipping oip_A00053480005 (features already exist).\n",
            "Skipping oip_A00053480007 (features already exist).\n"
          ]
        },
        {
          "name": "stderr",
          "output_type": "stream",
          "text": [
            "Processing .mat files:   5%|▉                 | 81/1489 [00:04<01:15, 18.66it/s]"
          ]
        },
        {
          "name": "stdout",
          "output_type": "stream",
          "text": [
            "Skipping oip_A00053480008 (features already exist).\n"
          ]
        },
        {
          "name": "stderr",
          "output_type": "stream",
          "text": [
            "Processing .mat files:   6%|█                 | 83/1489 [00:04<01:15, 18.69it/s]"
          ]
        },
        {
          "name": "stdout",
          "output_type": "stream",
          "text": [
            "Skipping op_A00053480004 (features already exist).\n",
            "Skipping gip_A00053597002 (features already exist).\n",
            "Skipping gip_A00053597003 (features already exist).\n"
          ]
        },
        {
          "name": "stderr",
          "output_type": "stream",
          "text": [
            "Processing .mat files:   6%|█                 | 85/1489 [00:04<01:15, 18.63it/s]"
          ]
        },
        {
          "name": "stdout",
          "output_type": "stream",
          "text": [
            "Skipping gip_A00053597006 (features already exist).\n"
          ]
        },
        {
          "name": "stderr",
          "output_type": "stream",
          "text": [
            "Processing .mat files:   6%|█                 | 87/1489 [00:04<01:15, 18.68it/s]"
          ]
        },
        {
          "name": "stdout",
          "output_type": "stream",
          "text": [
            "Skipping gip_A00053597010 (features already exist).\n",
            "Skipping gp_A00053597001 (features already exist).\n",
            "Skipping gp_A00053597007 (features already exist).\n"
          ]
        },
        {
          "name": "stderr",
          "output_type": "stream",
          "text": [
            "Processing .mat files:   6%|█                 | 89/1489 [00:04<01:14, 18.81it/s]"
          ]
        },
        {
          "name": "stdout",
          "output_type": "stream",
          "text": [
            "Skipping gp_A00053597008 (features already exist).\n"
          ]
        },
        {
          "name": "stderr",
          "output_type": "stream",
          "text": [
            "Processing .mat files:   6%|█                 | 91/1489 [00:04<01:14, 18.68it/s]"
          ]
        },
        {
          "name": "stdout",
          "output_type": "stream",
          "text": [
            "Skipping gp_A00053597009 (features already exist).\n",
            "Skipping gp_A00053597011 (features already exist).\n",
            "Skipping oip_A00053597004 (features already exist).\n"
          ]
        },
        {
          "name": "stderr",
          "output_type": "stream",
          "text": [
            "Processing .mat files:   6%|█                 | 93/1489 [00:04<01:13, 19.03it/s]"
          ]
        },
        {
          "name": "stdout",
          "output_type": "stream",
          "text": [
            "Skipping oip_A00053597005 (features already exist).\n"
          ]
        },
        {
          "name": "stderr",
          "output_type": "stream",
          "text": [
            "Processing .mat files:   6%|█▏                | 95/1489 [00:05<01:17, 18.10it/s]"
          ]
        },
        {
          "name": "stdout",
          "output_type": "stream",
          "text": [
            "Skipping bip_A00053909002 (features already exist).\n",
            "Skipping gip_A00053909004 (features already exist).\n",
            "Skipping gip_A00053909005 (features already exist).\n"
          ]
        },
        {
          "name": "stderr",
          "output_type": "stream",
          "text": [
            "Processing .mat files:   7%|█▏                | 97/1489 [00:05<01:15, 18.54it/s]"
          ]
        },
        {
          "name": "stdout",
          "output_type": "stream",
          "text": [
            "Skipping gip_A00053909008 (features already exist).\n"
          ]
        },
        {
          "name": "stderr",
          "output_type": "stream",
          "text": [
            "Processing .mat files:   7%|█▏                | 99/1489 [00:05<01:16, 18.23it/s]"
          ]
        },
        {
          "name": "stdout",
          "output_type": "stream",
          "text": [
            "Skipping gip_A00053909011 (features already exist).\n",
            "Skipping oip_A00053909001 (features already exist).\n",
            "Skipping oip_A00053909003 (features already exist).\n"
          ]
        },
        {
          "name": "stderr",
          "output_type": "stream",
          "text": [
            "Processing .mat files:   7%|█▏               | 101/1489 [00:05<01:16, 18.21it/s]"
          ]
        },
        {
          "name": "stdout",
          "output_type": "stream",
          "text": [
            "Skipping oip_A00053909006 (features already exist).\n"
          ]
        },
        {
          "name": "stderr",
          "output_type": "stream",
          "text": [
            "Processing .mat files:   7%|█▏               | 103/1489 [00:05<01:16, 18.14it/s]"
          ]
        },
        {
          "name": "stdout",
          "output_type": "stream",
          "text": [
            "Skipping oip_A00053909007 (features already exist).\n",
            "Skipping oip_A00053909009 (features already exist).\n",
            "Skipping oip_A00053909010 (features already exist).\n",
            "Skipping gip_A00053990002 (features already exist).\n"
          ]
        },
        {
          "name": "stderr",
          "output_type": "stream",
          "text": [
            "Processing .mat files:   7%|█▏               | 108/1489 [00:05<01:15, 18.31it/s]"
          ]
        },
        {
          "name": "stdout",
          "output_type": "stream",
          "text": [
            "Skipping gip_A00053990003 (features already exist).\n",
            "Skipping gip_A00053990005 (features already exist).\n",
            "Skipping gip_A00053990006 (features already exist).\n",
            "Skipping gip_A00053990008 (features already exist).\n"
          ]
        },
        {
          "name": "stderr",
          "output_type": "stream",
          "text": [
            "Processing .mat files:   8%|█▎               | 113/1489 [00:06<01:12, 19.06it/s]"
          ]
        },
        {
          "name": "stdout",
          "output_type": "stream",
          "text": [
            "Skipping gip_A00053990009 (features already exist).\n",
            "Skipping gip_A00053990011 (features already exist).\n",
            "Skipping gip_A00053990015 (features already exist).\n",
            "Skipping gip_A00053990016 (features already exist).\n",
            "Skipping gip_A00053990017 (features already exist).\n"
          ]
        },
        {
          "name": "stderr",
          "output_type": "stream",
          "text": [
            "Processing .mat files:   8%|█▎               | 117/1489 [00:06<01:12, 18.99it/s]"
          ]
        },
        {
          "name": "stdout",
          "output_type": "stream",
          "text": [
            "Skipping gip_A00053990018 (features already exist).\n",
            "Skipping gip_A00053990019 (features already exist).\n",
            "Skipping gip_A00053990020 (features already exist).\n",
            "Skipping gp_A00053990001 (features already exist).\n"
          ]
        },
        {
          "name": "stderr",
          "output_type": "stream",
          "text": [
            "Processing .mat files:   8%|█▍               | 121/1489 [00:06<01:11, 19.06it/s]"
          ]
        },
        {
          "name": "stdout",
          "output_type": "stream",
          "text": [
            "Skipping gp_A00053990004 (features already exist).\n",
            "Skipping gp_A00053990007 (features already exist).\n",
            "Skipping gp_A00053990012 (features already exist).\n",
            "Skipping gp_A00053990013 (features already exist).\n"
          ]
        },
        {
          "name": "stderr",
          "output_type": "stream",
          "text": [
            "Processing .mat files:   8%|█▍               | 125/1489 [00:06<01:11, 19.12it/s]"
          ]
        },
        {
          "name": "stdout",
          "output_type": "stream",
          "text": [
            "Skipping gp_A00053990014 (features already exist).\n",
            "Skipping oip_A00053990010 (features already exist).\n",
            "Skipping gip_A00054023003 (features already exist).\n",
            "Skipping gip_A00054023004 (features already exist).\n"
          ]
        },
        {
          "name": "stderr",
          "output_type": "stream",
          "text": [
            "Processing .mat files:   9%|█▍               | 129/1489 [00:06<01:12, 18.81it/s]"
          ]
        },
        {
          "name": "stdout",
          "output_type": "stream",
          "text": [
            "Skipping gip_A00054023005 (features already exist).\n",
            "Skipping gip_A00054023006 (features already exist).\n",
            "Skipping gip_A00054023007 (features already exist).\n",
            "Skipping gip_A00054023009 (features already exist).\n"
          ]
        },
        {
          "name": "stderr",
          "output_type": "stream",
          "text": [
            "Processing .mat files:   9%|█▌               | 133/1489 [00:07<01:11, 18.86it/s]"
          ]
        },
        {
          "name": "stdout",
          "output_type": "stream",
          "text": [
            "Skipping gip_A00054023011 (features already exist).\n",
            "Skipping gp_A00054023001 (features already exist).\n",
            "Skipping gp_A00054023002 (features already exist).\n",
            "Skipping gp_A00054023008 (features already exist).\n"
          ]
        },
        {
          "name": "stderr",
          "output_type": "stream",
          "text": [
            "Processing .mat files:   9%|█▌               | 137/1489 [00:07<01:13, 18.42it/s]"
          ]
        },
        {
          "name": "stdout",
          "output_type": "stream",
          "text": [
            "Skipping gp_A00054023010 (features already exist).\n",
            "Skipping gp_A00054023012 (features already exist).\n",
            "Skipping gip_A00054039005 (features already exist).\n",
            "Skipping gip_A00054039007 (features already exist).\n"
          ]
        },
        {
          "name": "stderr",
          "output_type": "stream",
          "text": [
            "Processing .mat files:   9%|█▌               | 141/1489 [00:07<01:13, 18.32it/s]"
          ]
        },
        {
          "name": "stdout",
          "output_type": "stream",
          "text": [
            "Skipping gip_A00054039009 (features already exist).\n",
            "Skipping gip_A00054039010 (features already exist).\n",
            "Skipping gip_A00054039011 (features already exist).\n",
            "Skipping gp_A00054039001 (features already exist).\n"
          ]
        },
        {
          "name": "stderr",
          "output_type": "stream",
          "text": [
            "Processing .mat files:  10%|█▋               | 145/1489 [00:07<01:13, 18.35it/s]"
          ]
        },
        {
          "name": "stdout",
          "output_type": "stream",
          "text": [
            "Skipping gp_A00054039002 (features already exist).\n",
            "Skipping gp_A00054039003 (features already exist).\n",
            "Skipping gp_A00054039004 (features already exist).\n",
            "Skipping gp_A00054039006 (features already exist).\n"
          ]
        },
        {
          "name": "stderr",
          "output_type": "stream",
          "text": [
            "Processing .mat files:  10%|█▋               | 149/1489 [00:07<01:13, 18.24it/s]"
          ]
        },
        {
          "name": "stdout",
          "output_type": "stream",
          "text": [
            "Skipping gp_A00054039008 (features already exist).\n",
            "Skipping gip_A00054207001 (features already exist).\n",
            "Skipping gip_A00054207002 (features already exist).\n",
            "Skipping gip_A00054207004 (features already exist).\n"
          ]
        },
        {
          "name": "stderr",
          "output_type": "stream",
          "text": [
            "Processing .mat files:  10%|█▋               | 153/1489 [00:08<01:15, 17.75it/s]"
          ]
        },
        {
          "name": "stdout",
          "output_type": "stream",
          "text": [
            "Skipping gip_A00054207005 (features already exist).\n",
            "Skipping gip_A00054207006 (features already exist).\n",
            "Skipping gip_A00054207009 (features already exist).\n",
            "Skipping gip_A00054207010 (features already exist).\n"
          ]
        },
        {
          "name": "stderr",
          "output_type": "stream",
          "text": [
            "Processing .mat files:  11%|█▊               | 157/1489 [00:08<01:12, 18.29it/s]"
          ]
        },
        {
          "name": "stdout",
          "output_type": "stream",
          "text": [
            "Skipping gip_A00054207011 (features already exist).\n",
            "Skipping gp_A00054207003 (features already exist).\n",
            "Skipping gp_A00054207007 (features already exist).\n",
            "Skipping gp_A00054207008 (features already exist).\n"
          ]
        },
        {
          "name": "stderr",
          "output_type": "stream",
          "text": [
            "Processing .mat files:  11%|█▊               | 161/1489 [00:08<01:15, 17.58it/s]"
          ]
        },
        {
          "name": "stdout",
          "output_type": "stream",
          "text": [
            "Skipping bip_A00054215001 (features already exist).\n",
            "Skipping bip_A00054215004 (features already exist).\n",
            "Skipping bip_A00054215010 (features already exist).\n",
            "Skipping bip_A00054215011 (features already exist).\n"
          ]
        },
        {
          "name": "stderr",
          "output_type": "stream",
          "text": [
            "Processing .mat files:  11%|█▉               | 165/1489 [00:08<01:14, 17.77it/s]"
          ]
        },
        {
          "name": "stdout",
          "output_type": "stream",
          "text": [
            "Skipping gip_A00054215006 (features already exist).\n",
            "Skipping oip_A00054215002 (features already exist).\n",
            "Skipping oip_A00054215003 (features already exist).\n",
            "Skipping oip_A00054215005 (features already exist).\n"
          ]
        },
        {
          "name": "stderr",
          "output_type": "stream",
          "text": [
            "Processing .mat files:  11%|█▉               | 169/1489 [00:09<01:13, 18.03it/s]"
          ]
        },
        {
          "name": "stdout",
          "output_type": "stream",
          "text": [
            "Skipping oip_A00054215007 (features already exist).\n",
            "Skipping oip_A00054215008 (features already exist).\n",
            "Skipping oip_A00054215009 (features already exist).\n",
            "Skipping gip_A00054239005 (features already exist).\n"
          ]
        },
        {
          "name": "stderr",
          "output_type": "stream",
          "text": [
            "Processing .mat files:  12%|█▉               | 173/1489 [00:09<01:12, 18.25it/s]"
          ]
        },
        {
          "name": "stdout",
          "output_type": "stream",
          "text": [
            "Skipping gip_A00054239006 (features already exist).\n",
            "Skipping gp_A00054239001 (features already exist).\n",
            "Skipping gp_A00054239002 (features already exist).\n",
            "Skipping gp_A00054239003 (features already exist).\n"
          ]
        },
        {
          "name": "stderr",
          "output_type": "stream",
          "text": [
            "Processing .mat files:  12%|██               | 177/1489 [00:09<01:10, 18.65it/s]"
          ]
        },
        {
          "name": "stdout",
          "output_type": "stream",
          "text": [
            "Skipping gp_A00054239004 (features already exist).\n",
            "Skipping gp_A00054239007 (features already exist).\n",
            "Skipping gp_A00054239008 (features already exist).\n",
            "Skipping gp_A00054239009 (features already exist).\n"
          ]
        },
        {
          "name": "stderr",
          "output_type": "stream",
          "text": [
            "Processing .mat files:  12%|██               | 181/1489 [00:09<01:10, 18.45it/s]"
          ]
        },
        {
          "name": "stdout",
          "output_type": "stream",
          "text": [
            "Skipping gp_A00054239010 (features already exist).\n",
            "Skipping gp_A00054239011 (features already exist).\n",
            "Skipping gip_A00054287002 (features already exist).\n",
            "Skipping gip_A00054287003 (features already exist).\n"
          ]
        },
        {
          "name": "stderr",
          "output_type": "stream",
          "text": [
            "Processing .mat files:  12%|██               | 185/1489 [00:09<01:08, 19.00it/s]"
          ]
        },
        {
          "name": "stdout",
          "output_type": "stream",
          "text": [
            "Skipping gip_A00054287004 (features already exist).\n",
            "Skipping gip_A00054287005 (features already exist).\n",
            "Skipping gip_A00054287006 (features already exist).\n",
            "Skipping gip_A00054287007 (features already exist).\n"
          ]
        },
        {
          "name": "stderr",
          "output_type": "stream",
          "text": [
            "Processing .mat files:  13%|██▏              | 189/1489 [00:10<01:08, 18.96it/s]"
          ]
        },
        {
          "name": "stdout",
          "output_type": "stream",
          "text": [
            "Skipping gip_A00054287008 (features already exist).\n",
            "Skipping gip_A00054287009 (features already exist).\n",
            "Skipping gp_A00054287011 (features already exist).\n",
            "Skipping gp_A00054287012 (features already exist).\n"
          ]
        },
        {
          "name": "stderr",
          "output_type": "stream",
          "text": [
            "Processing .mat files:  13%|██▏              | 193/1489 [00:10<01:08, 18.98it/s]"
          ]
        },
        {
          "name": "stdout",
          "output_type": "stream",
          "text": [
            "Skipping oip_A00054287001 (features already exist).\n",
            "Skipping oip_A00054287010 (features already exist).\n",
            "Skipping gip_A00054359001 (features already exist).\n",
            "Skipping gip_A00054359004 (features already exist).\n"
          ]
        },
        {
          "name": "stderr",
          "output_type": "stream",
          "text": [
            "Processing .mat files:  13%|██▏              | 197/1489 [00:10<01:08, 18.98it/s]"
          ]
        },
        {
          "name": "stdout",
          "output_type": "stream",
          "text": [
            "Skipping gip_A00054359006 (features already exist).\n",
            "Skipping gip_A00054359007 (features already exist).\n",
            "Skipping gip_A00054359008 (features already exist).\n",
            "Skipping gip_A00054359009 (features already exist).\n"
          ]
        },
        {
          "name": "stderr",
          "output_type": "stream",
          "text": [
            "Processing .mat files:  13%|██▎              | 201/1489 [00:10<01:08, 18.94it/s]"
          ]
        },
        {
          "name": "stdout",
          "output_type": "stream",
          "text": [
            "Skipping gip_A00054359010 (features already exist).\n",
            "Skipping gip_A00054359011 (features already exist).\n",
            "Skipping gip_A00054359012 (features already exist).\n",
            "Skipping gip_A00054359013 (features already exist).\n"
          ]
        },
        {
          "name": "stderr",
          "output_type": "stream",
          "text": [
            "Processing .mat files:  14%|██▎              | 205/1489 [00:11<01:08, 18.81it/s]"
          ]
        },
        {
          "name": "stdout",
          "output_type": "stream",
          "text": [
            "Skipping gp_A00054359002 (features already exist).\n",
            "Skipping gp_A00054359015 (features already exist).\n",
            "Skipping oip_A00054359005 (features already exist).\n",
            "Skipping bp_A00054369007 (features already exist).\n"
          ]
        },
        {
          "name": "stderr",
          "output_type": "stream",
          "text": [
            "Processing .mat files:  14%|██▍              | 209/1489 [00:11<01:09, 18.30it/s]"
          ]
        },
        {
          "name": "stdout",
          "output_type": "stream",
          "text": [
            "Skipping gip_A00054369001 (features already exist).\n",
            "Skipping gip_A00054369002 (features already exist).\n",
            "Skipping gip_A00054369003 (features already exist).\n",
            "Skipping gip_A00054369004 (features already exist).\n"
          ]
        },
        {
          "name": "stderr",
          "output_type": "stream",
          "text": [
            "Processing .mat files:  14%|██▍              | 213/1489 [00:11<01:10, 18.16it/s]"
          ]
        },
        {
          "name": "stdout",
          "output_type": "stream",
          "text": [
            "Skipping gip_A00054369005 (features already exist).\n",
            "Skipping gip_A00054369006 (features already exist).\n",
            "Skipping gip_A00054369008 (features already exist).\n",
            "Skipping gip_A00054369009 (features already exist).\n"
          ]
        },
        {
          "name": "stderr",
          "output_type": "stream",
          "text": [
            "Processing .mat files:  15%|██▍              | 216/1489 [00:11<01:07, 18.96it/s]"
          ]
        },
        {
          "name": "stdout",
          "output_type": "stream",
          "text": [
            "Skipping oip_A00054369010 (features already exist).\n",
            "Skipping oip_A00054369011 (features already exist).\n",
            "Skipping gip_A00054387002 (features already exist).\n",
            "Skipping gip_A00054387003 (features already exist).\n"
          ]
        },
        {
          "name": "stderr",
          "output_type": "stream",
          "text": [
            "Processing .mat files:  15%|██▌              | 219/1489 [00:11<01:04, 19.62it/s]"
          ]
        },
        {
          "name": "stdout",
          "output_type": "stream",
          "text": [
            "Skipping gip_A00054387005 (features already exist).\n"
          ]
        },
        {
          "name": "stderr",
          "output_type": "stream",
          "text": [
            "Processing .mat files:  15%|██▌              | 221/1489 [00:11<01:05, 19.24it/s]"
          ]
        },
        {
          "name": "stdout",
          "output_type": "stream",
          "text": [
            "Skipping gip_A00054387006 (features already exist).\n",
            "Skipping gip_A00054387007 (features already exist).\n",
            "Skipping gip_A00054387008 (features already exist).\n"
          ]
        },
        {
          "name": "stderr",
          "output_type": "stream",
          "text": [
            "Processing .mat files:  15%|██▌              | 223/1489 [00:11<01:05, 19.27it/s]"
          ]
        },
        {
          "name": "stdout",
          "output_type": "stream",
          "text": [
            "Skipping gip_A00054387009 (features already exist).\n"
          ]
        },
        {
          "name": "stderr",
          "output_type": "stream",
          "text": [
            "Processing .mat files:  15%|██▌              | 225/1489 [00:12<01:06, 18.97it/s]"
          ]
        },
        {
          "name": "stdout",
          "output_type": "stream",
          "text": [
            "Skipping gip_A00054387010 (features already exist).\n",
            "Skipping gip_A00054387011 (features already exist).\n",
            "Skipping gip_A00054387013 (features already exist).\n"
          ]
        },
        {
          "name": "stderr",
          "output_type": "stream",
          "text": [
            "Processing .mat files:  15%|██▌              | 227/1489 [00:12<01:07, 18.68it/s]"
          ]
        },
        {
          "name": "stdout",
          "output_type": "stream",
          "text": [
            "Skipping gip_A00054387014 (features already exist).\n"
          ]
        },
        {
          "name": "stderr",
          "output_type": "stream",
          "text": [
            "Processing .mat files:  15%|██▌              | 229/1489 [00:12<01:07, 18.56it/s]"
          ]
        },
        {
          "name": "stdout",
          "output_type": "stream",
          "text": [
            "Skipping gip_A00054387015 (features already exist).\n",
            "Skipping gp_A00054387001 (features already exist).\n",
            "Skipping gp_A00054387004 (features already exist).\n"
          ]
        },
        {
          "name": "stderr",
          "output_type": "stream",
          "text": [
            "Processing .mat files:  16%|██▋              | 231/1489 [00:12<01:07, 18.70it/s]"
          ]
        },
        {
          "name": "stdout",
          "output_type": "stream",
          "text": [
            "Skipping bip_A00054400015 (features already exist).\n"
          ]
        },
        {
          "name": "stderr",
          "output_type": "stream",
          "text": [
            "Processing .mat files:  16%|██▋              | 233/1489 [00:12<01:07, 18.57it/s]"
          ]
        },
        {
          "name": "stdout",
          "output_type": "stream",
          "text": [
            "Skipping gip_A00054400001 (features already exist).\n",
            "Skipping gip_A00054400002 (features already exist).\n",
            "Skipping gip_A00054400003 (features already exist).\n"
          ]
        },
        {
          "name": "stderr",
          "output_type": "stream",
          "text": [
            "Processing .mat files:  16%|██▋              | 235/1489 [00:12<01:07, 18.69it/s]"
          ]
        },
        {
          "name": "stdout",
          "output_type": "stream",
          "text": [
            "Skipping gip_A00054400004 (features already exist).\n"
          ]
        },
        {
          "name": "stderr",
          "output_type": "stream",
          "text": [
            "Processing .mat files:  16%|██▋              | 237/1489 [00:12<01:08, 18.32it/s]"
          ]
        },
        {
          "name": "stdout",
          "output_type": "stream",
          "text": [
            "Skipping gip_A00054400005 (features already exist).\n",
            "Skipping gip_A00054400008 (features already exist).\n",
            "Skipping gip_A00054400009 (features already exist).\n"
          ]
        },
        {
          "name": "stderr",
          "output_type": "stream",
          "text": [
            "Processing .mat files:  16%|██▋              | 239/1489 [00:12<01:07, 18.54it/s]"
          ]
        },
        {
          "name": "stdout",
          "output_type": "stream",
          "text": [
            "Skipping oip_A00054400006 (features already exist).\n"
          ]
        },
        {
          "name": "stderr",
          "output_type": "stream",
          "text": [
            "Processing .mat files:  16%|██▊              | 241/1489 [00:12<01:06, 18.86it/s]"
          ]
        },
        {
          "name": "stdout",
          "output_type": "stream",
          "text": [
            "Skipping oip_A00054400007 (features already exist).\n",
            "Skipping oip_A00054400010 (features already exist).\n",
            "Skipping oip_A00054400011 (features already exist).\n"
          ]
        },
        {
          "name": "stderr",
          "output_type": "stream",
          "text": [
            "Processing .mat files:  16%|██▊              | 243/1489 [00:13<01:05, 19.04it/s]"
          ]
        },
        {
          "name": "stdout",
          "output_type": "stream",
          "text": [
            "Skipping oip_A00054400013 (features already exist).\n"
          ]
        },
        {
          "name": "stderr",
          "output_type": "stream",
          "text": [
            "Processing .mat files:  16%|██▊              | 245/1489 [00:13<01:05, 19.02it/s]"
          ]
        },
        {
          "name": "stdout",
          "output_type": "stream",
          "text": [
            "Skipping oip_A00054400014 (features already exist).\n",
            "Skipping gip_A00054417001 (features already exist).\n",
            "Skipping gip_A00054417002 (features already exist).\n"
          ]
        },
        {
          "name": "stderr",
          "output_type": "stream",
          "text": [
            "Processing .mat files:  17%|██▊              | 247/1489 [00:13<01:06, 18.62it/s]"
          ]
        },
        {
          "name": "stdout",
          "output_type": "stream",
          "text": [
            "Skipping gip_A00054417003 (features already exist).\n"
          ]
        },
        {
          "name": "stderr",
          "output_type": "stream",
          "text": [
            "Processing .mat files:  17%|██▊              | 249/1489 [00:13<01:06, 18.73it/s]"
          ]
        },
        {
          "name": "stdout",
          "output_type": "stream",
          "text": [
            "Skipping gip_A00054417004 (features already exist).\n",
            "Skipping gip_A00054417005 (features already exist).\n",
            "Skipping gip_A00054417006 (features already exist).\n"
          ]
        },
        {
          "name": "stderr",
          "output_type": "stream",
          "text": [
            "Processing .mat files:  17%|██▊              | 251/1489 [00:13<01:07, 18.28it/s]"
          ]
        },
        {
          "name": "stdout",
          "output_type": "stream",
          "text": [
            "Skipping gip_A00054417007 (features already exist).\n"
          ]
        },
        {
          "name": "stderr",
          "output_type": "stream",
          "text": [
            "Processing .mat files:  17%|██▉              | 253/1489 [00:13<01:08, 17.98it/s]"
          ]
        },
        {
          "name": "stdout",
          "output_type": "stream",
          "text": [
            "Skipping gip_A00054417008 (features already exist).\n",
            "Skipping gip_A00054417009 (features already exist).\n",
            "Skipping gip_A00054417010 (features already exist).\n"
          ]
        },
        {
          "name": "stderr",
          "output_type": "stream",
          "text": [
            "Processing .mat files:  17%|██▉              | 255/1489 [00:13<01:07, 18.30it/s]"
          ]
        },
        {
          "name": "stdout",
          "output_type": "stream",
          "text": [
            "Skipping gip_A00054417011 (features already exist).\n"
          ]
        },
        {
          "name": "stderr",
          "output_type": "stream",
          "text": [
            "Processing .mat files:  17%|██▉              | 257/1489 [00:13<01:06, 18.58it/s]"
          ]
        },
        {
          "name": "stdout",
          "output_type": "stream",
          "text": [
            "Skipping gip_A00054417013 (features already exist).\n",
            "Skipping gip_A00054417014 (features already exist).\n",
            "Skipping gip_A00054417015 (features already exist).\n"
          ]
        },
        {
          "name": "stderr",
          "output_type": "stream",
          "text": [
            "Processing .mat files:  17%|██▉              | 259/1489 [00:13<01:06, 18.57it/s]"
          ]
        },
        {
          "name": "stdout",
          "output_type": "stream",
          "text": [
            "Skipping gp_A00054417016 (features already exist).\n"
          ]
        },
        {
          "name": "stderr",
          "output_type": "stream",
          "text": [
            "Processing .mat files:  18%|██▉              | 261/1489 [00:14<01:04, 18.97it/s]"
          ]
        },
        {
          "name": "stdout",
          "output_type": "stream",
          "text": [
            "Skipping bp_A00054432006 (features already exist).\n",
            "Skipping gip_A00054432002 (features already exist).\n",
            "Skipping gip_A00054432003 (features already exist).\n"
          ]
        },
        {
          "name": "stderr",
          "output_type": "stream",
          "text": [
            "Processing .mat files:  18%|███              | 263/1489 [00:14<01:04, 19.06it/s]"
          ]
        },
        {
          "name": "stdout",
          "output_type": "stream",
          "text": [
            "Skipping oip_A00054432004 (features already exist).\n"
          ]
        },
        {
          "name": "stderr",
          "output_type": "stream",
          "text": [
            "Processing .mat files:  18%|███              | 265/1489 [00:14<01:05, 18.75it/s]"
          ]
        },
        {
          "name": "stdout",
          "output_type": "stream",
          "text": [
            "Skipping op_A00054432001 (features already exist).\n",
            "Skipping gip_A00054469004 (features already exist).\n",
            "Skipping gip_A00054469006 (features already exist).\n"
          ]
        },
        {
          "name": "stderr",
          "output_type": "stream",
          "text": [
            "Processing .mat files:  18%|███              | 267/1489 [00:14<01:05, 18.75it/s]"
          ]
        },
        {
          "name": "stdout",
          "output_type": "stream",
          "text": [
            "Skipping gp_A00054469001 (features already exist).\n"
          ]
        },
        {
          "name": "stderr",
          "output_type": "stream",
          "text": [
            "Processing .mat files:  18%|███              | 269/1489 [00:14<01:07, 18.07it/s]"
          ]
        },
        {
          "name": "stdout",
          "output_type": "stream",
          "text": [
            "Skipping gp_A00054469002 (features already exist).\n",
            "Skipping gp_A00054469003 (features already exist).\n",
            "Skipping gp_A00054469005 (features already exist).\n"
          ]
        },
        {
          "name": "stderr",
          "output_type": "stream",
          "text": [
            "Processing .mat files:  18%|███              | 271/1489 [00:14<01:05, 18.58it/s]"
          ]
        },
        {
          "name": "stdout",
          "output_type": "stream",
          "text": [
            "Skipping gp_A00054469007 (features already exist).\n"
          ]
        },
        {
          "name": "stderr",
          "output_type": "stream",
          "text": [
            "Processing .mat files:  18%|███              | 273/1489 [00:14<01:05, 18.69it/s]"
          ]
        },
        {
          "name": "stdout",
          "output_type": "stream",
          "text": [
            "Skipping gp_A00054469008 (features already exist).\n",
            "Skipping gp_A00054469009 (features already exist).\n",
            "Skipping gp_A00054469010 (features already exist).\n"
          ]
        },
        {
          "name": "stderr",
          "output_type": "stream",
          "text": [
            "Processing .mat files:  18%|███▏             | 275/1489 [00:14<01:05, 18.64it/s]"
          ]
        },
        {
          "name": "stdout",
          "output_type": "stream",
          "text": [
            "Skipping gp_A00054469012 (features already exist).\n"
          ]
        },
        {
          "name": "stderr",
          "output_type": "stream",
          "text": [
            "Processing .mat files:  19%|███▏             | 277/1489 [00:14<01:06, 18.31it/s]"
          ]
        },
        {
          "name": "stdout",
          "output_type": "stream",
          "text": [
            "Skipping gp_A00054469013 (features already exist).\n",
            "Skipping gp_A00054469014 (features already exist).\n",
            "Skipping bp_A00054488015 (features already exist).\n",
            "Skipping gip_A00054488001 (features already exist).\n"
          ]
        },
        {
          "name": "stderr",
          "output_type": "stream",
          "text": [
            "Processing .mat files:  19%|███▏             | 282/1489 [00:15<01:04, 18.79it/s]"
          ]
        },
        {
          "name": "stdout",
          "output_type": "stream",
          "text": [
            "Skipping gip_A00054488002 (features already exist).\n",
            "Skipping gip_A00054488003 (features already exist).\n",
            "Skipping gip_A00054488004 (features already exist).\n",
            "Skipping gip_A00054488006 (features already exist).\n"
          ]
        },
        {
          "name": "stderr",
          "output_type": "stream",
          "text": [
            "Processing .mat files:  19%|███▎             | 286/1489 [00:15<01:03, 18.93it/s]"
          ]
        },
        {
          "name": "stdout",
          "output_type": "stream",
          "text": [
            "Skipping gip_A00054488007 (features already exist).\n",
            "Skipping gip_A00054488009 (features already exist).\n",
            "Skipping gip_A00054488010 (features already exist).\n",
            "Skipping gip_A00054488011 (features already exist).\n"
          ]
        },
        {
          "name": "stderr",
          "output_type": "stream",
          "text": [
            "Processing .mat files:  19%|███▎             | 290/1489 [00:15<01:02, 19.14it/s]"
          ]
        },
        {
          "name": "stdout",
          "output_type": "stream",
          "text": [
            "Skipping gip_A00054488012 (features already exist).\n",
            "Skipping gip_A00054488014 (features already exist).\n",
            "Skipping gp_A00054488008 (features already exist).\n",
            "Skipping oip_A00054488005 (features already exist).\n"
          ]
        },
        {
          "name": "stderr",
          "output_type": "stream",
          "text": [
            "Processing .mat files:  20%|███▎             | 294/1489 [00:15<01:04, 18.59it/s]"
          ]
        },
        {
          "name": "stdout",
          "output_type": "stream",
          "text": [
            "Skipping bp_A00054517007 (features already exist).\n",
            "Skipping gip_A00054517001 (features already exist).\n",
            "Skipping gip_A00054517004 (features already exist).\n",
            "Skipping gip_A00054517005 (features already exist).\n"
          ]
        },
        {
          "name": "stderr",
          "output_type": "stream",
          "text": [
            "Processing .mat files:  20%|███▍             | 299/1489 [00:16<01:01, 19.49it/s]"
          ]
        },
        {
          "name": "stdout",
          "output_type": "stream",
          "text": [
            "Skipping gip_A00054517008 (features already exist).\n",
            "Skipping gip_A00054517009 (features already exist).\n",
            "Skipping gip_A00054517010 (features already exist).\n",
            "Skipping gip_A00054517012 (features already exist).\n",
            "Skipping gip_A00054517014 (features already exist).\n"
          ]
        },
        {
          "name": "stderr",
          "output_type": "stream",
          "text": [
            "Processing .mat files:  20%|███▍             | 303/1489 [00:16<01:05, 18.15it/s]"
          ]
        },
        {
          "name": "stdout",
          "output_type": "stream",
          "text": [
            "Skipping gp_A00054517017 (features already exist).\n",
            "Skipping oip_A00054517002 (features already exist).\n",
            "Skipping oip_A00054517003 (features already exist).\n",
            "Skipping oip_A00054517006 (features already exist).\n"
          ]
        },
        {
          "name": "stderr",
          "output_type": "stream",
          "text": [
            "Processing .mat files:  21%|███▌             | 307/1489 [00:16<01:05, 17.95it/s]"
          ]
        },
        {
          "name": "stdout",
          "output_type": "stream",
          "text": [
            "Skipping oip_A00054517011 (features already exist).\n",
            "Skipping oip_A00054517015 (features already exist).\n",
            "Skipping oip_A00054517016 (features already exist).\n",
            "Skipping gip_A00054535001 (features already exist).\n"
          ]
        },
        {
          "name": "stderr",
          "output_type": "stream",
          "text": [
            "Processing .mat files:  21%|███▌             | 311/1489 [00:16<01:04, 18.17it/s]"
          ]
        },
        {
          "name": "stdout",
          "output_type": "stream",
          "text": [
            "Skipping gip_A00054535002 (features already exist).\n",
            "Skipping gip_A00054535003 (features already exist).\n",
            "Skipping gip_A00054535004 (features already exist).\n",
            "Skipping gip_A00054535005 (features already exist).\n"
          ]
        },
        {
          "name": "stderr",
          "output_type": "stream",
          "text": [
            "Processing .mat files:  21%|███▌             | 315/1489 [00:16<01:03, 18.36it/s]"
          ]
        },
        {
          "name": "stdout",
          "output_type": "stream",
          "text": [
            "Skipping gip_A00054535006 (features already exist).\n",
            "Skipping gip_A00054535009 (features already exist).\n",
            "Skipping gip_A00054535010 (features already exist).\n",
            "Skipping gp_A00054535007 (features already exist).\n"
          ]
        },
        {
          "name": "stderr",
          "output_type": "stream",
          "text": [
            "Processing .mat files:  21%|███▋             | 319/1489 [00:17<01:02, 18.76it/s]"
          ]
        },
        {
          "name": "stdout",
          "output_type": "stream",
          "text": [
            "Skipping gp_A00054535008 (features already exist).\n",
            "Skipping gp_A00054535015 (features already exist).\n",
            "Skipping oip_A00054535012 (features already exist).\n",
            "Skipping oip_A00054535013 (features already exist).\n"
          ]
        },
        {
          "name": "stderr",
          "output_type": "stream",
          "text": [
            "Processing .mat files:  22%|███▋             | 323/1489 [00:17<01:02, 18.64it/s]"
          ]
        },
        {
          "name": "stdout",
          "output_type": "stream",
          "text": [
            "Skipping oip_A00054535014 (features already exist).\n",
            "Skipping bip_A00054597013 (features already exist).\n",
            "Skipping bip_A00054597014 (features already exist).\n",
            "Skipping bp_A00054597011 (features already exist).\n"
          ]
        },
        {
          "name": "stderr",
          "output_type": "stream",
          "text": [
            "Processing .mat files:  22%|███▋             | 327/1489 [00:17<01:06, 17.36it/s]"
          ]
        },
        {
          "name": "stdout",
          "output_type": "stream",
          "text": [
            "Skipping bp_A00054597015 (features already exist).\n",
            "Skipping gip_A00054597004 (features already exist).\n",
            "Skipping gip_A00054597005 (features already exist).\n",
            "Skipping gip_A00054597006 (features already exist).\n"
          ]
        },
        {
          "name": "stderr",
          "output_type": "stream",
          "text": [
            "Processing .mat files:  22%|███▊             | 331/1489 [00:17<01:04, 18.02it/s]"
          ]
        },
        {
          "name": "stdout",
          "output_type": "stream",
          "text": [
            "Skipping gip_A00054597007 (features already exist).\n",
            "Skipping oip_A00054597001 (features already exist).\n",
            "Skipping oip_A00054597002 (features already exist).\n",
            "Skipping oip_A00054597003 (features already exist).\n"
          ]
        },
        {
          "name": "stderr",
          "output_type": "stream",
          "text": [
            "Processing .mat files:  22%|███▊             | 335/1489 [00:18<01:02, 18.33it/s]"
          ]
        },
        {
          "name": "stdout",
          "output_type": "stream",
          "text": [
            "Skipping oip_A00054597009 (features already exist).\n",
            "Skipping oip_A00054597010 (features already exist).\n",
            "Skipping op_A00054597008 (features already exist).\n",
            "Skipping gip_A00054623003 (features already exist).\n"
          ]
        },
        {
          "name": "stderr",
          "output_type": "stream",
          "text": [
            "Processing .mat files:  23%|███▊             | 339/1489 [00:18<01:01, 18.60it/s]"
          ]
        },
        {
          "name": "stdout",
          "output_type": "stream",
          "text": [
            "Skipping gip_A00054623006 (features already exist).\n",
            "Skipping gip_A00054623007 (features already exist).\n",
            "Skipping gip_A00054623008 (features already exist).\n",
            "Skipping gip_A00054623014 (features already exist).\n"
          ]
        },
        {
          "name": "stderr",
          "output_type": "stream",
          "text": [
            "Processing .mat files:  23%|███▉             | 342/1489 [00:18<01:00, 18.86it/s]"
          ]
        },
        {
          "name": "stdout",
          "output_type": "stream",
          "text": [
            "Skipping gip_A00054623015 (features already exist).\n",
            "Skipping gp_A00054623001 (features already exist).\n",
            "Skipping gp_A00054623002 (features already exist).\n"
          ]
        },
        {
          "name": "stderr",
          "output_type": "stream",
          "text": [
            "Processing .mat files:  23%|███▉             | 344/1489 [00:18<01:00, 18.78it/s]"
          ]
        },
        {
          "name": "stdout",
          "output_type": "stream",
          "text": [
            "Skipping gp_A00054623004 (features already exist).\n"
          ]
        },
        {
          "name": "stderr",
          "output_type": "stream",
          "text": [
            "Processing .mat files:  23%|███▉             | 346/1489 [00:18<00:59, 19.07it/s]"
          ]
        },
        {
          "name": "stdout",
          "output_type": "stream",
          "text": [
            "Skipping gp_A00054623005 (features already exist).\n",
            "Skipping gp_A00054623009 (features already exist).\n",
            "Skipping gp_A00054623010 (features already exist).\n"
          ]
        },
        {
          "name": "stderr",
          "output_type": "stream",
          "text": [
            "Processing .mat files:  23%|███▉             | 348/1489 [00:18<00:59, 19.15it/s]"
          ]
        },
        {
          "name": "stdout",
          "output_type": "stream",
          "text": [
            "Skipping gp_A00054623011 (features already exist).\n"
          ]
        },
        {
          "name": "stderr",
          "output_type": "stream",
          "text": [
            "Processing .mat files:  24%|███▉             | 350/1489 [00:18<01:00, 18.76it/s]"
          ]
        },
        {
          "name": "stdout",
          "output_type": "stream",
          "text": [
            "Skipping gp_A00054623013 (features already exist).\n",
            "Skipping gp_A00054623016 (features already exist).\n",
            "Skipping bp_A00054647007 (features already exist).\n"
          ]
        },
        {
          "name": "stderr",
          "output_type": "stream",
          "text": [
            "Processing .mat files:  24%|████             | 352/1489 [00:18<01:01, 18.51it/s]"
          ]
        },
        {
          "name": "stdout",
          "output_type": "stream",
          "text": [
            "Skipping bp_A00054647008 (features already exist).\n"
          ]
        },
        {
          "name": "stderr",
          "output_type": "stream",
          "text": [
            "Processing .mat files:  24%|████             | 354/1489 [00:19<01:01, 18.59it/s]"
          ]
        },
        {
          "name": "stdout",
          "output_type": "stream",
          "text": [
            "Skipping bp_A00054647009 (features already exist).\n",
            "Skipping gip_A00054647001 (features already exist).\n",
            "Skipping gip_A00054647005 (features already exist).\n"
          ]
        },
        {
          "name": "stderr",
          "output_type": "stream",
          "text": [
            "Processing .mat files:  24%|████             | 356/1489 [00:19<01:01, 18.48it/s]"
          ]
        },
        {
          "name": "stdout",
          "output_type": "stream",
          "text": [
            "Skipping gip_A00054647006 (features already exist).\n"
          ]
        },
        {
          "name": "stderr",
          "output_type": "stream",
          "text": [
            "Processing .mat files:  24%|████             | 358/1489 [00:19<01:00, 18.57it/s]"
          ]
        },
        {
          "name": "stdout",
          "output_type": "stream",
          "text": [
            "Skipping gip_A00054647010 (features already exist).\n",
            "Skipping gip_A00054647013 (features already exist).\n",
            "Skipping gp_A00054647002 (features already exist).\n"
          ]
        },
        {
          "name": "stderr",
          "output_type": "stream",
          "text": [
            "Processing .mat files:  24%|████             | 360/1489 [00:19<01:01, 18.43it/s]"
          ]
        },
        {
          "name": "stdout",
          "output_type": "stream",
          "text": [
            "Skipping gp_A00054647011 (features already exist).\n"
          ]
        },
        {
          "name": "stderr",
          "output_type": "stream",
          "text": [
            "Processing .mat files:  24%|████▏            | 362/1489 [00:19<01:00, 18.68it/s]"
          ]
        },
        {
          "name": "stdout",
          "output_type": "stream",
          "text": [
            "Skipping oip_A00054647003 (features already exist).\n",
            "Skipping oip_A00054647004 (features already exist).\n",
            "Skipping oip_A00054647014 (features already exist).\n"
          ]
        },
        {
          "name": "stderr",
          "output_type": "stream",
          "text": [
            "Processing .mat files:  24%|████▏            | 364/1489 [00:19<00:59, 19.05it/s]"
          ]
        },
        {
          "name": "stdout",
          "output_type": "stream",
          "text": [
            "Skipping op_A00054647015 (features already exist).\n",
            "Skipping bp_A00054659004 (features already exist).\n"
          ]
        },
        {
          "name": "stderr",
          "output_type": "stream",
          "text": [
            "Processing .mat files:  25%|████▏            | 366/1489 [00:19<00:58, 19.12it/s]"
          ]
        },
        {
          "name": "stdout",
          "output_type": "stream",
          "text": [
            "Skipping gip_A00054659002 (features already exist).\n",
            "Skipping gip_A00054659003 (features already exist).\n"
          ]
        },
        {
          "name": "stderr",
          "output_type": "stream",
          "text": [
            "Processing .mat files:  25%|████▏            | 368/1489 [00:19<00:58, 19.03it/s]"
          ]
        },
        {
          "name": "stdout",
          "output_type": "stream",
          "text": [
            "Skipping gip_A00054659005 (features already exist).\n",
            "Skipping gip_A00054659008 (features already exist).\n"
          ]
        },
        {
          "name": "stderr",
          "output_type": "stream",
          "text": [
            "Processing .mat files:  25%|████▏            | 370/1489 [00:19<00:58, 19.07it/s]"
          ]
        },
        {
          "name": "stdout",
          "output_type": "stream",
          "text": [
            "Skipping gip_A00054659010 (features already exist).\n",
            "Skipping gip_A00054659013 (features already exist).\n"
          ]
        },
        {
          "name": "stderr",
          "output_type": "stream",
          "text": [
            "Processing .mat files:  25%|████▏            | 372/1489 [00:20<00:59, 18.73it/s]"
          ]
        },
        {
          "name": "stdout",
          "output_type": "stream",
          "text": [
            "Skipping gip_A00054659014 (features already exist).\n",
            "Skipping gp_A00054659007 (features already exist).\n"
          ]
        },
        {
          "name": "stderr",
          "output_type": "stream",
          "text": [
            "Processing .mat files:  25%|████▎            | 374/1489 [00:20<00:59, 18.78it/s]"
          ]
        },
        {
          "name": "stdout",
          "output_type": "stream",
          "text": [
            "Skipping oip_A00054659001 (features already exist).\n",
            "Skipping oip_A00054659006 (features already exist).\n"
          ]
        },
        {
          "name": "stderr",
          "output_type": "stream",
          "text": [
            "Processing .mat files:  25%|████▎            | 376/1489 [00:20<00:58, 19.06it/s]"
          ]
        },
        {
          "name": "stdout",
          "output_type": "stream",
          "text": [
            "Skipping oip_A00054659009 (features already exist).\n",
            "Skipping oip_A00054659012 (features already exist).\n"
          ]
        },
        {
          "name": "stderr",
          "output_type": "stream",
          "text": [
            "Processing .mat files:  25%|████▎            | 378/1489 [00:20<00:58, 19.15it/s]"
          ]
        },
        {
          "name": "stdout",
          "output_type": "stream",
          "text": [
            "Skipping gp_A00054666007 (features already exist).\n",
            "Skipping oip_A00054666001 (features already exist).\n"
          ]
        },
        {
          "name": "stderr",
          "output_type": "stream",
          "text": [
            "Processing .mat files:  26%|████▎            | 380/1489 [00:20<00:57, 19.16it/s]"
          ]
        },
        {
          "name": "stdout",
          "output_type": "stream",
          "text": [
            "Skipping oip_A00054666002 (features already exist).\n",
            "Skipping oip_A00054666003 (features already exist).\n"
          ]
        },
        {
          "name": "stderr",
          "output_type": "stream",
          "text": [
            "Processing .mat files:  26%|████▎            | 382/1489 [00:20<00:58, 18.91it/s]"
          ]
        },
        {
          "name": "stdout",
          "output_type": "stream",
          "text": [
            "Skipping oip_A00054666004 (features already exist).\n",
            "Skipping oip_A00054666009 (features already exist).\n"
          ]
        },
        {
          "name": "stderr",
          "output_type": "stream",
          "text": [
            "Processing .mat files:  26%|████▍            | 385/1489 [00:20<00:56, 19.43it/s]"
          ]
        },
        {
          "name": "stdout",
          "output_type": "stream",
          "text": [
            "Skipping oip_A00054666010 (features already exist).\n",
            "Skipping op_A00054666008 (features already exist).\n",
            "Skipping gip_A00054673002 (features already exist).\n"
          ]
        },
        {
          "name": "stderr",
          "output_type": "stream",
          "text": [
            "Processing .mat files:  26%|████▍            | 387/1489 [00:20<00:56, 19.46it/s]"
          ]
        },
        {
          "name": "stdout",
          "output_type": "stream",
          "text": [
            "Skipping gp_A00054673013 (features already exist).\n"
          ]
        },
        {
          "name": "stderr",
          "output_type": "stream",
          "text": [
            "Processing .mat files:  26%|████▍            | 389/1489 [00:20<00:57, 19.01it/s]"
          ]
        },
        {
          "name": "stdout",
          "output_type": "stream",
          "text": [
            "Skipping oip_A00054673001 (features already exist).\n",
            "Skipping oip_A00054673003 (features already exist).\n",
            "Skipping oip_A00054673004 (features already exist).\n"
          ]
        },
        {
          "name": "stderr",
          "output_type": "stream",
          "text": [
            "Processing .mat files:  26%|████▍            | 391/1489 [00:20<00:57, 19.18it/s]"
          ]
        },
        {
          "name": "stdout",
          "output_type": "stream",
          "text": [
            "Skipping oip_A00054673005 (features already exist).\n"
          ]
        },
        {
          "name": "stderr",
          "output_type": "stream",
          "text": [
            "Processing .mat files:  26%|████▍            | 393/1489 [00:21<00:57, 19.17it/s]"
          ]
        },
        {
          "name": "stdout",
          "output_type": "stream",
          "text": [
            "Skipping oip_A00054673006 (features already exist).\n",
            "Skipping oip_A00054673007 (features already exist).\n",
            "Skipping oip_A00054673008 (features already exist).\n"
          ]
        },
        {
          "name": "stderr",
          "output_type": "stream",
          "text": [
            "Processing .mat files:  27%|████▌            | 395/1489 [00:21<00:58, 18.80it/s]"
          ]
        },
        {
          "name": "stdout",
          "output_type": "stream",
          "text": [
            "Skipping oip_A00054673010 (features already exist).\n"
          ]
        },
        {
          "name": "stderr",
          "output_type": "stream",
          "text": [
            "Processing .mat files:  27%|████▌            | 397/1489 [00:21<00:58, 18.73it/s]"
          ]
        },
        {
          "name": "stdout",
          "output_type": "stream",
          "text": [
            "Skipping oip_A00054673011 (features already exist).\n",
            "Skipping oip_A00054673012 (features already exist).\n",
            "Skipping bip_A00054694003 (features already exist).\n"
          ]
        },
        {
          "name": "stderr",
          "output_type": "stream",
          "text": [
            "Processing .mat files:  27%|████▌            | 399/1489 [00:21<00:57, 18.90it/s]"
          ]
        },
        {
          "name": "stdout",
          "output_type": "stream",
          "text": [
            "Skipping bp_A00054694004 (features already exist).\n"
          ]
        },
        {
          "name": "stderr",
          "output_type": "stream",
          "text": [
            "Processing .mat files:  27%|████▌            | 402/1489 [00:21<00:55, 19.50it/s]"
          ]
        },
        {
          "name": "stdout",
          "output_type": "stream",
          "text": [
            "Skipping bp_A00054694006 (features already exist).\n",
            "Skipping bp_A00054694011 (features already exist).\n",
            "Skipping gip_A00054694001 (features already exist).\n",
            "Skipping gip_A00054694002 (features already exist).\n"
          ]
        },
        {
          "name": "stderr",
          "output_type": "stream",
          "text": [
            "Processing .mat files:  27%|████▋            | 406/1489 [00:21<00:55, 19.49it/s]"
          ]
        },
        {
          "name": "stdout",
          "output_type": "stream",
          "text": [
            "Skipping gip_A00054694007 (features already exist).\n",
            "Skipping gip_A00054694008 (features already exist).\n",
            "Skipping gp_A00054694009 (features already exist).\n",
            "Skipping gp_A00054694016 (features already exist).\n"
          ]
        },
        {
          "name": "stderr",
          "output_type": "stream",
          "text": [
            "Processing .mat files:  28%|████▋            | 410/1489 [00:21<00:55, 19.47it/s]"
          ]
        },
        {
          "name": "stdout",
          "output_type": "stream",
          "text": [
            "Skipping oip_A00054694005 (features already exist).\n",
            "Skipping oip_A00054694013 (features already exist).\n",
            "Skipping oip_A00054694014 (features already exist).\n",
            "Skipping oip_A00054694015 (features already exist).\n"
          ]
        },
        {
          "name": "stderr",
          "output_type": "stream",
          "text": [
            "Processing .mat files:  28%|████▋            | 415/1489 [00:22<00:54, 19.67it/s]"
          ]
        },
        {
          "name": "stdout",
          "output_type": "stream",
          "text": [
            "Skipping op_A00054694010 (features already exist).\n",
            "Skipping bp_A00054721004 (features already exist).\n",
            "Skipping bp_A00054721005 (features already exist).\n",
            "Skipping bp_A00054721006 (features already exist).\n",
            "Skipping bp_A00054721007 (features already exist).\n"
          ]
        },
        {
          "name": "stderr",
          "output_type": "stream",
          "text": [
            "Processing .mat files:  28%|████▊            | 419/1489 [00:22<00:55, 19.22it/s]"
          ]
        },
        {
          "name": "stdout",
          "output_type": "stream",
          "text": [
            "Skipping bp_A00054721008 (features already exist).\n",
            "Skipping bp_A00054721009 (features already exist).\n",
            "Skipping bp_A00054721010 (features already exist).\n",
            "Skipping bp_A00054721012 (features already exist).\n"
          ]
        },
        {
          "name": "stderr",
          "output_type": "stream",
          "text": [
            "Processing .mat files:  28%|████▊            | 423/1489 [00:22<00:55, 19.27it/s]"
          ]
        },
        {
          "name": "stdout",
          "output_type": "stream",
          "text": [
            "Skipping bp_A00054721013 (features already exist).\n",
            "Skipping bp_A00054721014 (features already exist).\n",
            "Skipping oip_A00054721001 (features already exist).\n",
            "Skipping oip_A00054721002 (features already exist).\n"
          ]
        },
        {
          "name": "stderr",
          "output_type": "stream",
          "text": [
            "Processing .mat files:  29%|████▉            | 427/1489 [00:22<00:56, 18.96it/s]"
          ]
        },
        {
          "name": "stdout",
          "output_type": "stream",
          "text": [
            "Skipping oip_A00054721003 (features already exist).\n",
            "Skipping gip_A00054743002 (features already exist).\n",
            "Skipping gip_A00054743003 (features already exist).\n",
            "Skipping gip_A00054743004 (features already exist).\n"
          ]
        },
        {
          "name": "stderr",
          "output_type": "stream",
          "text": [
            "Processing .mat files:  29%|████▉            | 432/1489 [00:23<00:54, 19.41it/s]"
          ]
        },
        {
          "name": "stdout",
          "output_type": "stream",
          "text": [
            "Skipping gip_A00054743005 (features already exist).\n",
            "Skipping gip_A00054743007 (features already exist).\n",
            "Skipping gip_A00054743008 (features already exist).\n",
            "Skipping gip_A00054743009 (features already exist).\n"
          ]
        },
        {
          "name": "stderr",
          "output_type": "stream",
          "text": [
            "Processing .mat files:  29%|████▉            | 436/1489 [00:23<00:54, 19.36it/s]"
          ]
        },
        {
          "name": "stdout",
          "output_type": "stream",
          "text": [
            "Skipping gip_A00054743011 (features already exist).\n",
            "Skipping gip_A00054743014 (features already exist).\n",
            "Skipping gp_A00054743001 (features already exist).\n",
            "Skipping gp_A00054743010 (features already exist).\n"
          ]
        },
        {
          "name": "stderr",
          "output_type": "stream",
          "text": [
            "Processing .mat files:  30%|█████            | 440/1489 [00:23<00:54, 19.09it/s]"
          ]
        },
        {
          "name": "stdout",
          "output_type": "stream",
          "text": [
            "Skipping gp_A00054743013 (features already exist).\n",
            "Skipping gp_A00054743015 (features already exist).\n",
            "Skipping gp_A00054743016 (features already exist).\n",
            "Skipping oip_A00054743006 (features already exist).\n"
          ]
        },
        {
          "name": "stderr",
          "output_type": "stream",
          "text": [
            "Processing .mat files:  30%|█████            | 444/1489 [00:23<00:54, 19.09it/s]"
          ]
        },
        {
          "name": "stdout",
          "output_type": "stream",
          "text": [
            "Skipping gip_A00054753002 (features already exist).\n",
            "Skipping gip_A00054753003 (features already exist).\n",
            "Skipping gip_A00054753004 (features already exist).\n",
            "Skipping gip_A00054753005 (features already exist).\n"
          ]
        },
        {
          "name": "stderr",
          "output_type": "stream",
          "text": [
            "Processing .mat files:  30%|█████            | 448/1489 [00:23<00:55, 18.65it/s]"
          ]
        },
        {
          "name": "stdout",
          "output_type": "stream",
          "text": [
            "Skipping gip_A00054753006 (features already exist).\n",
            "Skipping gip_A00054753007 (features already exist).\n",
            "Skipping gip_A00054753008 (features already exist).\n",
            "Skipping gip_A00054753009 (features already exist).\n"
          ]
        },
        {
          "name": "stderr",
          "output_type": "stream",
          "text": [
            "Processing .mat files:  30%|█████▏           | 453/1489 [00:24<00:53, 19.29it/s]"
          ]
        },
        {
          "name": "stdout",
          "output_type": "stream",
          "text": [
            "Skipping gip_A00054753010 (features already exist).\n",
            "Skipping gip_A00054753012 (features already exist).\n",
            "Skipping gip_A00054753013 (features already exist).\n",
            "Skipping gip_A00054753014 (features already exist).\n",
            "Skipping oip_A00054753001 (features already exist).\n"
          ]
        },
        {
          "name": "stderr",
          "output_type": "stream",
          "text": [
            "Processing .mat files:  31%|█████▏           | 458/1489 [00:24<00:52, 19.78it/s]"
          ]
        },
        {
          "name": "stdout",
          "output_type": "stream",
          "text": [
            "Skipping bip_A00054766011 (features already exist).\n",
            "Skipping bp_A00054766008 (features already exist).\n",
            "Skipping gip_A00054766003 (features already exist).\n",
            "Skipping gip_A00054766006 (features already exist).\n",
            "Skipping gp_A00054766016 (features already exist).\n"
          ]
        },
        {
          "name": "stderr",
          "output_type": "stream",
          "text": [
            "Processing .mat files:  31%|█████▎           | 462/1489 [00:24<00:54, 18.91it/s]"
          ]
        },
        {
          "name": "stdout",
          "output_type": "stream",
          "text": [
            "Skipping oip_A00054766001 (features already exist).\n",
            "Skipping oip_A00054766002 (features already exist).\n",
            "Skipping oip_A00054766005 (features already exist).\n",
            "Skipping oip_A00054766007 (features already exist).\n"
          ]
        },
        {
          "name": "stderr",
          "output_type": "stream",
          "text": [
            "Processing .mat files:  31%|█████▎           | 466/1489 [00:24<00:54, 18.89it/s]"
          ]
        },
        {
          "name": "stdout",
          "output_type": "stream",
          "text": [
            "Skipping oip_A00054766009 (features already exist).\n",
            "Skipping oip_A00054766010 (features already exist).\n",
            "Skipping oip_A00054766013 (features already exist).\n",
            "Skipping oip_A00054766014 (features already exist).\n"
          ]
        },
        {
          "name": "stderr",
          "output_type": "stream",
          "text": [
            "Processing .mat files:  32%|█████▍           | 471/1489 [00:25<00:52, 19.33it/s]"
          ]
        },
        {
          "name": "stdout",
          "output_type": "stream",
          "text": [
            "Skipping oip_A00054766015 (features already exist).\n",
            "Skipping op_A00054766004 (features already exist).\n",
            "Skipping gip_A00054817001 (features already exist).\n",
            "Skipping gip_A00054817002 (features already exist).\n",
            "Skipping gip_A00054817003 (features already exist).\n"
          ]
        },
        {
          "name": "stderr",
          "output_type": "stream",
          "text": [
            "Processing .mat files:  32%|█████▍           | 475/1489 [00:25<00:52, 19.22it/s]"
          ]
        },
        {
          "name": "stdout",
          "output_type": "stream",
          "text": [
            "Skipping gip_A00054817004 (features already exist).\n",
            "Skipping gip_A00054817005 (features already exist).\n",
            "Skipping gip_A00054817006 (features already exist).\n",
            "Skipping gip_A00054817007 (features already exist).\n"
          ]
        },
        {
          "name": "stderr",
          "output_type": "stream",
          "text": [
            "Processing .mat files:  32%|█████▍           | 479/1489 [00:25<00:53, 18.96it/s]"
          ]
        },
        {
          "name": "stdout",
          "output_type": "stream",
          "text": [
            "Skipping gip_A00054817008 (features already exist).\n",
            "Skipping gip_A00054817010 (features already exist).\n",
            "Skipping gip_A00054817011 (features already exist).\n",
            "Skipping gip_A00054817013 (features already exist).\n"
          ]
        },
        {
          "name": "stderr",
          "output_type": "stream",
          "text": [
            "Processing .mat files:  32%|█████▌           | 483/1489 [00:25<00:54, 18.53it/s]"
          ]
        },
        {
          "name": "stdout",
          "output_type": "stream",
          "text": [
            "Skipping gip_A00054817014 (features already exist).\n",
            "Skipping gip_A00054817015 (features already exist).\n",
            "Skipping gp_A00054817009 (features already exist).\n",
            "Skipping gp_A00054817016 (features already exist).\n"
          ]
        },
        {
          "name": "stderr",
          "output_type": "stream",
          "text": [
            "Processing .mat files:  33%|█████▌           | 486/1489 [00:25<00:52, 19.25it/s]"
          ]
        },
        {
          "name": "stdout",
          "output_type": "stream",
          "text": [
            "Skipping gip_A00054836003 (features already exist).\n",
            "Skipping gip_A00054836005 (features already exist).\n",
            "Skipping gip_A00054836013 (features already exist).\n",
            "Skipping gp_A00054836001 (features already exist).\n"
          ]
        },
        {
          "name": "stderr",
          "output_type": "stream",
          "text": [
            "Processing .mat files:  33%|█████▌           | 490/1489 [00:26<00:52, 19.02it/s]"
          ]
        },
        {
          "name": "stdout",
          "output_type": "stream",
          "text": [
            "Skipping gp_A00054836002 (features already exist).\n",
            "Skipping gp_A00054836004 (features already exist).\n",
            "Skipping gp_A00054836006 (features already exist).\n",
            "Skipping gp_A00054836007 (features already exist).\n"
          ]
        },
        {
          "name": "stderr",
          "output_type": "stream",
          "text": [
            "Processing .mat files:  33%|█████▋           | 494/1489 [00:26<00:52, 19.05it/s]"
          ]
        },
        {
          "name": "stdout",
          "output_type": "stream",
          "text": [
            "Skipping gp_A00054836008 (features already exist).\n",
            "Skipping gp_A00054836009 (features already exist).\n",
            "Skipping gp_A00054836010 (features already exist).\n",
            "Skipping gp_A00054836011 (features already exist).\n"
          ]
        },
        {
          "name": "stderr",
          "output_type": "stream",
          "text": [
            "Processing .mat files:  34%|█████▋           | 499/1489 [00:26<00:50, 19.44it/s]"
          ]
        },
        {
          "name": "stdout",
          "output_type": "stream",
          "text": [
            "Skipping gp_A00054836014 (features already exist).\n",
            "Skipping bip_A00054852010 (features already exist).\n",
            "Skipping bip_A00054852014 (features already exist).\n",
            "Skipping gip_A00054852001 (features already exist).\n"
          ]
        },
        {
          "name": "stderr",
          "output_type": "stream",
          "text": [
            "Processing .mat files:  34%|█████▋           | 503/1489 [00:26<00:51, 19.12it/s]"
          ]
        },
        {
          "name": "stdout",
          "output_type": "stream",
          "text": [
            "Skipping gip_A00054852006 (features already exist).\n",
            "Skipping gip_A00054852007 (features already exist).\n",
            "Skipping gp_A00054852015 (features already exist).\n",
            "Skipping oip_A00054852002 (features already exist).\n"
          ]
        },
        {
          "name": "stderr",
          "output_type": "stream",
          "text": [
            "Processing .mat files:  34%|█████▊           | 508/1489 [00:27<00:50, 19.57it/s]"
          ]
        },
        {
          "name": "stdout",
          "output_type": "stream",
          "text": [
            "Skipping oip_A00054852003 (features already exist).\n",
            "Skipping oip_A00054852004 (features already exist).\n",
            "Skipping oip_A00054852005 (features already exist).\n",
            "Skipping oip_A00054852008 (features already exist).\n",
            "Skipping oip_A00054852009 (features already exist).\n"
          ]
        },
        {
          "name": "stderr",
          "output_type": "stream",
          "text": [
            "Processing .mat files:  34%|█████▊           | 511/1489 [00:27<00:49, 19.73it/s]"
          ]
        },
        {
          "name": "stdout",
          "output_type": "stream",
          "text": [
            "Skipping oip_A00054852012 (features already exist).\n",
            "Skipping oip_A00054852013 (features already exist).\n",
            "Skipping gip_A00054866 002 (features already exist).\n",
            "Skipping gip_A00054866 005 (features already exist).\n"
          ]
        },
        {
          "name": "stderr",
          "output_type": "stream",
          "text": [
            "Processing .mat files:  35%|█████▉           | 515/1489 [00:27<00:52, 18.69it/s]"
          ]
        },
        {
          "name": "stdout",
          "output_type": "stream",
          "text": [
            "Skipping gip_A00054866 006 (features already exist).\n",
            "Skipping gip_A00054866 007 (features already exist).\n",
            "Skipping gip_A00054866 009 (features already exist).\n",
            "Skipping gip_A00054866 010 (features already exist).\n"
          ]
        },
        {
          "name": "stderr",
          "output_type": "stream",
          "text": [
            "Processing .mat files:  35%|█████▉           | 519/1489 [00:27<00:50, 19.08it/s]"
          ]
        },
        {
          "name": "stdout",
          "output_type": "stream",
          "text": [
            "Skipping gip_A00054866 011 (features already exist).\n",
            "Skipping gip_A00054866 012 (features already exist).\n",
            "Skipping gip_A00054866 014 (features already exist).\n",
            "Skipping gip_A00054866 016 (features already exist).\n"
          ]
        },
        {
          "name": "stderr",
          "output_type": "stream",
          "text": [
            "Processing .mat files:  35%|█████▉           | 523/1489 [00:27<00:50, 19.23it/s]"
          ]
        },
        {
          "name": "stdout",
          "output_type": "stream",
          "text": [
            "Skipping gp_A00054866 001 (features already exist).\n",
            "Skipping gp_A00054866 003 (features already exist).\n",
            "Skipping gp_A00054866 004 (features already exist).\n",
            "Skipping gp_A00054866 008 (features already exist).\n"
          ]
        },
        {
          "name": "stderr",
          "output_type": "stream",
          "text": [
            "Processing .mat files:  35%|██████           | 527/1489 [00:28<00:51, 18.73it/s]"
          ]
        },
        {
          "name": "stdout",
          "output_type": "stream",
          "text": [
            "Skipping oip_A00054866 015 (features already exist).\n",
            "Skipping gip_A00054894006 (features already exist).\n",
            "Skipping gip_A00054894007 (features already exist).\n",
            "Skipping gip_A00054894008 (features already exist).\n"
          ]
        },
        {
          "name": "stderr",
          "output_type": "stream",
          "text": [
            "Processing .mat files:  36%|██████           | 531/1489 [00:28<00:51, 18.46it/s]"
          ]
        },
        {
          "name": "stdout",
          "output_type": "stream",
          "text": [
            "Skipping gip_A00054894009 (features already exist).\n",
            "Skipping gip_A00054894010 (features already exist).\n",
            "Skipping gip_A00054894011 (features already exist).\n",
            "Skipping gip_A00054894013 (features already exist).\n"
          ]
        },
        {
          "name": "stderr",
          "output_type": "stream",
          "text": [
            "Processing .mat files:  36%|██████           | 535/1489 [00:28<00:50, 18.82it/s]"
          ]
        },
        {
          "name": "stdout",
          "output_type": "stream",
          "text": [
            "Skipping gip_A00054894014 (features already exist).\n",
            "Skipping gip_A00054894015 (features already exist).\n",
            "Skipping gip_A00054894016 (features already exist).\n",
            "Skipping gp_A00054894001 (features already exist).\n"
          ]
        },
        {
          "name": "stderr",
          "output_type": "stream",
          "text": [
            "Processing .mat files:  36%|██████▏          | 539/1489 [00:28<00:50, 18.85it/s]"
          ]
        },
        {
          "name": "stdout",
          "output_type": "stream",
          "text": [
            "Skipping gp_A00054894002 (features already exist).\n",
            "Skipping gp_A00054894003 (features already exist).\n",
            "Skipping gp_A00054894004 (features already exist).\n",
            "Skipping gp_A00054894005 (features already exist).\n"
          ]
        },
        {
          "name": "stderr",
          "output_type": "stream",
          "text": [
            "Processing .mat files:  36%|██████▏          | 543/1489 [00:28<00:50, 18.78it/s]"
          ]
        },
        {
          "name": "stdout",
          "output_type": "stream",
          "text": [
            "Skipping gip_A00054907002 (features already exist).\n",
            "Skipping gip_A00054907006 (features already exist).\n",
            "Skipping gip_A00054907007 (features already exist).\n",
            "Skipping gip_A00054907010 (features already exist).\n"
          ]
        },
        {
          "name": "stderr",
          "output_type": "stream",
          "text": [
            "Processing .mat files:  37%|██████▏          | 547/1489 [00:29<00:52, 17.97it/s]"
          ]
        },
        {
          "name": "stdout",
          "output_type": "stream",
          "text": [
            "Skipping gip_A00054907011 (features already exist).\n",
            "Skipping gip_A00054907013 (features already exist).\n",
            "Skipping gip_A00054907014 (features already exist).\n",
            "Skipping gip_A00054907015 (features already exist).\n"
          ]
        },
        {
          "name": "stderr",
          "output_type": "stream",
          "text": [
            "Processing .mat files:  37%|██████▎          | 551/1489 [00:29<00:52, 18.03it/s]"
          ]
        },
        {
          "name": "stdout",
          "output_type": "stream",
          "text": [
            "Skipping gp_A00054907009 (features already exist).\n",
            "Skipping gp_A00054907016 (features already exist).\n",
            "Skipping oip_A00054907001 (features already exist).\n",
            "Skipping oip_A00054907003 (features already exist).\n"
          ]
        },
        {
          "name": "stderr",
          "output_type": "stream",
          "text": [
            "Processing .mat files:  37%|██████▎          | 555/1489 [00:29<00:50, 18.60it/s]"
          ]
        },
        {
          "name": "stdout",
          "output_type": "stream",
          "text": [
            "Skipping oip_A00054907004 (features already exist).\n",
            "Skipping oip_A00054907005 (features already exist).\n",
            "Skipping oip_A00054907008 (features already exist).\n",
            "Skipping gip_A00054917001 (features already exist).\n"
          ]
        },
        {
          "name": "stderr",
          "output_type": "stream",
          "text": [
            "Processing .mat files:  38%|██████▍          | 559/1489 [00:29<00:49, 18.71it/s]"
          ]
        },
        {
          "name": "stdout",
          "output_type": "stream",
          "text": [
            "Skipping gip_A00054917002 (features already exist).\n",
            "Skipping gip_A00054917003 (features already exist).\n",
            "Skipping gip_A00054917006 (features already exist).\n",
            "Skipping gip_A00054917007 (features already exist).\n"
          ]
        },
        {
          "name": "stderr",
          "output_type": "stream",
          "text": [
            "Processing .mat files:  38%|██████▍          | 563/1489 [00:30<00:49, 18.68it/s]"
          ]
        },
        {
          "name": "stdout",
          "output_type": "stream",
          "text": [
            "Skipping gip_A00054917008 (features already exist).\n",
            "Skipping gip_A00054917009 (features already exist).\n",
            "Skipping gip_A00054917013 (features already exist).\n",
            "Skipping gp_A00054917015 (features already exist).\n"
          ]
        },
        {
          "name": "stderr",
          "output_type": "stream",
          "text": [
            "Processing .mat files:  38%|██████▍          | 567/1489 [00:30<00:48, 18.97it/s]"
          ]
        },
        {
          "name": "stdout",
          "output_type": "stream",
          "text": [
            "Skipping oip_A00054917004 (features already exist).\n",
            "Skipping oip_A00054917005 (features already exist).\n",
            "Skipping oip_A00054917010 (features already exist).\n",
            "Skipping oip_A00054917012 (features already exist).\n"
          ]
        },
        {
          "name": "stderr",
          "output_type": "stream",
          "text": [
            "Processing .mat files:  38%|██████▌          | 572/1489 [00:30<00:47, 19.38it/s]"
          ]
        },
        {
          "name": "stdout",
          "output_type": "stream",
          "text": [
            "Skipping oip_A00054917014 (features already exist).\n",
            "Skipping gip_A00054923001 (features already exist).\n",
            "Skipping gip_A00054923002 (features already exist).\n",
            "Skipping gip_A00054923003 (features already exist).\n",
            "Skipping gip_A00054923004 (features already exist).\n"
          ]
        },
        {
          "name": "stderr",
          "output_type": "stream",
          "text": [
            "Processing .mat files:  39%|██████▌          | 576/1489 [00:30<00:48, 18.98it/s]"
          ]
        },
        {
          "name": "stdout",
          "output_type": "stream",
          "text": [
            "Skipping gip_A00054923005 (features already exist).\n",
            "Skipping gip_A00054923009 (features already exist).\n",
            "Skipping gip_A00054923010 (features already exist).\n",
            "Skipping gip_A00054923013 (features already exist).\n"
          ]
        },
        {
          "name": "stderr",
          "output_type": "stream",
          "text": [
            "Processing .mat files:  39%|██████▌          | 580/1489 [00:30<00:48, 18.67it/s]"
          ]
        },
        {
          "name": "stdout",
          "output_type": "stream",
          "text": [
            "Skipping gip_A00054923014 (features already exist).\n",
            "Skipping gip_A00054923015 (features already exist).\n",
            "Skipping oip_A00054923006 (features already exist).\n",
            "Skipping oip_A00054923007 (features already exist).\n"
          ]
        },
        {
          "name": "stderr",
          "output_type": "stream",
          "text": [
            "Processing .mat files:  39%|██████▋          | 585/1489 [00:31<00:47, 18.94it/s]"
          ]
        },
        {
          "name": "stdout",
          "output_type": "stream",
          "text": [
            "Skipping oip_A00054923008 (features already exist).\n",
            "Skipping oip_A00054923011 (features already exist).\n",
            "Skipping gip_A00054930007 (features already exist).\n",
            "Skipping gip_A00054930008 (features already exist).\n"
          ]
        },
        {
          "name": "stderr",
          "output_type": "stream",
          "text": [
            "Processing .mat files:  40%|██████▋          | 589/1489 [00:31<00:47, 18.78it/s]"
          ]
        },
        {
          "name": "stdout",
          "output_type": "stream",
          "text": [
            "Skipping gip_A00054930009 (features already exist).\n",
            "Skipping gip_A00054930010 (features already exist).\n",
            "Skipping gip_A00054930011 (features already exist).\n",
            "Skipping gip_A00054930013 (features already exist).\n"
          ]
        },
        {
          "name": "stderr",
          "output_type": "stream",
          "text": [
            "Processing .mat files:  40%|██████▊          | 593/1489 [00:31<00:47, 18.83it/s]"
          ]
        },
        {
          "name": "stdout",
          "output_type": "stream",
          "text": [
            "Skipping gip_A00054930015 (features already exist).\n",
            "Skipping gp_A00054930001 (features already exist).\n",
            "Skipping gp_A00054930002 (features already exist).\n",
            "Skipping gp_A00054930003 (features already exist).\n"
          ]
        },
        {
          "name": "stderr",
          "output_type": "stream",
          "text": [
            "Processing .mat files:  40%|██████▊          | 597/1489 [00:31<00:47, 18.71it/s]"
          ]
        },
        {
          "name": "stdout",
          "output_type": "stream",
          "text": [
            "Skipping gp_A00054930004 (features already exist).\n",
            "Skipping gp_A00054930005 (features already exist).\n",
            "Skipping gp_A00054930006 (features already exist).\n",
            "Skipping gp_A00054930014 (features already exist).\n"
          ]
        },
        {
          "name": "stderr",
          "output_type": "stream",
          "text": [
            "Processing .mat files:  40%|██████▊          | 601/1489 [00:32<00:47, 18.60it/s]"
          ]
        },
        {
          "name": "stdout",
          "output_type": "stream",
          "text": [
            "Skipping gp_A00054930016 (features already exist).\n",
            "Skipping gip_A00055024001 (features already exist).\n",
            "Skipping gip_A00055024003 (features already exist).\n",
            "Skipping gip_A00055024004 (features already exist).\n"
          ]
        },
        {
          "name": "stderr",
          "output_type": "stream",
          "text": [
            "Processing .mat files:  41%|██████▉          | 605/1489 [00:32<00:47, 18.50it/s]"
          ]
        },
        {
          "name": "stdout",
          "output_type": "stream",
          "text": [
            "Skipping gip_A00055024005 (features already exist).\n",
            "Skipping gip_A00055024006 (features already exist).\n",
            "Skipping gip_A00055024009 (features already exist).\n",
            "Skipping gp_A00055024011 (features already exist).\n"
          ]
        },
        {
          "name": "stderr",
          "output_type": "stream",
          "text": [
            "Processing .mat files:  41%|██████▉          | 609/1489 [00:32<00:48, 18.29it/s]"
          ]
        },
        {
          "name": "stdout",
          "output_type": "stream",
          "text": [
            "Skipping oip_A00055024002 (features already exist).\n",
            "Skipping oip_A00055024007 (features already exist).\n",
            "Skipping oip_A00055024008 (features already exist).\n",
            "Skipping oip_A00055024010 (features already exist).\n"
          ]
        },
        {
          "name": "stderr",
          "output_type": "stream",
          "text": [
            "Processing .mat files:  41%|██████▉          | 611/1489 [00:32<00:47, 18.40it/s]"
          ]
        },
        {
          "name": "stdout",
          "output_type": "stream",
          "text": [
            "Skipping oip_A00055024013 (features already exist).\n",
            "Skipping oip_A00055024014 (features already exist).\n",
            "Skipping oip_A00055024015 (features already exist).\n",
            "Skipping bip_A00055038013 (features already exist).\n"
          ]
        },
        {
          "name": "stderr",
          "output_type": "stream",
          "text": [
            "Processing .mat files:  41%|███████          | 616/1489 [00:32<00:47, 18.31it/s]"
          ]
        },
        {
          "name": "stdout",
          "output_type": "stream",
          "text": [
            "Skipping gip_A00055038002 (features already exist).\n",
            "Skipping gip_A00055038003 (features already exist).\n",
            "Skipping gip_A00055038004 (features already exist).\n",
            "Skipping gip_A00055038007 (features already exist).\n"
          ]
        },
        {
          "name": "stderr",
          "output_type": "stream",
          "text": [
            "Processing .mat files:  42%|███████          | 620/1489 [00:33<00:46, 18.72it/s]"
          ]
        },
        {
          "name": "stdout",
          "output_type": "stream",
          "text": [
            "Skipping gip_A00055038008 (features already exist).\n",
            "Skipping oip_A00055038001 (features already exist).\n",
            "Skipping oip_A00055038005 (features already exist).\n",
            "Skipping oip_A00055038006 (features already exist).\n"
          ]
        },
        {
          "name": "stderr",
          "output_type": "stream",
          "text": [
            "Processing .mat files:  42%|███████▏         | 625/1489 [00:33<00:45, 18.90it/s]"
          ]
        },
        {
          "name": "stdout",
          "output_type": "stream",
          "text": [
            "Skipping oip_A00055038009 (features already exist).\n",
            "Skipping oip_A00055038011 (features already exist).\n",
            "Skipping oip_A00055038014 (features already exist).\n",
            "Skipping oip_A00055038015 (features already exist).\n"
          ]
        },
        {
          "name": "stderr",
          "output_type": "stream",
          "text": [
            "Processing .mat files:  42%|███████▏         | 628/1489 [00:33<00:44, 19.49it/s]"
          ]
        },
        {
          "name": "stdout",
          "output_type": "stream",
          "text": [
            "Skipping op_A00055038010 (features already exist).\n",
            "Skipping bip_A00055055003 (features already exist).\n",
            "Skipping bip_A00055055008 (features already exist).\n",
            "Skipping bip_A00055055010 (features already exist).\n",
            "Skipping bip_A00055055011 (features already exist).\n"
          ]
        },
        {
          "name": "stderr",
          "output_type": "stream",
          "text": [
            "Processing .mat files:  43%|███████▏         | 634/1489 [00:33<00:42, 19.94it/s]"
          ]
        },
        {
          "name": "stdout",
          "output_type": "stream",
          "text": [
            "Skipping bip_A00055055013 (features already exist).\n",
            "Skipping bip_A00055055014 (features already exist).\n",
            "Skipping bip_A00055055015 (features already exist).\n",
            "Skipping gip_A00055055001 (features already exist).\n",
            "Skipping gip_A00055055005 (features already exist).\n"
          ]
        },
        {
          "name": "stderr",
          "output_type": "stream",
          "text": [
            "Processing .mat files:  43%|███████▎         | 637/1489 [00:33<00:42, 20.19it/s]"
          ]
        },
        {
          "name": "stdout",
          "output_type": "stream",
          "text": [
            "Skipping gip_A00055055009 (features already exist).\n",
            "Skipping oip_A00055055002 (features already exist).\n",
            "Skipping oip_A00055055004 (features already exist).\n",
            "Skipping oip_A00055055006 (features already exist).\n"
          ]
        },
        {
          "name": "stderr",
          "output_type": "stream",
          "text": [
            "Processing .mat files:  43%|███████▎         | 642/1489 [00:34<00:43, 19.67it/s]"
          ]
        },
        {
          "name": "stdout",
          "output_type": "stream",
          "text": [
            "Skipping oip_A00055055007 (features already exist).\n",
            "Skipping bp_A00055065008 (features already exist).\n",
            "Skipping gip_A00055065002 (features already exist).\n",
            "Skipping gip_A00055065003 (features already exist).\n"
          ]
        },
        {
          "name": "stderr",
          "output_type": "stream",
          "text": [
            "Processing .mat files:  43%|███████▍         | 646/1489 [00:34<00:43, 19.21it/s]"
          ]
        },
        {
          "name": "stdout",
          "output_type": "stream",
          "text": [
            "Skipping gip_A00055065004 (features already exist).\n",
            "Skipping gip_A00055065005 (features already exist).\n",
            "Skipping gip_A00055065007 (features already exist).\n",
            "Skipping gip_A00055065009 (features already exist).\n"
          ]
        },
        {
          "name": "stderr",
          "output_type": "stream",
          "text": [
            "Processing .mat files:  44%|███████▍         | 651/1489 [00:34<00:43, 19.37it/s]"
          ]
        },
        {
          "name": "stdout",
          "output_type": "stream",
          "text": [
            "Skipping gip_A00055065012 (features already exist).\n",
            "Skipping gip_A00055065013 (features already exist).\n",
            "Skipping gp_A00055065001 (features already exist).\n",
            "Skipping gp_A00055065006 (features already exist).\n"
          ]
        },
        {
          "name": "stderr",
          "output_type": "stream",
          "text": [
            "Processing .mat files:  44%|███████▍         | 655/1489 [00:34<00:43, 19.38it/s]"
          ]
        },
        {
          "name": "stdout",
          "output_type": "stream",
          "text": [
            "Skipping gp_A00055065011 (features already exist).\n",
            "Skipping bp_A00055077009 (features already exist).\n",
            "Skipping bp_A00055077010 (features already exist).\n",
            "Skipping gip_A00055077001 (features already exist).\n",
            "Skipping gip_A00055077002 (features already exist).\n"
          ]
        },
        {
          "name": "stderr",
          "output_type": "stream",
          "text": [
            "Processing .mat files:  44%|███████▌         | 659/1489 [00:35<00:43, 19.10it/s]"
          ]
        },
        {
          "name": "stdout",
          "output_type": "stream",
          "text": [
            "Skipping gip_A00055077003 (features already exist).\n",
            "Skipping gip_A00055077004 (features already exist).\n",
            "Skipping gip_A00055077005 (features already exist).\n",
            "Skipping gip_A00055077006 (features already exist).\n"
          ]
        },
        {
          "name": "stderr",
          "output_type": "stream",
          "text": [
            "Processing .mat files:  45%|███████▌         | 663/1489 [00:35<00:43, 18.82it/s]"
          ]
        },
        {
          "name": "stdout",
          "output_type": "stream",
          "text": [
            "Skipping gip_A00055077007 (features already exist).\n",
            "Skipping gip_A00055077013 (features already exist).\n",
            "Skipping gip_A00055077014 (features already exist).\n",
            "Skipping gp_A00055077015 (features already exist).\n"
          ]
        },
        {
          "name": "stderr",
          "output_type": "stream",
          "text": [
            "Processing .mat files:  45%|███████▌         | 667/1489 [00:35<00:45, 18.12it/s]"
          ]
        },
        {
          "name": "stdout",
          "output_type": "stream",
          "text": [
            "Skipping oip_A00055077008 (features already exist).\n",
            "Skipping oip_A00055077011 (features already exist).\n",
            "Skipping gip_A00055085008 (features already exist).\n",
            "Skipping gip_A00055085011 (features already exist).\n"
          ]
        },
        {
          "name": "stderr",
          "output_type": "stream",
          "text": [
            "Processing .mat files:  45%|███████▋         | 671/1489 [00:35<00:44, 18.43it/s]"
          ]
        },
        {
          "name": "stdout",
          "output_type": "stream",
          "text": [
            "Skipping gp_A00055085001 (features already exist).\n",
            "Skipping gp_A00055085002 (features already exist).\n",
            "Skipping gp_A00055085003 (features already exist).\n",
            "Skipping gp_A00055085004 (features already exist).\n"
          ]
        },
        {
          "name": "stderr",
          "output_type": "stream",
          "text": [
            "Processing .mat files:  45%|███████▋         | 676/1489 [00:36<00:42, 19.22it/s]"
          ]
        },
        {
          "name": "stdout",
          "output_type": "stream",
          "text": [
            "Skipping gp_A00055085005 (features already exist).\n",
            "Skipping gp_A00055085006 (features already exist).\n",
            "Skipping gp_A00055085007 (features already exist).\n",
            "Skipping gp_A00055085009 (features already exist).\n",
            "Skipping gp_A00055085010 (features already exist).\n"
          ]
        },
        {
          "name": "stderr",
          "output_type": "stream",
          "text": [
            "Processing .mat files:  46%|███████▊         | 680/1489 [00:36<00:42, 19.24it/s]"
          ]
        },
        {
          "name": "stdout",
          "output_type": "stream",
          "text": [
            "Skipping gp_A00055085013 (features already exist).\n",
            "Skipping gp_A00055085014 (features already exist).\n",
            "Skipping gp_A00055085015 (features already exist).\n",
            "Skipping gp_A00055085016 (features already exist).\n"
          ]
        },
        {
          "name": "stderr",
          "output_type": "stream",
          "text": [
            "Processing .mat files:  46%|███████▊         | 684/1489 [00:36<00:43, 18.53it/s]"
          ]
        },
        {
          "name": "stdout",
          "output_type": "stream",
          "text": [
            "Skipping gip_A00055103005 (features already exist).\n",
            "Skipping gip_A00055103008 (features already exist).\n",
            "Skipping gip_A00055103011 (features already exist).\n",
            "Skipping gip_A00055103012 (features already exist).\n"
          ]
        },
        {
          "name": "stderr",
          "output_type": "stream",
          "text": [
            "Processing .mat files:  46%|███████▊         | 688/1489 [00:36<00:42, 18.72it/s]"
          ]
        },
        {
          "name": "stdout",
          "output_type": "stream",
          "text": [
            "Skipping gip_A00055103013 (features already exist).\n",
            "Skipping gp_A00055103002 (features already exist).\n",
            "Skipping oip_A00055103001 (features already exist).\n",
            "Skipping oip_A00055103004 (features already exist).\n"
          ]
        },
        {
          "name": "stderr",
          "output_type": "stream",
          "text": [
            "Processing .mat files:  46%|███████▉         | 692/1489 [00:36<00:42, 18.96it/s]"
          ]
        },
        {
          "name": "stdout",
          "output_type": "stream",
          "text": [
            "Skipping oip_A00055103007 (features already exist).\n",
            "Skipping oip_A00055103009 (features already exist).\n",
            "Skipping op_A00055103003 (features already exist).\n",
            "Skipping op_A00055103006 (features already exist).\n"
          ]
        },
        {
          "name": "stderr",
          "output_type": "stream",
          "text": [
            "Processing .mat files:  47%|███████▉         | 696/1489 [00:37<00:42, 18.66it/s]"
          ]
        },
        {
          "name": "stdout",
          "output_type": "stream",
          "text": [
            "Skipping bip_A00055296002 (features already exist).\n",
            "Skipping bip_A00055296009 (features already exist).\n",
            "Skipping bip_A00055296010 (features already exist).\n",
            "Skipping bp_A00055296005 (features already exist).\n"
          ]
        },
        {
          "name": "stderr",
          "output_type": "stream",
          "text": [
            "Processing .mat files:  47%|███████▉         | 700/1489 [00:37<00:41, 19.01it/s]"
          ]
        },
        {
          "name": "stdout",
          "output_type": "stream",
          "text": [
            "Skipping bp_A00055296006 (features already exist).\n",
            "Skipping bp_A00055296007 (features already exist).\n",
            "Skipping bp_A00055296008 (features already exist).\n",
            "Skipping gip_A00055296003 (features already exist).\n",
            "Skipping oip_A00055296001 (features already exist).\n"
          ]
        },
        {
          "name": "stderr",
          "output_type": "stream",
          "text": [
            "Processing .mat files:  47%|████████         | 705/1489 [00:37<00:40, 19.27it/s]"
          ]
        },
        {
          "name": "stdout",
          "output_type": "stream",
          "text": [
            "Skipping op_A00055296004 (features already exist).\n",
            "Skipping bip_A00055392008 (features already exist).\n",
            "Skipping bip_A00055392013 (features already exist).\n",
            "Skipping bip_A00055392014 (features already exist).\n"
          ]
        },
        {
          "name": "stderr",
          "output_type": "stream",
          "text": [
            "Processing .mat files:  48%|████████         | 710/1489 [00:37<00:39, 19.60it/s]"
          ]
        },
        {
          "name": "stdout",
          "output_type": "stream",
          "text": [
            "Skipping bip_A00055392015 (features already exist).\n",
            "Skipping oip_A00055392001 (features already exist).\n",
            "Skipping oip_A00055392002 (features already exist).\n",
            "Skipping oip_A00055392003 (features already exist).\n",
            "Skipping oip_A00055392004 (features already exist).\n"
          ]
        },
        {
          "name": "stderr",
          "output_type": "stream",
          "text": [
            "Processing .mat files:  48%|████████▏        | 714/1489 [00:37<00:39, 19.53it/s]"
          ]
        },
        {
          "name": "stdout",
          "output_type": "stream",
          "text": [
            "Skipping oip_A00055392005 (features already exist).\n",
            "Skipping oip_A00055392006 (features already exist).\n",
            "Skipping oip_A00055392007 (features already exist).\n",
            "Skipping oip_A00055392009 (features already exist).\n"
          ]
        },
        {
          "name": "stderr",
          "output_type": "stream",
          "text": [
            "Processing .mat files:  48%|████████▏        | 718/1489 [00:38<00:39, 19.33it/s]"
          ]
        },
        {
          "name": "stdout",
          "output_type": "stream",
          "text": [
            "Skipping oip_A00055392010 (features already exist).\n",
            "Skipping oip_A00055392011 (features already exist).\n",
            "Skipping gip_A00055424002 (features already exist).\n",
            "Skipping gip_A00055424003 (features already exist).\n"
          ]
        },
        {
          "name": "stderr",
          "output_type": "stream",
          "text": [
            "Processing .mat files:  48%|████████▏        | 722/1489 [00:38<00:40, 18.78it/s]"
          ]
        },
        {
          "name": "stdout",
          "output_type": "stream",
          "text": [
            "Skipping gip_A00055424004 (features already exist).\n",
            "Skipping gp_A00055424001 (features already exist).\n",
            "Skipping gp_A00055424008 (features already exist).\n",
            "Skipping oip_A00055424005 (features already exist).\n"
          ]
        },
        {
          "name": "stderr",
          "output_type": "stream",
          "text": [
            "Processing .mat files:  49%|████████▎        | 726/1489 [00:38<00:42, 17.80it/s]"
          ]
        },
        {
          "name": "stdout",
          "output_type": "stream",
          "text": [
            "Skipping oip_A00055424006 (features already exist).\n",
            "Skipping oip_A00055424007 (features already exist).\n",
            "Skipping oip_A00055424009 (features already exist).\n",
            "Skipping oip_A00055424010 (features already exist).\n"
          ]
        },
        {
          "name": "stderr",
          "output_type": "stream",
          "text": [
            "Processing .mat files:  49%|████████▎        | 730/1489 [00:38<00:40, 18.77it/s]"
          ]
        },
        {
          "name": "stdout",
          "output_type": "stream",
          "text": [
            "Skipping oip_A00055424013 (features already exist).\n",
            "Skipping op_A00055424011 (features already exist).\n",
            "Skipping gip_A00055429003 (features already exist).\n",
            "Skipping gip_A00055429004 (features already exist).\n"
          ]
        },
        {
          "name": "stderr",
          "output_type": "stream",
          "text": [
            "Processing .mat files:  49%|████████▍        | 734/1489 [00:39<00:40, 18.83it/s]"
          ]
        },
        {
          "name": "stdout",
          "output_type": "stream",
          "text": [
            "Skipping gip_A00055429006 (features already exist).\n",
            "Skipping gip_A00055429008 (features already exist).\n",
            "Skipping gip_A00055429009 (features already exist).\n",
            "Skipping gip_A00055429010 (features already exist).\n"
          ]
        },
        {
          "name": "stderr",
          "output_type": "stream",
          "text": [
            "Processing .mat files:  50%|████████▍        | 738/1489 [00:39<00:39, 18.91it/s]"
          ]
        },
        {
          "name": "stdout",
          "output_type": "stream",
          "text": [
            "Skipping gip_A00055429011 (features already exist).\n",
            "Skipping gp_A00055429001 (features already exist).\n",
            "Skipping gp_A00055429002 (features already exist).\n",
            "Skipping gp_A00055429005 (features already exist).\n"
          ]
        },
        {
          "name": "stderr",
          "output_type": "stream",
          "text": [
            "Processing .mat files:  50%|████████▍        | 742/1489 [00:39<00:39, 19.04it/s]"
          ]
        },
        {
          "name": "stdout",
          "output_type": "stream",
          "text": [
            "Skipping gp_A00055429016 (features already exist).\n",
            "Skipping oip_A00055429007 (features already exist).\n",
            "Skipping oip_A00055429014 (features already exist).\n",
            "Skipping oip_A00055429015 (features already exist).\n"
          ]
        },
        {
          "name": "stderr",
          "output_type": "stream",
          "text": [
            "Processing .mat files:  50%|████████▌        | 747/1489 [00:39<00:38, 19.30it/s]"
          ]
        },
        {
          "name": "stdout",
          "output_type": "stream",
          "text": [
            "Skipping op_A00055429013 (features already exist).\n",
            "Skipping bip_A00055436001 (features already exist).\n",
            "Skipping bip_A00055436002 (features already exist).\n",
            "Skipping bip_A00055436004 (features already exist).\n"
          ]
        },
        {
          "name": "stderr",
          "output_type": "stream",
          "text": [
            "Processing .mat files:  50%|████████▌        | 751/1489 [00:39<00:37, 19.52it/s]"
          ]
        },
        {
          "name": "stdout",
          "output_type": "stream",
          "text": [
            "Skipping bip_A00055436007 (features already exist).\n",
            "Skipping bip_A00055436008 (features already exist).\n",
            "Skipping bp_A00055436005 (features already exist).\n",
            "Skipping bp_A00055436006 (features already exist).\n"
          ]
        },
        {
          "name": "stderr",
          "output_type": "stream",
          "text": [
            "Processing .mat files:  51%|████████▌        | 755/1489 [00:40<00:38, 19.04it/s]"
          ]
        },
        {
          "name": "stdout",
          "output_type": "stream",
          "text": [
            "Skipping oip_A00055436003 (features already exist).\n",
            "Skipping gip_A00055540001 (features already exist).\n",
            "Skipping gip_A00055540002 (features already exist).\n",
            "Skipping gip_A00055540006 (features already exist).\n"
          ]
        },
        {
          "name": "stderr",
          "output_type": "stream",
          "text": [
            "Processing .mat files:  51%|████████▋        | 759/1489 [00:40<00:38, 18.72it/s]"
          ]
        },
        {
          "name": "stdout",
          "output_type": "stream",
          "text": [
            "Skipping gip_A00055540013 (features already exist).\n",
            "Skipping gip_A00055540014 (features already exist).\n",
            "Skipping oip_A00055540003 (features already exist).\n",
            "Skipping oip_A00055540004 (features already exist).\n"
          ]
        },
        {
          "name": "stderr",
          "output_type": "stream",
          "text": [
            "Processing .mat files:  51%|████████▋        | 763/1489 [00:40<00:37, 19.16it/s]"
          ]
        },
        {
          "name": "stdout",
          "output_type": "stream",
          "text": [
            "Skipping oip_A00055540005 (features already exist).\n",
            "Skipping oip_A00055540007 (features already exist).\n",
            "Skipping oip_A00055540008 (features already exist).\n",
            "Skipping oip_A00055540009 (features already exist).\n"
          ]
        },
        {
          "name": "stderr",
          "output_type": "stream",
          "text": [
            "Processing .mat files:  52%|████████▊        | 767/1489 [00:40<00:37, 19.22it/s]"
          ]
        },
        {
          "name": "stdout",
          "output_type": "stream",
          "text": [
            "Skipping oip_A00055540010 (features already exist).\n",
            "Skipping oip_A00055540012 (features already exist).\n",
            "Skipping bip_A00055613006 (features already exist).\n",
            "Skipping bip_A00055613010 (features already exist).\n"
          ]
        },
        {
          "name": "stderr",
          "output_type": "stream",
          "text": [
            "Processing .mat files:  52%|████████▊        | 771/1489 [00:41<00:37, 18.92it/s]"
          ]
        },
        {
          "name": "stdout",
          "output_type": "stream",
          "text": [
            "Skipping bip_A00055613015 (features already exist).\n",
            "Skipping gp_A00055613016 (features already exist).\n",
            "Skipping oip_A00055613001 (features already exist).\n",
            "Skipping oip_A00055613002 (features already exist).\n"
          ]
        },
        {
          "name": "stderr",
          "output_type": "stream",
          "text": [
            "Processing .mat files:  52%|████████▊        | 776/1489 [00:41<00:36, 19.48it/s]"
          ]
        },
        {
          "name": "stdout",
          "output_type": "stream",
          "text": [
            "Skipping oip_A00055613003 (features already exist).\n",
            "Skipping oip_A00055613004 (features already exist).\n",
            "Skipping oip_A00055613005 (features already exist).\n",
            "Skipping oip_A00055613008 (features already exist).\n",
            "Skipping oip_A00055613009 (features already exist).\n"
          ]
        },
        {
          "name": "stderr",
          "output_type": "stream",
          "text": [
            "Processing .mat files:  52%|████████▉        | 779/1489 [00:41<00:36, 19.44it/s]"
          ]
        },
        {
          "name": "stdout",
          "output_type": "stream",
          "text": [
            "Skipping oip_A00055613011 (features already exist).\n",
            "Skipping oip_A00055613013 (features already exist).\n",
            "Skipping oip_A00055613014 (features already exist).\n",
            "Skipping op_A00055613007 (features already exist).\n"
          ]
        },
        {
          "name": "stderr",
          "output_type": "stream",
          "text": [
            "Processing .mat files:  53%|████████▉        | 783/1489 [00:41<00:36, 19.18it/s]"
          ]
        },
        {
          "name": "stdout",
          "output_type": "stream",
          "text": [
            "Skipping bp_A00055623007 (features already exist).\n",
            "Skipping gip_A00055623003 (features already exist).\n",
            "Skipping gip_A00055623004 (features already exist).\n",
            "Skipping gip_A00055623005 (features already exist).\n"
          ]
        },
        {
          "name": "stderr",
          "output_type": "stream",
          "text": [
            "Processing .mat files:  53%|████████▉        | 787/1489 [00:41<00:37, 18.92it/s]"
          ]
        },
        {
          "name": "stdout",
          "output_type": "stream",
          "text": [
            "Skipping gip_A00055623008 (features already exist).\n",
            "Skipping gip_A00055623014 (features already exist).\n",
            "Skipping gip_A00055623016 (features already exist).\n",
            "Skipping oip_A00055623001 (features already exist).\n"
          ]
        },
        {
          "name": "stderr",
          "output_type": "stream",
          "text": [
            "Processing .mat files:  53%|█████████        | 791/1489 [00:42<00:38, 18.29it/s]"
          ]
        },
        {
          "name": "stdout",
          "output_type": "stream",
          "text": [
            "Skipping oip_A00055623002 (features already exist).\n",
            "Skipping oip_A00055623006 (features already exist).\n",
            "Skipping oip_A00055623009 (features already exist).\n",
            "Skipping oip_A00055623010 (features already exist).\n"
          ]
        },
        {
          "name": "stderr",
          "output_type": "stream",
          "text": [
            "Processing .mat files:  53%|█████████        | 795/1489 [00:42<00:37, 18.32it/s]"
          ]
        },
        {
          "name": "stdout",
          "output_type": "stream",
          "text": [
            "Skipping oip_A00055623011 (features already exist).\n",
            "Skipping oip_A00055623012 (features already exist).\n",
            "Skipping oip_A00055623015 (features already exist).\n",
            "Skipping gip_A00055628002 (features already exist).\n"
          ]
        },
        {
          "name": "stderr",
          "output_type": "stream",
          "text": [
            "Processing .mat files:  54%|█████████▏       | 800/1489 [00:42<00:35, 19.26it/s]"
          ]
        },
        {
          "name": "stdout",
          "output_type": "stream",
          "text": [
            "Skipping gip_A00055628003 (features already exist).\n",
            "Skipping gip_A00055628005 (features already exist).\n",
            "Skipping gip_A00055628008 (features already exist).\n",
            "Skipping gip_A00055628013 (features already exist).\n",
            "Skipping gip_A00055628014 (features already exist).\n"
          ]
        },
        {
          "name": "stderr",
          "output_type": "stream",
          "text": [
            "Processing .mat files:  54%|█████████▏       | 805/1489 [00:42<00:35, 19.09it/s]"
          ]
        },
        {
          "name": "stdout",
          "output_type": "stream",
          "text": [
            "Skipping oip_A00055628001 (features already exist).\n",
            "Skipping oip_A00055628004 (features already exist).\n",
            "Skipping oip_A00055628006 (features already exist).\n",
            "Skipping oip_A00055628007 (features already exist).\n"
          ]
        },
        {
          "name": "stderr",
          "output_type": "stream",
          "text": [
            "Processing .mat files:  54%|█████████▏       | 807/1489 [00:42<00:37, 18.39it/s]"
          ]
        },
        {
          "name": "stdout",
          "output_type": "stream",
          "text": [
            "Skipping oip_A00055628009 (features already exist).\n",
            "Skipping oip_A00055628010 (features already exist).\n",
            "Skipping oip_A00055628011 (features already exist).\n",
            "Skipping oip_A00055628015 (features already exist).\n"
          ]
        },
        {
          "name": "stderr",
          "output_type": "stream",
          "text": [
            "Processing .mat files:  55%|█████████▎       | 812/1489 [00:43<00:36, 18.38it/s]"
          ]
        },
        {
          "name": "stdout",
          "output_type": "stream",
          "text": [
            "Skipping oip_A00055628016 (features already exist).\n",
            "Skipping gip_A00055649004 (features already exist).\n",
            "Skipping gip_A00055649005 (features already exist).\n",
            "Skipping gip_A00055649009 (features already exist).\n"
          ]
        },
        {
          "name": "stderr",
          "output_type": "stream",
          "text": [
            "Processing .mat files:  55%|█████████▎       | 816/1489 [00:43<00:36, 18.38it/s]"
          ]
        },
        {
          "name": "stdout",
          "output_type": "stream",
          "text": [
            "Skipping gip_A00055649010 (features already exist).\n",
            "Skipping gip_A00055649011 (features already exist).\n",
            "Skipping gip_A00055649013 (features already exist).\n",
            "Skipping gip_A00055649014 (features already exist).\n"
          ]
        },
        {
          "name": "stderr",
          "output_type": "stream",
          "text": [
            "Processing .mat files:  55%|█████████▎       | 820/1489 [00:43<00:35, 18.89it/s]"
          ]
        },
        {
          "name": "stdout",
          "output_type": "stream",
          "text": [
            "Skipping oip_A00055649001 (features already exist).\n",
            "Skipping oip_A00055649002 (features already exist).\n",
            "Skipping oip_A00055649003 (features already exist).\n",
            "Skipping oip_A00055649006 (features already exist).\n"
          ]
        },
        {
          "name": "stderr",
          "output_type": "stream",
          "text": [
            "Processing .mat files:  55%|█████████▍       | 824/1489 [00:43<00:35, 18.58it/s]"
          ]
        },
        {
          "name": "stdout",
          "output_type": "stream",
          "text": [
            "Skipping oip_A00055649007 (features already exist).\n",
            "Skipping oip_A00055649008 (features already exist).\n",
            "Skipping oip_A00055649015 (features already exist).\n",
            "Skipping bip_A00055662008 (features already exist).\n"
          ]
        },
        {
          "name": "stderr",
          "output_type": "stream",
          "text": [
            "Processing .mat files:  56%|█████████▍       | 828/1489 [00:44<00:35, 18.77it/s]"
          ]
        },
        {
          "name": "stdout",
          "output_type": "stream",
          "text": [
            "Skipping bip_A00055662014 (features already exist).\n",
            "Skipping bp_A00055662009 (features already exist).\n",
            "Skipping bp_A00055662010 (features already exist).\n",
            "Skipping gip_A00055662007 (features already exist).\n"
          ]
        },
        {
          "name": "stderr",
          "output_type": "stream",
          "text": [
            "Processing .mat files:  56%|█████████▍       | 832/1489 [00:44<00:36, 17.80it/s]"
          ]
        },
        {
          "name": "stdout",
          "output_type": "stream",
          "text": [
            "Skipping gp_A00055662016 (features already exist).\n",
            "Skipping oip_A00055662001 (features already exist).\n",
            "Skipping oip_A00055662006 (features already exist).\n",
            "Skipping oip_A00055662011 (features already exist).\n"
          ]
        },
        {
          "name": "stderr",
          "output_type": "stream",
          "text": [
            "Processing .mat files:  56%|█████████▌       | 836/1489 [00:44<00:36, 17.99it/s]"
          ]
        },
        {
          "name": "stdout",
          "output_type": "stream",
          "text": [
            "Skipping oip_A00055662013 (features already exist).\n",
            "Skipping oip_A00055662015 (features already exist).\n",
            "Skipping op_A00055662002 (features already exist).\n",
            "Skipping op_A00055662003 (features already exist).\n"
          ]
        },
        {
          "name": "stderr",
          "output_type": "stream",
          "text": [
            "Processing .mat files:  56%|█████████▌       | 840/1489 [00:44<00:35, 18.47it/s]"
          ]
        },
        {
          "name": "stdout",
          "output_type": "stream",
          "text": [
            "Skipping op_A00055662004 (features already exist).\n",
            "Skipping op_A00055662005 (features already exist).\n",
            "Skipping gip_A00055682001 (features already exist).\n",
            "Skipping gip_A00055682006 (features already exist).\n"
          ]
        },
        {
          "name": "stderr",
          "output_type": "stream",
          "text": [
            "Processing .mat files:  57%|█████████▋       | 844/1489 [00:44<00:34, 18.44it/s]"
          ]
        },
        {
          "name": "stdout",
          "output_type": "stream",
          "text": [
            "Skipping gip_A00055682009 (features already exist).\n",
            "Skipping gip_A00055682010 (features already exist).\n",
            "Skipping gip_A00055682011 (features already exist).\n",
            "Skipping gip_A00055682013 (features already exist).\n"
          ]
        },
        {
          "name": "stderr",
          "output_type": "stream",
          "text": [
            "Processing .mat files:  57%|█████████▋       | 849/1489 [00:45<00:33, 18.94it/s]"
          ]
        },
        {
          "name": "stdout",
          "output_type": "stream",
          "text": [
            "Skipping gip_A00055682014 (features already exist).\n",
            "Skipping gip_A00055682015 (features already exist).\n",
            "Skipping gp_A00055682002 (features already exist).\n",
            "Skipping gp_A00055682003 (features already exist).\n"
          ]
        },
        {
          "name": "stderr",
          "output_type": "stream",
          "text": [
            "Processing .mat files:  57%|█████████▋       | 853/1489 [00:45<00:33, 18.75it/s]"
          ]
        },
        {
          "name": "stdout",
          "output_type": "stream",
          "text": [
            "Skipping gp_A00055682004 (features already exist).\n",
            "Skipping gp_A00055682007 (features already exist).\n",
            "Skipping gp_A00055682008 (features already exist).\n",
            "Skipping oip_A00055682005 (features already exist).\n"
          ]
        },
        {
          "name": "stderr",
          "output_type": "stream",
          "text": [
            "Processing .mat files:  58%|█████████▊       | 857/1489 [00:45<00:32, 19.15it/s]"
          ]
        },
        {
          "name": "stdout",
          "output_type": "stream",
          "text": [
            "Skipping bip_A00055731011 (features already exist).\n",
            "Skipping gip_A00055731003 (features already exist).\n",
            "Skipping gip_A00055731005 (features already exist).\n",
            "Skipping gip_A00055731006 (features already exist).\n",
            "Skipping gip_A00055731007 (features already exist).\n"
          ]
        },
        {
          "name": "stderr",
          "output_type": "stream",
          "text": [
            "Processing .mat files:  58%|█████████▊       | 861/1489 [00:45<00:32, 19.45it/s]"
          ]
        },
        {
          "name": "stdout",
          "output_type": "stream",
          "text": [
            "Skipping gip_A00055731008 (features already exist).\n",
            "Skipping gip_A00055731013 (features already exist).\n",
            "Skipping gip_A00055731016 (features already exist).\n",
            "Skipping gp_A00055731002 (features already exist).\n"
          ]
        },
        {
          "name": "stderr",
          "output_type": "stream",
          "text": [
            "Processing .mat files:  58%|█████████▉       | 865/1489 [00:46<00:33, 18.84it/s]"
          ]
        },
        {
          "name": "stdout",
          "output_type": "stream",
          "text": [
            "Skipping oip_A00055731001 (features already exist).\n",
            "Skipping oip_A00055731004 (features already exist).\n",
            "Skipping oip_A00055731009 (features already exist).\n",
            "Skipping oip_A00055731010 (features already exist).\n"
          ]
        },
        {
          "name": "stderr",
          "output_type": "stream",
          "text": [
            "Processing .mat files:  58%|█████████▉       | 869/1489 [00:46<00:34, 18.10it/s]"
          ]
        },
        {
          "name": "stdout",
          "output_type": "stream",
          "text": [
            "Skipping oip_A00055731014 (features already exist).\n",
            "Skipping oip_A00055731015 (features already exist).\n",
            "Skipping gip_A00055745002 (features already exist).\n",
            "Skipping gip_A00055745003 (features already exist).\n"
          ]
        },
        {
          "name": "stderr",
          "output_type": "stream",
          "text": [
            "Processing .mat files:  59%|█████████▉       | 873/1489 [00:46<00:33, 18.39it/s]"
          ]
        },
        {
          "name": "stdout",
          "output_type": "stream",
          "text": [
            "Skipping gip_A00055745004 (features already exist).\n",
            "Skipping gip_A00055745013 (features already exist).\n",
            "Skipping gip_A00055745014 (features already exist).\n",
            "Skipping gip_A00055745015 (features already exist).\n"
          ]
        },
        {
          "name": "stderr",
          "output_type": "stream",
          "text": [
            "Processing .mat files:  59%|██████████       | 878/1489 [00:46<00:31, 19.53it/s]"
          ]
        },
        {
          "name": "stdout",
          "output_type": "stream",
          "text": [
            "Skipping gp_A00055745005 (features already exist).\n",
            "Skipping gp_A00055745006 (features already exist).\n",
            "Skipping gp_A00055745007 (features already exist).\n",
            "Skipping gp_A00055745008 (features already exist).\n"
          ]
        },
        {
          "name": "stderr",
          "output_type": "stream",
          "text": [
            "Processing .mat files:  59%|██████████       | 882/1489 [00:46<00:32, 18.94it/s]"
          ]
        },
        {
          "name": "stdout",
          "output_type": "stream",
          "text": [
            "Skipping gp_A00055745011 (features already exist).\n",
            "Skipping oip_A00055745001 (features already exist).\n",
            "Skipping oip_A00055745009 (features already exist).\n",
            "Skipping oip_A00055745010 (features already exist).\n"
          ]
        },
        {
          "name": "stderr",
          "output_type": "stream",
          "text": [
            "Processing .mat files:  60%|██████████       | 886/1489 [00:47<00:31, 18.89it/s]"
          ]
        },
        {
          "name": "stdout",
          "output_type": "stream",
          "text": [
            "Skipping bip_A00055754001 (features already exist).\n",
            "Skipping gip_A00055754003 (features already exist).\n",
            "Skipping oip_A00055754004 (features already exist).\n",
            "Skipping oip_A00055754005 (features already exist).\n"
          ]
        },
        {
          "name": "stderr",
          "output_type": "stream",
          "text": [
            "Processing .mat files:  60%|██████████▏      | 889/1489 [00:47<00:31, 19.13it/s]"
          ]
        },
        {
          "name": "stdout",
          "output_type": "stream",
          "text": [
            "Skipping oip_A00055754006 (features already exist).\n",
            "Skipping oip_A00055754008 (features already exist).\n",
            "Skipping oip_A00055754009 (features already exist).\n",
            "Skipping oip_A00055754010 (features already exist).\n",
            "Skipping op_A00055754002 (features already exist).\n"
          ]
        },
        {
          "name": "stderr",
          "output_type": "stream",
          "text": [
            "Processing .mat files:  60%|██████████▏      | 894/1489 [00:47<00:31, 19.10it/s]"
          ]
        },
        {
          "name": "stdout",
          "output_type": "stream",
          "text": [
            "Skipping bp_A00055837006 (features already exist).\n",
            "Skipping bp_A00055837011 (features already exist).\n",
            "Skipping gip_A00055837002 (features already exist).\n",
            "Skipping gip_A00055837003 (features already exist).\n"
          ]
        },
        {
          "name": "stderr",
          "output_type": "stream",
          "text": [
            "Processing .mat files:  60%|██████████▎      | 898/1489 [00:47<00:30, 19.35it/s]"
          ]
        },
        {
          "name": "stdout",
          "output_type": "stream",
          "text": [
            "Skipping gip_A00055837005 (features already exist).\n",
            "Skipping gip_A00055837007 (features already exist).\n",
            "Skipping gip_A00055837008 (features already exist).\n",
            "Skipping gip_A00055837009 (features already exist).\n",
            "Skipping gip_A00055837010 (features already exist).\n"
          ]
        },
        {
          "name": "stderr",
          "output_type": "stream",
          "text": [
            "Processing .mat files:  61%|██████████▎      | 903/1489 [00:48<00:30, 19.39it/s]"
          ]
        },
        {
          "name": "stdout",
          "output_type": "stream",
          "text": [
            "Skipping gip_A00055837013 (features already exist).\n",
            "Skipping gp_A00055837001 (features already exist).\n",
            "Skipping gp_A00055837014 (features already exist).\n",
            "Skipping gp_A00055837015 (features already exist).\n"
          ]
        },
        {
          "name": "stderr",
          "output_type": "stream",
          "text": [
            "Processing .mat files:  61%|██████████▎      | 907/1489 [00:48<00:30, 18.81it/s]"
          ]
        },
        {
          "name": "stdout",
          "output_type": "stream",
          "text": [
            "Skipping oip_A00055837004 (features already exist).\n",
            "Skipping gip_A00055865002 (features already exist).\n",
            "Skipping gip_A00055865004 (features already exist).\n",
            "Skipping gip_A00055865005 (features already exist).\n"
          ]
        },
        {
          "name": "stderr",
          "output_type": "stream",
          "text": [
            "Processing .mat files:  61%|██████████▍      | 911/1489 [00:48<00:30, 19.08it/s]"
          ]
        },
        {
          "name": "stdout",
          "output_type": "stream",
          "text": [
            "Skipping gip_A00055865009 (features already exist).\n",
            "Skipping gip_A00055865010 (features already exist).\n",
            "Skipping gip_A00055865013 (features already exist).\n",
            "Skipping gip_A00055865014 (features already exist).\n"
          ]
        },
        {
          "name": "stderr",
          "output_type": "stream",
          "text": [
            "Processing .mat files:  61%|██████████▍      | 915/1489 [00:48<00:29, 19.41it/s]"
          ]
        },
        {
          "name": "stdout",
          "output_type": "stream",
          "text": [
            "Skipping gp_A00055865001 (features already exist).\n",
            "Skipping gp_A00055865003 (features already exist).\n",
            "Skipping gp_A00055865006 (features already exist).\n",
            "Skipping gp_A00055865011 (features already exist).\n"
          ]
        },
        {
          "name": "stderr",
          "output_type": "stream",
          "text": [
            "Processing .mat files:  62%|██████████▌      | 920/1489 [00:48<00:29, 19.53it/s]"
          ]
        },
        {
          "name": "stdout",
          "output_type": "stream",
          "text": [
            "Skipping gp_A00055865015 (features already exist).\n",
            "Skipping oip_A00055865007 (features already exist).\n",
            "Skipping oip_A00055865008 (features already exist).\n",
            "Skipping bp_A00055893006 (features already exist).\n",
            "Skipping bp_A00055893007 (features already exist).\n"
          ]
        },
        {
          "name": "stderr",
          "output_type": "stream",
          "text": [
            "Processing .mat files:  62%|██████████▌      | 925/1489 [00:49<00:29, 18.95it/s]"
          ]
        },
        {
          "name": "stdout",
          "output_type": "stream",
          "text": [
            "Skipping bp_A00055893008 (features already exist).\n",
            "Skipping bp_A00055893009 (features already exist).\n",
            "Skipping bp_A00055893010 (features already exist).\n",
            "Skipping bp_A00055893011 (features already exist).\n"
          ]
        },
        {
          "name": "stderr",
          "output_type": "stream",
          "text": [
            "Processing .mat files:  62%|██████████▌      | 928/1489 [00:49<00:28, 19.39it/s]"
          ]
        },
        {
          "name": "stdout",
          "output_type": "stream",
          "text": [
            "Skipping gip_A00055893001 (features already exist).\n",
            "Skipping gip_A00055893002 (features already exist).\n",
            "Skipping gip_A00055893003 (features already exist).\n",
            "Skipping gip_A00055893004 (features already exist).\n",
            "Skipping gip_A00055893015 (features already exist).\n"
          ]
        },
        {
          "name": "stderr",
          "output_type": "stream",
          "text": [
            "Processing .mat files:  63%|██████████▋      | 933/1489 [00:49<00:29, 19.16it/s]"
          ]
        },
        {
          "name": "stdout",
          "output_type": "stream",
          "text": [
            "Skipping gip_A00055893016 (features already exist).\n",
            "Skipping oip_A00055893005 (features already exist).\n",
            "Skipping oip_A00055893013 (features already exist).\n",
            "Skipping oip_A00055893014 (features already exist).\n"
          ]
        },
        {
          "name": "stderr",
          "output_type": "stream",
          "text": [
            "Processing .mat files:  63%|██████████▋      | 937/1489 [00:49<00:29, 18.95it/s]"
          ]
        },
        {
          "name": "stdout",
          "output_type": "stream",
          "text": [
            "Skipping bp_A00055910006 (features already exist).\n",
            "Skipping bp_A00055910007 (features already exist).\n",
            "Skipping gip_A00055910004 (features already exist).\n",
            "Skipping gip_A00055910008 (features already exist).\n"
          ]
        },
        {
          "name": "stderr",
          "output_type": "stream",
          "text": [
            "Processing .mat files:  63%|██████████▊      | 942/1489 [00:50<00:28, 19.31it/s]"
          ]
        },
        {
          "name": "stdout",
          "output_type": "stream",
          "text": [
            "Skipping gip_A00055910009 (features already exist).\n",
            "Skipping gip_A00055910011 (features already exist).\n",
            "Skipping gip_A00055910013 (features already exist).\n",
            "Skipping gip_A00055910014 (features already exist).\n",
            "Skipping gip_A00055910015 (features already exist).\n"
          ]
        },
        {
          "name": "stderr",
          "output_type": "stream",
          "text": [
            "Processing .mat files:  64%|██████████▊      | 947/1489 [00:50<00:28, 18.89it/s]"
          ]
        },
        {
          "name": "stdout",
          "output_type": "stream",
          "text": [
            "Skipping gip_A00055910016 (features already exist).\n",
            "Skipping oip_A00055910001 (features already exist).\n",
            "Skipping oip_A00055910002 (features already exist).\n",
            "Skipping oip_A00055910003 (features already exist).\n"
          ]
        },
        {
          "name": "stderr",
          "output_type": "stream",
          "text": [
            "Processing .mat files:  64%|██████████▊      | 951/1489 [00:50<00:28, 19.01it/s]"
          ]
        },
        {
          "name": "stdout",
          "output_type": "stream",
          "text": [
            "Skipping oip_A00055910010 (features already exist).\n",
            "Skipping op_A00055910005 (features already exist).\n",
            "Skipping bp_A00055947006 (features already exist).\n",
            "Skipping gip_A00055947002 (features already exist).\n"
          ]
        },
        {
          "name": "stderr",
          "output_type": "stream",
          "text": [
            "Processing .mat files:  64%|██████████▉      | 956/1489 [00:50<00:27, 19.54it/s]"
          ]
        },
        {
          "name": "stdout",
          "output_type": "stream",
          "text": [
            "Skipping gip_A00055947003 (features already exist).\n",
            "Skipping gip_A00055947004 (features already exist).\n",
            "Skipping gip_A00055947005 (features already exist).\n",
            "Skipping gip_A00055947008 (features already exist).\n",
            "Skipping oip_A00055947001 (features already exist).\n"
          ]
        },
        {
          "name": "stderr",
          "output_type": "stream",
          "text": [
            "Processing .mat files:  64%|██████████▉      | 959/1489 [00:50<00:26, 19.94it/s]"
          ]
        },
        {
          "name": "stdout",
          "output_type": "stream",
          "text": [
            "Skipping oip_A00055947007 (features already exist).\n",
            "Skipping gip_A00055956001 (features already exist).\n",
            "Skipping gip_A00055956002 (features already exist).\n",
            "Skipping gip_A00055956004 (features already exist).\n",
            "Skipping gip_A00055956006 (features already exist).\n"
          ]
        },
        {
          "name": "stderr",
          "output_type": "stream",
          "text": [
            "Processing .mat files:  65%|███████████      | 965/1489 [00:51<00:26, 19.65it/s]"
          ]
        },
        {
          "name": "stdout",
          "output_type": "stream",
          "text": [
            "Skipping gip_A00055956007 (features already exist).\n",
            "Skipping gip_A00055956008 (features already exist).\n",
            "Skipping gip_A00055956009 (features already exist).\n",
            "Skipping gip_A00055956012 (features already exist).\n"
          ]
        },
        {
          "name": "stderr",
          "output_type": "stream",
          "text": [
            "Processing .mat files:  65%|███████████      | 969/1489 [00:51<00:26, 19.51it/s]"
          ]
        },
        {
          "name": "stdout",
          "output_type": "stream",
          "text": [
            "Skipping gip_A00055956013 (features already exist).\n",
            "Skipping gip_A00055956014 (features already exist).\n",
            "Skipping oip_A00055956003 (features already exist).\n",
            "Skipping oip_A00055956005 (features already exist).\n"
          ]
        },
        {
          "name": "stderr",
          "output_type": "stream",
          "text": [
            "Processing .mat files:  65%|███████████      | 973/1489 [00:51<00:27, 19.11it/s]"
          ]
        },
        {
          "name": "stdout",
          "output_type": "stream",
          "text": [
            "Skipping oip_A00055956010 (features already exist).\n",
            "Skipping bip_A00056002004 (features already exist).\n",
            "Skipping bip_A00056002009 (features already exist).\n",
            "Skipping bip_A00056002013 (features already exist).\n"
          ]
        },
        {
          "name": "stderr",
          "output_type": "stream",
          "text": [
            "Processing .mat files:  66%|███████████▏     | 977/1489 [00:51<00:26, 18.98it/s]"
          ]
        },
        {
          "name": "stdout",
          "output_type": "stream",
          "text": [
            "Skipping bip_A00056002014 (features already exist).\n",
            "Skipping bip_A00056002015 (features already exist).\n",
            "Skipping bp_A00056002010 (features already exist).\n",
            "Skipping bp_A00056002011 (features already exist).\n"
          ]
        },
        {
          "name": "stderr",
          "output_type": "stream",
          "text": [
            "Processing .mat files:  66%|███████████▏     | 981/1489 [00:52<00:27, 18.27it/s]"
          ]
        },
        {
          "name": "stdout",
          "output_type": "stream",
          "text": [
            "Skipping oip_A00056002001 (features already exist).\n",
            "Skipping oip_A00056002002 (features already exist).\n",
            "Skipping oip_A00056002003 (features already exist).\n",
            "Skipping oip_A00056002005 (features already exist).\n"
          ]
        },
        {
          "name": "stderr",
          "output_type": "stream",
          "text": [
            "Processing .mat files:  66%|███████████▏     | 983/1489 [00:52<00:28, 17.73it/s]"
          ]
        },
        {
          "name": "stdout",
          "output_type": "stream",
          "text": [
            "Skipping oip_A00056002006 (features already exist).\n",
            "Skipping oip_A00056002007 (features already exist).\n",
            "Skipping oip_A00056002008 (features already exist).\n",
            "Skipping bip_A00056054011 (features already exist).\n"
          ]
        },
        {
          "name": "stderr",
          "output_type": "stream",
          "text": [
            "Processing .mat files:  66%|███████████▎     | 988/1489 [00:52<00:26, 18.75it/s]"
          ]
        },
        {
          "name": "stdout",
          "output_type": "stream",
          "text": [
            "Skipping bp_A00056054006 (features already exist).\n",
            "Skipping gip_A00056054001 (features already exist).\n",
            "Skipping gip_A00056054007 (features already exist).\n",
            "Skipping gip_A00056054008 (features already exist).\n"
          ]
        },
        {
          "name": "stderr",
          "output_type": "stream",
          "text": [
            "Processing .mat files:  67%|███████████▎     | 993/1489 [00:52<00:25, 19.25it/s]"
          ]
        },
        {
          "name": "stdout",
          "output_type": "stream",
          "text": [
            "Skipping gip_A00056054009 (features already exist).\n",
            "Skipping oip_A00056054002 (features already exist).\n",
            "Skipping oip_A00056054003 (features already exist).\n",
            "Skipping oip_A00056054004 (features already exist).\n"
          ]
        },
        {
          "name": "stderr",
          "output_type": "stream",
          "text": [
            "Processing .mat files:  67%|███████████▍     | 997/1489 [00:52<00:25, 19.20it/s]"
          ]
        },
        {
          "name": "stdout",
          "output_type": "stream",
          "text": [
            "Skipping oip_A00056054005 (features already exist).\n",
            "Skipping oip_A00056054010 (features already exist).\n",
            "Skipping oip_A00056054013 (features already exist).\n",
            "Skipping oip_A00056054014 (features already exist).\n"
          ]
        },
        {
          "name": "stderr",
          "output_type": "stream",
          "text": [
            "Processing .mat files:  67%|██████████▊     | 1002/1489 [00:53<00:24, 19.67it/s]"
          ]
        },
        {
          "name": "stdout",
          "output_type": "stream",
          "text": [
            "Skipping oip_A00056054015 (features already exist).\n",
            "Skipping bp_A00056116012 (features already exist).\n",
            "Skipping gip_A00056116005 (features already exist).\n",
            "Skipping gip_A00056116009 (features already exist).\n",
            "Skipping gip_A00056116010 (features already exist).\n"
          ]
        },
        {
          "name": "stderr",
          "output_type": "stream",
          "text": [
            "Processing .mat files:  67%|██████████▊     | 1004/1489 [00:53<00:24, 19.55it/s]"
          ]
        },
        {
          "name": "stdout",
          "output_type": "stream",
          "text": [
            "Skipping gip_A00056116011 (features already exist).\n",
            "Skipping gip_A00056116014 (features already exist).\n",
            "Skipping gip_A00056116017 (features already exist).\n",
            "Skipping gp_A00056116001 (features already exist).\n",
            "Skipping gp_A00056116002 (features already exist).\n"
          ]
        },
        {
          "name": "stderr",
          "output_type": "stream",
          "text": [
            "Processing .mat files:  68%|██████████▊     | 1012/1489 [00:53<00:23, 19.93it/s]"
          ]
        },
        {
          "name": "stdout",
          "output_type": "stream",
          "text": [
            "Skipping gp_A00056116003 (features already exist).\n",
            "Skipping gp_A00056116004 (features already exist).\n",
            "Skipping gp_A00056116008 (features already exist).\n",
            "Skipping op_A00056116006 (features already exist).\n",
            "Skipping op_A00056116007 (features already exist).\n"
          ]
        },
        {
          "name": "stderr",
          "output_type": "stream",
          "text": [
            "Processing .mat files:  68%|██████████▉     | 1015/1489 [00:53<00:23, 19.84it/s]"
          ]
        },
        {
          "name": "stdout",
          "output_type": "stream",
          "text": [
            "Skipping op_A00056116015 (features already exist).\n",
            "Skipping op_A00056116016 (features already exist).\n",
            "Skipping bp_A00056166006 (features already exist).\n",
            "Skipping bp_A00056166007 (features already exist).\n"
          ]
        },
        {
          "name": "stderr",
          "output_type": "stream",
          "text": [
            "Processing .mat files:  69%|██████████▉     | 1020/1489 [00:54<00:22, 20.45it/s]"
          ]
        },
        {
          "name": "stdout",
          "output_type": "stream",
          "text": [
            "Skipping bp_A00056166008 (features already exist).\n",
            "Skipping bp_A00056166009 (features already exist).\n",
            "Skipping gip_A00056166001 (features already exist).\n",
            "Skipping gip_A00056166002 (features already exist).\n",
            "Skipping gip_A00056166003 (features already exist).\n"
          ]
        },
        {
          "name": "stderr",
          "output_type": "stream",
          "text": [
            "Processing .mat files:  69%|███████████     | 1026/1489 [00:54<00:22, 20.30it/s]"
          ]
        },
        {
          "name": "stdout",
          "output_type": "stream",
          "text": [
            "Skipping gip_A00056166004 (features already exist).\n",
            "Skipping gip_A00056166010 (features already exist).\n",
            "Skipping gip_A00056166013 (features already exist).\n",
            "Skipping gip_A00056166014 (features already exist).\n",
            "Skipping gip_A00056166015 (features already exist).\n"
          ]
        },
        {
          "name": "stderr",
          "output_type": "stream",
          "text": [
            "Processing .mat files:  69%|███████████     | 1029/1489 [00:54<00:22, 20.05it/s]"
          ]
        },
        {
          "name": "stdout",
          "output_type": "stream",
          "text": [
            "Skipping gp_A00056166005 (features already exist).\n",
            "Skipping oip_A00056166011 (features already exist).\n",
            "Skipping bp_A00056257001 (features already exist).\n",
            "Skipping oip_A00056257003 (features already exist).\n"
          ]
        },
        {
          "name": "stderr",
          "output_type": "stream",
          "text": [
            "Processing .mat files:  69%|███████████     | 1034/1489 [00:54<00:23, 19.60it/s]"
          ]
        },
        {
          "name": "stdout",
          "output_type": "stream",
          "text": [
            "Skipping oip_A00056257004 (features already exist).\n",
            "Skipping oip_A00056257005 (features already exist).\n",
            "Skipping oip_A00056257006 (features already exist).\n",
            "Skipping oip_A00056257008 (features already exist).\n",
            "Skipping oip_A00056257009 (features already exist).\n"
          ]
        },
        {
          "name": "stderr",
          "output_type": "stream",
          "text": [
            "Processing .mat files:  70%|███████████▏    | 1036/1489 [01:38<40:30,  5.36s/it]"
          ]
        },
        {
          "name": "stdout",
          "output_type": "stream",
          "text": [
            "Saved features for oip_A00056257010 -> gs://eegchild/processed_features/oip_A00056257010_features.csv\n"
          ]
        },
        {
          "name": "stderr",
          "output_type": "stream",
          "text": [
            "Processing .mat files:  70%|█████████▊    | 1037/1489 [02:31<1:34:47, 12.58s/it]"
          ]
        },
        {
          "name": "stdout",
          "output_type": "stream",
          "text": [
            "Saved features for oip_A00056257013 -> gs://eegchild/processed_features/oip_A00056257013_features.csv\n"
          ]
        },
        {
          "name": "stderr",
          "output_type": "stream",
          "text": [
            "Processing .mat files:  70%|█████████▊    | 1038/1489 [03:25<2:28:26, 19.75s/it]"
          ]
        },
        {
          "name": "stdout",
          "output_type": "stream",
          "text": [
            "Saved features for oip_A00056257014 -> gs://eegchild/processed_features/oip_A00056257014_features.csv\n"
          ]
        },
        {
          "name": "stderr",
          "output_type": "stream",
          "text": [
            "Processing .mat files:  70%|█████████▊    | 1039/1489 [04:23<3:26:31, 27.54s/it]"
          ]
        },
        {
          "name": "stdout",
          "output_type": "stream",
          "text": [
            "Saved features for op_A00056257002 -> gs://eegchild/processed_features/op_A00056257002_features.csv\n"
          ]
        },
        {
          "name": "stderr",
          "output_type": "stream",
          "text": [
            "Processing .mat files:  70%|█████████▊    | 1040/1489 [04:57<3:36:16, 28.90s/it]"
          ]
        },
        {
          "name": "stdout",
          "output_type": "stream",
          "text": [
            "Saved features for op_A00056257007 -> gs://eegchild/processed_features/op_A00056257007_features.csv\n"
          ]
        },
        {
          "name": "stderr",
          "output_type": "stream",
          "text": [
            "Processing .mat files:  70%|█████████▊    | 1041/1489 [05:54<4:26:31, 35.70s/it]"
          ]
        },
        {
          "name": "stdout",
          "output_type": "stream",
          "text": [
            "Saved features for op_A00056257011 -> gs://eegchild/processed_features/op_A00056257011_features.csv\n"
          ]
        },
        {
          "name": "stderr",
          "output_type": "stream",
          "text": [
            "Processing .mat files:  70%|█████████▊    | 1042/1489 [06:58<5:19:57, 42.95s/it]"
          ]
        },
        {
          "name": "stdout",
          "output_type": "stream",
          "text": [
            "Saved features for bip_A00056428001 -> gs://eegchild/processed_features/bip_A00056428001_features.csv\n"
          ]
        },
        {
          "name": "stderr",
          "output_type": "stream",
          "text": [
            "Processing .mat files:  70%|█████████▊    | 1043/1489 [07:44<5:24:40, 43.68s/it]"
          ]
        },
        {
          "name": "stdout",
          "output_type": "stream",
          "text": [
            "Saved features for bip_A00056428002 -> gs://eegchild/processed_features/bip_A00056428002_features.csv\n"
          ]
        },
        {
          "name": "stderr",
          "output_type": "stream",
          "text": [
            "Processing .mat files:  70%|█████████▊    | 1044/1489 [08:06<4:39:40, 37.71s/it]"
          ]
        },
        {
          "name": "stdout",
          "output_type": "stream",
          "text": [
            "Saved features for bp_A00056428003 -> gs://eegchild/processed_features/bp_A00056428003_features.csv\n"
          ]
        },
        {
          "name": "stderr",
          "output_type": "stream",
          "text": [
            "Processing .mat files:  70%|█████████▊    | 1045/1489 [08:44<4:39:30, 37.77s/it]"
          ]
        },
        {
          "name": "stdout",
          "output_type": "stream",
          "text": [
            "Saved features for bp_A00056428004 -> gs://eegchild/processed_features/bp_A00056428004_features.csv\n"
          ]
        },
        {
          "name": "stderr",
          "output_type": "stream",
          "text": [
            "Processing .mat files:  70%|█████████▊    | 1046/1489 [09:16<4:27:17, 36.20s/it]"
          ]
        },
        {
          "name": "stdout",
          "output_type": "stream",
          "text": [
            "Saved features for bp_A00056428005 -> gs://eegchild/processed_features/bp_A00056428005_features.csv\n"
          ]
        },
        {
          "name": "stderr",
          "output_type": "stream",
          "text": [
            "Processing .mat files:  70%|█████████▊    | 1047/1489 [09:48<4:18:14, 35.06s/it]"
          ]
        },
        {
          "name": "stdout",
          "output_type": "stream",
          "text": [
            "Saved features for bp_A00056428006 -> gs://eegchild/processed_features/bp_A00056428006_features.csv\n"
          ]
        },
        {
          "name": "stderr",
          "output_type": "stream",
          "text": [
            "Processing .mat files:  70%|█████████▊    | 1048/1489 [10:43<4:59:03, 40.69s/it]"
          ]
        },
        {
          "name": "stdout",
          "output_type": "stream",
          "text": [
            "Saved features for bp_A00056428007 -> gs://eegchild/processed_features/bp_A00056428007_features.csv\n"
          ]
        },
        {
          "name": "stderr",
          "output_type": "stream",
          "text": [
            "Processing .mat files:  70%|█████████▊    | 1049/1489 [11:41<5:37:32, 46.03s/it]"
          ]
        },
        {
          "name": "stdout",
          "output_type": "stream",
          "text": [
            "Saved features for bp_A00056428009 -> gs://eegchild/processed_features/bp_A00056428009_features.csv\n"
          ]
        },
        {
          "name": "stderr",
          "output_type": "stream",
          "text": [
            "Processing .mat files:  71%|█████████▊    | 1050/1489 [12:38<5:59:25, 49.12s/it]"
          ]
        },
        {
          "name": "stdout",
          "output_type": "stream",
          "text": [
            "Saved features for bp_A00056428010 -> gs://eegchild/processed_features/bp_A00056428010_features.csv\n"
          ]
        },
        {
          "name": "stderr",
          "output_type": "stream",
          "text": [
            "Processing .mat files:  71%|█████████▉    | 1051/1489 [13:31<6:07:00, 50.28s/it]"
          ]
        },
        {
          "name": "stdout",
          "output_type": "stream",
          "text": [
            "Saved features for bp_A00056428011 -> gs://eegchild/processed_features/bp_A00056428011_features.csv\n"
          ]
        },
        {
          "name": "stderr",
          "output_type": "stream",
          "text": [
            "Processing .mat files:  71%|█████████▉    | 1052/1489 [13:57<5:14:03, 43.12s/it]"
          ]
        },
        {
          "name": "stdout",
          "output_type": "stream",
          "text": [
            "Saved features for gip_A00056604003 -> gs://eegchild/processed_features/gip_A00056604003_features.csv\n"
          ]
        },
        {
          "name": "stderr",
          "output_type": "stream",
          "text": [
            "Processing .mat files:  71%|█████████▉    | 1053/1489 [14:38<5:07:59, 42.38s/it]"
          ]
        },
        {
          "name": "stdout",
          "output_type": "stream",
          "text": [
            "Saved features for gip_A00056604004 -> gs://eegchild/processed_features/gip_A00056604004_features.csv\n"
          ]
        },
        {
          "name": "stderr",
          "output_type": "stream",
          "text": [
            "Processing .mat files:  71%|█████████▉    | 1054/1489 [15:25<5:18:34, 43.94s/it]"
          ]
        },
        {
          "name": "stdout",
          "output_type": "stream",
          "text": [
            "Saved features for gip_A00056604005 -> gs://eegchild/processed_features/gip_A00056604005_features.csv\n"
          ]
        },
        {
          "name": "stderr",
          "output_type": "stream",
          "text": [
            "Processing .mat files:  71%|█████████▉    | 1055/1489 [15:59<4:54:53, 40.77s/it]"
          ]
        },
        {
          "name": "stdout",
          "output_type": "stream",
          "text": [
            "Saved features for gip_A00056604006 -> gs://eegchild/processed_features/gip_A00056604006_features.csv\n"
          ]
        },
        {
          "name": "stderr",
          "output_type": "stream",
          "text": [
            "Processing .mat files:  71%|█████████▉    | 1056/1489 [16:40<4:56:36, 41.10s/it]"
          ]
        },
        {
          "name": "stdout",
          "output_type": "stream",
          "text": [
            "Saved features for gip_A00056604010 -> gs://eegchild/processed_features/gip_A00056604010_features.csv\n"
          ]
        },
        {
          "name": "stderr",
          "output_type": "stream",
          "text": [
            "Processing .mat files:  71%|█████████▉    | 1057/1489 [17:39<5:32:56, 46.24s/it]"
          ]
        },
        {
          "name": "stdout",
          "output_type": "stream",
          "text": [
            "Saved features for gp_A00056604001 -> gs://eegchild/processed_features/gp_A00056604001_features.csv\n"
          ]
        },
        {
          "name": "stderr",
          "output_type": "stream",
          "text": [
            "Processing .mat files:  71%|█████████▉    | 1058/1489 [18:19<5:19:55, 44.54s/it]"
          ]
        },
        {
          "name": "stdout",
          "output_type": "stream",
          "text": [
            "Saved features for gp_A00056604002 -> gs://eegchild/processed_features/gp_A00056604002_features.csv\n"
          ]
        },
        {
          "name": "stderr",
          "output_type": "stream",
          "text": [
            "Processing .mat files:  71%|█████████▉    | 1059/1489 [19:06<5:23:57, 45.20s/it]"
          ]
        },
        {
          "name": "stdout",
          "output_type": "stream",
          "text": [
            "Saved features for gp_A00056604007 -> gs://eegchild/processed_features/gp_A00056604007_features.csv\n"
          ]
        },
        {
          "name": "stderr",
          "output_type": "stream",
          "text": [
            "Processing .mat files:  71%|█████████▉    | 1060/1489 [19:39<4:56:36, 41.48s/it]"
          ]
        },
        {
          "name": "stdout",
          "output_type": "stream",
          "text": [
            "Saved features for gp_A00056604008 -> gs://eegchild/processed_features/gp_A00056604008_features.csv\n"
          ]
        },
        {
          "name": "stderr",
          "output_type": "stream",
          "text": [
            "Processing .mat files:  71%|█████████▉    | 1061/1489 [20:16<4:45:56, 40.08s/it]"
          ]
        },
        {
          "name": "stdout",
          "output_type": "stream",
          "text": [
            "Saved features for gp_A00056604009 -> gs://eegchild/processed_features/gp_A00056604009_features.csv\n"
          ]
        },
        {
          "name": "stderr",
          "output_type": "stream",
          "text": [
            "Processing .mat files:  71%|█████████▉    | 1062/1489 [21:18<5:32:57, 46.79s/it]"
          ]
        },
        {
          "name": "stdout",
          "output_type": "stream",
          "text": [
            "Saved features for bip_A00056693010 -> gs://eegchild/processed_features/bip_A00056693010_features.csv\n"
          ]
        },
        {
          "name": "stderr",
          "output_type": "stream",
          "text": [
            "Processing .mat files:  71%|█████████▉    | 1063/1489 [22:16<5:56:50, 50.26s/it]"
          ]
        },
        {
          "name": "stdout",
          "output_type": "stream",
          "text": [
            "Saved features for bip_A00056693012 -> gs://eegchild/processed_features/bip_A00056693012_features.csv\n"
          ]
        },
        {
          "name": "stderr",
          "output_type": "stream",
          "text": [
            "Processing .mat files:  71%|██████████    | 1064/1489 [23:20<6:23:37, 54.16s/it]"
          ]
        },
        {
          "name": "stdout",
          "output_type": "stream",
          "text": [
            "Saved features for bip_A00056693014 -> gs://eegchild/processed_features/bip_A00056693014_features.csv\n"
          ]
        },
        {
          "name": "stderr",
          "output_type": "stream",
          "text": [
            "Processing .mat files:  72%|██████████    | 1065/1489 [24:20<6:35:54, 56.02s/it]"
          ]
        },
        {
          "name": "stdout",
          "output_type": "stream",
          "text": [
            "Saved features for bp_A00056693001 -> gs://eegchild/processed_features/bp_A00056693001_features.csv\n"
          ]
        },
        {
          "name": "stderr",
          "output_type": "stream",
          "text": [
            "Processing .mat files:  72%|██████████    | 1066/1489 [25:11<6:23:21, 54.38s/it]"
          ]
        },
        {
          "name": "stdout",
          "output_type": "stream",
          "text": [
            "Saved features for oip_A00056693002 -> gs://eegchild/processed_features/oip_A00056693002_features.csv\n"
          ]
        },
        {
          "name": "stderr",
          "output_type": "stream",
          "text": [
            "Processing .mat files:  72%|██████████    | 1067/1489 [25:41<5:31:08, 47.08s/it]"
          ]
        },
        {
          "name": "stdout",
          "output_type": "stream",
          "text": [
            "Saved features for oip_A00056693003 -> gs://eegchild/processed_features/oip_A00056693003_features.csv\n"
          ]
        },
        {
          "name": "stderr",
          "output_type": "stream",
          "text": [
            "Processing .mat files:  72%|██████████    | 1068/1489 [26:26<5:26:35, 46.55s/it]"
          ]
        },
        {
          "name": "stdout",
          "output_type": "stream",
          "text": [
            "Saved features for oip_A00056693004 -> gs://eegchild/processed_features/oip_A00056693004_features.csv\n"
          ]
        },
        {
          "name": "stderr",
          "output_type": "stream",
          "text": [
            "Processing .mat files:  72%|██████████    | 1069/1489 [27:02<5:03:33, 43.37s/it]"
          ]
        },
        {
          "name": "stdout",
          "output_type": "stream",
          "text": [
            "Saved features for oip_A00056693005 -> gs://eegchild/processed_features/oip_A00056693005_features.csv\n"
          ]
        },
        {
          "name": "stderr",
          "output_type": "stream",
          "text": [
            "Processing .mat files:  72%|██████████    | 1070/1489 [27:35<4:40:42, 40.20s/it]"
          ]
        },
        {
          "name": "stdout",
          "output_type": "stream",
          "text": [
            "Saved features for oip_A00056693006 -> gs://eegchild/processed_features/oip_A00056693006_features.csv\n"
          ]
        },
        {
          "name": "stderr",
          "output_type": "stream",
          "text": [
            "Processing .mat files:  72%|██████████    | 1071/1489 [28:35<5:22:05, 46.23s/it]"
          ]
        },
        {
          "name": "stdout",
          "output_type": "stream",
          "text": [
            "Saved features for oip_A00056693007 -> gs://eegchild/processed_features/oip_A00056693007_features.csv\n"
          ]
        },
        {
          "name": "stderr",
          "output_type": "stream",
          "text": [
            "Processing .mat files:  72%|██████████    | 1072/1489 [29:10<4:57:55, 42.87s/it]"
          ]
        },
        {
          "name": "stdout",
          "output_type": "stream",
          "text": [
            "Saved features for oip_A00056693008 -> gs://eegchild/processed_features/oip_A00056693008_features.csv\n"
          ]
        },
        {
          "name": "stderr",
          "output_type": "stream",
          "text": [
            "Processing .mat files:  72%|██████████    | 1073/1489 [30:04<5:21:05, 46.31s/it]"
          ]
        },
        {
          "name": "stdout",
          "output_type": "stream",
          "text": [
            "Saved features for oip_A00056693009 -> gs://eegchild/processed_features/oip_A00056693009_features.csv\n"
          ]
        },
        {
          "name": "stderr",
          "output_type": "stream",
          "text": [
            "Processing .mat files:  72%|██████████    | 1074/1489 [31:03<5:45:10, 49.90s/it]"
          ]
        },
        {
          "name": "stdout",
          "output_type": "stream",
          "text": [
            "Saved features for oip_A00056693013 -> gs://eegchild/processed_features/oip_A00056693013_features.csv\n"
          ]
        },
        {
          "name": "stderr",
          "output_type": "stream",
          "text": [
            "Processing .mat files:  72%|██████████    | 1075/1489 [32:54<7:51:09, 68.28s/it]"
          ]
        },
        {
          "name": "stdout",
          "output_type": "stream",
          "text": [
            "Saved features for bp_A00056716012 -> gs://eegchild/processed_features/bp_A00056716012_features.csv\n"
          ]
        },
        {
          "name": "stderr",
          "output_type": "stream",
          "text": [
            "Processing .mat files:  72%|██████████    | 1076/1489 [33:39<7:01:53, 61.29s/it]"
          ]
        },
        {
          "name": "stdout",
          "output_type": "stream",
          "text": [
            "Saved features for gip_A00056716001 -> gs://eegchild/processed_features/gip_A00056716001_features.csv\n"
          ]
        },
        {
          "name": "stderr",
          "output_type": "stream",
          "text": [
            "Processing .mat files:  72%|██████████▏   | 1077/1489 [34:25<6:30:42, 56.90s/it]"
          ]
        },
        {
          "name": "stdout",
          "output_type": "stream",
          "text": [
            "Saved features for gip_A00056716004 -> gs://eegchild/processed_features/gip_A00056716004_features.csv\n"
          ]
        },
        {
          "name": "stderr",
          "output_type": "stream",
          "text": [
            "Processing .mat files:  72%|██████████▏   | 1078/1489 [35:24<6:33:19, 57.42s/it]"
          ]
        },
        {
          "name": "stdout",
          "output_type": "stream",
          "text": [
            "Saved features for gip_A00056716008 -> gs://eegchild/processed_features/gip_A00056716008_features.csv\n"
          ]
        },
        {
          "name": "stderr",
          "output_type": "stream",
          "text": [
            "Processing .mat files:  72%|██████████▏   | 1079/1489 [35:54<5:35:19, 49.07s/it]"
          ]
        },
        {
          "name": "stdout",
          "output_type": "stream",
          "text": [
            "Saved features for gip_A00056716009 -> gs://eegchild/processed_features/gip_A00056716009_features.csv\n"
          ]
        },
        {
          "name": "stderr",
          "output_type": "stream",
          "text": [
            "Processing .mat files:  73%|██████████▏   | 1080/1489 [36:45<5:38:41, 49.69s/it]"
          ]
        },
        {
          "name": "stdout",
          "output_type": "stream",
          "text": [
            "Saved features for gip_A00056716011 -> gs://eegchild/processed_features/gip_A00056716011_features.csv\n"
          ]
        },
        {
          "name": "stderr",
          "output_type": "stream",
          "text": [
            "Processing .mat files:  73%|██████████▏   | 1081/1489 [37:20<5:07:49, 45.27s/it]"
          ]
        },
        {
          "name": "stdout",
          "output_type": "stream",
          "text": [
            "Saved features for gp_A00056716007 -> gs://eegchild/processed_features/gp_A00056716007_features.csv\n"
          ]
        },
        {
          "name": "stderr",
          "output_type": "stream",
          "text": [
            "Processing .mat files:  73%|██████████▏   | 1082/1489 [37:51<4:38:36, 41.07s/it]"
          ]
        },
        {
          "name": "stdout",
          "output_type": "stream",
          "text": [
            "Saved features for oip_A00056716002 -> gs://eegchild/processed_features/oip_A00056716002_features.csv\n"
          ]
        },
        {
          "name": "stderr",
          "output_type": "stream",
          "text": [
            "Processing .mat files:  73%|██████████▏   | 1083/1489 [37:57<3:26:59, 30.59s/it]"
          ]
        },
        {
          "name": "stdout",
          "output_type": "stream",
          "text": [
            "Saved features for oip_A00056716003 -> gs://eegchild/processed_features/oip_A00056716003_features.csv\n"
          ]
        },
        {
          "name": "stderr",
          "output_type": "stream",
          "text": [
            "Processing .mat files:  73%|██████████▏   | 1084/1489 [38:38<3:46:21, 33.54s/it]"
          ]
        },
        {
          "name": "stdout",
          "output_type": "stream",
          "text": [
            "Saved features for oip_A00056716005 -> gs://eegchild/processed_features/oip_A00056716005_features.csv\n"
          ]
        },
        {
          "name": "stderr",
          "output_type": "stream",
          "text": [
            "Processing .mat files:  73%|██████████▏   | 1085/1489 [39:02<3:27:48, 30.86s/it]"
          ]
        },
        {
          "name": "stdout",
          "output_type": "stream",
          "text": [
            "Saved features for oip_A00056716006 -> gs://eegchild/processed_features/oip_A00056716006_features.csv\n"
          ]
        },
        {
          "name": "stderr",
          "output_type": "stream",
          "text": [
            "Processing .mat files:  73%|██████████▏   | 1086/1489 [39:41<3:42:19, 33.10s/it]"
          ]
        },
        {
          "name": "stdout",
          "output_type": "stream",
          "text": [
            "Saved features for gip_A00056723002 -> gs://eegchild/processed_features/gip_A00056723002_features.csv\n"
          ]
        },
        {
          "name": "stderr",
          "output_type": "stream",
          "text": [
            "Processing .mat files:  73%|██████████▏   | 1087/1489 [40:05<3:24:32, 30.53s/it]"
          ]
        },
        {
          "name": "stdout",
          "output_type": "stream",
          "text": [
            "Saved features for gip_A00056723003 -> gs://eegchild/processed_features/gip_A00056723003_features.csv\n",
            "Saved features for gip_A00056723005 -> gs://eegchild/processed_features/gip_A00056723005_features.csv\n"
          ]
        },
        {
          "name": "stderr",
          "output_type": "stream",
          "text": [
            "Processing .mat files:  73%|██████████▏   | 1089/1489 [41:45<4:29:09, 40.37s/it]"
          ]
        },
        {
          "name": "stdout",
          "output_type": "stream",
          "text": [
            "Saved features for gip_A00056723006 -> gs://eegchild/processed_features/gip_A00056723006_features.csv\n"
          ]
        },
        {
          "name": "stderr",
          "output_type": "stream",
          "text": [
            "Processing .mat files:  73%|██████████▏   | 1090/1489 [42:20<4:17:23, 38.70s/it]"
          ]
        },
        {
          "name": "stdout",
          "output_type": "stream",
          "text": [
            "Saved features for gip_A00056723007 -> gs://eegchild/processed_features/gip_A00056723007_features.csv\n"
          ]
        },
        {
          "name": "stderr",
          "output_type": "stream",
          "text": [
            "Processing .mat files:  73%|██████████▎   | 1091/1489 [42:59<4:17:22, 38.80s/it]"
          ]
        },
        {
          "name": "stdout",
          "output_type": "stream",
          "text": [
            "Saved features for gip_A00056723009 -> gs://eegchild/processed_features/gip_A00056723009_features.csv\n"
          ]
        },
        {
          "name": "stderr",
          "output_type": "stream",
          "text": [
            "Processing .mat files:  73%|██████████▎   | 1092/1489 [43:51<4:42:26, 42.69s/it]"
          ]
        },
        {
          "name": "stdout",
          "output_type": "stream",
          "text": [
            "Saved features for gip_A00056723011 -> gs://eegchild/processed_features/gip_A00056723011_features.csv\n"
          ]
        },
        {
          "name": "stderr",
          "output_type": "stream",
          "text": [
            "Processing .mat files:  73%|██████████▎   | 1093/1489 [44:38<4:51:41, 44.19s/it]"
          ]
        },
        {
          "name": "stdout",
          "output_type": "stream",
          "text": [
            "Saved features for gip_A00056723012 -> gs://eegchild/processed_features/gip_A00056723012_features.csv\n"
          ]
        },
        {
          "name": "stderr",
          "output_type": "stream",
          "text": [
            "Processing .mat files:  73%|██████████▎   | 1094/1489 [45:29<5:02:50, 46.00s/it]"
          ]
        },
        {
          "name": "stdout",
          "output_type": "stream",
          "text": [
            "Saved features for gip_A00056723013 -> gs://eegchild/processed_features/gip_A00056723013_features.csv\n"
          ]
        },
        {
          "name": "stderr",
          "output_type": "stream",
          "text": [
            "Processing .mat files:  74%|██████████▎   | 1095/1489 [46:32<5:36:34, 51.26s/it]"
          ]
        },
        {
          "name": "stdout",
          "output_type": "stream",
          "text": [
            "Saved features for oip_A00056723001 -> gs://eegchild/processed_features/oip_A00056723001_features.csv\n"
          ]
        },
        {
          "name": "stderr",
          "output_type": "stream",
          "text": [
            "Processing .mat files:  74%|██████████▎   | 1096/1489 [47:17<5:23:20, 49.36s/it]"
          ]
        },
        {
          "name": "stdout",
          "output_type": "stream",
          "text": [
            "Saved features for oip_A00056723004 -> gs://eegchild/processed_features/oip_A00056723004_features.csv\n"
          ]
        },
        {
          "name": "stderr",
          "output_type": "stream",
          "text": [
            "Processing .mat files:  74%|██████████▎   | 1097/1489 [47:43<4:36:51, 42.38s/it]"
          ]
        },
        {
          "name": "stdout",
          "output_type": "stream",
          "text": [
            "Saved features for oip_A00056723008 -> gs://eegchild/processed_features/oip_A00056723008_features.csv\n"
          ]
        },
        {
          "name": "stderr",
          "output_type": "stream",
          "text": [
            "Processing .mat files:  74%|██████████▎   | 1098/1489 [48:33<4:51:41, 44.76s/it]"
          ]
        },
        {
          "name": "stdout",
          "output_type": "stream",
          "text": [
            "Saved features for bp_A00056733004 -> gs://eegchild/processed_features/bp_A00056733004_features.csv\n"
          ]
        },
        {
          "name": "stderr",
          "output_type": "stream",
          "text": [
            "Processing .mat files:  74%|██████████▎   | 1099/1489 [49:23<4:59:57, 46.15s/it]"
          ]
        },
        {
          "name": "stdout",
          "output_type": "stream",
          "text": [
            "Saved features for gip_A00056733008 -> gs://eegchild/processed_features/gip_A00056733008_features.csv\n"
          ]
        },
        {
          "name": "stderr",
          "output_type": "stream",
          "text": [
            "Processing .mat files:  74%|██████████▎   | 1100/1489 [50:06<4:52:58, 45.19s/it]"
          ]
        },
        {
          "name": "stdout",
          "output_type": "stream",
          "text": [
            "Saved features for oip_A00056733001 -> gs://eegchild/processed_features/oip_A00056733001_features.csv\n"
          ]
        },
        {
          "name": "stderr",
          "output_type": "stream",
          "text": [
            "Processing .mat files:  74%|██████████▎   | 1101/1489 [50:52<4:54:03, 45.47s/it]"
          ]
        },
        {
          "name": "stdout",
          "output_type": "stream",
          "text": [
            "Saved features for oip_A00056733002 -> gs://eegchild/processed_features/oip_A00056733002_features.csv\n"
          ]
        },
        {
          "name": "stderr",
          "output_type": "stream",
          "text": [
            "Processing .mat files:  74%|██████████▎   | 1102/1489 [51:25<4:29:57, 41.85s/it]"
          ]
        },
        {
          "name": "stdout",
          "output_type": "stream",
          "text": [
            "Saved features for oip_A00056733003 -> gs://eegchild/processed_features/oip_A00056733003_features.csv\n"
          ]
        },
        {
          "name": "stderr",
          "output_type": "stream",
          "text": [
            "Processing .mat files:  74%|██████████▎   | 1103/1489 [52:21<4:55:36, 45.95s/it]"
          ]
        },
        {
          "name": "stdout",
          "output_type": "stream",
          "text": [
            "Saved features for oip_A00056733006 -> gs://eegchild/processed_features/oip_A00056733006_features.csv\n"
          ]
        },
        {
          "name": "stderr",
          "output_type": "stream",
          "text": [
            "Processing .mat files:  74%|██████████▍   | 1104/1489 [53:10<5:01:40, 47.01s/it]"
          ]
        },
        {
          "name": "stdout",
          "output_type": "stream",
          "text": [
            "Saved features for oip_A00056733007 -> gs://eegchild/processed_features/oip_A00056733007_features.csv\n"
          ]
        },
        {
          "name": "stderr",
          "output_type": "stream",
          "text": [
            "Processing .mat files:  74%|██████████▍   | 1105/1489 [54:03<5:11:22, 48.65s/it]"
          ]
        },
        {
          "name": "stdout",
          "output_type": "stream",
          "text": [
            "Saved features for bp_A00056762001 -> gs://eegchild/processed_features/bp_A00056762001_features.csv\n"
          ]
        },
        {
          "name": "stderr",
          "output_type": "stream",
          "text": [
            "Processing .mat files:  74%|██████████▍   | 1106/1489 [54:38<4:44:49, 44.62s/it]"
          ]
        },
        {
          "name": "stdout",
          "output_type": "stream",
          "text": [
            "Saved features for bp_A00056762009 -> gs://eegchild/processed_features/bp_A00056762009_features.csv\n"
          ]
        },
        {
          "name": "stderr",
          "output_type": "stream",
          "text": [
            "Processing .mat files:  74%|██████████▍   | 1107/1489 [55:23<4:45:29, 44.84s/it]"
          ]
        },
        {
          "name": "stdout",
          "output_type": "stream",
          "text": [
            "Saved features for gip_A00056762002 -> gs://eegchild/processed_features/gip_A00056762002_features.csv\n"
          ]
        },
        {
          "name": "stderr",
          "output_type": "stream",
          "text": [
            "Processing .mat files:  74%|██████████▍   | 1108/1489 [55:52<4:12:57, 39.84s/it]"
          ]
        },
        {
          "name": "stdout",
          "output_type": "stream",
          "text": [
            "Saved features for gip_A00056762003 -> gs://eegchild/processed_features/gip_A00056762003_features.csv\n"
          ]
        },
        {
          "name": "stderr",
          "output_type": "stream",
          "text": [
            "Processing .mat files:  74%|██████████▍   | 1109/1489 [57:03<5:12:33, 49.35s/it]"
          ]
        },
        {
          "name": "stdout",
          "output_type": "stream",
          "text": [
            "Saved features for gip_A00056762006 -> gs://eegchild/processed_features/gip_A00056762006_features.csv\n"
          ]
        },
        {
          "name": "stderr",
          "output_type": "stream",
          "text": [
            "Processing .mat files:  75%|██████████▍   | 1110/1489 [57:51<5:08:45, 48.88s/it]"
          ]
        },
        {
          "name": "stdout",
          "output_type": "stream",
          "text": [
            "Saved features for gip_A00056762007 -> gs://eegchild/processed_features/gip_A00056762007_features.csv\n"
          ]
        },
        {
          "name": "stderr",
          "output_type": "stream",
          "text": [
            "Processing .mat files:  75%|██████████▍   | 1111/1489 [58:26<4:41:49, 44.73s/it]"
          ]
        },
        {
          "name": "stdout",
          "output_type": "stream",
          "text": [
            "Saved features for gip_A00056762008 -> gs://eegchild/processed_features/gip_A00056762008_features.csv\n"
          ]
        },
        {
          "name": "stderr",
          "output_type": "stream",
          "text": [
            "Processing .mat files:  75%|██████████▍   | 1112/1489 [59:07<4:33:50, 43.58s/it]"
          ]
        },
        {
          "name": "stdout",
          "output_type": "stream",
          "text": [
            "Saved features for oip_A00056762004 -> gs://eegchild/processed_features/oip_A00056762004_features.csv\n"
          ]
        },
        {
          "name": "stderr",
          "output_type": "stream",
          "text": [
            "Processing .mat files:  75%|████████▉   | 1113/1489 [1:00:06<5:02:46, 48.32s/it]"
          ]
        },
        {
          "name": "stdout",
          "output_type": "stream",
          "text": [
            "Saved features for oip_A00056762005 -> gs://eegchild/processed_features/oip_A00056762005_features.csv\n",
            "Saved features for gip_A00056913003 -> gs://eegchild/processed_features/gip_A00056913003_features.csv\n"
          ]
        },
        {
          "name": "stderr",
          "output_type": "stream",
          "text": [
            "Processing .mat files:  75%|████████▉   | 1115/1489 [1:01:16<4:21:56, 42.02s/it]"
          ]
        },
        {
          "name": "stdout",
          "output_type": "stream",
          "text": [
            "Saved features for gip_A00056913004 -> gs://eegchild/processed_features/gip_A00056913004_features.csv\n"
          ]
        },
        {
          "name": "stderr",
          "output_type": "stream",
          "text": [
            "Processing .mat files:  75%|████████▉   | 1116/1489 [1:01:48<4:01:58, 38.92s/it]"
          ]
        },
        {
          "name": "stdout",
          "output_type": "stream",
          "text": [
            "Saved features for gip_A00056913006 -> gs://eegchild/processed_features/gip_A00056913006_features.csv\n"
          ]
        },
        {
          "name": "stderr",
          "output_type": "stream",
          "text": [
            "Processing .mat files:  75%|█████████   | 1117/1489 [1:02:36<4:18:45, 41.74s/it]"
          ]
        },
        {
          "name": "stdout",
          "output_type": "stream",
          "text": [
            "Saved features for gip_A00056913007 -> gs://eegchild/processed_features/gip_A00056913007_features.csv\n"
          ]
        },
        {
          "name": "stderr",
          "output_type": "stream",
          "text": [
            "Processing .mat files:  75%|█████████   | 1118/1489 [1:03:07<3:58:09, 38.52s/it]"
          ]
        },
        {
          "name": "stdout",
          "output_type": "stream",
          "text": [
            "Saved features for gip_A00056913008 -> gs://eegchild/processed_features/gip_A00056913008_features.csv\n"
          ]
        },
        {
          "name": "stderr",
          "output_type": "stream",
          "text": [
            "Processing .mat files:  75%|█████████   | 1119/1489 [1:03:46<3:57:42, 38.55s/it]"
          ]
        },
        {
          "name": "stdout",
          "output_type": "stream",
          "text": [
            "Saved features for gip_A00056913009 -> gs://eegchild/processed_features/gip_A00056913009_features.csv\n"
          ]
        },
        {
          "name": "stderr",
          "output_type": "stream",
          "text": [
            "Processing .mat files:  75%|█████████   | 1120/1489 [1:04:35<4:15:22, 41.52s/it]"
          ]
        },
        {
          "name": "stdout",
          "output_type": "stream",
          "text": [
            "Saved features for gip_A00056913012 -> gs://eegchild/processed_features/gip_A00056913012_features.csv\n"
          ]
        },
        {
          "name": "stderr",
          "output_type": "stream",
          "text": [
            "Processing .mat files:  75%|█████████   | 1121/1489 [1:05:24<4:29:08, 43.88s/it]"
          ]
        },
        {
          "name": "stdout",
          "output_type": "stream",
          "text": [
            "Saved features for gip_A00056913013 -> gs://eegchild/processed_features/gip_A00056913013_features.csv\n"
          ]
        },
        {
          "name": "stderr",
          "output_type": "stream",
          "text": [
            "Processing .mat files:  75%|█████████   | 1122/1489 [1:06:18<4:46:19, 46.81s/it]"
          ]
        },
        {
          "name": "stdout",
          "output_type": "stream",
          "text": [
            "Saved features for gp_A00056913001 -> gs://eegchild/processed_features/gp_A00056913001_features.csv\n"
          ]
        },
        {
          "name": "stderr",
          "output_type": "stream",
          "text": [
            "Processing .mat files:  75%|█████████   | 1123/1489 [1:07:14<5:02:53, 49.65s/it]"
          ]
        },
        {
          "name": "stdout",
          "output_type": "stream",
          "text": [
            "Saved features for gp_A00056913002 -> gs://eegchild/processed_features/gp_A00056913002_features.csv\n"
          ]
        },
        {
          "name": "stderr",
          "output_type": "stream",
          "text": [
            "Processing .mat files:  75%|█████████   | 1124/1489 [1:07:50<4:36:42, 45.49s/it]"
          ]
        },
        {
          "name": "stdout",
          "output_type": "stream",
          "text": [
            "Saved features for gp_A00056913010 -> gs://eegchild/processed_features/gp_A00056913010_features.csv\n"
          ]
        },
        {
          "name": "stderr",
          "output_type": "stream",
          "text": [
            "Processing .mat files:  76%|█████████   | 1125/1489 [1:08:33<4:33:00, 45.00s/it]"
          ]
        },
        {
          "name": "stdout",
          "output_type": "stream",
          "text": [
            "Saved features for gp_A00056913014 -> gs://eegchild/processed_features/gp_A00056913014_features.csv\n"
          ]
        },
        {
          "name": "stderr",
          "output_type": "stream",
          "text": [
            "Processing .mat files:  76%|█████████   | 1126/1489 [1:09:49<5:28:09, 54.24s/it]"
          ]
        },
        {
          "name": "stdout",
          "output_type": "stream",
          "text": [
            "Saved features for oip_A00056913005 -> gs://eegchild/processed_features/oip_A00056913005_features.csv\n"
          ]
        },
        {
          "name": "stderr",
          "output_type": "stream",
          "text": [
            "Processing .mat files:  76%|█████████   | 1127/1489 [1:10:31<5:04:55, 50.54s/it]"
          ]
        },
        {
          "name": "stdout",
          "output_type": "stream",
          "text": [
            "Saved features for bp_A00057092008 -> gs://eegchild/processed_features/bp_A00057092008_features.csv\n"
          ]
        },
        {
          "name": "stderr",
          "output_type": "stream",
          "text": [
            "Processing .mat files:  76%|█████████   | 1128/1489 [1:11:05<4:33:28, 45.45s/it]"
          ]
        },
        {
          "name": "stdout",
          "output_type": "stream",
          "text": [
            "Saved features for bp_A00057092010 -> gs://eegchild/processed_features/bp_A00057092010_features.csv\n"
          ]
        },
        {
          "name": "stderr",
          "output_type": "stream",
          "text": [
            "Processing .mat files:  76%|█████████   | 1129/1489 [1:11:43<4:19:37, 43.27s/it]"
          ]
        },
        {
          "name": "stdout",
          "output_type": "stream",
          "text": [
            "Saved features for bp_A00057092011 -> gs://eegchild/processed_features/bp_A00057092011_features.csv\n"
          ]
        },
        {
          "name": "stderr",
          "output_type": "stream",
          "text": [
            "Processing .mat files:  76%|█████████   | 1130/1489 [1:12:39<4:42:27, 47.21s/it]"
          ]
        },
        {
          "name": "stdout",
          "output_type": "stream",
          "text": [
            "Saved features for gip_A00057092001 -> gs://eegchild/processed_features/gip_A00057092001_features.csv\n"
          ]
        },
        {
          "name": "stderr",
          "output_type": "stream",
          "text": [
            "Processing .mat files:  76%|█████████   | 1131/1489 [1:13:33<4:53:02, 49.11s/it]"
          ]
        },
        {
          "name": "stdout",
          "output_type": "stream",
          "text": [
            "Saved features for gip_A00057092002 -> gs://eegchild/processed_features/gip_A00057092002_features.csv\n"
          ]
        },
        {
          "name": "stderr",
          "output_type": "stream",
          "text": [
            "Processing .mat files:  76%|█████████   | 1132/1489 [1:14:24<4:56:27, 49.83s/it]"
          ]
        },
        {
          "name": "stdout",
          "output_type": "stream",
          "text": [
            "Saved features for gip_A00057092003 -> gs://eegchild/processed_features/gip_A00057092003_features.csv\n"
          ]
        },
        {
          "name": "stderr",
          "output_type": "stream",
          "text": [
            "Processing .mat files:  76%|█████████▏  | 1133/1489 [1:14:48<4:09:06, 41.99s/it]"
          ]
        },
        {
          "name": "stdout",
          "output_type": "stream",
          "text": [
            "Saved features for gip_A00057092004 -> gs://eegchild/processed_features/gip_A00057092004_features.csv\n"
          ]
        },
        {
          "name": "stderr",
          "output_type": "stream",
          "text": [
            "Processing .mat files:  76%|█████████▏  | 1134/1489 [1:15:27<4:02:33, 40.99s/it]"
          ]
        },
        {
          "name": "stdout",
          "output_type": "stream",
          "text": [
            "Saved features for gip_A00057092005 -> gs://eegchild/processed_features/gip_A00057092005_features.csv\n"
          ]
        },
        {
          "name": "stderr",
          "output_type": "stream",
          "text": [
            "Processing .mat files:  76%|█████████▏  | 1135/1489 [1:16:11<4:07:19, 41.92s/it]"
          ]
        },
        {
          "name": "stdout",
          "output_type": "stream",
          "text": [
            "Saved features for gip_A00057092006 -> gs://eegchild/processed_features/gip_A00057092006_features.csv\n"
          ]
        },
        {
          "name": "stderr",
          "output_type": "stream",
          "text": [
            "Processing .mat files:  76%|█████████▏  | 1136/1489 [1:16:42<3:46:54, 38.57s/it]"
          ]
        },
        {
          "name": "stdout",
          "output_type": "stream",
          "text": [
            "Saved features for gip_A00057092007 -> gs://eegchild/processed_features/gip_A00057092007_features.csv\n"
          ]
        },
        {
          "name": "stderr",
          "output_type": "stream",
          "text": [
            "Processing .mat files:  76%|█████████▏  | 1137/1489 [1:17:26<3:57:10, 40.43s/it]"
          ]
        },
        {
          "name": "stdout",
          "output_type": "stream",
          "text": [
            "Saved features for gip_A00057092014 -> gs://eegchild/processed_features/gip_A00057092014_features.csv\n"
          ]
        },
        {
          "name": "stderr",
          "output_type": "stream",
          "text": [
            "Processing .mat files:  76%|█████████▏  | 1138/1489 [1:18:11<4:03:47, 41.67s/it]"
          ]
        },
        {
          "name": "stdout",
          "output_type": "stream",
          "text": [
            "Saved features for gip_A00057092015 -> gs://eegchild/processed_features/gip_A00057092015_features.csv\n"
          ]
        },
        {
          "name": "stderr",
          "output_type": "stream",
          "text": [
            "Processing .mat files:  76%|█████████▏  | 1139/1489 [1:18:52<4:02:35, 41.59s/it]"
          ]
        },
        {
          "name": "stdout",
          "output_type": "stream",
          "text": [
            "Saved features for gp_A00057092013 -> gs://eegchild/processed_features/gp_A00057092013_features.csv\n"
          ]
        },
        {
          "name": "stderr",
          "output_type": "stream",
          "text": [
            "Processing .mat files:  77%|█████████▏  | 1140/1489 [1:19:23<3:42:32, 38.26s/it]"
          ]
        },
        {
          "name": "stdout",
          "output_type": "stream",
          "text": [
            "Saved features for oip_A00057092009 -> gs://eegchild/processed_features/oip_A00057092009_features.csv\n"
          ]
        },
        {
          "name": "stderr",
          "output_type": "stream",
          "text": [
            "Processing .mat files:  77%|█████████▏  | 1141/1489 [1:19:56<3:33:11, 36.76s/it]"
          ]
        },
        {
          "name": "stdout",
          "output_type": "stream",
          "text": [
            "Saved features for bp_A00057599006 -> gs://eegchild/processed_features/bp_A00057599006_features.csv\n"
          ]
        },
        {
          "name": "stderr",
          "output_type": "stream",
          "text": [
            "Processing .mat files:  77%|█████████▏  | 1142/1489 [1:20:56<4:13:22, 43.81s/it]"
          ]
        },
        {
          "name": "stdout",
          "output_type": "stream",
          "text": [
            "Saved features for gip_A00057599001 -> gs://eegchild/processed_features/gip_A00057599001_features.csv\n"
          ]
        },
        {
          "name": "stderr",
          "output_type": "stream",
          "text": [
            "Processing .mat files:  77%|█████████▏  | 1143/1489 [1:21:39<4:10:39, 43.47s/it]"
          ]
        },
        {
          "name": "stdout",
          "output_type": "stream",
          "text": [
            "Saved features for gip_A00057599004 -> gs://eegchild/processed_features/gip_A00057599004_features.csv\n"
          ]
        },
        {
          "name": "stderr",
          "output_type": "stream",
          "text": [
            "Processing .mat files:  77%|█████████▏  | 1144/1489 [1:22:12<3:52:36, 40.45s/it]"
          ]
        },
        {
          "name": "stdout",
          "output_type": "stream",
          "text": [
            "Saved features for gip_A00057599005 -> gs://eegchild/processed_features/gip_A00057599005_features.csv\n"
          ]
        },
        {
          "name": "stderr",
          "output_type": "stream",
          "text": [
            "Processing .mat files:  77%|█████████▏  | 1145/1489 [1:22:54<3:53:21, 40.70s/it]"
          ]
        },
        {
          "name": "stdout",
          "output_type": "stream",
          "text": [
            "Saved features for gip_A00057599009 -> gs://eegchild/processed_features/gip_A00057599009_features.csv\n"
          ]
        },
        {
          "name": "stderr",
          "output_type": "stream",
          "text": [
            "Processing .mat files:  77%|█████████▏  | 1146/1489 [1:23:28<3:41:46, 38.79s/it]"
          ]
        },
        {
          "name": "stdout",
          "output_type": "stream",
          "text": [
            "Saved features for oip_A00057599002 -> gs://eegchild/processed_features/oip_A00057599002_features.csv\n"
          ]
        },
        {
          "name": "stderr",
          "output_type": "stream",
          "text": [
            "Processing .mat files:  77%|█████████▏  | 1147/1489 [1:23:57<3:24:39, 35.90s/it]"
          ]
        },
        {
          "name": "stdout",
          "output_type": "stream",
          "text": [
            "Saved features for oip_A00057599003 -> gs://eegchild/processed_features/oip_A00057599003_features.csv\n"
          ]
        },
        {
          "name": "stderr",
          "output_type": "stream",
          "text": [
            "Processing .mat files:  77%|█████████▎  | 1148/1489 [1:24:27<3:14:13, 34.17s/it]"
          ]
        },
        {
          "name": "stdout",
          "output_type": "stream",
          "text": [
            "Saved features for oip_A00057599007 -> gs://eegchild/processed_features/oip_A00057599007_features.csv\n"
          ]
        },
        {
          "name": "stderr",
          "output_type": "stream",
          "text": [
            "Processing .mat files:  77%|█████████▎  | 1149/1489 [1:25:15<3:35:54, 38.10s/it]"
          ]
        },
        {
          "name": "stdout",
          "output_type": "stream",
          "text": [
            "Saved features for oip_A00057599008 -> gs://eegchild/processed_features/oip_A00057599008_features.csv\n"
          ]
        },
        {
          "name": "stderr",
          "output_type": "stream",
          "text": [
            "Processing .mat files:  77%|█████████▎  | 1150/1489 [1:25:59<3:46:29, 40.09s/it]"
          ]
        },
        {
          "name": "stdout",
          "output_type": "stream",
          "text": [
            "Saved features for gip_A00057630002 -> gs://eegchild/processed_features/gip_A00057630002_features.csv\n"
          ]
        },
        {
          "name": "stderr",
          "output_type": "stream",
          "text": [
            "Processing .mat files:  77%|█████████▎  | 1151/1489 [1:26:31<3:31:53, 37.61s/it]"
          ]
        },
        {
          "name": "stdout",
          "output_type": "stream",
          "text": [
            "Saved features for gip_A00057630007 -> gs://eegchild/processed_features/gip_A00057630007_features.csv\n"
          ]
        },
        {
          "name": "stderr",
          "output_type": "stream",
          "text": [
            "Processing .mat files:  77%|█████████▎  | 1152/1489 [1:27:14<3:39:15, 39.04s/it]"
          ]
        },
        {
          "name": "stdout",
          "output_type": "stream",
          "text": [
            "Saved features for gip_A00057630009 -> gs://eegchild/processed_features/gip_A00057630009_features.csv\n"
          ]
        },
        {
          "name": "stderr",
          "output_type": "stream",
          "text": [
            "Processing .mat files:  77%|█████████▎  | 1153/1489 [1:27:56<3:44:41, 40.12s/it]"
          ]
        },
        {
          "name": "stdout",
          "output_type": "stream",
          "text": [
            "Saved features for gp_A00057630005 -> gs://eegchild/processed_features/gp_A00057630005_features.csv\n"
          ]
        },
        {
          "name": "stderr",
          "output_type": "stream",
          "text": [
            "Processing .mat files:  78%|█████████▎  | 1154/1489 [1:28:52<4:09:39, 44.72s/it]"
          ]
        },
        {
          "name": "stdout",
          "output_type": "stream",
          "text": [
            "Saved features for oip_A00057630001 -> gs://eegchild/processed_features/oip_A00057630001_features.csv\n"
          ]
        },
        {
          "name": "stderr",
          "output_type": "stream",
          "text": [
            "Processing .mat files:  78%|█████████▎  | 1155/1489 [1:29:16<3:35:17, 38.67s/it]"
          ]
        },
        {
          "name": "stdout",
          "output_type": "stream",
          "text": [
            "Saved features for oip_A00057630003 -> gs://eegchild/processed_features/oip_A00057630003_features.csv\n"
          ]
        },
        {
          "name": "stderr",
          "output_type": "stream",
          "text": [
            "Processing .mat files:  78%|█████████▎  | 1156/1489 [1:30:02<3:46:40, 40.84s/it]"
          ]
        },
        {
          "name": "stdout",
          "output_type": "stream",
          "text": [
            "Saved features for oip_A00057630004 -> gs://eegchild/processed_features/oip_A00057630004_features.csv\n"
          ]
        },
        {
          "name": "stderr",
          "output_type": "stream",
          "text": [
            "Processing .mat files:  78%|█████████▎  | 1157/1489 [1:30:48<3:54:25, 42.37s/it]"
          ]
        },
        {
          "name": "stdout",
          "output_type": "stream",
          "text": [
            "Saved features for oip_A00057630006 -> gs://eegchild/processed_features/oip_A00057630006_features.csv\n"
          ]
        },
        {
          "name": "stderr",
          "output_type": "stream",
          "text": [
            "Processing .mat files:  78%|█████████▎  | 1158/1489 [1:31:38<4:06:31, 44.69s/it]"
          ]
        },
        {
          "name": "stdout",
          "output_type": "stream",
          "text": [
            "Saved features for oip_A00057630008 -> gs://eegchild/processed_features/oip_A00057630008_features.csv\n"
          ]
        },
        {
          "name": "stderr",
          "output_type": "stream",
          "text": [
            "Processing .mat files:  78%|█████████▎  | 1159/1489 [1:32:29<4:16:06, 46.57s/it]"
          ]
        },
        {
          "name": "stdout",
          "output_type": "stream",
          "text": [
            "Saved features for oip_A00057630011 -> gs://eegchild/processed_features/oip_A00057630011_features.csv\n"
          ]
        },
        {
          "name": "stderr",
          "output_type": "stream",
          "text": [
            "Processing .mat files:  78%|█████████▎  | 1160/1489 [1:32:53<3:38:19, 39.82s/it]"
          ]
        },
        {
          "name": "stdout",
          "output_type": "stream",
          "text": [
            "Saved features for oip_A00057630012 -> gs://eegchild/processed_features/oip_A00057630012_features.csv\n"
          ]
        },
        {
          "name": "stderr",
          "output_type": "stream",
          "text": [
            "Processing .mat files:  78%|█████████▎  | 1161/1489 [1:33:57<4:16:41, 46.96s/it]"
          ]
        },
        {
          "name": "stdout",
          "output_type": "stream",
          "text": [
            "Saved features for gp_A00058596001 -> gs://eegchild/processed_features/gp_A00058596001_features.csv\n"
          ]
        },
        {
          "name": "stderr",
          "output_type": "stream",
          "text": [
            "Processing .mat files:  78%|█████████▎  | 1162/1489 [1:34:54<4:33:27, 50.17s/it]"
          ]
        },
        {
          "name": "stdout",
          "output_type": "stream",
          "text": [
            "Saved features for gp_A00058596002 -> gs://eegchild/processed_features/gp_A00058596002_features.csv\n"
          ]
        },
        {
          "name": "stderr",
          "output_type": "stream",
          "text": [
            "Processing .mat files:  78%|█████████▎  | 1163/1489 [1:35:25<3:59:52, 44.15s/it]"
          ]
        },
        {
          "name": "stdout",
          "output_type": "stream",
          "text": [
            "Saved features for oip_A00058596003 -> gs://eegchild/processed_features/oip_A00058596003_features.csv\n"
          ]
        },
        {
          "name": "stderr",
          "output_type": "stream",
          "text": [
            "Processing .mat files:  78%|█████████▍  | 1164/1489 [1:36:34<4:40:05, 51.71s/it]"
          ]
        },
        {
          "name": "stdout",
          "output_type": "stream",
          "text": [
            "Saved features for oip_A00058596005 -> gs://eegchild/processed_features/oip_A00058596005_features.csv\n",
            "Saved features for op_A00058596004 -> gs://eegchild/processed_features/op_A00058596004_features.csv\n"
          ]
        },
        {
          "name": "stderr",
          "output_type": "stream",
          "text": [
            "Processing .mat files:  78%|█████████▍  | 1166/1489 [1:38:07<4:27:54, 49.77s/it]"
          ]
        },
        {
          "name": "stdout",
          "output_type": "stream",
          "text": [
            "Saved features for gip_A00058775001 -> gs://eegchild/processed_features/gip_A00058775001_features.csv\n"
          ]
        },
        {
          "name": "stderr",
          "output_type": "stream",
          "text": [
            "Processing .mat files:  78%|█████████▍  | 1167/1489 [1:38:45<4:07:45, 46.17s/it]"
          ]
        },
        {
          "name": "stdout",
          "output_type": "stream",
          "text": [
            "Saved features for gip_A00058775002 -> gs://eegchild/processed_features/gip_A00058775002_features.csv\n"
          ]
        },
        {
          "name": "stderr",
          "output_type": "stream",
          "text": [
            "Processing .mat files:  78%|█████████▍  | 1168/1489 [1:39:10<3:32:13, 39.67s/it]"
          ]
        },
        {
          "name": "stdout",
          "output_type": "stream",
          "text": [
            "Saved features for gip_A00058775003 -> gs://eegchild/processed_features/gip_A00058775003_features.csv\n"
          ]
        },
        {
          "name": "stderr",
          "output_type": "stream",
          "text": [
            "Processing .mat files:  79%|█████████▍  | 1169/1489 [1:39:54<3:39:42, 41.20s/it]"
          ]
        },
        {
          "name": "stdout",
          "output_type": "stream",
          "text": [
            "Saved features for gip_A00058775004 -> gs://eegchild/processed_features/gip_A00058775004_features.csv\n"
          ]
        },
        {
          "name": "stderr",
          "output_type": "stream",
          "text": [
            "Processing .mat files:  79%|█████████▍  | 1170/1489 [1:40:27<3:25:28, 38.65s/it]"
          ]
        },
        {
          "name": "stdout",
          "output_type": "stream",
          "text": [
            "Saved features for gip_A00058775005 -> gs://eegchild/processed_features/gip_A00058775005_features.csv\n"
          ]
        },
        {
          "name": "stderr",
          "output_type": "stream",
          "text": [
            "Processing .mat files:  79%|█████████▍  | 1171/1489 [1:41:15<3:38:56, 41.31s/it]"
          ]
        },
        {
          "name": "stdout",
          "output_type": "stream",
          "text": [
            "Saved features for gip_A00058775006 -> gs://eegchild/processed_features/gip_A00058775006_features.csv\n"
          ]
        },
        {
          "name": "stderr",
          "output_type": "stream",
          "text": [
            "Processing .mat files:  79%|█████████▍  | 1172/1489 [1:41:46<3:22:43, 38.37s/it]"
          ]
        },
        {
          "name": "stdout",
          "output_type": "stream",
          "text": [
            "Saved features for gip_A00058775007 -> gs://eegchild/processed_features/gip_A00058775007_features.csv\n"
          ]
        },
        {
          "name": "stderr",
          "output_type": "stream",
          "text": [
            "Processing .mat files:  79%|█████████▍  | 1173/1489 [1:42:36<3:39:55, 41.76s/it]"
          ]
        },
        {
          "name": "stdout",
          "output_type": "stream",
          "text": [
            "Saved features for gip_A00058775008 -> gs://eegchild/processed_features/gip_A00058775008_features.csv\n"
          ]
        },
        {
          "name": "stderr",
          "output_type": "stream",
          "text": [
            "Processing .mat files:  79%|█████████▍  | 1174/1489 [1:43:27<3:53:46, 44.53s/it]"
          ]
        },
        {
          "name": "stdout",
          "output_type": "stream",
          "text": [
            "Saved features for gip_A00058775011 -> gs://eegchild/processed_features/gip_A00058775011_features.csv\n"
          ]
        },
        {
          "name": "stderr",
          "output_type": "stream",
          "text": [
            "Processing .mat files:  79%|█████████▍  | 1175/1489 [1:44:20<4:07:06, 47.22s/it]"
          ]
        },
        {
          "name": "stdout",
          "output_type": "stream",
          "text": [
            "Saved features for gip_A00058775012 -> gs://eegchild/processed_features/gip_A00058775012_features.csv\n"
          ]
        },
        {
          "name": "stderr",
          "output_type": "stream",
          "text": [
            "Processing .mat files:  79%|█████████▍  | 1176/1489 [1:45:10<4:10:09, 47.95s/it]"
          ]
        },
        {
          "name": "stdout",
          "output_type": "stream",
          "text": [
            "Saved features for gip_A00058775013 -> gs://eegchild/processed_features/gip_A00058775013_features.csv\n"
          ]
        },
        {
          "name": "stderr",
          "output_type": "stream",
          "text": [
            "Processing .mat files:  79%|█████████▍  | 1177/1489 [1:45:34<3:31:33, 40.69s/it]"
          ]
        },
        {
          "name": "stdout",
          "output_type": "stream",
          "text": [
            "Saved features for gip_A00058775014 -> gs://eegchild/processed_features/gip_A00058775014_features.csv\n"
          ]
        },
        {
          "name": "stderr",
          "output_type": "stream",
          "text": [
            "Processing .mat files:  79%|█████████▍  | 1178/1489 [1:46:30<3:55:31, 45.44s/it]"
          ]
        },
        {
          "name": "stdout",
          "output_type": "stream",
          "text": [
            "Saved features for oip_A00058775009 -> gs://eegchild/processed_features/oip_A00058775009_features.csv\n"
          ]
        },
        {
          "name": "stderr",
          "output_type": "stream",
          "text": [
            "Processing .mat files:  79%|█████████▌  | 1179/1489 [1:47:12<3:49:50, 44.48s/it]"
          ]
        },
        {
          "name": "stdout",
          "output_type": "stream",
          "text": [
            "Saved features for gip_A00059063008 -> gs://eegchild/processed_features/gip_A00059063008_features.csv\n"
          ]
        },
        {
          "name": "stderr",
          "output_type": "stream",
          "text": [
            "Processing .mat files:  79%|█████████▌  | 1180/1489 [1:47:45<3:30:15, 40.83s/it]"
          ]
        },
        {
          "name": "stdout",
          "output_type": "stream",
          "text": [
            "Saved features for gip_A00059063009 -> gs://eegchild/processed_features/gip_A00059063009_features.csv\n"
          ]
        },
        {
          "name": "stderr",
          "output_type": "stream",
          "text": [
            "Processing .mat files:  79%|█████████▌  | 1181/1489 [1:48:30<3:37:14, 42.32s/it]"
          ]
        },
        {
          "name": "stdout",
          "output_type": "stream",
          "text": [
            "Saved features for gip_A00059063010 -> gs://eegchild/processed_features/gip_A00059063010_features.csv\n"
          ]
        },
        {
          "name": "stderr",
          "output_type": "stream",
          "text": [
            "Processing .mat files:  79%|█████████▌  | 1182/1489 [1:49:09<3:30:04, 41.06s/it]"
          ]
        },
        {
          "name": "stdout",
          "output_type": "stream",
          "text": [
            "Saved features for gip_A00059063011 -> gs://eegchild/processed_features/gip_A00059063011_features.csv\n"
          ]
        },
        {
          "name": "stderr",
          "output_type": "stream",
          "text": [
            "Processing .mat files:  79%|█████████▌  | 1183/1489 [1:50:01<3:46:39, 44.44s/it]"
          ]
        },
        {
          "name": "stdout",
          "output_type": "stream",
          "text": [
            "Saved features for gip_A00059063013 -> gs://eegchild/processed_features/gip_A00059063013_features.csv\n"
          ]
        },
        {
          "name": "stderr",
          "output_type": "stream",
          "text": [
            "Processing .mat files:  80%|█████████▌  | 1184/1489 [1:50:53<3:57:19, 46.69s/it]"
          ]
        },
        {
          "name": "stdout",
          "output_type": "stream",
          "text": [
            "Saved features for gip_A00059063014 -> gs://eegchild/processed_features/gip_A00059063014_features.csv\n"
          ]
        },
        {
          "name": "stderr",
          "output_type": "stream",
          "text": [
            "Processing .mat files:  80%|█████████▌  | 1185/1489 [1:51:41<3:58:55, 47.16s/it]"
          ]
        },
        {
          "name": "stdout",
          "output_type": "stream",
          "text": [
            "Saved features for gip_A00059063015 -> gs://eegchild/processed_features/gip_A00059063015_features.csv\n"
          ]
        },
        {
          "name": "stderr",
          "output_type": "stream",
          "text": [
            "Processing .mat files:  80%|█████████▌  | 1186/1489 [1:52:07<3:25:59, 40.79s/it]"
          ]
        },
        {
          "name": "stdout",
          "output_type": "stream",
          "text": [
            "Saved features for gip_A00059063016 -> gs://eegchild/processed_features/gip_A00059063016_features.csv\n"
          ]
        },
        {
          "name": "stderr",
          "output_type": "stream",
          "text": [
            "Processing .mat files:  80%|█████████▌  | 1187/1489 [1:52:38<3:09:57, 37.74s/it]"
          ]
        },
        {
          "name": "stdout",
          "output_type": "stream",
          "text": [
            "Saved features for gp_A00059063007 -> gs://eegchild/processed_features/gp_A00059063007_features.csv\n"
          ]
        },
        {
          "name": "stderr",
          "output_type": "stream",
          "text": [
            "Processing .mat files:  80%|█████████▌  | 1188/1489 [1:53:43<3:50:56, 46.03s/it]"
          ]
        },
        {
          "name": "stdout",
          "output_type": "stream",
          "text": [
            "Saved features for oip_A00059063001 -> gs://eegchild/processed_features/oip_A00059063001_features.csv\n"
          ]
        },
        {
          "name": "stderr",
          "output_type": "stream",
          "text": [
            "Processing .mat files:  80%|█████████▌  | 1189/1489 [1:54:40<4:06:15, 49.25s/it]"
          ]
        },
        {
          "name": "stdout",
          "output_type": "stream",
          "text": [
            "Saved features for oip_A00059063002 -> gs://eegchild/processed_features/oip_A00059063002_features.csv\n"
          ]
        },
        {
          "name": "stderr",
          "output_type": "stream",
          "text": [
            "Processing .mat files:  80%|█████████▌  | 1190/1489 [1:55:07<3:32:19, 42.61s/it]"
          ]
        },
        {
          "name": "stdout",
          "output_type": "stream",
          "text": [
            "Saved features for oip_A00059063003 -> gs://eegchild/processed_features/oip_A00059063003_features.csv\n"
          ]
        },
        {
          "name": "stderr",
          "output_type": "stream",
          "text": [
            "Processing .mat files:  80%|█████████▌  | 1191/1489 [1:55:50<3:31:44, 42.63s/it]"
          ]
        },
        {
          "name": "stdout",
          "output_type": "stream",
          "text": [
            "Saved features for oip_A00059063004 -> gs://eegchild/processed_features/oip_A00059063004_features.csv\n"
          ]
        },
        {
          "name": "stderr",
          "output_type": "stream",
          "text": [
            "Processing .mat files:  80%|█████████▌  | 1192/1489 [1:56:21<3:13:40, 39.13s/it]"
          ]
        },
        {
          "name": "stdout",
          "output_type": "stream",
          "text": [
            "Saved features for oip_A00059063005 -> gs://eegchild/processed_features/oip_A00059063005_features.csv\n",
            "Saved features for oip_A00059063006 -> gs://eegchild/processed_features/oip_A00059063006_features.csv\n"
          ]
        },
        {
          "name": "stderr",
          "output_type": "stream",
          "text": [
            "Processing .mat files:  80%|█████████▌  | 1194/1489 [1:57:05<2:35:01, 31.53s/it]"
          ]
        },
        {
          "name": "stdout",
          "output_type": "stream",
          "text": [
            "Saved features for gip_A00059083001 -> gs://eegchild/processed_features/gip_A00059083001_features.csv\n"
          ]
        },
        {
          "name": "stderr",
          "output_type": "stream",
          "text": [
            "Processing .mat files:  80%|█████████▋  | 1195/1489 [1:57:51<2:56:06, 35.94s/it]"
          ]
        },
        {
          "name": "stdout",
          "output_type": "stream",
          "text": [
            "Saved features for gip_A00059083003 -> gs://eegchild/processed_features/gip_A00059083003_features.csv\n"
          ]
        },
        {
          "name": "stderr",
          "output_type": "stream",
          "text": [
            "Processing .mat files:  80%|█████████▋  | 1196/1489 [1:58:23<2:48:59, 34.61s/it]"
          ]
        },
        {
          "name": "stdout",
          "output_type": "stream",
          "text": [
            "Saved features for gip_A00059083006 -> gs://eegchild/processed_features/gip_A00059083006_features.csv\n"
          ]
        },
        {
          "name": "stderr",
          "output_type": "stream",
          "text": [
            "Processing .mat files:  80%|█████████▋  | 1197/1489 [1:58:55<2:44:12, 33.74s/it]"
          ]
        },
        {
          "name": "stdout",
          "output_type": "stream",
          "text": [
            "Saved features for gip_A00059083008 -> gs://eegchild/processed_features/gip_A00059083008_features.csv\n"
          ]
        },
        {
          "name": "stderr",
          "output_type": "stream",
          "text": [
            "Processing .mat files:  80%|█████████▋  | 1198/1489 [1:59:39<2:58:56, 36.90s/it]"
          ]
        },
        {
          "name": "stdout",
          "output_type": "stream",
          "text": [
            "Saved features for gip_A00059083009 -> gs://eegchild/processed_features/gip_A00059083009_features.csv\n"
          ]
        },
        {
          "name": "stderr",
          "output_type": "stream",
          "text": [
            "Processing .mat files:  81%|█████████▋  | 1199/1489 [2:00:10<2:49:54, 35.15s/it]"
          ]
        },
        {
          "name": "stdout",
          "output_type": "stream",
          "text": [
            "Saved features for gip_A00059083010 -> gs://eegchild/processed_features/gip_A00059083010_features.csv\n"
          ]
        },
        {
          "name": "stderr",
          "output_type": "stream",
          "text": [
            "Processing .mat files:  81%|█████████▋  | 1200/1489 [2:00:52<2:58:57, 37.15s/it]"
          ]
        },
        {
          "name": "stdout",
          "output_type": "stream",
          "text": [
            "Saved features for gip_A00059083012 -> gs://eegchild/processed_features/gip_A00059083012_features.csv\n"
          ]
        },
        {
          "name": "stderr",
          "output_type": "stream",
          "text": [
            "Processing .mat files:  81%|█████████▋  | 1201/1489 [2:01:46<3:22:51, 42.26s/it]"
          ]
        },
        {
          "name": "stdout",
          "output_type": "stream",
          "text": [
            "Saved features for gip_A00059083015 -> gs://eegchild/processed_features/gip_A00059083015_features.csv\n"
          ]
        },
        {
          "name": "stderr",
          "output_type": "stream",
          "text": [
            "Processing .mat files:  81%|█████████▋  | 1202/1489 [2:02:38<3:36:45, 45.31s/it]"
          ]
        },
        {
          "name": "stdout",
          "output_type": "stream",
          "text": [
            "Saved features for gip_A00059083016 -> gs://eegchild/processed_features/gip_A00059083016_features.csv\n"
          ]
        },
        {
          "name": "stderr",
          "output_type": "stream",
          "text": [
            "Processing .mat files:  81%|█████████▋  | 1203/1489 [2:03:02<3:05:24, 38.90s/it]"
          ]
        },
        {
          "name": "stdout",
          "output_type": "stream",
          "text": [
            "Saved features for gip_A00059083017 -> gs://eegchild/processed_features/gip_A00059083017_features.csv\n"
          ]
        },
        {
          "name": "stderr",
          "output_type": "stream",
          "text": [
            "Processing .mat files:  81%|█████████▋  | 1204/1489 [2:03:49<3:15:45, 41.21s/it]"
          ]
        },
        {
          "name": "stdout",
          "output_type": "stream",
          "text": [
            "Saved features for gp_A00059083002 -> gs://eegchild/processed_features/gp_A00059083002_features.csv\n"
          ]
        },
        {
          "name": "stderr",
          "output_type": "stream",
          "text": [
            "Processing .mat files:  81%|█████████▋  | 1205/1489 [2:04:13<2:51:09, 36.16s/it]"
          ]
        },
        {
          "name": "stdout",
          "output_type": "stream",
          "text": [
            "Saved features for gp_A00059083004 -> gs://eegchild/processed_features/gp_A00059083004_features.csv\n"
          ]
        },
        {
          "name": "stderr",
          "output_type": "stream",
          "text": [
            "Processing .mat files:  81%|█████████▋  | 1206/1489 [2:04:50<2:51:32, 36.37s/it]"
          ]
        },
        {
          "name": "stdout",
          "output_type": "stream",
          "text": [
            "Saved features for gp_A00059083005 -> gs://eegchild/processed_features/gp_A00059083005_features.csv\n"
          ]
        },
        {
          "name": "stderr",
          "output_type": "stream",
          "text": [
            "Processing .mat files:  81%|█████████▋  | 1207/1489 [2:05:35<3:03:04, 38.95s/it]"
          ]
        },
        {
          "name": "stdout",
          "output_type": "stream",
          "text": [
            "Saved features for gp_A00059083014 -> gs://eegchild/processed_features/gp_A00059083014_features.csv\n"
          ]
        },
        {
          "name": "stderr",
          "output_type": "stream",
          "text": [
            "Processing .mat files:  81%|█████████▋  | 1208/1489 [2:05:45<2:21:09, 30.14s/it]"
          ]
        },
        {
          "name": "stdout",
          "output_type": "stream",
          "text": [
            "Saved features for oip_A00059083007 -> gs://eegchild/processed_features/oip_A00059083007_features.csv\n"
          ]
        },
        {
          "name": "stderr",
          "output_type": "stream",
          "text": [
            "Processing .mat files:  81%|█████████▋  | 1209/1489 [2:06:29<2:40:05, 34.30s/it]"
          ]
        },
        {
          "name": "stdout",
          "output_type": "stream",
          "text": [
            "Saved features for oip_A00059083011 -> gs://eegchild/processed_features/oip_A00059083011_features.csv\n"
          ]
        },
        {
          "name": "stderr",
          "output_type": "stream",
          "text": [
            "Processing .mat files:  81%|█████████▊  | 1210/1489 [2:07:36<3:24:56, 44.07s/it]"
          ]
        },
        {
          "name": "stdout",
          "output_type": "stream",
          "text": [
            "Saved features for gip_A00059578001 -> gs://eegchild/processed_features/gip_A00059578001_features.csv\n"
          ]
        },
        {
          "name": "stderr",
          "output_type": "stream",
          "text": [
            "Processing .mat files:  81%|█████████▊  | 1211/1489 [2:08:21<3:25:25, 44.34s/it]"
          ]
        },
        {
          "name": "stdout",
          "output_type": "stream",
          "text": [
            "Saved features for gip_A00059578003 -> gs://eegchild/processed_features/gip_A00059578003_features.csv\n"
          ]
        },
        {
          "name": "stderr",
          "output_type": "stream",
          "text": [
            "Processing .mat files:  81%|█████████▊  | 1212/1489 [2:08:51<3:05:26, 40.17s/it]"
          ]
        },
        {
          "name": "stdout",
          "output_type": "stream",
          "text": [
            "Saved features for gip_A00059578004 -> gs://eegchild/processed_features/gip_A00059578004_features.csv\n",
            "Saved features for gip_A00059578006 -> gs://eegchild/processed_features/gip_A00059578006_features.csv\n"
          ]
        },
        {
          "name": "stderr",
          "output_type": "stream",
          "text": [
            "Processing .mat files:  82%|█████████▊  | 1214/1489 [2:10:06<3:00:22, 39.35s/it]"
          ]
        },
        {
          "name": "stdout",
          "output_type": "stream",
          "text": [
            "Saved features for gip_A00059578007 -> gs://eegchild/processed_features/gip_A00059578007_features.csv\n"
          ]
        },
        {
          "name": "stderr",
          "output_type": "stream",
          "text": [
            "Processing .mat files:  82%|█████████▊  | 1215/1489 [2:10:43<2:56:58, 38.76s/it]"
          ]
        },
        {
          "name": "stdout",
          "output_type": "stream",
          "text": [
            "Saved features for gip_A00059578010 -> gs://eegchild/processed_features/gip_A00059578010_features.csv\n"
          ]
        },
        {
          "name": "stderr",
          "output_type": "stream",
          "text": [
            "Processing .mat files:  82%|█████████▊  | 1216/1489 [2:11:18<2:50:38, 37.50s/it]"
          ]
        },
        {
          "name": "stdout",
          "output_type": "stream",
          "text": [
            "Saved features for oip_A00059578002 -> gs://eegchild/processed_features/oip_A00059578002_features.csv\n"
          ]
        },
        {
          "name": "stderr",
          "output_type": "stream",
          "text": [
            "Processing .mat files:  82%|█████████▊  | 1217/1489 [2:12:07<3:06:24, 41.12s/it]"
          ]
        },
        {
          "name": "stdout",
          "output_type": "stream",
          "text": [
            "Saved features for oip_A00059578005 -> gs://eegchild/processed_features/oip_A00059578005_features.csv\n"
          ]
        },
        {
          "name": "stderr",
          "output_type": "stream",
          "text": [
            "Processing .mat files:  82%|█████████▊  | 1218/1489 [2:12:36<2:49:39, 37.56s/it]"
          ]
        },
        {
          "name": "stdout",
          "output_type": "stream",
          "text": [
            "Saved features for oip_A00059578008 -> gs://eegchild/processed_features/oip_A00059578008_features.csv\n",
            "Saved features for oip_A00059578009 -> gs://eegchild/processed_features/oip_A00059578009_features.csv\n"
          ]
        },
        {
          "name": "stderr",
          "output_type": "stream",
          "text": [
            "Processing .mat files:  82%|█████████▊  | 1220/1489 [2:14:11<3:10:58, 42.60s/it]"
          ]
        },
        {
          "name": "stdout",
          "output_type": "stream",
          "text": [
            "Saved features for oip_A00059578012 -> gs://eegchild/processed_features/oip_A00059578012_features.csv\n"
          ]
        },
        {
          "name": "stderr",
          "output_type": "stream",
          "text": [
            "Processing .mat files:  82%|█████████▊  | 1221/1489 [2:15:02<3:21:17, 45.06s/it]"
          ]
        },
        {
          "name": "stdout",
          "output_type": "stream",
          "text": [
            "Saved features for oip_A00059578013 -> gs://eegchild/processed_features/oip_A00059578013_features.csv\n"
          ]
        },
        {
          "name": "stderr",
          "output_type": "stream",
          "text": [
            "Processing .mat files:  82%|█████████▊  | 1222/1489 [2:15:54<3:29:36, 47.10s/it]"
          ]
        },
        {
          "name": "stdout",
          "output_type": "stream",
          "text": [
            "Saved features for oip_A00059578014 -> gs://eegchild/processed_features/oip_A00059578014_features.csv\n"
          ]
        },
        {
          "name": "stderr",
          "output_type": "stream",
          "text": [
            "Processing .mat files:  82%|█████████▊  | 1223/1489 [2:17:55<5:07:55, 69.46s/it]"
          ]
        },
        {
          "name": "stdout",
          "output_type": "stream",
          "text": [
            "Saved features for bp_A00059904_2 -> gs://eegchild/processed_features/bp_A00059904_2_features.csv\n"
          ]
        },
        {
          "name": "stderr",
          "output_type": "stream",
          "text": [
            "Processing .mat files:  82%|█████████▊  | 1224/1489 [2:18:34<4:25:56, 60.21s/it]"
          ]
        },
        {
          "name": "stdout",
          "output_type": "stream",
          "text": [
            "Saved features for gip_A00059904004 -> gs://eegchild/processed_features/gip_A00059904004_features.csv\n"
          ]
        },
        {
          "name": "stderr",
          "output_type": "stream",
          "text": [
            "Processing .mat files:  82%|█████████▊  | 1225/1489 [2:21:04<6:23:35, 87.18s/it]"
          ]
        },
        {
          "name": "stdout",
          "output_type": "stream",
          "text": [
            "Saved features for gip_A00059904012 -> gs://eegchild/processed_features/gip_A00059904012_features.csv\n"
          ]
        },
        {
          "name": "stderr",
          "output_type": "stream",
          "text": [
            "Processing .mat files:  82%|█████████▉  | 1226/1489 [2:22:12<5:57:22, 81.53s/it]"
          ]
        },
        {
          "name": "stdout",
          "output_type": "stream",
          "text": [
            "Saved features for gp_A00059904001 -> gs://eegchild/processed_features/gp_A00059904001_features.csv\n"
          ]
        },
        {
          "name": "stderr",
          "output_type": "stream",
          "text": [
            "Processing .mat files:  82%|█████████▉  | 1227/1489 [2:22:35<4:38:18, 63.74s/it]"
          ]
        },
        {
          "name": "stdout",
          "output_type": "stream",
          "text": [
            "Saved features for oip_A00059904003 -> gs://eegchild/processed_features/oip_A00059904003_features.csv\n"
          ]
        },
        {
          "name": "stderr",
          "output_type": "stream",
          "text": [
            "Processing .mat files:  82%|█████████▉  | 1228/1489 [2:23:07<3:55:40, 54.18s/it]"
          ]
        },
        {
          "name": "stdout",
          "output_type": "stream",
          "text": [
            "Saved features for oip_A00059904005 -> gs://eegchild/processed_features/oip_A00059904005_features.csv\n"
          ]
        },
        {
          "name": "stderr",
          "output_type": "stream",
          "text": [
            "Processing .mat files:  83%|█████████▉  | 1229/1489 [2:24:21<4:20:48, 60.19s/it]"
          ]
        },
        {
          "name": "stdout",
          "output_type": "stream",
          "text": [
            "Saved features for oip_A00059904006 -> gs://eegchild/processed_features/oip_A00059904006_features.csv\n"
          ]
        },
        {
          "name": "stderr",
          "output_type": "stream",
          "text": [
            "Processing .mat files:  83%|█████████▉  | 1230/1489 [2:25:00<3:51:59, 53.74s/it]"
          ]
        },
        {
          "name": "stdout",
          "output_type": "stream",
          "text": [
            "Saved features for oip_A00059904008 -> gs://eegchild/processed_features/oip_A00059904008_features.csv\n"
          ]
        },
        {
          "name": "stderr",
          "output_type": "stream",
          "text": [
            "Processing .mat files:  83%|█████████▉  | 1231/1489 [2:26:15<4:19:45, 60.41s/it]"
          ]
        },
        {
          "name": "stdout",
          "output_type": "stream",
          "text": [
            "Saved features for oip_A00059904010 -> gs://eegchild/processed_features/oip_A00059904010_features.csv\n"
          ]
        },
        {
          "name": "stderr",
          "output_type": "stream",
          "text": [
            "Processing .mat files:  83%|█████████▉  | 1232/1489 [2:27:40<4:49:17, 67.54s/it]"
          ]
        },
        {
          "name": "stdout",
          "output_type": "stream",
          "text": [
            "Saved features for oip_A00059904011 -> gs://eegchild/processed_features/oip_A00059904011_features.csv\n"
          ]
        },
        {
          "name": "stderr",
          "output_type": "stream",
          "text": [
            "Processing .mat files:  83%|█████████▉  | 1233/1489 [2:28:10<4:00:39, 56.40s/it]"
          ]
        },
        {
          "name": "stdout",
          "output_type": "stream",
          "text": [
            "Saved features for op_A00059904002 -> gs://eegchild/processed_features/op_A00059904002_features.csv\n"
          ]
        },
        {
          "name": "stderr",
          "output_type": "stream",
          "text": [
            "Processing .mat files:  83%|█████████▉  | 1234/1489 [2:29:04<3:56:00, 55.53s/it]"
          ]
        },
        {
          "name": "stdout",
          "output_type": "stream",
          "text": [
            "Saved features for op_A00059904007 -> gs://eegchild/processed_features/op_A00059904007_features.csv\n"
          ]
        },
        {
          "name": "stderr",
          "output_type": "stream",
          "text": [
            "Processing .mat files:  83%|█████████▉  | 1235/1489 [2:30:08<4:06:07, 58.14s/it]"
          ]
        },
        {
          "name": "stdout",
          "output_type": "stream",
          "text": [
            "Saved features for bip_A00062029012 -> gs://eegchild/processed_features/bip_A00062029012_features.csv\n"
          ]
        },
        {
          "name": "stderr",
          "output_type": "stream",
          "text": [
            "Processing .mat files:  83%|█████████▉  | 1236/1489 [2:30:50<3:44:50, 53.32s/it]"
          ]
        },
        {
          "name": "stdout",
          "output_type": "stream",
          "text": [
            "Saved features for bp_A00062029006 -> gs://eegchild/processed_features/bp_A00062029006_features.csv\n"
          ]
        },
        {
          "name": "stderr",
          "output_type": "stream",
          "text": [
            "Processing .mat files:  83%|█████████▉  | 1237/1489 [2:32:19<4:29:17, 64.12s/it]"
          ]
        },
        {
          "name": "stdout",
          "output_type": "stream",
          "text": [
            "Saved features for gip_A00062029001 -> gs://eegchild/processed_features/gip_A00062029001_features.csv\n"
          ]
        },
        {
          "name": "stderr",
          "output_type": "stream",
          "text": [
            "Processing .mat files:  83%|█████████▉  | 1238/1489 [2:33:07<4:07:10, 59.09s/it]"
          ]
        },
        {
          "name": "stdout",
          "output_type": "stream",
          "text": [
            "Saved features for gip_A00062029003 -> gs://eegchild/processed_features/gip_A00062029003_features.csv\n"
          ]
        },
        {
          "name": "stderr",
          "output_type": "stream",
          "text": [
            "Processing .mat files:  83%|█████████▉  | 1239/1489 [2:33:36<3:29:21, 50.24s/it]"
          ]
        },
        {
          "name": "stdout",
          "output_type": "stream",
          "text": [
            "Saved features for gip_A00062029004 -> gs://eegchild/processed_features/gip_A00062029004_features.csv\n"
          ]
        },
        {
          "name": "stderr",
          "output_type": "stream",
          "text": [
            "Processing .mat files:  83%|█████████▉  | 1240/1489 [2:34:14<3:12:49, 46.46s/it]"
          ]
        },
        {
          "name": "stdout",
          "output_type": "stream",
          "text": [
            "Saved features for gip_A00062029008 -> gs://eegchild/processed_features/gip_A00062029008_features.csv\n"
          ]
        },
        {
          "name": "stderr",
          "output_type": "stream",
          "text": [
            "Processing .mat files:  83%|██████████  | 1241/1489 [2:35:02<3:14:09, 46.97s/it]"
          ]
        },
        {
          "name": "stdout",
          "output_type": "stream",
          "text": [
            "Saved features for gip_A00062029009 -> gs://eegchild/processed_features/gip_A00062029009_features.csv\n"
          ]
        },
        {
          "name": "stderr",
          "output_type": "stream",
          "text": [
            "Processing .mat files:  83%|██████████  | 1242/1489 [2:35:45<3:08:03, 45.68s/it]"
          ]
        },
        {
          "name": "stdout",
          "output_type": "stream",
          "text": [
            "Saved features for gip_A00062029011 -> gs://eegchild/processed_features/gip_A00062029011_features.csv\n"
          ]
        },
        {
          "name": "stderr",
          "output_type": "stream",
          "text": [
            "Processing .mat files:  83%|██████████  | 1243/1489 [2:36:03<2:34:00, 37.56s/it]"
          ]
        },
        {
          "name": "stdout",
          "output_type": "stream",
          "text": [
            "Saved features for gip_A00062029013 -> gs://eegchild/processed_features/gip_A00062029013_features.csv\n"
          ]
        },
        {
          "name": "stderr",
          "output_type": "stream",
          "text": [
            "Processing .mat files:  84%|██████████  | 1244/1489 [2:36:56<2:51:29, 42.00s/it]"
          ]
        },
        {
          "name": "stdout",
          "output_type": "stream",
          "text": [
            "Saved features for gp_A00062029002 -> gs://eegchild/processed_features/gp_A00062029002_features.csv\n"
          ]
        },
        {
          "name": "stderr",
          "output_type": "stream",
          "text": [
            "Processing .mat files:  84%|██████████  | 1245/1489 [2:37:59<3:16:42, 48.37s/it]"
          ]
        },
        {
          "name": "stdout",
          "output_type": "stream",
          "text": [
            "Saved features for gp_A00062029005 -> gs://eegchild/processed_features/gp_A00062029005_features.csv\n"
          ]
        },
        {
          "name": "stderr",
          "output_type": "stream",
          "text": [
            "Processing .mat files:  84%|██████████  | 1246/1489 [2:39:02<3:34:16, 52.91s/it]"
          ]
        },
        {
          "name": "stdout",
          "output_type": "stream",
          "text": [
            "Saved features for gp_A00062029007 -> gs://eegchild/processed_features/gp_A00062029007_features.csv\n"
          ]
        },
        {
          "name": "stderr",
          "output_type": "stream",
          "text": [
            "Processing .mat files:  84%|██████████  | 1247/1489 [2:39:34<3:07:26, 46.47s/it]"
          ]
        },
        {
          "name": "stdout",
          "output_type": "stream",
          "text": [
            "Saved features for gp_A00062029010 -> gs://eegchild/processed_features/gp_A00062029010_features.csv\n"
          ]
        },
        {
          "name": "stderr",
          "output_type": "stream",
          "text": [
            "Processing .mat files:  84%|██████████  | 1248/1489 [2:39:44<2:23:10, 35.65s/it]"
          ]
        },
        {
          "name": "stdout",
          "output_type": "stream",
          "text": [
            "Saved features for bp_A00062055005 -> gs://eegchild/processed_features/bp_A00062055005_features.csv\n",
            "Saved features for gip_A00062055006 -> gs://eegchild/processed_features/gip_A00062055006_features.csv\n"
          ]
        },
        {
          "name": "stderr",
          "output_type": "stream",
          "text": [
            "Processing .mat files:  84%|██████████  | 1250/1489 [2:41:18<2:45:48, 41.63s/it]"
          ]
        },
        {
          "name": "stdout",
          "output_type": "stream",
          "text": [
            "Saved features for gip_A00062055008 -> gs://eegchild/processed_features/gip_A00062055008_features.csv\n"
          ]
        },
        {
          "name": "stderr",
          "output_type": "stream",
          "text": [
            "Processing .mat files:  84%|██████████  | 1251/1489 [2:41:52<2:35:34, 39.22s/it]"
          ]
        },
        {
          "name": "stdout",
          "output_type": "stream",
          "text": [
            "Saved features for gip_A00062055009 -> gs://eegchild/processed_features/gip_A00062055009_features.csv\n"
          ]
        },
        {
          "name": "stderr",
          "output_type": "stream",
          "text": [
            "Processing .mat files:  84%|██████████  | 1252/1489 [2:42:44<2:50:21, 43.13s/it]"
          ]
        },
        {
          "name": "stdout",
          "output_type": "stream",
          "text": [
            "Saved features for gip_A00062055010 -> gs://eegchild/processed_features/gip_A00062055010_features.csv\n"
          ]
        },
        {
          "name": "stderr",
          "output_type": "stream",
          "text": [
            "Processing .mat files:  84%|██████████  | 1253/1489 [2:43:57<3:24:21, 51.96s/it]"
          ]
        },
        {
          "name": "stdout",
          "output_type": "stream",
          "text": [
            "Saved features for gip_A00062055011 -> gs://eegchild/processed_features/gip_A00062055011_features.csv\n"
          ]
        },
        {
          "name": "stderr",
          "output_type": "stream",
          "text": [
            "Processing .mat files:  84%|██████████  | 1254/1489 [2:44:27<2:58:06, 45.47s/it]"
          ]
        },
        {
          "name": "stdout",
          "output_type": "stream",
          "text": [
            "Saved features for gp_A00062055007 -> gs://eegchild/processed_features/gp_A00062055007_features.csv\n"
          ]
        },
        {
          "name": "stderr",
          "output_type": "stream",
          "text": [
            "Processing .mat files:  84%|██████████  | 1255/1489 [2:44:44<2:24:24, 37.03s/it]"
          ]
        },
        {
          "name": "stdout",
          "output_type": "stream",
          "text": [
            "Saved features for gp_A00062055013 -> gs://eegchild/processed_features/gp_A00062055013_features.csv\n"
          ]
        },
        {
          "name": "stderr",
          "output_type": "stream",
          "text": [
            "Processing .mat files:  84%|██████████  | 1256/1489 [2:46:08<3:18:07, 51.02s/it]"
          ]
        },
        {
          "name": "stdout",
          "output_type": "stream",
          "text": [
            "Saved features for oip_A00062055001 -> gs://eegchild/processed_features/oip_A00062055001_features.csv\n"
          ]
        },
        {
          "name": "stderr",
          "output_type": "stream",
          "text": [
            "Processing .mat files:  84%|██████████▏ | 1257/1489 [2:47:40<4:04:50, 63.32s/it]"
          ]
        },
        {
          "name": "stdout",
          "output_type": "stream",
          "text": [
            "Saved features for oip_A00062055002 -> gs://eegchild/processed_features/oip_A00062055002_features.csv\n"
          ]
        },
        {
          "name": "stderr",
          "output_type": "stream",
          "text": [
            "Processing .mat files:  84%|██████████▏ | 1258/1489 [2:48:53<4:15:14, 66.30s/it]"
          ]
        },
        {
          "name": "stdout",
          "output_type": "stream",
          "text": [
            "Saved features for oip_A00062055003 -> gs://eegchild/processed_features/oip_A00062055003_features.csv\n"
          ]
        },
        {
          "name": "stderr",
          "output_type": "stream",
          "text": [
            "Processing .mat files:  85%|██████████▏ | 1259/1489 [2:49:25<3:34:51, 56.05s/it]"
          ]
        },
        {
          "name": "stdout",
          "output_type": "stream",
          "text": [
            "Saved features for oip_A00062055004 -> gs://eegchild/processed_features/oip_A00062055004_features.csv\n"
          ]
        },
        {
          "name": "stderr",
          "output_type": "stream",
          "text": [
            "Processing .mat files:  85%|██████████▏ | 1260/1489 [2:50:10<3:20:47, 52.61s/it]"
          ]
        },
        {
          "name": "stdout",
          "output_type": "stream",
          "text": [
            "Saved features for oip_A00062055012 -> gs://eegchild/processed_features/oip_A00062055012_features.csv\n"
          ]
        },
        {
          "name": "stderr",
          "output_type": "stream",
          "text": [
            "Processing .mat files:  85%|██████████▏ | 1261/1489 [2:51:21<3:40:44, 58.09s/it]"
          ]
        },
        {
          "name": "stdout",
          "output_type": "stream",
          "text": [
            "Saved features for gip_A00062125001 -> gs://eegchild/processed_features/gip_A00062125001_features.csv\n"
          ]
        },
        {
          "name": "stderr",
          "output_type": "stream",
          "text": [
            "Processing .mat files:  85%|██████████▏ | 1262/1489 [2:52:16<3:36:18, 57.17s/it]"
          ]
        },
        {
          "name": "stdout",
          "output_type": "stream",
          "text": [
            "Saved features for gip_A00062125002 -> gs://eegchild/processed_features/gip_A00062125002_features.csv\n"
          ]
        },
        {
          "name": "stderr",
          "output_type": "stream",
          "text": [
            "Processing .mat files:  85%|██████████▏ | 1263/1489 [2:53:07<3:28:47, 55.43s/it]"
          ]
        },
        {
          "name": "stdout",
          "output_type": "stream",
          "text": [
            "Saved features for gip_A00062125003 -> gs://eegchild/processed_features/gip_A00062125003_features.csv\n"
          ]
        },
        {
          "name": "stderr",
          "output_type": "stream",
          "text": [
            "Processing .mat files:  85%|██████████▏ | 1264/1489 [2:54:26<3:54:08, 62.44s/it]"
          ]
        },
        {
          "name": "stdout",
          "output_type": "stream",
          "text": [
            "Saved features for gip_A00062125004 -> gs://eegchild/processed_features/gip_A00062125004_features.csv\n"
          ]
        },
        {
          "name": "stderr",
          "output_type": "stream",
          "text": [
            "Processing .mat files:  85%|██████████▏ | 1265/1489 [2:55:07<3:29:14, 56.05s/it]"
          ]
        },
        {
          "name": "stdout",
          "output_type": "stream",
          "text": [
            "Saved features for gip_A00062125005 -> gs://eegchild/processed_features/gip_A00062125005_features.csv\n"
          ]
        },
        {
          "name": "stderr",
          "output_type": "stream",
          "text": [
            "Processing .mat files:  85%|██████████▏ | 1266/1489 [2:55:43<3:05:35, 49.93s/it]"
          ]
        },
        {
          "name": "stdout",
          "output_type": "stream",
          "text": [
            "Saved features for gip_A00062125006 -> gs://eegchild/processed_features/gip_A00062125006_features.csv\n"
          ]
        },
        {
          "name": "stderr",
          "output_type": "stream",
          "text": [
            "Processing .mat files:  85%|██████████▏ | 1267/1489 [2:57:20<3:57:21, 64.15s/it]"
          ]
        },
        {
          "name": "stdout",
          "output_type": "stream",
          "text": [
            "Saved features for gip_A00062125007 -> gs://eegchild/processed_features/gip_A00062125007_features.csv\n"
          ]
        },
        {
          "name": "stderr",
          "output_type": "stream",
          "text": [
            "Processing .mat files:  85%|██████████▏ | 1268/1489 [2:57:57<3:26:40, 56.11s/it]"
          ]
        },
        {
          "name": "stdout",
          "output_type": "stream",
          "text": [
            "Saved features for gip_A00062125008 -> gs://eegchild/processed_features/gip_A00062125008_features.csv\n"
          ]
        },
        {
          "name": "stderr",
          "output_type": "stream",
          "text": [
            "Processing .mat files:  85%|██████████▏ | 1269/1489 [2:58:40<3:10:31, 51.96s/it]"
          ]
        },
        {
          "name": "stdout",
          "output_type": "stream",
          "text": [
            "Saved features for gip_A00062125010 -> gs://eegchild/processed_features/gip_A00062125010_features.csv\n"
          ]
        },
        {
          "name": "stderr",
          "output_type": "stream",
          "text": [
            "Processing .mat files:  85%|██████████▏ | 1270/1489 [2:59:28<3:05:06, 50.71s/it]"
          ]
        },
        {
          "name": "stdout",
          "output_type": "stream",
          "text": [
            "Saved features for gip_A00062125011 -> gs://eegchild/processed_features/gip_A00062125011_features.csv\n"
          ]
        },
        {
          "name": "stderr",
          "output_type": "stream",
          "text": [
            "Processing .mat files:  85%|██████████▏ | 1271/1489 [3:00:13<2:58:32, 49.14s/it]"
          ]
        },
        {
          "name": "stdout",
          "output_type": "stream",
          "text": [
            "Saved features for gp_A00062125009 -> gs://eegchild/processed_features/gp_A00062125009_features.csv\n",
            "Saved features for gp_A00062125012 -> gs://eegchild/processed_features/gp_A00062125012_features.csv\n"
          ]
        },
        {
          "name": "stderr",
          "output_type": "stream",
          "text": [
            "Processing .mat files:  85%|██████████▎ | 1273/1489 [3:01:22<2:21:05, 39.19s/it]"
          ]
        },
        {
          "name": "stdout",
          "output_type": "stream",
          "text": [
            "Saved features for gp_A00062125014 -> gs://eegchild/processed_features/gp_A00062125014_features.csv\n"
          ]
        },
        {
          "name": "stderr",
          "output_type": "stream",
          "text": [
            "Processing .mat files:  86%|██████████▎ | 1274/1489 [3:01:52<2:10:30, 36.42s/it]"
          ]
        },
        {
          "name": "stdout",
          "output_type": "stream",
          "text": [
            "Saved features for oip_A00062125013 -> gs://eegchild/processed_features/oip_A00062125013_features.csv\n"
          ]
        },
        {
          "name": "stderr",
          "output_type": "stream",
          "text": [
            "Processing .mat files:  86%|██████████▎ | 1275/1489 [3:02:33<2:15:38, 38.03s/it]"
          ]
        },
        {
          "name": "stdout",
          "output_type": "stream",
          "text": [
            "Saved features for bip_A00062165005 -> gs://eegchild/processed_features/bip_A00062165005_features.csv\n"
          ]
        },
        {
          "name": "stderr",
          "output_type": "stream",
          "text": [
            "Processing .mat files:  86%|██████████▎ | 1276/1489 [3:03:19<2:23:27, 40.41s/it]"
          ]
        },
        {
          "name": "stdout",
          "output_type": "stream",
          "text": [
            "Saved features for bip_A00062165006 -> gs://eegchild/processed_features/bip_A00062165006_features.csv\n"
          ]
        },
        {
          "name": "stderr",
          "output_type": "stream",
          "text": [
            "Processing .mat files:  86%|██████████▎ | 1277/1489 [3:04:21<2:44:43, 46.62s/it]"
          ]
        },
        {
          "name": "stdout",
          "output_type": "stream",
          "text": [
            "Saved features for bp_A00062165012 -> gs://eegchild/processed_features/bp_A00062165012_features.csv\n"
          ]
        },
        {
          "name": "stderr",
          "output_type": "stream",
          "text": [
            "Processing .mat files:  86%|██████████▎ | 1278/1489 [3:04:55<2:31:08, 42.98s/it]"
          ]
        },
        {
          "name": "stdout",
          "output_type": "stream",
          "text": [
            "Saved features for bp_A00062165013 -> gs://eegchild/processed_features/bp_A00062165013_features.csv\n"
          ]
        },
        {
          "name": "stderr",
          "output_type": "stream",
          "text": [
            "Processing .mat files:  86%|██████████▎ | 1279/1489 [3:06:13<3:06:53, 53.40s/it]"
          ]
        },
        {
          "name": "stdout",
          "output_type": "stream",
          "text": [
            "Saved features for gip_A00062165001 -> gs://eegchild/processed_features/gip_A00062165001_features.csv\n"
          ]
        },
        {
          "name": "stderr",
          "output_type": "stream",
          "text": [
            "Processing .mat files:  86%|██████████▎ | 1280/1489 [3:07:25<3:25:13, 58.91s/it]"
          ]
        },
        {
          "name": "stdout",
          "output_type": "stream",
          "text": [
            "Saved features for gip_A00062165004 -> gs://eegchild/processed_features/gip_A00062165004_features.csv\n"
          ]
        },
        {
          "name": "stderr",
          "output_type": "stream",
          "text": [
            "Processing .mat files:  86%|██████████▎ | 1281/1489 [3:08:29<3:30:04, 60.60s/it]"
          ]
        },
        {
          "name": "stdout",
          "output_type": "stream",
          "text": [
            "Saved features for gip_A00062165007 -> gs://eegchild/processed_features/gip_A00062165007_features.csv\n"
          ]
        },
        {
          "name": "stderr",
          "output_type": "stream",
          "text": [
            "Processing .mat files:  86%|██████████▎ | 1282/1489 [3:09:17<3:16:17, 56.89s/it]"
          ]
        },
        {
          "name": "stdout",
          "output_type": "stream",
          "text": [
            "Saved features for gip_A00062165008 -> gs://eegchild/processed_features/gip_A00062165008_features.csv\n"
          ]
        },
        {
          "name": "stderr",
          "output_type": "stream",
          "text": [
            "Processing .mat files:  86%|██████████▎ | 1283/1489 [3:10:07<3:08:18, 54.85s/it]"
          ]
        },
        {
          "name": "stdout",
          "output_type": "stream",
          "text": [
            "Saved features for gip_A00062165009 -> gs://eegchild/processed_features/gip_A00062165009_features.csv\n"
          ]
        },
        {
          "name": "stderr",
          "output_type": "stream",
          "text": [
            "Processing .mat files:  86%|██████████▎ | 1284/1489 [3:10:41<2:46:04, 48.61s/it]"
          ]
        },
        {
          "name": "stdout",
          "output_type": "stream",
          "text": [
            "Saved features for gip_A00062165010 -> gs://eegchild/processed_features/gip_A00062165010_features.csv\n"
          ]
        },
        {
          "name": "stderr",
          "output_type": "stream",
          "text": [
            "Processing .mat files:  86%|██████████▎ | 1285/1489 [3:11:55<3:10:55, 56.15s/it]"
          ]
        },
        {
          "name": "stdout",
          "output_type": "stream",
          "text": [
            "Saved features for oip_A00062165002 -> gs://eegchild/processed_features/oip_A00062165002_features.csv\n"
          ]
        },
        {
          "name": "stderr",
          "output_type": "stream",
          "text": [
            "Processing .mat files:  86%|██████████▎ | 1286/1489 [3:12:33<2:51:14, 50.62s/it]"
          ]
        },
        {
          "name": "stdout",
          "output_type": "stream",
          "text": [
            "Saved features for oip_A00062165003 -> gs://eegchild/processed_features/oip_A00062165003_features.csv\n"
          ]
        },
        {
          "name": "stderr",
          "output_type": "stream",
          "text": [
            "Processing .mat files:  86%|██████████▎ | 1287/1489 [3:13:22<2:48:29, 50.05s/it]"
          ]
        },
        {
          "name": "stdout",
          "output_type": "stream",
          "text": [
            "Saved features for oip_A00062165011 -> gs://eegchild/processed_features/oip_A00062165011_features.csv\n"
          ]
        },
        {
          "name": "stderr",
          "output_type": "stream",
          "text": [
            "Processing .mat files:  87%|██████████▍ | 1288/1489 [3:14:00<2:36:07, 46.60s/it]"
          ]
        },
        {
          "name": "stdout",
          "output_type": "stream",
          "text": [
            "Saved features for bp_A00062219007 -> gs://eegchild/processed_features/bp_A00062219007_features.csv\n"
          ]
        },
        {
          "name": "stderr",
          "output_type": "stream",
          "text": [
            "Processing .mat files:  87%|██████████▍ | 1289/1489 [3:14:54<2:42:26, 48.73s/it]"
          ]
        },
        {
          "name": "stdout",
          "output_type": "stream",
          "text": [
            "Saved features for gip_A00062219001 -> gs://eegchild/processed_features/gip_A00062219001_features.csv\n"
          ]
        },
        {
          "name": "stderr",
          "output_type": "stream",
          "text": [
            "Processing .mat files:  87%|██████████▍ | 1290/1489 [3:15:56<2:54:51, 52.72s/it]"
          ]
        },
        {
          "name": "stdout",
          "output_type": "stream",
          "text": [
            "Saved features for gip_A00062219003 -> gs://eegchild/processed_features/gip_A00062219003_features.csv\n"
          ]
        },
        {
          "name": "stderr",
          "output_type": "stream",
          "text": [
            "Processing .mat files:  87%|██████████▍ | 1291/1489 [3:16:21<2:26:17, 44.33s/it]"
          ]
        },
        {
          "name": "stdout",
          "output_type": "stream",
          "text": [
            "Saved features for gip_A00062219004 -> gs://eegchild/processed_features/gip_A00062219004_features.csv\n"
          ]
        },
        {
          "name": "stderr",
          "output_type": "stream",
          "text": [
            "Processing .mat files:  87%|██████████▍ | 1292/1489 [3:17:24<2:44:03, 49.97s/it]"
          ]
        },
        {
          "name": "stdout",
          "output_type": "stream",
          "text": [
            "Saved features for gip_A00062219006 -> gs://eegchild/processed_features/gip_A00062219006_features.csv\n"
          ]
        },
        {
          "name": "stderr",
          "output_type": "stream",
          "text": [
            "Processing .mat files:  87%|██████████▍ | 1293/1489 [3:17:55<2:25:21, 44.50s/it]"
          ]
        },
        {
          "name": "stdout",
          "output_type": "stream",
          "text": [
            "Saved features for gip_A00062219010 -> gs://eegchild/processed_features/gip_A00062219010_features.csv\n"
          ]
        },
        {
          "name": "stderr",
          "output_type": "stream",
          "text": [
            "Processing .mat files:  87%|██████████▍ | 1294/1489 [3:18:40<2:24:14, 44.38s/it]"
          ]
        },
        {
          "name": "stdout",
          "output_type": "stream",
          "text": [
            "Saved features for gip_A00062219011 -> gs://eegchild/processed_features/gip_A00062219011_features.csv\n"
          ]
        },
        {
          "name": "stderr",
          "output_type": "stream",
          "text": [
            "Processing .mat files:  87%|██████████▍ | 1295/1489 [3:19:07<2:07:25, 39.41s/it]"
          ]
        },
        {
          "name": "stdout",
          "output_type": "stream",
          "text": [
            "Saved features for gip_A00062219012 -> gs://eegchild/processed_features/gip_A00062219012_features.csv\n"
          ]
        },
        {
          "name": "stderr",
          "output_type": "stream",
          "text": [
            "Processing .mat files:  87%|██████████▍ | 1296/1489 [3:20:09<2:28:03, 46.03s/it]"
          ]
        },
        {
          "name": "stdout",
          "output_type": "stream",
          "text": [
            "Saved features for gip_A00062219014 -> gs://eegchild/processed_features/gip_A00062219014_features.csv\n"
          ]
        },
        {
          "name": "stderr",
          "output_type": "stream",
          "text": [
            "Processing .mat files:  87%|██████████▍ | 1297/1489 [3:20:57<2:29:30, 46.72s/it]"
          ]
        },
        {
          "name": "stdout",
          "output_type": "stream",
          "text": [
            "Saved features for gp_A00062219002 -> gs://eegchild/processed_features/gp_A00062219002_features.csv\n"
          ]
        },
        {
          "name": "stderr",
          "output_type": "stream",
          "text": [
            "Processing .mat files:  87%|██████████▍ | 1298/1489 [3:21:37<2:22:15, 44.69s/it]"
          ]
        },
        {
          "name": "stdout",
          "output_type": "stream",
          "text": [
            "Saved features for gp_A00062219009 -> gs://eegchild/processed_features/gp_A00062219009_features.csv\n"
          ]
        },
        {
          "name": "stderr",
          "output_type": "stream",
          "text": [
            "Processing .mat files:  87%|██████████▍ | 1299/1489 [3:22:10<2:10:39, 41.26s/it]"
          ]
        },
        {
          "name": "stdout",
          "output_type": "stream",
          "text": [
            "Saved features for gp_A00062219013 -> gs://eegchild/processed_features/gp_A00062219013_features.csv\n",
            "Saved features for oip_A00062219005 -> gs://eegchild/processed_features/oip_A00062219005_features.csv\n"
          ]
        },
        {
          "name": "stderr",
          "output_type": "stream",
          "text": [
            "Processing .mat files:  87%|██████████▍ | 1301/1489 [3:22:36<1:24:38, 27.01s/it]"
          ]
        },
        {
          "name": "stdout",
          "output_type": "stream",
          "text": [
            "Saved features for oip_A00062219008 -> gs://eegchild/processed_features/oip_A00062219008_features.csv\n"
          ]
        },
        {
          "name": "stderr",
          "output_type": "stream",
          "text": [
            "Processing .mat files:  87%|██████████▍ | 1302/1489 [3:23:04<1:25:29, 27.43s/it]"
          ]
        },
        {
          "name": "stdout",
          "output_type": "stream",
          "text": [
            "Saved features for oip_A00062219015 -> gs://eegchild/processed_features/oip_A00062219015_features.csv\n"
          ]
        },
        {
          "name": "stderr",
          "output_type": "stream",
          "text": [
            "Processing .mat files:  88%|██████████▌ | 1303/1489 [3:24:06<1:56:54, 37.71s/it]"
          ]
        },
        {
          "name": "stdout",
          "output_type": "stream",
          "text": [
            "Saved features for gip_A00062279001 -> gs://eegchild/processed_features/gip_A00062279001_features.csv\n"
          ]
        },
        {
          "name": "stderr",
          "output_type": "stream",
          "text": [
            "Processing .mat files:  88%|██████████▌ | 1304/1489 [3:24:53<2:05:24, 40.67s/it]"
          ]
        },
        {
          "name": "stdout",
          "output_type": "stream",
          "text": [
            "Saved features for gip_A00062279002 -> gs://eegchild/processed_features/gip_A00062279002_features.csv\n"
          ]
        },
        {
          "name": "stderr",
          "output_type": "stream",
          "text": [
            "Processing .mat files:  88%|██████████▌ | 1305/1489 [3:25:21<1:52:58, 36.84s/it]"
          ]
        },
        {
          "name": "stdout",
          "output_type": "stream",
          "text": [
            "Saved features for gip_A00062279003 -> gs://eegchild/processed_features/gip_A00062279003_features.csv\n"
          ]
        },
        {
          "name": "stderr",
          "output_type": "stream",
          "text": [
            "Processing .mat files:  88%|██████████▌ | 1306/1489 [3:26:32<2:23:15, 46.97s/it]"
          ]
        },
        {
          "name": "stdout",
          "output_type": "stream",
          "text": [
            "Saved features for gip_A00062279004 -> gs://eegchild/processed_features/gip_A00062279004_features.csv\n"
          ]
        },
        {
          "name": "stderr",
          "output_type": "stream",
          "text": [
            "Processing .mat files:  88%|██████████▌ | 1307/1489 [3:27:21<2:24:25, 47.61s/it]"
          ]
        },
        {
          "name": "stdout",
          "output_type": "stream",
          "text": [
            "Saved features for gip_A00062279005 -> gs://eegchild/processed_features/gip_A00062279005_features.csv\n"
          ]
        },
        {
          "name": "stderr",
          "output_type": "stream",
          "text": [
            "Processing .mat files:  88%|██████████▌ | 1308/1489 [3:28:06<2:20:52, 46.70s/it]"
          ]
        },
        {
          "name": "stdout",
          "output_type": "stream",
          "text": [
            "Saved features for gip_A00062279006 -> gs://eegchild/processed_features/gip_A00062279006_features.csv\n"
          ]
        },
        {
          "name": "stderr",
          "output_type": "stream",
          "text": [
            "Processing .mat files:  88%|██████████▌ | 1309/1489 [3:29:22<2:47:16, 55.76s/it]"
          ]
        },
        {
          "name": "stdout",
          "output_type": "stream",
          "text": [
            "Saved features for gip_A00062279007 -> gs://eegchild/processed_features/gip_A00062279007_features.csv\n"
          ]
        },
        {
          "name": "stderr",
          "output_type": "stream",
          "text": [
            "Processing .mat files:  88%|██████████▌ | 1310/1489 [3:29:59<2:28:43, 49.85s/it]"
          ]
        },
        {
          "name": "stdout",
          "output_type": "stream",
          "text": [
            "Saved features for gip_A00062279008 -> gs://eegchild/processed_features/gip_A00062279008_features.csv\n",
            "Saved features for gip_A00062279009 -> gs://eegchild/processed_features/gip_A00062279009_features.csv\n"
          ]
        },
        {
          "name": "stderr",
          "output_type": "stream",
          "text": [
            "Processing .mat files:  88%|██████████▌ | 1312/1489 [3:31:31<2:20:04, 47.48s/it]"
          ]
        },
        {
          "name": "stdout",
          "output_type": "stream",
          "text": [
            "Saved features for gip_A00062279010 -> gs://eegchild/processed_features/gip_A00062279010_features.csv\n"
          ]
        },
        {
          "name": "stderr",
          "output_type": "stream",
          "text": [
            "Processing .mat files:  88%|██████████▌ | 1313/1489 [3:32:12<2:13:30, 45.51s/it]"
          ]
        },
        {
          "name": "stdout",
          "output_type": "stream",
          "text": [
            "Saved features for gip_A00062279011 -> gs://eegchild/processed_features/gip_A00062279011_features.csv\n"
          ]
        },
        {
          "name": "stderr",
          "output_type": "stream",
          "text": [
            "Processing .mat files:  88%|██████████▌ | 1314/1489 [3:33:20<2:32:14, 52.20s/it]"
          ]
        },
        {
          "name": "stdout",
          "output_type": "stream",
          "text": [
            "Saved features for gip_A00062279012 -> gs://eegchild/processed_features/gip_A00062279012_features.csv\n",
            "Saved features for gp_A00062279014 -> gs://eegchild/processed_features/gp_A00062279014_features.csv\n"
          ]
        },
        {
          "name": "stderr",
          "output_type": "stream",
          "text": [
            "Processing .mat files:  88%|██████████▌ | 1316/1489 [3:34:45<2:20:24, 48.70s/it]"
          ]
        },
        {
          "name": "stdout",
          "output_type": "stream",
          "text": [
            "Saved features for oip_A00062279013 -> gs://eegchild/processed_features/oip_A00062279013_features.csv\n"
          ]
        },
        {
          "name": "stderr",
          "output_type": "stream",
          "text": [
            "Processing .mat files:  88%|██████████▌ | 1317/1489 [3:35:46<2:30:24, 52.47s/it]"
          ]
        },
        {
          "name": "stdout",
          "output_type": "stream",
          "text": [
            "Saved features for bp_A00062329013 -> gs://eegchild/processed_features/bp_A00062329013_features.csv\n"
          ]
        },
        {
          "name": "stderr",
          "output_type": "stream",
          "text": [
            "Processing .mat files:  89%|██████████▌ | 1318/1489 [3:36:12<2:06:44, 44.47s/it]"
          ]
        },
        {
          "name": "stdout",
          "output_type": "stream",
          "text": [
            "Saved features for bp_A00062329014 -> gs://eegchild/processed_features/bp_A00062329014_features.csv\n"
          ]
        },
        {
          "name": "stderr",
          "output_type": "stream",
          "text": [
            "Processing .mat files:  89%|██████████▋ | 1319/1489 [3:37:22<2:27:39, 52.11s/it]"
          ]
        },
        {
          "name": "stdout",
          "output_type": "stream",
          "text": [
            "Saved features for gip_A00062329001 -> gs://eegchild/processed_features/gip_A00062329001_features.csv\n"
          ]
        },
        {
          "name": "stderr",
          "output_type": "stream",
          "text": [
            "Processing .mat files:  89%|██████████▋ | 1320/1489 [3:38:08<2:21:58, 50.40s/it]"
          ]
        },
        {
          "name": "stdout",
          "output_type": "stream",
          "text": [
            "Saved features for gip_A00062329002 -> gs://eegchild/processed_features/gip_A00062329002_features.csv\n"
          ]
        },
        {
          "name": "stderr",
          "output_type": "stream",
          "text": [
            "Processing .mat files:  89%|██████████▋ | 1321/1489 [3:38:40<2:05:56, 44.98s/it]"
          ]
        },
        {
          "name": "stdout",
          "output_type": "stream",
          "text": [
            "Saved features for gip_A00062329003 -> gs://eegchild/processed_features/gip_A00062329003_features.csv\n"
          ]
        },
        {
          "name": "stderr",
          "output_type": "stream",
          "text": [
            "Processing .mat files:  89%|██████████▋ | 1322/1489 [3:39:49<2:24:44, 52.00s/it]"
          ]
        },
        {
          "name": "stdout",
          "output_type": "stream",
          "text": [
            "Saved features for gip_A00062329004 -> gs://eegchild/processed_features/gip_A00062329004_features.csv\n"
          ]
        },
        {
          "name": "stderr",
          "output_type": "stream",
          "text": [
            "Processing .mat files:  89%|██████████▋ | 1323/1489 [3:40:35<2:18:49, 50.18s/it]"
          ]
        },
        {
          "name": "stdout",
          "output_type": "stream",
          "text": [
            "Saved features for gip_A00062329005 -> gs://eegchild/processed_features/gip_A00062329005_features.csv\n"
          ]
        },
        {
          "name": "stderr",
          "output_type": "stream",
          "text": [
            "Processing .mat files:  89%|██████████▋ | 1324/1489 [3:40:57<1:54:36, 41.67s/it]"
          ]
        },
        {
          "name": "stdout",
          "output_type": "stream",
          "text": [
            "Saved features for gip_A00062329006 -> gs://eegchild/processed_features/gip_A00062329006_features.csv\n"
          ]
        },
        {
          "name": "stderr",
          "output_type": "stream",
          "text": [
            "Processing .mat files:  89%|██████████▋ | 1325/1489 [3:41:18<1:37:07, 35.53s/it]"
          ]
        },
        {
          "name": "stdout",
          "output_type": "stream",
          "text": [
            "Saved features for gip_A00062329007 -> gs://eegchild/processed_features/gip_A00062329007_features.csv\n"
          ]
        },
        {
          "name": "stderr",
          "output_type": "stream",
          "text": [
            "Processing .mat files:  89%|██████████▋ | 1326/1489 [3:42:06<1:47:05, 39.42s/it]"
          ]
        },
        {
          "name": "stdout",
          "output_type": "stream",
          "text": [
            "Saved features for gip_A00062329008 -> gs://eegchild/processed_features/gip_A00062329008_features.csv\n"
          ]
        },
        {
          "name": "stderr",
          "output_type": "stream",
          "text": [
            "Processing .mat files:  89%|██████████▋ | 1327/1489 [3:42:43<1:44:01, 38.53s/it]"
          ]
        },
        {
          "name": "stdout",
          "output_type": "stream",
          "text": [
            "Saved features for gip_A00062329009 -> gs://eegchild/processed_features/gip_A00062329009_features.csv\n"
          ]
        },
        {
          "name": "stderr",
          "output_type": "stream",
          "text": [
            "Processing .mat files:  89%|██████████▋ | 1328/1489 [3:43:31<1:51:18, 41.48s/it]"
          ]
        },
        {
          "name": "stdout",
          "output_type": "stream",
          "text": [
            "Saved features for gip_A00062329010 -> gs://eegchild/processed_features/gip_A00062329010_features.csv\n"
          ]
        },
        {
          "name": "stderr",
          "output_type": "stream",
          "text": [
            "Processing .mat files:  89%|██████████▋ | 1329/1489 [3:44:07<1:46:19, 39.87s/it]"
          ]
        },
        {
          "name": "stdout",
          "output_type": "stream",
          "text": [
            "Saved features for gip_A00062329011 -> gs://eegchild/processed_features/gip_A00062329011_features.csv\n"
          ]
        },
        {
          "name": "stderr",
          "output_type": "stream",
          "text": [
            "Processing .mat files:  89%|██████████▋ | 1330/1489 [3:44:51<1:48:32, 40.96s/it]"
          ]
        },
        {
          "name": "stdout",
          "output_type": "stream",
          "text": [
            "Saved features for gip_A00062329012 -> gs://eegchild/processed_features/gip_A00062329012_features.csv\n"
          ]
        },
        {
          "name": "stderr",
          "output_type": "stream",
          "text": [
            "Processing .mat files:  89%|██████████▋ | 1331/1489 [3:46:04<2:13:12, 50.58s/it]"
          ]
        },
        {
          "name": "stdout",
          "output_type": "stream",
          "text": [
            "Saved features for bip_A00062408004 -> gs://eegchild/processed_features/bip_A00062408004_features.csv\n"
          ]
        },
        {
          "name": "stderr",
          "output_type": "stream",
          "text": [
            "Processing .mat files:  89%|██████████▋ | 1332/1489 [3:47:09<2:24:13, 55.12s/it]"
          ]
        },
        {
          "name": "stdout",
          "output_type": "stream",
          "text": [
            "Saved features for bip_A00062408005 -> gs://eegchild/processed_features/bip_A00062408005_features.csv\n"
          ]
        },
        {
          "name": "stderr",
          "output_type": "stream",
          "text": [
            "Processing .mat files:  90%|██████████▋ | 1333/1489 [3:49:16<3:19:15, 76.64s/it]"
          ]
        },
        {
          "name": "stdout",
          "output_type": "stream",
          "text": [
            "Saved features for bip_A00062408006 -> gs://eegchild/processed_features/bip_A00062408006_features.csv\n"
          ]
        },
        {
          "name": "stderr",
          "output_type": "stream",
          "text": [
            "Processing .mat files:  90%|██████████▊ | 1334/1489 [3:50:05<2:56:33, 68.35s/it]"
          ]
        },
        {
          "name": "stdout",
          "output_type": "stream",
          "text": [
            "Saved features for bip_A00062408007 -> gs://eegchild/processed_features/bip_A00062408007_features.csv\n"
          ]
        },
        {
          "name": "stderr",
          "output_type": "stream",
          "text": [
            "Processing .mat files:  90%|██████████▊ | 1335/1489 [3:50:55<2:40:51, 62.67s/it]"
          ]
        },
        {
          "name": "stdout",
          "output_type": "stream",
          "text": [
            "Saved features for bip_A00062408009 -> gs://eegchild/processed_features/bip_A00062408009_features.csv\n"
          ]
        },
        {
          "name": "stderr",
          "output_type": "stream",
          "text": [
            "Processing .mat files:  90%|██████████▊ | 1336/1489 [3:51:36<2:23:14, 56.18s/it]"
          ]
        },
        {
          "name": "stdout",
          "output_type": "stream",
          "text": [
            "Saved features for bip_A00062408010 -> gs://eegchild/processed_features/bip_A00062408010_features.csv\n"
          ]
        },
        {
          "name": "stderr",
          "output_type": "stream",
          "text": [
            "Processing .mat files:  90%|██████████▊ | 1337/1489 [3:52:44<2:31:35, 59.84s/it]"
          ]
        },
        {
          "name": "stdout",
          "output_type": "stream",
          "text": [
            "Saved features for bip_A00062408012 -> gs://eegchild/processed_features/bip_A00062408012_features.csv\n"
          ]
        },
        {
          "name": "stderr",
          "output_type": "stream",
          "text": [
            "Processing .mat files:  90%|██████████▊ | 1338/1489 [3:53:31<2:21:06, 56.07s/it]"
          ]
        },
        {
          "name": "stdout",
          "output_type": "stream",
          "text": [
            "Saved features for bip_A00062408013 -> gs://eegchild/processed_features/bip_A00062408013_features.csv\n",
            "Saved features for bp_A00062408011 -> gs://eegchild/processed_features/bp_A00062408011_features.csv\n"
          ]
        },
        {
          "name": "stderr",
          "output_type": "stream",
          "text": [
            "Processing .mat files:  90%|██████████▊ | 1340/1489 [3:54:13<1:30:28, 36.44s/it]"
          ]
        },
        {
          "name": "stdout",
          "output_type": "stream",
          "text": [
            "Saved features for bp_A00062408014 -> gs://eegchild/processed_features/bp_A00062408014_features.csv\n"
          ]
        },
        {
          "name": "stderr",
          "output_type": "stream",
          "text": [
            "Processing .mat files:  90%|██████████▊ | 1341/1489 [3:55:24<1:55:09, 46.69s/it]"
          ]
        },
        {
          "name": "stdout",
          "output_type": "stream",
          "text": [
            "Saved features for oip_A00062408001 -> gs://eegchild/processed_features/oip_A00062408001_features.csv\n"
          ]
        },
        {
          "name": "stderr",
          "output_type": "stream",
          "text": [
            "Processing .mat files:  90%|██████████▊ | 1342/1489 [3:56:00<1:46:51, 43.62s/it]"
          ]
        },
        {
          "name": "stdout",
          "output_type": "stream",
          "text": [
            "Saved features for oip_A00062408002 -> gs://eegchild/processed_features/oip_A00062408002_features.csv\n"
          ]
        },
        {
          "name": "stderr",
          "output_type": "stream",
          "text": [
            "Processing .mat files:  90%|██████████▊ | 1343/1489 [3:56:34<1:38:53, 40.64s/it]"
          ]
        },
        {
          "name": "stdout",
          "output_type": "stream",
          "text": [
            "Saved features for oip_A00062408003 -> gs://eegchild/processed_features/oip_A00062408003_features.csv\n"
          ]
        },
        {
          "name": "stderr",
          "output_type": "stream",
          "text": [
            "Processing .mat files:  90%|██████████▊ | 1344/1489 [3:57:40<1:56:42, 48.29s/it]"
          ]
        },
        {
          "name": "stdout",
          "output_type": "stream",
          "text": [
            "Saved features for oip_A00062408008 -> gs://eegchild/processed_features/oip_A00062408008_features.csv\n"
          ]
        },
        {
          "name": "stderr",
          "output_type": "stream",
          "text": [
            "Processing .mat files:  90%|██████████▊ | 1345/1489 [3:58:10<1:42:16, 42.61s/it]"
          ]
        },
        {
          "name": "stdout",
          "output_type": "stream",
          "text": [
            "Saved features for bp_A00062435007 -> gs://eegchild/processed_features/bp_A00062435007_features.csv\n"
          ]
        },
        {
          "name": "stderr",
          "output_type": "stream",
          "text": [
            "Processing .mat files:  90%|██████████▊ | 1346/1489 [3:59:41<2:16:37, 57.33s/it]"
          ]
        },
        {
          "name": "stdout",
          "output_type": "stream",
          "text": [
            "Saved features for bp_A00062435008 -> gs://eegchild/processed_features/bp_A00062435008_features.csv\n"
          ]
        },
        {
          "name": "stderr",
          "output_type": "stream",
          "text": [
            "Processing .mat files:  90%|██████████▊ | 1347/1489 [4:00:45<2:20:17, 59.28s/it]"
          ]
        },
        {
          "name": "stdout",
          "output_type": "stream",
          "text": [
            "Saved features for bp_A00062435009 -> gs://eegchild/processed_features/bp_A00062435009_features.csv\n"
          ]
        },
        {
          "name": "stderr",
          "output_type": "stream",
          "text": [
            "Processing .mat files:  91%|██████████▊ | 1348/1489 [4:01:33<2:11:35, 56.00s/it]"
          ]
        },
        {
          "name": "stdout",
          "output_type": "stream",
          "text": [
            "Saved features for bp_A00062435010 -> gs://eegchild/processed_features/bp_A00062435010_features.csv\n"
          ]
        },
        {
          "name": "stderr",
          "output_type": "stream",
          "text": [
            "Processing .mat files:  91%|██████████▊ | 1349/1489 [4:02:15<2:00:35, 51.68s/it]"
          ]
        },
        {
          "name": "stdout",
          "output_type": "stream",
          "text": [
            "Saved features for bp_A00062435011 -> gs://eegchild/processed_features/bp_A00062435011_features.csv\n"
          ]
        },
        {
          "name": "stderr",
          "output_type": "stream",
          "text": [
            "Processing .mat files:  91%|██████████▉ | 1350/1489 [4:03:04<1:58:02, 50.95s/it]"
          ]
        },
        {
          "name": "stdout",
          "output_type": "stream",
          "text": [
            "Saved features for bp_A00062435012 -> gs://eegchild/processed_features/bp_A00062435012_features.csv\n"
          ]
        },
        {
          "name": "stderr",
          "output_type": "stream",
          "text": [
            "Processing .mat files:  91%|██████████▉ | 1351/1489 [4:04:19<2:13:24, 58.00s/it]"
          ]
        },
        {
          "name": "stdout",
          "output_type": "stream",
          "text": [
            "Saved features for gip_A00062435001 -> gs://eegchild/processed_features/gip_A00062435001_features.csv\n"
          ]
        },
        {
          "name": "stderr",
          "output_type": "stream",
          "text": [
            "Processing .mat files:  91%|██████████▉ | 1352/1489 [4:05:23<2:17:00, 60.01s/it]"
          ]
        },
        {
          "name": "stdout",
          "output_type": "stream",
          "text": [
            "Saved features for gip_A00062435003 -> gs://eegchild/processed_features/gip_A00062435003_features.csv\n"
          ]
        },
        {
          "name": "stderr",
          "output_type": "stream",
          "text": [
            "Processing .mat files:  91%|██████████▉ | 1353/1489 [4:06:35<2:24:13, 63.63s/it]"
          ]
        },
        {
          "name": "stdout",
          "output_type": "stream",
          "text": [
            "Saved features for gip_A00062435005 -> gs://eegchild/processed_features/gip_A00062435005_features.csv\n"
          ]
        },
        {
          "name": "stderr",
          "output_type": "stream",
          "text": [
            "Processing .mat files:  91%|██████████▉ | 1354/1489 [4:07:12<2:04:38, 55.39s/it]"
          ]
        },
        {
          "name": "stdout",
          "output_type": "stream",
          "text": [
            "Saved features for gip_A00062435006 -> gs://eegchild/processed_features/gip_A00062435006_features.csv\n"
          ]
        },
        {
          "name": "stderr",
          "output_type": "stream",
          "text": [
            "Processing .mat files:  91%|██████████▉ | 1355/1489 [4:08:31<2:19:59, 62.68s/it]"
          ]
        },
        {
          "name": "stdout",
          "output_type": "stream",
          "text": [
            "Saved features for gip_A00062435013 -> gs://eegchild/processed_features/gip_A00062435013_features.csv\n"
          ]
        },
        {
          "name": "stderr",
          "output_type": "stream",
          "text": [
            "Processing .mat files:  91%|██████████▉ | 1356/1489 [4:09:21<2:10:04, 58.68s/it]"
          ]
        },
        {
          "name": "stdout",
          "output_type": "stream",
          "text": [
            "Saved features for gp_A00062435014 -> gs://eegchild/processed_features/gp_A00062435014_features.csv\n"
          ]
        },
        {
          "name": "stderr",
          "output_type": "stream",
          "text": [
            "Processing .mat files:  91%|██████████▉ | 1357/1489 [4:09:23<1:32:09, 41.89s/it]"
          ]
        },
        {
          "name": "stdout",
          "output_type": "stream",
          "text": [
            "Saved features for gp_A00062435015 -> gs://eegchild/processed_features/gp_A00062435015_features.csv\n"
          ]
        },
        {
          "name": "stderr",
          "output_type": "stream",
          "text": [
            "Processing .mat files:  91%|██████████▉ | 1358/1489 [4:09:56<1:25:10, 39.01s/it]"
          ]
        },
        {
          "name": "stdout",
          "output_type": "stream",
          "text": [
            "Saved features for oip_A00062435002 -> gs://eegchild/processed_features/oip_A00062435002_features.csv\n"
          ]
        },
        {
          "name": "stderr",
          "output_type": "stream",
          "text": [
            "Processing .mat files:  91%|██████████▉ | 1359/1489 [4:10:36<1:25:41, 39.55s/it]"
          ]
        },
        {
          "name": "stdout",
          "output_type": "stream",
          "text": [
            "Saved features for oip_A00062435004 -> gs://eegchild/processed_features/oip_A00062435004_features.csv\n"
          ]
        },
        {
          "name": "stderr",
          "output_type": "stream",
          "text": [
            "Processing .mat files:  91%|██████████▉ | 1360/1489 [4:11:38<1:39:30, 46.29s/it]"
          ]
        },
        {
          "name": "stdout",
          "output_type": "stream",
          "text": [
            "Saved features for bp_A00062453010 -> gs://eegchild/processed_features/bp_A00062453010_features.csv\n"
          ]
        },
        {
          "name": "stderr",
          "output_type": "stream",
          "text": [
            "Processing .mat files:  91%|██████████▉ | 1361/1489 [4:13:21<2:14:47, 63.19s/it]"
          ]
        },
        {
          "name": "stdout",
          "output_type": "stream",
          "text": [
            "Saved features for gip_A00062453002 -> gs://eegchild/processed_features/gip_A00062453002_features.csv\n"
          ]
        },
        {
          "name": "stderr",
          "output_type": "stream",
          "text": [
            "Processing .mat files:  91%|██████████▉ | 1362/1489 [4:14:37<2:21:55, 67.05s/it]"
          ]
        },
        {
          "name": "stdout",
          "output_type": "stream",
          "text": [
            "Saved features for gip_A00062453003 -> gs://eegchild/processed_features/gip_A00062453003_features.csv\n"
          ]
        },
        {
          "name": "stderr",
          "output_type": "stream",
          "text": [
            "Processing .mat files:  92%|██████████▉ | 1363/1489 [4:15:28<2:10:40, 62.22s/it]"
          ]
        },
        {
          "name": "stdout",
          "output_type": "stream",
          "text": [
            "Saved features for gip_A00062453005 -> gs://eegchild/processed_features/gip_A00062453005_features.csv\n",
            "Saved features for gp_A00062453004 -> gs://eegchild/processed_features/gp_A00062453004_features.csv\n"
          ]
        },
        {
          "name": "stderr",
          "output_type": "stream",
          "text": [
            "Processing .mat files:  92%|███████████ | 1365/1489 [4:17:53<2:20:30, 67.99s/it]"
          ]
        },
        {
          "name": "stdout",
          "output_type": "stream",
          "text": [
            "Saved features for oip_A00062453001 -> gs://eegchild/processed_features/oip_A00062453001_features.csv\n"
          ]
        },
        {
          "name": "stderr",
          "output_type": "stream",
          "text": [
            "Processing .mat files:  92%|███████████ | 1366/1489 [4:18:33<2:02:13, 59.62s/it]"
          ]
        },
        {
          "name": "stdout",
          "output_type": "stream",
          "text": [
            "Saved features for oip_A00062453006 -> gs://eegchild/processed_features/oip_A00062453006_features.csv\n"
          ]
        },
        {
          "name": "stderr",
          "output_type": "stream",
          "text": [
            "Processing .mat files:  92%|███████████ | 1367/1489 [4:19:37<2:03:35, 60.79s/it]"
          ]
        },
        {
          "name": "stdout",
          "output_type": "stream",
          "text": [
            "Saved features for oip_A00062453007 -> gs://eegchild/processed_features/oip_A00062453007_features.csv\n"
          ]
        },
        {
          "name": "stderr",
          "output_type": "stream",
          "text": [
            "Processing .mat files:  92%|███████████ | 1368/1489 [4:20:43<2:05:40, 62.32s/it]"
          ]
        },
        {
          "name": "stdout",
          "output_type": "stream",
          "text": [
            "Saved features for oip_A00062453008 -> gs://eegchild/processed_features/oip_A00062453008_features.csv\n"
          ]
        },
        {
          "name": "stderr",
          "output_type": "stream",
          "text": [
            "Processing .mat files:  92%|███████████ | 1369/1489 [4:21:24<1:51:46, 55.88s/it]"
          ]
        },
        {
          "name": "stdout",
          "output_type": "stream",
          "text": [
            "Saved features for oip_A00062453009 -> gs://eegchild/processed_features/oip_A00062453009_features.csv\n"
          ]
        },
        {
          "name": "stderr",
          "output_type": "stream",
          "text": [
            "Processing .mat files:  92%|███████████ | 1370/1489 [4:21:55<1:36:23, 48.60s/it]"
          ]
        },
        {
          "name": "stdout",
          "output_type": "stream",
          "text": [
            "Saved features for oip_A00062453011 -> gs://eegchild/processed_features/oip_A00062453011_features.csv\n"
          ]
        },
        {
          "name": "stderr",
          "output_type": "stream",
          "text": [
            "Processing .mat files:  92%|███████████ | 1371/1489 [4:22:59<1:44:27, 53.11s/it]"
          ]
        },
        {
          "name": "stdout",
          "output_type": "stream",
          "text": [
            "Saved features for bp_A00062578011 -> gs://eegchild/processed_features/bp_A00062578011_features.csv\n"
          ]
        },
        {
          "name": "stderr",
          "output_type": "stream",
          "text": [
            "Processing .mat files:  92%|███████████ | 1372/1489 [4:23:34<1:33:18, 47.85s/it]"
          ]
        },
        {
          "name": "stdout",
          "output_type": "stream",
          "text": [
            "Saved features for bp_A00062578012 -> gs://eegchild/processed_features/bp_A00062578012_features.csv\n"
          ]
        },
        {
          "name": "stderr",
          "output_type": "stream",
          "text": [
            "Processing .mat files:  92%|███████████ | 1373/1489 [4:25:43<2:19:28, 72.14s/it]"
          ]
        },
        {
          "name": "stdout",
          "output_type": "stream",
          "text": [
            "Saved features for gip_A00062578008 -> gs://eegchild/processed_features/gip_A00062578008_features.csv\n"
          ]
        },
        {
          "name": "stderr",
          "output_type": "stream",
          "text": [
            "Processing .mat files:  92%|███████████ | 1374/1489 [4:26:21<1:58:33, 61.86s/it]"
          ]
        },
        {
          "name": "stdout",
          "output_type": "stream",
          "text": [
            "Saved features for gip_A00062578009 -> gs://eegchild/processed_features/gip_A00062578009_features.csv\n"
          ]
        },
        {
          "name": "stderr",
          "output_type": "stream",
          "text": [
            "Processing .mat files:  92%|███████████ | 1375/1489 [4:27:08<1:48:59, 57.36s/it]"
          ]
        },
        {
          "name": "stdout",
          "output_type": "stream",
          "text": [
            "Saved features for gip_A00062578010 -> gs://eegchild/processed_features/gip_A00062578010_features.csv\n"
          ]
        },
        {
          "name": "stderr",
          "output_type": "stream",
          "text": [
            "Processing .mat files:  92%|███████████ | 1376/1489 [4:28:31<2:02:37, 65.11s/it]"
          ]
        },
        {
          "name": "stdout",
          "output_type": "stream",
          "text": [
            "Saved features for oip_A00062578001 -> gs://eegchild/processed_features/oip_A00062578001_features.csv\n"
          ]
        },
        {
          "name": "stderr",
          "output_type": "stream",
          "text": [
            "Processing .mat files:  92%|███████████ | 1377/1489 [4:29:32<1:59:07, 63.82s/it]"
          ]
        },
        {
          "name": "stdout",
          "output_type": "stream",
          "text": [
            "Saved features for oip_A00062578002 -> gs://eegchild/processed_features/oip_A00062578002_features.csv\n"
          ]
        },
        {
          "name": "stderr",
          "output_type": "stream",
          "text": [
            "Processing .mat files:  93%|███████████ | 1378/1489 [4:30:10<1:43:48, 56.11s/it]"
          ]
        },
        {
          "name": "stdout",
          "output_type": "stream",
          "text": [
            "Saved features for oip_A00062578003 -> gs://eegchild/processed_features/oip_A00062578003_features.csv\n"
          ]
        },
        {
          "name": "stderr",
          "output_type": "stream",
          "text": [
            "Processing .mat files:  93%|███████████ | 1379/1489 [4:31:27<1:54:29, 62.45s/it]"
          ]
        },
        {
          "name": "stdout",
          "output_type": "stream",
          "text": [
            "Saved features for oip_A00062578004 -> gs://eegchild/processed_features/oip_A00062578004_features.csv\n"
          ]
        },
        {
          "name": "stderr",
          "output_type": "stream",
          "text": [
            "Processing .mat files:  93%|███████████ | 1380/1489 [4:32:12<1:44:01, 57.26s/it]"
          ]
        },
        {
          "name": "stdout",
          "output_type": "stream",
          "text": [
            "Saved features for oip_A00062578005 -> gs://eegchild/processed_features/oip_A00062578005_features.csv\n"
          ]
        },
        {
          "name": "stderr",
          "output_type": "stream",
          "text": [
            "Processing .mat files:  93%|███████████▏| 1381/1489 [4:33:36<1:57:22, 65.21s/it]"
          ]
        },
        {
          "name": "stdout",
          "output_type": "stream",
          "text": [
            "Saved features for oip_A00062578006 -> gs://eegchild/processed_features/oip_A00062578006_features.csv\n"
          ]
        },
        {
          "name": "stderr",
          "output_type": "stream",
          "text": [
            "Processing .mat files:  93%|███████████▏| 1382/1489 [4:34:49<2:00:06, 67.35s/it]"
          ]
        },
        {
          "name": "stdout",
          "output_type": "stream",
          "text": [
            "Saved features for oip_A00062578007 -> gs://eegchild/processed_features/oip_A00062578007_features.csv\n"
          ]
        },
        {
          "name": "stderr",
          "output_type": "stream",
          "text": [
            "Processing .mat files:  93%|███████████▏| 1383/1489 [4:35:41<1:50:56, 62.79s/it]"
          ]
        },
        {
          "name": "stdout",
          "output_type": "stream",
          "text": [
            "Saved features for bp_A00062704006 -> gs://eegchild/processed_features/bp_A00062704006_features.csv\n"
          ]
        },
        {
          "name": "stderr",
          "output_type": "stream",
          "text": [
            "Processing .mat files:  93%|███████████▏| 1384/1489 [4:36:28<1:41:30, 58.01s/it]"
          ]
        },
        {
          "name": "stdout",
          "output_type": "stream",
          "text": [
            "Saved features for bp_A00062704007 -> gs://eegchild/processed_features/bp_A00062704007_features.csv\n"
          ]
        },
        {
          "name": "stderr",
          "output_type": "stream",
          "text": [
            "Processing .mat files:  93%|███████████▏| 1385/1489 [4:37:09<1:32:10, 53.18s/it]"
          ]
        },
        {
          "name": "stdout",
          "output_type": "stream",
          "text": [
            "Saved features for bp_A00062704008 -> gs://eegchild/processed_features/bp_A00062704008_features.csv\n"
          ]
        },
        {
          "name": "stderr",
          "output_type": "stream",
          "text": [
            "Processing .mat files:  93%|███████████▏| 1386/1489 [4:37:52<1:26:04, 50.14s/it]"
          ]
        },
        {
          "name": "stdout",
          "output_type": "stream",
          "text": [
            "Saved features for bp_A00062704009 -> gs://eegchild/processed_features/bp_A00062704009_features.csv\n"
          ]
        },
        {
          "name": "stderr",
          "output_type": "stream",
          "text": [
            "Processing .mat files:  93%|███████████▏| 1387/1489 [4:38:30<1:18:56, 46.43s/it]"
          ]
        },
        {
          "name": "stdout",
          "output_type": "stream",
          "text": [
            "Saved features for bp_A00062704010 -> gs://eegchild/processed_features/bp_A00062704010_features.csv\n"
          ]
        },
        {
          "name": "stderr",
          "output_type": "stream",
          "text": [
            "Processing .mat files:  93%|███████████▏| 1388/1489 [4:39:19<1:19:06, 47.00s/it]"
          ]
        },
        {
          "name": "stdout",
          "output_type": "stream",
          "text": [
            "Saved features for bp_A00062704011 -> gs://eegchild/processed_features/bp_A00062704011_features.csv\n"
          ]
        },
        {
          "name": "stderr",
          "output_type": "stream",
          "text": [
            "Processing .mat files:  93%|███████████▏| 1389/1489 [4:39:49<1:10:11, 42.12s/it]"
          ]
        },
        {
          "name": "stdout",
          "output_type": "stream",
          "text": [
            "Saved features for gip_A00062704003 -> gs://eegchild/processed_features/gip_A00062704003_features.csv\n"
          ]
        },
        {
          "name": "stderr",
          "output_type": "stream",
          "text": [
            "Processing .mat files:  93%|███████████▏| 1390/1489 [4:40:59<1:23:01, 50.32s/it]"
          ]
        },
        {
          "name": "stdout",
          "output_type": "stream",
          "text": [
            "Saved features for gip_A00062704012 -> gs://eegchild/processed_features/gip_A00062704012_features.csv\n"
          ]
        },
        {
          "name": "stderr",
          "output_type": "stream",
          "text": [
            "Processing .mat files:  93%|███████████▏| 1391/1489 [4:42:20<1:37:28, 59.67s/it]"
          ]
        },
        {
          "name": "stdout",
          "output_type": "stream",
          "text": [
            "Saved features for gip_A00062704013 -> gs://eegchild/processed_features/gip_A00062704013_features.csv\n"
          ]
        },
        {
          "name": "stderr",
          "output_type": "stream",
          "text": [
            "Processing .mat files:  93%|███████████▏| 1392/1489 [4:43:21<1:37:11, 60.12s/it]"
          ]
        },
        {
          "name": "stdout",
          "output_type": "stream",
          "text": [
            "Saved features for gp_A00062704004 -> gs://eegchild/processed_features/gp_A00062704004_features.csv\n"
          ]
        },
        {
          "name": "stderr",
          "output_type": "stream",
          "text": [
            "Processing .mat files:  94%|███████████▏| 1393/1489 [4:44:27<1:38:56, 61.84s/it]"
          ]
        },
        {
          "name": "stdout",
          "output_type": "stream",
          "text": [
            "Saved features for oip_A00062704001 -> gs://eegchild/processed_features/oip_A00062704001_features.csv\n"
          ]
        },
        {
          "name": "stderr",
          "output_type": "stream",
          "text": [
            "Processing .mat files:  94%|███████████▏| 1394/1489 [4:46:47<2:14:54, 85.21s/it]"
          ]
        },
        {
          "name": "stdout",
          "output_type": "stream",
          "text": [
            "Saved features for oip_A00062704002 -> gs://eegchild/processed_features/oip_A00062704002_features.csv\n"
          ]
        },
        {
          "name": "stderr",
          "output_type": "stream",
          "text": [
            "Processing .mat files:  94%|███████████▏| 1395/1489 [4:47:28<1:52:29, 71.81s/it]"
          ]
        },
        {
          "name": "stdout",
          "output_type": "stream",
          "text": [
            "Saved features for oip_A00062704005 -> gs://eegchild/processed_features/oip_A00062704005_features.csv\n"
          ]
        },
        {
          "name": "stderr",
          "output_type": "stream",
          "text": [
            "Processing .mat files:  94%|███████████▎| 1396/1489 [4:48:09<1:37:06, 62.65s/it]"
          ]
        },
        {
          "name": "stdout",
          "output_type": "stream",
          "text": [
            "Saved features for bp_A00062842014 -> gs://eegchild/processed_features/bp_A00062842014_features.csv\n"
          ]
        },
        {
          "name": "stderr",
          "output_type": "stream",
          "text": [
            "Processing .mat files:  94%|███████████▎| 1397/1489 [4:49:26<1:42:43, 66.99s/it]"
          ]
        },
        {
          "name": "stdout",
          "output_type": "stream",
          "text": [
            "Saved features for gip_A00062842001 -> gs://eegchild/processed_features/gip_A00062842001_features.csv\n",
            "Saved features for gip_A00062842002 -> gs://eegchild/processed_features/gip_A00062842002_features.csv\n"
          ]
        },
        {
          "name": "stderr",
          "output_type": "stream",
          "text": [
            "Processing .mat files:  94%|███████████▎| 1398/1489 [4:50:11<1:31:47, 60.52s/it]"
          ]
        },
        {
          "name": "stdout",
          "output_type": "stream",
          "text": [
            "Saved features for gip_A00062842003 -> gs://eegchild/processed_features/gip_A00062842003_features.csv\n"
          ]
        },
        {
          "name": "stderr",
          "output_type": "stream",
          "text": [
            "Processing .mat files:  94%|███████████▎| 1400/1489 [4:53:16<1:55:31, 77.88s/it]"
          ]
        },
        {
          "name": "stdout",
          "output_type": "stream",
          "text": [
            "Saved features for gip_A00062842004 -> gs://eegchild/processed_features/gip_A00062842004_features.csv\n"
          ]
        },
        {
          "name": "stderr",
          "output_type": "stream",
          "text": [
            "Processing .mat files:  94%|███████████▎| 1401/1489 [4:54:00<1:39:31, 67.85s/it]"
          ]
        },
        {
          "name": "stdout",
          "output_type": "stream",
          "text": [
            "Saved features for gip_A00062842005 -> gs://eegchild/processed_features/gip_A00062842005_features.csv\n"
          ]
        },
        {
          "name": "stderr",
          "output_type": "stream",
          "text": [
            "Processing .mat files:  94%|███████████▎| 1402/1489 [4:55:02<1:35:32, 65.89s/it]"
          ]
        },
        {
          "name": "stdout",
          "output_type": "stream",
          "text": [
            "Saved features for gip_A00062842006 -> gs://eegchild/processed_features/gip_A00062842006_features.csv\n"
          ]
        },
        {
          "name": "stderr",
          "output_type": "stream",
          "text": [
            "Processing .mat files:  94%|███████████▎| 1403/1489 [4:55:40<1:22:41, 57.69s/it]"
          ]
        },
        {
          "name": "stdout",
          "output_type": "stream",
          "text": [
            "Saved features for gip_A00062842007 -> gs://eegchild/processed_features/gip_A00062842007_features.csv\n"
          ]
        },
        {
          "name": "stderr",
          "output_type": "stream",
          "text": [
            "Processing .mat files:  94%|███████████▎| 1404/1489 [4:56:21<1:14:41, 52.72s/it]"
          ]
        },
        {
          "name": "stdout",
          "output_type": "stream",
          "text": [
            "Saved features for gip_A00062842008 -> gs://eegchild/processed_features/gip_A00062842008_features.csv\n"
          ]
        },
        {
          "name": "stderr",
          "output_type": "stream",
          "text": [
            "Processing .mat files:  94%|███████████▎| 1405/1489 [4:57:12<1:12:59, 52.14s/it]"
          ]
        },
        {
          "name": "stdout",
          "output_type": "stream",
          "text": [
            "Saved features for gip_A00062842009 -> gs://eegchild/processed_features/gip_A00062842009_features.csv\n"
          ]
        },
        {
          "name": "stderr",
          "output_type": "stream",
          "text": [
            "Processing .mat files:  94%|███████████▎| 1406/1489 [4:58:23<1:20:08, 57.93s/it]"
          ]
        },
        {
          "name": "stdout",
          "output_type": "stream",
          "text": [
            "Saved features for gip_A00062842010 -> gs://eegchild/processed_features/gip_A00062842010_features.csv\n"
          ]
        },
        {
          "name": "stderr",
          "output_type": "stream",
          "text": [
            "Processing .mat files:  94%|██████████▍| 1407/1489 [5:03:40<3:05:13, 135.54s/it]"
          ]
        },
        {
          "name": "stdout",
          "output_type": "stream",
          "text": [
            "Saved features for gip_A00062842011 -> gs://eegchild/processed_features/gip_A00062842011_features.csv\n"
          ]
        },
        {
          "name": "stderr",
          "output_type": "stream",
          "text": [
            "Processing .mat files:  95%|██████████▍| 1408/1489 [5:04:32<2:28:57, 110.35s/it]"
          ]
        },
        {
          "name": "stdout",
          "output_type": "stream",
          "text": [
            "Saved features for gip_A00062842013 -> gs://eegchild/processed_features/gip_A00062842013_features.csv\n"
          ]
        },
        {
          "name": "stderr",
          "output_type": "stream",
          "text": [
            "Processing .mat files:  95%|███████████▎| 1409/1489 [5:05:40<2:10:23, 97.80s/it]"
          ]
        },
        {
          "name": "stdout",
          "output_type": "stream",
          "text": [
            "Saved features for oip_A00062842012 -> gs://eegchild/processed_features/oip_A00062842012_features.csv\n"
          ]
        },
        {
          "name": "stderr",
          "output_type": "stream",
          "text": [
            "Processing .mat files:  95%|███████████▎| 1410/1489 [5:06:37<1:52:32, 85.48s/it]"
          ]
        },
        {
          "name": "stdout",
          "output_type": "stream",
          "text": [
            "Saved features for gip_A00062919 001 -> gs://eegchild/processed_features/gip_A00062919 001_features.csv\n"
          ]
        },
        {
          "name": "stderr",
          "output_type": "stream",
          "text": [
            "Processing .mat files:  95%|███████████▎| 1411/1489 [5:07:42<1:43:03, 79.27s/it]"
          ]
        },
        {
          "name": "stdout",
          "output_type": "stream",
          "text": [
            "Saved features for gip_A00062919 002 -> gs://eegchild/processed_features/gip_A00062919 002_features.csv\n"
          ]
        },
        {
          "name": "stderr",
          "output_type": "stream",
          "text": [
            "Processing .mat files:  95%|███████████▍| 1412/1489 [5:08:50<1:37:31, 75.99s/it]"
          ]
        },
        {
          "name": "stdout",
          "output_type": "stream",
          "text": [
            "Saved features for gip_A00062919 004 -> gs://eegchild/processed_features/gip_A00062919 004_features.csv\n",
            "Saved features for gip_A00062919 005 -> gs://eegchild/processed_features/gip_A00062919 005_features.csv\n"
          ]
        },
        {
          "name": "stderr",
          "output_type": "stream",
          "text": [
            "Processing .mat files:  95%|███████████▍| 1413/1489 [5:09:21<1:19:15, 62.57s/it]"
          ]
        },
        {
          "name": "stdout",
          "output_type": "stream",
          "text": [
            "Saved features for gip_A00062919 006 -> gs://eegchild/processed_features/gip_A00062919 006_features.csv\n"
          ]
        },
        {
          "name": "stderr",
          "output_type": "stream",
          "text": [
            "Processing .mat files:  95%|███████████▍| 1414/1489 [5:10:46<1:26:39, 69.32s/it]"
          ]
        },
        {
          "name": "stdout",
          "output_type": "stream",
          "text": [
            "Saved features for gip_A00062919 007 -> gs://eegchild/processed_features/gip_A00062919 007_features.csv\n"
          ]
        },
        {
          "name": "stderr",
          "output_type": "stream",
          "text": [
            "Processing .mat files:  95%|███████████▍| 1416/1489 [5:12:54<1:21:34, 67.05s/it]"
          ]
        },
        {
          "name": "stdout",
          "output_type": "stream",
          "text": [
            "Saved features for gip_A00062919 008 -> gs://eegchild/processed_features/gip_A00062919 008_features.csv\n"
          ]
        },
        {
          "name": "stderr",
          "output_type": "stream",
          "text": [
            "Processing .mat files:  95%|███████████▍| 1417/1489 [5:13:46<1:15:06, 62.59s/it]"
          ]
        },
        {
          "name": "stdout",
          "output_type": "stream",
          "text": [
            "Saved features for gip_A00062919 010 -> gs://eegchild/processed_features/gip_A00062919 010_features.csv\n"
          ]
        },
        {
          "name": "stderr",
          "output_type": "stream",
          "text": [
            "Processing .mat files:  95%|███████████▍| 1418/1489 [5:15:08<1:20:53, 68.36s/it]"
          ]
        },
        {
          "name": "stdout",
          "output_type": "stream",
          "text": [
            "Saved features for gip_A00062919 011 -> gs://eegchild/processed_features/gip_A00062919 011_features.csv\n"
          ]
        },
        {
          "name": "stderr",
          "output_type": "stream",
          "text": [
            "Processing .mat files:  95%|███████████▍| 1419/1489 [5:16:43<1:29:00, 76.29s/it]"
          ]
        },
        {
          "name": "stdout",
          "output_type": "stream",
          "text": [
            "Saved features for gip_A00062919 012 -> gs://eegchild/processed_features/gip_A00062919 012_features.csv\n"
          ]
        },
        {
          "name": "stderr",
          "output_type": "stream",
          "text": [
            "Processing .mat files:  95%|███████████▍| 1420/1489 [5:17:29<1:17:21, 67.27s/it]"
          ]
        },
        {
          "name": "stdout",
          "output_type": "stream",
          "text": [
            "Saved features for gp_A00062919 003 -> gs://eegchild/processed_features/gp_A00062919 003_features.csv\n"
          ]
        },
        {
          "name": "stderr",
          "output_type": "stream",
          "text": [
            "Processing .mat files:  95%|███████████▍| 1421/1489 [5:18:05<1:05:39, 57.93s/it]"
          ]
        },
        {
          "name": "stdout",
          "output_type": "stream",
          "text": [
            "Saved features for oip_A00062919 009 -> gs://eegchild/processed_features/oip_A00062919 009_features.csv\n"
          ]
        },
        {
          "name": "stderr",
          "output_type": "stream",
          "text": [
            "Processing .mat files:  96%|███████████▍| 1422/1489 [5:20:24<1:31:44, 82.16s/it]"
          ]
        },
        {
          "name": "stdout",
          "output_type": "stream",
          "text": [
            "Saved features for bip_A00062951 006 -> gs://eegchild/processed_features/bip_A00062951 006_features.csv\n"
          ]
        },
        {
          "name": "stderr",
          "output_type": "stream",
          "text": [
            "Processing .mat files:  96%|███████████▍| 1423/1489 [5:21:31<1:25:18, 77.56s/it]"
          ]
        },
        {
          "name": "stdout",
          "output_type": "stream",
          "text": [
            "Saved features for gip_A00062951 001 -> gs://eegchild/processed_features/gip_A00062951 001_features.csv\n"
          ]
        },
        {
          "name": "stderr",
          "output_type": "stream",
          "text": [
            "Processing .mat files:  96%|███████████▍| 1424/1489 [5:22:24<1:16:02, 70.20s/it]"
          ]
        },
        {
          "name": "stdout",
          "output_type": "stream",
          "text": [
            "Saved features for gip_A00062951 002 -> gs://eegchild/processed_features/gip_A00062951 002_features.csv\n",
            "Saved features for gip_A00062951 003 -> gs://eegchild/processed_features/gip_A00062951 003_features.csv\n"
          ]
        },
        {
          "name": "stderr",
          "output_type": "stream",
          "text": [
            "Processing .mat files:  96%|███████████▍| 1426/1489 [5:24:38<1:15:28, 71.87s/it]"
          ]
        },
        {
          "name": "stdout",
          "output_type": "stream",
          "text": [
            "Saved features for gip_A00062951 004 -> gs://eegchild/processed_features/gip_A00062951 004_features.csv\n",
            "Saved features for gip_A00062951 005 -> gs://eegchild/processed_features/gip_A00062951 005_features.csv\n"
          ]
        },
        {
          "name": "stderr",
          "output_type": "stream",
          "text": [
            "Processing .mat files:  96%|███████████▌| 1428/1489 [5:26:34<1:06:41, 65.59s/it]"
          ]
        },
        {
          "name": "stdout",
          "output_type": "stream",
          "text": [
            "Saved features for gip_A00062951 007 -> gs://eegchild/processed_features/gip_A00062951 007_features.csv\n"
          ]
        },
        {
          "name": "stderr",
          "output_type": "stream",
          "text": [
            "Processing .mat files:  96%|███████████▌| 1429/1489 [5:27:32<1:03:19, 63.33s/it]"
          ]
        },
        {
          "name": "stdout",
          "output_type": "stream",
          "text": [
            "Saved features for gip_A00062951 009 -> gs://eegchild/processed_features/gip_A00062951 009_features.csv\n"
          ]
        },
        {
          "name": "stderr",
          "output_type": "stream",
          "text": [
            "Processing .mat files:  96%|█████████████▍| 1430/1489 [5:28:10<54:36, 55.53s/it]"
          ]
        },
        {
          "name": "stdout",
          "output_type": "stream",
          "text": [
            "Saved features for gp_A00062951 008 -> gs://eegchild/processed_features/gp_A00062951 008_features.csv\n"
          ]
        },
        {
          "name": "stderr",
          "output_type": "stream",
          "text": [
            "Processing .mat files:  96%|█████████████▍| 1431/1489 [5:28:48<48:38, 50.32s/it]"
          ]
        },
        {
          "name": "stdout",
          "output_type": "stream",
          "text": [
            "Saved features for gp_A00062951 010 -> gs://eegchild/processed_features/gp_A00062951 010_features.csv\n"
          ]
        },
        {
          "name": "stderr",
          "output_type": "stream",
          "text": [
            "Processing .mat files:  96%|█████████████▍| 1432/1489 [5:29:38<47:44, 50.25s/it]"
          ]
        },
        {
          "name": "stdout",
          "output_type": "stream",
          "text": [
            "Saved features for gp_A00062951 011 -> gs://eegchild/processed_features/gp_A00062951 011_features.csv\n"
          ]
        },
        {
          "name": "stderr",
          "output_type": "stream",
          "text": [
            "Processing .mat files:  96%|█████████████▍| 1433/1489 [5:30:41<50:21, 53.95s/it]"
          ]
        },
        {
          "name": "stdout",
          "output_type": "stream",
          "text": [
            "Saved features for gp_A00062951 012 -> gs://eegchild/processed_features/gp_A00062951 012_features.csv\n"
          ]
        },
        {
          "name": "stderr",
          "output_type": "stream",
          "text": [
            "Processing .mat files:  96%|███████████▌| 1434/1489 [5:32:25<1:03:21, 69.12s/it]"
          ]
        },
        {
          "name": "stdout",
          "output_type": "stream",
          "text": [
            "Saved features for gp_A00062951 013 -> gs://eegchild/processed_features/gp_A00062951 013_features.csv\n"
          ]
        },
        {
          "name": "stderr",
          "output_type": "stream",
          "text": [
            "Processing .mat files:  96%|█████████████▍| 1435/1489 [5:32:36<46:33, 51.73s/it]"
          ]
        },
        {
          "name": "stdout",
          "output_type": "stream",
          "text": [
            "Saved features for gp_A00062951 014 -> gs://eegchild/processed_features/gp_A00062951 014_features.csv\n"
          ]
        },
        {
          "name": "stderr",
          "output_type": "stream",
          "text": [
            "Processing .mat files:  96%|█████████████▌| 1436/1489 [5:33:15<42:17, 47.87s/it]"
          ]
        },
        {
          "name": "stdout",
          "output_type": "stream",
          "text": [
            "Saved features for bip_A00063029 010 -> gs://eegchild/processed_features/bip_A00063029 010_features.csv\n"
          ]
        },
        {
          "name": "stderr",
          "output_type": "stream",
          "text": [
            "Processing .mat files:  97%|█████████████▌| 1437/1489 [5:34:11<43:31, 50.21s/it]"
          ]
        },
        {
          "name": "stdout",
          "output_type": "stream",
          "text": [
            "Saved features for bip_A00063029 013 -> gs://eegchild/processed_features/bip_A00063029 013_features.csv\n"
          ]
        },
        {
          "name": "stderr",
          "output_type": "stream",
          "text": [
            "Processing .mat files:  97%|█████████████▌| 1438/1489 [5:35:10<44:57, 52.89s/it]"
          ]
        },
        {
          "name": "stdout",
          "output_type": "stream",
          "text": [
            "Saved features for gip_A00063029 001 -> gs://eegchild/processed_features/gip_A00063029 001_features.csv\n"
          ]
        },
        {
          "name": "stderr",
          "output_type": "stream",
          "text": [
            "Processing .mat files:  97%|█████████████▌| 1439/1489 [5:36:01<43:35, 52.31s/it]"
          ]
        },
        {
          "name": "stdout",
          "output_type": "stream",
          "text": [
            "Saved features for gip_A00063029 002 -> gs://eegchild/processed_features/gip_A00063029 002_features.csv\n"
          ]
        },
        {
          "name": "stderr",
          "output_type": "stream",
          "text": [
            "Processing .mat files:  97%|█████████████▌| 1440/1489 [5:36:33<37:47, 46.28s/it]"
          ]
        },
        {
          "name": "stdout",
          "output_type": "stream",
          "text": [
            "Saved features for gip_A00063029 003 -> gs://eegchild/processed_features/gip_A00063029 003_features.csv\n"
          ]
        },
        {
          "name": "stderr",
          "output_type": "stream",
          "text": [
            "Processing .mat files:  97%|█████████████▌| 1441/1489 [5:37:40<42:00, 52.51s/it]"
          ]
        },
        {
          "name": "stdout",
          "output_type": "stream",
          "text": [
            "Saved features for gip_A00063029 004 -> gs://eegchild/processed_features/gip_A00063029 004_features.csv\n"
          ]
        },
        {
          "name": "stderr",
          "output_type": "stream",
          "text": [
            "Processing .mat files:  97%|█████████████▌| 1442/1489 [5:38:23<38:53, 49.64s/it]"
          ]
        },
        {
          "name": "stdout",
          "output_type": "stream",
          "text": [
            "Saved features for gip_A00063029 005 -> gs://eegchild/processed_features/gip_A00063029 005_features.csv\n"
          ]
        },
        {
          "name": "stderr",
          "output_type": "stream",
          "text": [
            "Processing .mat files:  97%|█████████████▌| 1443/1489 [5:38:59<34:57, 45.59s/it]"
          ]
        },
        {
          "name": "stdout",
          "output_type": "stream",
          "text": [
            "Saved features for gip_A00063029 006 -> gs://eegchild/processed_features/gip_A00063029 006_features.csv\n"
          ]
        },
        {
          "name": "stderr",
          "output_type": "stream",
          "text": [
            "Processing .mat files:  97%|█████████████▌| 1444/1489 [5:40:04<38:29, 51.33s/it]"
          ]
        },
        {
          "name": "stdout",
          "output_type": "stream",
          "text": [
            "Saved features for gip_A00063029 007 -> gs://eegchild/processed_features/gip_A00063029 007_features.csv\n"
          ]
        },
        {
          "name": "stderr",
          "output_type": "stream",
          "text": [
            "Processing .mat files:  97%|█████████████▌| 1445/1489 [5:40:39<34:05, 46.49s/it]"
          ]
        },
        {
          "name": "stdout",
          "output_type": "stream",
          "text": [
            "Saved features for gip_A00063029 008 -> gs://eegchild/processed_features/gip_A00063029 008_features.csv\n"
          ]
        },
        {
          "name": "stderr",
          "output_type": "stream",
          "text": [
            "Processing .mat files:  97%|█████████████▌| 1446/1489 [5:41:30<34:14, 47.77s/it]"
          ]
        },
        {
          "name": "stdout",
          "output_type": "stream",
          "text": [
            "Saved features for gip_A00063029 009 -> gs://eegchild/processed_features/gip_A00063029 009_features.csv\n"
          ]
        },
        {
          "name": "stderr",
          "output_type": "stream",
          "text": [
            "Processing .mat files:  97%|█████████████▌| 1447/1489 [5:42:24<34:45, 49.66s/it]"
          ]
        },
        {
          "name": "stdout",
          "output_type": "stream",
          "text": [
            "Saved features for oip_A00063029 011 -> gs://eegchild/processed_features/oip_A00063029 011_features.csv\n"
          ]
        },
        {
          "name": "stderr",
          "output_type": "stream",
          "text": [
            "Processing .mat files:  97%|█████████████▌| 1448/1489 [5:43:34<38:04, 55.71s/it]"
          ]
        },
        {
          "name": "stdout",
          "output_type": "stream",
          "text": [
            "Saved features for oip_A00063029 012 -> gs://eegchild/processed_features/oip_A00063029 012_features.csv\n"
          ]
        },
        {
          "name": "stderr",
          "output_type": "stream",
          "text": [
            "Processing .mat files:  97%|█████████████▌| 1449/1489 [5:44:50<41:10, 61.77s/it]"
          ]
        },
        {
          "name": "stdout",
          "output_type": "stream",
          "text": [
            "Saved features for bip_A00063051 004 -> gs://eegchild/processed_features/bip_A00063051 004_features.csv\n"
          ]
        },
        {
          "name": "stderr",
          "output_type": "stream",
          "text": [
            "Processing .mat files:  97%|█████████████▋| 1450/1489 [5:45:40<37:52, 58.27s/it]"
          ]
        },
        {
          "name": "stdout",
          "output_type": "stream",
          "text": [
            "Saved features for bip_A00063051 010 -> gs://eegchild/processed_features/bip_A00063051 010_features.csv\n"
          ]
        },
        {
          "name": "stderr",
          "output_type": "stream",
          "text": [
            "Processing .mat files:  97%|█████████████▋| 1451/1489 [5:46:41<37:24, 59.06s/it]"
          ]
        },
        {
          "name": "stdout",
          "output_type": "stream",
          "text": [
            "Saved features for bp_A00063051 012 -> gs://eegchild/processed_features/bp_A00063051 012_features.csv\n"
          ]
        },
        {
          "name": "stderr",
          "output_type": "stream",
          "text": [
            "Processing .mat files:  98%|█████████████▋| 1452/1489 [5:47:37<35:50, 58.11s/it]"
          ]
        },
        {
          "name": "stdout",
          "output_type": "stream",
          "text": [
            "Saved features for bp_A00063051 013 -> gs://eegchild/processed_features/bp_A00063051 013_features.csv\n"
          ]
        },
        {
          "name": "stderr",
          "output_type": "stream",
          "text": [
            "Processing .mat files:  98%|█████████████▋| 1453/1489 [5:48:06<29:42, 49.51s/it]"
          ]
        },
        {
          "name": "stdout",
          "output_type": "stream",
          "text": [
            "Saved features for bp_A00063051 014 -> gs://eegchild/processed_features/bp_A00063051 014_features.csv\n"
          ]
        },
        {
          "name": "stderr",
          "output_type": "stream",
          "text": [
            "Processing .mat files:  98%|█████████████▋| 1454/1489 [5:49:27<34:24, 58.98s/it]"
          ]
        },
        {
          "name": "stdout",
          "output_type": "stream",
          "text": [
            "Saved features for oip_A00063051 001 -> gs://eegchild/processed_features/oip_A00063051 001_features.csv\n"
          ]
        },
        {
          "name": "stderr",
          "output_type": "stream",
          "text": [
            "Processing .mat files:  98%|█████████████▋| 1455/1489 [5:50:24<33:04, 58.35s/it]"
          ]
        },
        {
          "name": "stdout",
          "output_type": "stream",
          "text": [
            "Saved features for oip_A00063051 002 -> gs://eegchild/processed_features/oip_A00063051 002_features.csv\n",
            "Saved features for oip_A00063051 003 -> gs://eegchild/processed_features/oip_A00063051 003_features.csv\n"
          ]
        },
        {
          "name": "stderr",
          "output_type": "stream",
          "text": [
            "Processing .mat files:  98%|█████████████▋| 1457/1489 [5:51:34<24:58, 46.82s/it]"
          ]
        },
        {
          "name": "stdout",
          "output_type": "stream",
          "text": [
            "Saved features for oip_A00063051 005 -> gs://eegchild/processed_features/oip_A00063051 005_features.csv\n"
          ]
        },
        {
          "name": "stderr",
          "output_type": "stream",
          "text": [
            "Processing .mat files:  98%|█████████████▋| 1458/1489 [5:52:54<29:20, 56.79s/it]"
          ]
        },
        {
          "name": "stdout",
          "output_type": "stream",
          "text": [
            "Saved features for oip_A00063051 006 -> gs://eegchild/processed_features/oip_A00063051 006_features.csv\n"
          ]
        },
        {
          "name": "stderr",
          "output_type": "stream",
          "text": [
            "Processing .mat files:  98%|█████████████▋| 1459/1489 [5:54:12<31:31, 63.06s/it]"
          ]
        },
        {
          "name": "stdout",
          "output_type": "stream",
          "text": [
            "Saved features for oip_A00063051 007 -> gs://eegchild/processed_features/oip_A00063051 007_features.csv\n"
          ]
        },
        {
          "name": "stderr",
          "output_type": "stream",
          "text": [
            "Processing .mat files:  98%|█████████████▋| 1460/1489 [5:54:50<26:49, 55.49s/it]"
          ]
        },
        {
          "name": "stdout",
          "output_type": "stream",
          "text": [
            "Saved features for oip_A00063051 008 -> gs://eegchild/processed_features/oip_A00063051 008_features.csv\n"
          ]
        },
        {
          "name": "stderr",
          "output_type": "stream",
          "text": [
            "Processing .mat files:  98%|█████████████▋| 1461/1489 [5:55:55<27:19, 58.56s/it]"
          ]
        },
        {
          "name": "stdout",
          "output_type": "stream",
          "text": [
            "Saved features for oip_A00063051 009 -> gs://eegchild/processed_features/oip_A00063051 009_features.csv\n",
            "Saved features for oip_A00063051 011 -> gs://eegchild/processed_features/oip_A00063051 011_features.csv\n"
          ]
        },
        {
          "name": "stderr",
          "output_type": "stream",
          "text": [
            "Processing .mat files:  98%|█████████████▊| 1463/1489 [5:57:41<24:21, 56.22s/it]"
          ]
        },
        {
          "name": "stdout",
          "output_type": "stream",
          "text": [
            "Saved features for bp_A00063117 012 -> gs://eegchild/processed_features/bp_A00063117 012_features.csv\n"
          ]
        },
        {
          "name": "stderr",
          "output_type": "stream",
          "text": [
            "Processing .mat files:  98%|█████████████▊| 1464/1489 [5:58:51<25:12, 60.52s/it]"
          ]
        },
        {
          "name": "stdout",
          "output_type": "stream",
          "text": [
            "Saved features for gip_A00063117 001 -> gs://eegchild/processed_features/gip_A00063117 001_features.csv\n"
          ]
        },
        {
          "name": "stderr",
          "output_type": "stream",
          "text": [
            "Processing .mat files:  98%|█████████████▊| 1465/1489 [5:59:37<22:26, 56.11s/it]"
          ]
        },
        {
          "name": "stdout",
          "output_type": "stream",
          "text": [
            "Saved features for gip_A00063117 002 -> gs://eegchild/processed_features/gip_A00063117 002_features.csv\n"
          ]
        },
        {
          "name": "stderr",
          "output_type": "stream",
          "text": [
            "Processing .mat files:  98%|█████████████▊| 1466/1489 [6:00:11<18:56, 49.41s/it]"
          ]
        },
        {
          "name": "stdout",
          "output_type": "stream",
          "text": [
            "Saved features for gip_A00063117 003 -> gs://eegchild/processed_features/gip_A00063117 003_features.csv\n"
          ]
        },
        {
          "name": "stderr",
          "output_type": "stream",
          "text": [
            "Processing .mat files:  99%|█████████████▊| 1467/1489 [6:01:41<22:34, 61.55s/it]"
          ]
        },
        {
          "name": "stdout",
          "output_type": "stream",
          "text": [
            "Saved features for gip_A00063117 004 -> gs://eegchild/processed_features/gip_A00063117 004_features.csv\n"
          ]
        },
        {
          "name": "stderr",
          "output_type": "stream",
          "text": [
            "Processing .mat files:  99%|█████████████▊| 1468/1489 [6:02:33<20:35, 58.83s/it]"
          ]
        },
        {
          "name": "stdout",
          "output_type": "stream",
          "text": [
            "Saved features for gip_A00063117 005 -> gs://eegchild/processed_features/gip_A00063117 005_features.csv\n"
          ]
        },
        {
          "name": "stderr",
          "output_type": "stream",
          "text": [
            "Processing .mat files:  99%|█████████████▊| 1469/1489 [6:03:23<18:43, 56.17s/it]"
          ]
        },
        {
          "name": "stdout",
          "output_type": "stream",
          "text": [
            "Saved features for gip_A00063117 006 -> gs://eegchild/processed_features/gip_A00063117 006_features.csv\n"
          ]
        },
        {
          "name": "stderr",
          "output_type": "stream",
          "text": [
            "Processing .mat files:  99%|█████████████▊| 1470/1489 [6:04:02<16:06, 50.84s/it]"
          ]
        },
        {
          "name": "stdout",
          "output_type": "stream",
          "text": [
            "Saved features for gip_A00063117 008 -> gs://eegchild/processed_features/gip_A00063117 008_features.csv\n"
          ]
        },
        {
          "name": "stderr",
          "output_type": "stream",
          "text": [
            "Processing .mat files:  99%|█████████████▊| 1471/1489 [6:04:53<15:19, 51.10s/it]"
          ]
        },
        {
          "name": "stdout",
          "output_type": "stream",
          "text": [
            "Saved features for gip_A00063117 009 -> gs://eegchild/processed_features/gip_A00063117 009_features.csv\n"
          ]
        },
        {
          "name": "stderr",
          "output_type": "stream",
          "text": [
            "Processing .mat files:  99%|█████████████▊| 1472/1489 [6:05:23<12:37, 44.56s/it]"
          ]
        },
        {
          "name": "stdout",
          "output_type": "stream",
          "text": [
            "Saved features for gip_A00063117 010 -> gs://eegchild/processed_features/gip_A00063117 010_features.csv\n"
          ]
        },
        {
          "name": "stderr",
          "output_type": "stream",
          "text": [
            "Processing .mat files:  99%|█████████████▊| 1473/1489 [6:06:08<11:53, 44.62s/it]"
          ]
        },
        {
          "name": "stdout",
          "output_type": "stream",
          "text": [
            "Saved features for gip_A00063117 011 -> gs://eegchild/processed_features/gip_A00063117 011_features.csv\n"
          ]
        },
        {
          "name": "stderr",
          "output_type": "stream",
          "text": [
            "Processing .mat files:  99%|█████████████▊| 1474/1489 [6:07:07<12:15, 49.04s/it]"
          ]
        },
        {
          "name": "stdout",
          "output_type": "stream",
          "text": [
            "Saved features for gip_A00063117 013 -> gs://eegchild/processed_features/gip_A00063117 013_features.csv\n"
          ]
        },
        {
          "name": "stderr",
          "output_type": "stream",
          "text": [
            "Processing .mat files:  99%|█████████████▊| 1475/1489 [6:07:54<11:17, 48.41s/it]"
          ]
        },
        {
          "name": "stdout",
          "output_type": "stream",
          "text": [
            "Saved features for gp_A00063117 007 -> gs://eegchild/processed_features/gp_A00063117 007_features.csv\n"
          ]
        },
        {
          "name": "stderr",
          "output_type": "stream",
          "text": [
            "Processing .mat files:  99%|█████████████▉| 1476/1489 [6:08:57<11:28, 52.96s/it]"
          ]
        },
        {
          "name": "stdout",
          "output_type": "stream",
          "text": [
            "Saved features for bp_A00063377 012 -> gs://eegchild/processed_features/bp_A00063377 012_features.csv\n"
          ]
        },
        {
          "name": "stderr",
          "output_type": "stream",
          "text": [
            "Processing .mat files:  99%|█████████████▉| 1477/1489 [6:09:37<09:48, 49.07s/it]"
          ]
        },
        {
          "name": "stdout",
          "output_type": "stream",
          "text": [
            "Saved features for bp_A00063377 013 -> gs://eegchild/processed_features/bp_A00063377 013_features.csv\n"
          ]
        },
        {
          "name": "stderr",
          "output_type": "stream",
          "text": [
            "Processing .mat files:  99%|█████████████▉| 1478/1489 [6:10:12<08:12, 44.73s/it]"
          ]
        },
        {
          "name": "stdout",
          "output_type": "stream",
          "text": [
            "Saved features for bp_A00063377 014 -> gs://eegchild/processed_features/bp_A00063377 014_features.csv\n"
          ]
        },
        {
          "name": "stderr",
          "output_type": "stream",
          "text": [
            "Processing .mat files:  99%|█████████████▉| 1479/1489 [6:11:16<08:24, 50.46s/it]"
          ]
        },
        {
          "name": "stdout",
          "output_type": "stream",
          "text": [
            "Saved features for gip_A00063377 001 -> gs://eegchild/processed_features/gip_A00063377 001_features.csv\n"
          ]
        },
        {
          "name": "stderr",
          "output_type": "stream",
          "text": [
            "Processing .mat files:  99%|█████████████▉| 1480/1489 [6:12:06<07:33, 50.44s/it]"
          ]
        },
        {
          "name": "stdout",
          "output_type": "stream",
          "text": [
            "Saved features for gip_A00063377 002 -> gs://eegchild/processed_features/gip_A00063377 002_features.csv\n",
            "Saved features for gip_A00063377 003 -> gs://eegchild/processed_features/gip_A00063377 003_features.csv\n"
          ]
        },
        {
          "name": "stderr",
          "output_type": "stream",
          "text": [
            "Processing .mat files: 100%|█████████████▉| 1482/1489 [6:13:26<05:17, 45.33s/it]"
          ]
        },
        {
          "name": "stdout",
          "output_type": "stream",
          "text": [
            "Saved features for gip_A00063377 005 -> gs://eegchild/processed_features/gip_A00063377 005_features.csv\n"
          ]
        },
        {
          "name": "stderr",
          "output_type": "stream",
          "text": [
            "Processing .mat files: 100%|█████████████▉| 1483/1489 [6:14:19<04:44, 47.42s/it]"
          ]
        },
        {
          "name": "stdout",
          "output_type": "stream",
          "text": [
            "Saved features for gip_A00063377 009 -> gs://eegchild/processed_features/gip_A00063377 009_features.csv\n"
          ]
        },
        {
          "name": "stderr",
          "output_type": "stream",
          "text": [
            "Processing .mat files: 100%|█████████████▉| 1484/1489 [6:15:01<03:49, 45.83s/it]"
          ]
        },
        {
          "name": "stdout",
          "output_type": "stream",
          "text": [
            "Saved features for gip_A00063377 011 -> gs://eegchild/processed_features/gip_A00063377 011_features.csv\n"
          ]
        },
        {
          "name": "stderr",
          "output_type": "stream",
          "text": [
            "Processing .mat files: 100%|█████████████▉| 1485/1489 [6:16:02<03:21, 50.36s/it]"
          ]
        },
        {
          "name": "stdout",
          "output_type": "stream",
          "text": [
            "Saved features for gp_A00063377 004 -> gs://eegchild/processed_features/gp_A00063377 004_features.csv\n"
          ]
        },
        {
          "name": "stderr",
          "output_type": "stream",
          "text": [
            "Processing .mat files: 100%|█████████████▉| 1486/1489 [6:17:12<02:48, 56.21s/it]"
          ]
        },
        {
          "name": "stdout",
          "output_type": "stream",
          "text": [
            "Saved features for oip_A00063377 006 -> gs://eegchild/processed_features/oip_A00063377 006_features.csv\n"
          ]
        },
        {
          "name": "stderr",
          "output_type": "stream",
          "text": [
            "Processing .mat files: 100%|█████████████▉| 1487/1489 [6:18:17<01:57, 58.98s/it]"
          ]
        },
        {
          "name": "stdout",
          "output_type": "stream",
          "text": [
            "Saved features for oip_A00063377 007 -> gs://eegchild/processed_features/oip_A00063377 007_features.csv\n"
          ]
        },
        {
          "name": "stderr",
          "output_type": "stream",
          "text": [
            "Processing .mat files: 100%|█████████████▉| 1488/1489 [6:18:55<00:52, 52.53s/it]"
          ]
        },
        {
          "name": "stdout",
          "output_type": "stream",
          "text": [
            "Saved features for oip_A00063377 008 -> gs://eegchild/processed_features/oip_A00063377 008_features.csv\n"
          ]
        },
        {
          "name": "stderr",
          "output_type": "stream",
          "text": [
            "Processing .mat files: 100%|██████████████| 1489/1489 [6:19:32<00:00, 15.29s/it]"
          ]
        },
        {
          "name": "stdout",
          "output_type": "stream",
          "text": [
            "Saved features for oip_A00063377 010 -> gs://eegchild/processed_features/oip_A00063377 010_features.csv\n",
            "Done!\n"
          ]
        },
        {
          "name": "stderr",
          "output_type": "stream",
          "text": [
            "\n"
          ]
        }
      ],
      "source": [
        "#!/usr/bin/env python\n",
        "# -*- coding: utf-8 -*-\n",
        "\"\"\"\n",
        "Process .mat files from GCS, store features in GCS, and resume on crash.\n",
        "\n",
        "- Reads .mat files from:\n",
        "  gs://eegchild/EEG_extracted/**/mat_format/*.mat\n",
        "- For each file, loads EEG data, applies bandpass filtering and normalization,\n",
        "  computes Hjorth parameters and spectral entropy, then saves a CSV to:\n",
        "  gs://eegchild/processed_features/{subject_id}_features.csv.\n",
        "- If a CSV for that subject already exists, the subject is skipped (resume functionality).\n",
        "\"\"\"\n",
        "\n",
        "import os\n",
        "import gcsfs\n",
        "import torch\n",
        "import h5py\n",
        "import numpy as np\n",
        "import scipy.signal\n",
        "import gc\n",
        "import pandas as pd\n",
        "from tqdm import tqdm\n",
        "from scipy.signal import welch\n",
        "from scipy.stats import entropy\n",
        "\n",
        "# -------------------------------\n",
        "# CONFIGURATION\n",
        "# -------------------------------\n",
        "KEY_PATH = \"Key.json\"       # Path to your service account JSON key\n",
        "BUCKET_NAME = \"eegchild\"                # Your GCS bucket name\n",
        "# Use a recursive glob pattern to match files at any depth under EEG_extracted that have a mat_format folder.\n",
        "MAT_PATTERN = f\"gs://{BUCKET_NAME}/EEG_extracted/**/mat_format/*.mat\"\n",
        "OUTPUT_FOLDER = f\"gs://{BUCKET_NAME}/processed_features\"  # Where feature CSVs will be saved\n",
        "\n",
        "# Device: use GPU if available\n",
        "device = torch.device(\"cuda:0\" if torch.cuda.is_available() else \"cpu\")\n",
        "print(f\"Using device: {device}\")\n",
        "\n",
        "# Create a GCS filesystem object using your service account key.\n",
        "fs = gcsfs.GCSFileSystem(token=KEY_PATH)\n",
        "\n",
        "# -------------------------------\n",
        "# HELPER FUNCTIONS\n",
        "# -------------------------------\n",
        "def list_mat_files():\n",
        "    \"\"\"\n",
        "    List all .mat files in GCS matching the pattern.\n",
        "    \"\"\"\n",
        "    mat_files = fs.glob(MAT_PATTERN)\n",
        "    print(f\"Found {len(mat_files)} .mat files in GCS using pattern:\\n  {MAT_PATTERN}\")\n",
        "    return mat_files\n",
        "\n",
        "def subject_features_exist(subject_id):\n",
        "    \"\"\"\n",
        "    Check if the features CSV for this subject already exists in GCS.\n",
        "    \"\"\"\n",
        "    out_path = f\"{OUTPUT_FOLDER}/{subject_id}_features.csv\"\n",
        "    return fs.exists(out_path)\n",
        "\n",
        "def save_features_to_gcs(subject_id, df_features):\n",
        "    \"\"\"\n",
        "    Save the DataFrame of features as a CSV directly to GCS.\n",
        "    \"\"\"\n",
        "    out_path = f\"{OUTPUT_FOLDER}/{subject_id}_features.csv\"\n",
        "    with fs.open(out_path, 'w') as f:\n",
        "        df_features.to_csv(f, index=False)\n",
        "    print(f\"Saved features for {subject_id} -> {out_path}\")\n",
        "\n",
        "def load_mat_file_gcs(file_path):\n",
        "    \"\"\"\n",
        "    Loads EEG data from a .mat file on GCS using h5py.\n",
        "    Expects the .mat file to have an 'EEG' group with 'data' (EEG signals)\n",
        "    and optionally 'srate' (sampling rate).\n",
        "    \"\"\"\n",
        "    try:\n",
        "        with fs.open(file_path, 'rb') as f:\n",
        "            with h5py.File(f, 'r') as mat_file:\n",
        "                data = {}\n",
        "                if 'EEG' in mat_file:\n",
        "                    eeg_group = mat_file['EEG']\n",
        "                    if 'data' in eeg_group:\n",
        "                        eeg_data = eeg_group['data'][()]\n",
        "                        eeg_data = torch.tensor(eeg_data, dtype=torch.float32, device=device)\n",
        "                        # Adjust orientation: if shape is (channels, time) but data is stored as (time, channels)\n",
        "                        if eeg_data.shape[1] > eeg_data.shape[0]:\n",
        "                            eeg_data = eeg_data.T\n",
        "                        data['EEG'] = eeg_data\n",
        "                    if 'srate' in eeg_group:\n",
        "                        srate = eeg_group['srate'][()]\n",
        "                        if srate.shape == (1, 1):\n",
        "                            srate = srate[0, 0]\n",
        "                        data['srate'] = float(srate)\n",
        "                    else:\n",
        "                        data['srate'] = 256.0  # default sampling rate\n",
        "                return data if 'EEG' in data else None\n",
        "    except Exception as e:\n",
        "        print(f\"Error reading {file_path}: {e}\")\n",
        "        return None\n",
        "\n",
        "def bandpass_filter_torch(eeg_data, lowcut=0.5, highcut=50.0, fs=256.0, order=5):\n",
        "    \"\"\"\n",
        "    Applies a bandpass filter to EEG data using SciPy's filtfilt and returns a torch tensor.\n",
        "    Expects EEG data of shape [channels, time].\n",
        "    \"\"\"\n",
        "    nyquist = 0.5 * fs\n",
        "    low = lowcut / nyquist\n",
        "    high = highcut / nyquist\n",
        "    b, a = scipy.signal.butter(order, [low, high], btype='band')\n",
        "    eeg_np = eeg_data.cpu().numpy()\n",
        "    filtered_np = scipy.signal.filtfilt(b, a, eeg_np, axis=1)\n",
        "    # Use .copy() to remove negative strides.\n",
        "    return torch.tensor(filtered_np.copy(), dtype=torch.float32, device=device)\n",
        "\n",
        "def normalize_signal_torch(eeg_data):\n",
        "    \"\"\"\n",
        "    Normalizes EEG signals to the range [-1, 1].\n",
        "    \"\"\"\n",
        "    return ((eeg_data - eeg_data.min()) / (eeg_data.max() - eeg_data.min()) * 2 - 1)\n",
        "\n",
        "def compute_psd_torch(eeg_data, fs=256):\n",
        "    \"\"\"\n",
        "    Computes the power spectral density (PSD) using Welch's method for each channel.\n",
        "    \"\"\"\n",
        "    eeg_np = eeg_data.cpu().numpy()\n",
        "    psd_list, freq_list = [], []\n",
        "    for channel in eeg_np:\n",
        "        freqs, psd = welch(channel, fs, nperseg=fs)\n",
        "        psd_list.append(psd)\n",
        "        freq_list.append(freqs)\n",
        "    return np.array(psd_list), np.array(freq_list)\n",
        "\n",
        "def hjorth_parameters(eeg_np):\n",
        "    \"\"\"\n",
        "    Computes Hjorth Mobility and Complexity for each channel.\n",
        "    \"\"\"\n",
        "    variance = np.var(eeg_np, axis=1)\n",
        "    first_derivative = np.diff(eeg_np, axis=1)\n",
        "    var_deriv = np.var(first_derivative, axis=1)\n",
        "    mobility = np.sqrt(var_deriv / variance)\n",
        "    complexity = np.sqrt(np.var(np.diff(first_derivative, axis=1), axis=1) / var_deriv) / mobility\n",
        "    return mobility, complexity\n",
        "\n",
        "def spectral_entropy(eeg_np, fs=256):\n",
        "    \"\"\"\n",
        "    Computes the spectral entropy for each channel.\n",
        "    \"\"\"\n",
        "    psd_values, _ = compute_psd_torch(torch.tensor(eeg_np, dtype=torch.float32), fs=fs)\n",
        "    psd_norm = psd_values / np.sum(psd_values, axis=1, keepdims=True)\n",
        "    return np.apply_along_axis(entropy, 1, psd_norm, base=2)\n",
        "\n",
        "# -------------------------------\n",
        "# MAIN PIPELINE\n",
        "# -------------------------------\n",
        "def process_all_patients():\n",
        "    mat_files = list_mat_files()\n",
        "    if not mat_files:\n",
        "        print(\"No .mat files found in GCS.\")\n",
        "        return\n",
        "\n",
        "    for file_path in tqdm(mat_files, desc=\"Processing .mat files\"):\n",
        "        # Extract subject ID from the filename.\n",
        "        subject_id = os.path.basename(file_path).replace(\".mat\", \"\")\n",
        "\n",
        "        # Resume: Skip processing if features CSV already exists.\n",
        "        if subject_features_exist(subject_id):\n",
        "            print(f\"Skipping {subject_id} (features already exist).\")\n",
        "            continue\n",
        "\n",
        "        # Load EEG data from the .mat file on GCS.\n",
        "        data = load_mat_file_gcs(file_path)\n",
        "        if not data:\n",
        "            continue\n",
        "        eeg_data = data[\"EEG\"]\n",
        "        fs_rate = data[\"srate\"]\n",
        "\n",
        "        # Preprocessing: Apply bandpass filtering and normalization.\n",
        "        filtered = bandpass_filter_torch(eeg_data, fs=fs_rate)\n",
        "        normed = normalize_signal_torch(filtered)\n",
        "\n",
        "        # Feature extraction: Compute Hjorth parameters and spectral entropy.\n",
        "        normed_np = normed.cpu().numpy()  # Move to CPU for numerical operations\n",
        "        mobility, complexity = hjorth_parameters(normed_np)\n",
        "        entropies = spectral_entropy(normed_np, fs=fs_rate)\n",
        "\n",
        "        # Organize features into a DataFrame.\n",
        "        df_features = pd.DataFrame({\n",
        "            \"Mobility\": mobility,\n",
        "            \"Complexity\": complexity,\n",
        "            \"Spectral_Entropy\": entropies\n",
        "        })\n",
        "\n",
        "        # Save the features CSV directly to GCS.\n",
        "        save_features_to_gcs(subject_id, df_features)\n",
        "\n",
        "        # Cleanup to free memory.\n",
        "        del eeg_data, filtered, normed, normed_np, data\n",
        "        torch.cuda.empty_cache()\n",
        "        gc.collect()\n",
        "\n",
        "if __name__ == \"__main__\":\n",
        "    print(\"Starting GCS-based EEG .mat processing for all patients, with resume-on-crash...\\n\")\n",
        "    process_all_patients()\n",
        "    print(\"Done!\")\n"
      ]
    },
    {
      "cell_type": "code",
      "execution_count": null,
      "id": "0acbf94c-d9c1-4e89-8fd3-5a0e0084926b",
      "metadata": {
        "id": "0acbf94c-d9c1-4e89-8fd3-5a0e0084926b",
        "outputId": "9677f1ba-7164-4505-8506-027287effdb0"
      },
      "outputs": [
        {
          "name": "stdout",
          "output_type": "stream",
          "text": [
            "Found 1492 CSV files in gs://eegchild/processed_features.\n",
            "Loaded file: behavioral_features.csv\n",
            "Loaded file: bip_A00053375001_features.csv\n",
            "Loaded file: bip_A00053375002_features.csv\n",
            "Loaded file: bip_A00053375003_features.csv\n",
            "Loaded file: bip_A00053375004_features.csv\n",
            "Loaded file: bip_A00053375008_features.csv\n",
            "Loaded file: bip_A00053375009_features.csv\n",
            "Loaded file: bip_A00053398_part2003_features.csv\n",
            "Loaded file: bip_A00053398_part2004_features.csv\n",
            "Loaded file: bip_A00053398_part2005_features.csv\n",
            "Loaded file: bip_A00053398_part2006_features.csv\n",
            "Loaded file: bip_A00053909002_features.csv\n",
            "Loaded file: bip_A00054215001_features.csv\n",
            "Loaded file: bip_A00054215004_features.csv\n",
            "Loaded file: bip_A00054215010_features.csv\n",
            "Loaded file: bip_A00054215011_features.csv\n",
            "Loaded file: bip_A00054400015_features.csv\n",
            "Loaded file: bip_A00054597013_features.csv\n",
            "Loaded file: bip_A00054597014_features.csv\n",
            "Loaded file: bip_A00054694003_features.csv\n",
            "Loaded file: bip_A00054766011_features.csv\n",
            "Loaded file: bip_A00054852010_features.csv\n",
            "Loaded file: bip_A00054852014_features.csv\n",
            "Loaded file: bip_A00055038013_features.csv\n",
            "Loaded file: bip_A00055055003_features.csv\n",
            "Loaded file: bip_A00055055008_features.csv\n",
            "Loaded file: bip_A00055055010_features.csv\n",
            "Loaded file: bip_A00055055011_features.csv\n",
            "Loaded file: bip_A00055055013_features.csv\n",
            "Loaded file: bip_A00055055014_features.csv\n",
            "Loaded file: bip_A00055055015_features.csv\n",
            "Loaded file: bip_A00055296002_features.csv\n",
            "Loaded file: bip_A00055296009_features.csv\n",
            "Loaded file: bip_A00055296010_features.csv\n",
            "Loaded file: bip_A00055392008_features.csv\n",
            "Loaded file: bip_A00055392013_features.csv\n",
            "Loaded file: bip_A00055392014_features.csv\n",
            "Loaded file: bip_A00055392015_features.csv\n",
            "Loaded file: bip_A00055436001_features.csv\n",
            "Loaded file: bip_A00055436002_features.csv\n",
            "Loaded file: bip_A00055436004_features.csv\n",
            "Loaded file: bip_A00055436007_features.csv\n",
            "Loaded file: bip_A00055436008_features.csv\n",
            "Loaded file: bip_A00055613006_features.csv\n",
            "Loaded file: bip_A00055613010_features.csv\n",
            "Loaded file: bip_A00055613015_features.csv\n",
            "Loaded file: bip_A00055662008_features.csv\n",
            "Loaded file: bip_A00055662014_features.csv\n",
            "Loaded file: bip_A00055731011_features.csv\n",
            "Loaded file: bip_A00055754001_features.csv\n",
            "Loaded file: bip_A00056002004_features.csv\n",
            "Loaded file: bip_A00056002009_features.csv\n",
            "Loaded file: bip_A00056002013_features.csv\n",
            "Loaded file: bip_A00056002014_features.csv\n",
            "Loaded file: bip_A00056002015_features.csv\n",
            "Loaded file: bip_A00056054011_features.csv\n",
            "Loaded file: bip_A00056428001_features.csv\n",
            "Loaded file: bip_A00056428002_features.csv\n",
            "Loaded file: bip_A00056693010_features.csv\n",
            "Loaded file: bip_A00056693012_features.csv\n",
            "Loaded file: bip_A00056693014_features.csv\n",
            "Loaded file: bip_A00062029012_features.csv\n",
            "Loaded file: bip_A00062165005_features.csv\n",
            "Loaded file: bip_A00062165006_features.csv\n",
            "Loaded file: bip_A00062408004_features.csv\n",
            "Loaded file: bip_A00062408005_features.csv\n",
            "Loaded file: bip_A00062408006_features.csv\n",
            "Loaded file: bip_A00062408007_features.csv\n",
            "Loaded file: bip_A00062408009_features.csv\n",
            "Loaded file: bip_A00062408010_features.csv\n",
            "Loaded file: bip_A00062408012_features.csv\n",
            "Loaded file: bip_A00062408013_features.csv\n",
            "Loaded file: bip_A00062951 006_features.csv\n",
            "Loaded file: bip_A00063029 010_features.csv\n",
            "Loaded file: bip_A00063029 013_features.csv\n",
            "Loaded file: bip_A00063051 004_features.csv\n",
            "Loaded file: bip_A00063051 010_features.csv\n",
            "Loaded file: bp_A00053375006_features.csv\n",
            "Loaded file: bp_A00053398_part2007_features.csv\n",
            "Loaded file: bp_A00054369007_features.csv\n",
            "Loaded file: bp_A00054432006_features.csv\n",
            "Loaded file: bp_A00054488015_features.csv\n",
            "Loaded file: bp_A00054517007_features.csv\n",
            "Loaded file: bp_A00054597011_features.csv\n",
            "Loaded file: bp_A00054597015_features.csv\n",
            "Loaded file: bp_A00054647007_features.csv\n",
            "Loaded file: bp_A00054647008_features.csv\n",
            "Loaded file: bp_A00054647009_features.csv\n",
            "Loaded file: bp_A00054659004_features.csv\n",
            "Loaded file: bp_A00054694004_features.csv\n",
            "Loaded file: bp_A00054694006_features.csv\n",
            "Loaded file: bp_A00054694011_features.csv\n",
            "Loaded file: bp_A00054721004_features.csv\n",
            "Loaded file: bp_A00054721005_features.csv\n",
            "Loaded file: bp_A00054721006_features.csv\n",
            "Loaded file: bp_A00054721007_features.csv\n",
            "Loaded file: bp_A00054721008_features.csv\n",
            "Loaded file: bp_A00054721009_features.csv\n",
            "Loaded file: bp_A00054721010_features.csv\n",
            "Loaded file: bp_A00054721012_features.csv\n",
            "Loaded file: bp_A00054721013_features.csv\n",
            "Loaded file: bp_A00054721014_features.csv\n",
            "Loaded file: bp_A00054766008_features.csv\n",
            "Loaded file: bp_A00055065008_features.csv\n",
            "Loaded file: bp_A00055077009_features.csv\n",
            "Loaded file: bp_A00055077010_features.csv\n",
            "Loaded file: bp_A00055296005_features.csv\n",
            "Loaded file: bp_A00055296006_features.csv\n",
            "Loaded file: bp_A00055296007_features.csv\n",
            "Loaded file: bp_A00055296008_features.csv\n",
            "Loaded file: bp_A00055436005_features.csv\n",
            "Loaded file: bp_A00055436006_features.csv\n",
            "Loaded file: bp_A00055623007_features.csv\n",
            "Loaded file: bp_A00055662009_features.csv\n",
            "Loaded file: bp_A00055662010_features.csv\n",
            "Loaded file: bp_A00055837006_features.csv\n",
            "Loaded file: bp_A00055837011_features.csv\n",
            "Loaded file: bp_A00055893006_features.csv\n",
            "Loaded file: bp_A00055893007_features.csv\n",
            "Loaded file: bp_A00055893008_features.csv\n",
            "Loaded file: bp_A00055893009_features.csv\n",
            "Loaded file: bp_A00055893010_features.csv\n",
            "Loaded file: bp_A00055893011_features.csv\n",
            "Loaded file: bp_A00055910006_features.csv\n",
            "Loaded file: bp_A00055910007_features.csv\n",
            "Loaded file: bp_A00055947006_features.csv\n",
            "Loaded file: bp_A00056002010_features.csv\n",
            "Loaded file: bp_A00056002011_features.csv\n",
            "Loaded file: bp_A00056054006_features.csv\n",
            "Loaded file: bp_A00056116012_features.csv\n",
            "Loaded file: bp_A00056166006_features.csv\n",
            "Loaded file: bp_A00056166007_features.csv\n",
            "Loaded file: bp_A00056166008_features.csv\n",
            "Loaded file: bp_A00056166009_features.csv\n",
            "Loaded file: bp_A00056257001_features.csv\n",
            "Loaded file: bp_A00056428003_features.csv\n",
            "Loaded file: bp_A00056428004_features.csv\n",
            "Loaded file: bp_A00056428005_features.csv\n",
            "Loaded file: bp_A00056428006_features.csv\n",
            "Loaded file: bp_A00056428007_features.csv\n",
            "Loaded file: bp_A00056428009_features.csv\n",
            "Loaded file: bp_A00056428010_features.csv\n",
            "Loaded file: bp_A00056428011_features.csv\n",
            "Loaded file: bp_A00056693001_features.csv\n",
            "Loaded file: bp_A00056716012_features.csv\n",
            "Loaded file: bp_A00056733004_features.csv\n",
            "Loaded file: bp_A00056762001_features.csv\n",
            "Loaded file: bp_A00056762009_features.csv\n",
            "Loaded file: bp_A00057092008_features.csv\n",
            "Loaded file: bp_A00057092010_features.csv\n",
            "Loaded file: bp_A00057092011_features.csv\n",
            "Loaded file: bp_A00057599006_features.csv\n",
            "Loaded file: bp_A00059904_2_features.csv\n",
            "Loaded file: bp_A00062029006_features.csv\n",
            "Loaded file: bp_A00062055005_features.csv\n",
            "Loaded file: bp_A00062165012_features.csv\n",
            "Loaded file: bp_A00062165013_features.csv\n",
            "Loaded file: bp_A00062219007_features.csv\n",
            "Loaded file: bp_A00062329013_features.csv\n",
            "Loaded file: bp_A00062329014_features.csv\n",
            "Loaded file: bp_A00062408011_features.csv\n",
            "Loaded file: bp_A00062408014_features.csv\n",
            "Loaded file: bp_A00062435007_features.csv\n",
            "Loaded file: bp_A00062435008_features.csv\n",
            "Loaded file: bp_A00062435009_features.csv\n",
            "Loaded file: bp_A00062435010_features.csv\n",
            "Loaded file: bp_A00062435011_features.csv\n",
            "Loaded file: bp_A00062435012_features.csv\n",
            "Loaded file: bp_A00062453010_features.csv\n",
            "Loaded file: bp_A00062578011_features.csv\n",
            "Loaded file: bp_A00062578012_features.csv\n",
            "Loaded file: bp_A00062704006_features.csv\n",
            "Loaded file: bp_A00062704007_features.csv\n",
            "Loaded file: bp_A00062704008_features.csv\n",
            "Loaded file: bp_A00062704009_features.csv\n",
            "Loaded file: bp_A00062704010_features.csv\n",
            "Loaded file: bp_A00062704011_features.csv\n",
            "Loaded file: bp_A00062842014_features.csv\n",
            "Loaded file: bp_A00063051 012_features.csv\n",
            "Loaded file: bp_A00063051 013_features.csv\n",
            "Loaded file: bp_A00063051 014_features.csv\n",
            "Loaded file: bp_A00063117 012_features.csv\n",
            "Loaded file: bp_A00063377 012_features.csv\n",
            "Loaded file: bp_A00063377 013_features.csv\n",
            "Loaded file: bp_A00063377 014_features.csv\n",
            "Loaded file: gip_A00051826005_features.csv\n",
            "Loaded file: gip_A00051886002_features.csv\n",
            "Loaded file: gip_A00051886003_features.csv\n",
            "Loaded file: gip_A00051886005_features.csv\n",
            "Loaded file: gip_A00051886006_features.csv\n",
            "Loaded file: gip_A00051886008_features.csv\n",
            "Loaded file: gip_A00051886010_features.csv\n",
            "Loaded file: gip_A00051955001_features.csv\n",
            "Loaded file: gip_A00051955003_features.csv\n",
            "Loaded file: gip_A00051955005_features.csv\n",
            "Loaded file: gip_A00051955006_features.csv\n",
            "Loaded file: gip_A00051955007_features.csv\n",
            "Loaded file: gip_A00051955008_features.csv\n",
            "Loaded file: gip_A00051955009_features.csv\n",
            "Loaded file: gip_A00051955010_features.csv\n",
            "Loaded file: gip_A00053398_part2009_features.csv\n",
            "Loaded file: gip_A00053440001_features.csv\n",
            "Loaded file: gip_A00053440002_features.csv\n",
            "Loaded file: gip_A00053440_part2002_features.csv\n",
            "Loaded file: gip_A00053460001_features.csv\n",
            "Loaded file: gip_A00053460008_features.csv\n",
            "Loaded file: gip_A00053460009_features.csv\n",
            "Loaded file: gip_A00053597002_features.csv\n",
            "Loaded file: gip_A00053597003_features.csv\n",
            "Loaded file: gip_A00053597006_features.csv\n",
            "Loaded file: gip_A00053597010_features.csv\n",
            "Loaded file: gip_A00053909004_features.csv\n",
            "Loaded file: gip_A00053909005_features.csv\n",
            "Loaded file: gip_A00053909008_features.csv\n",
            "Loaded file: gip_A00053909011_features.csv\n",
            "Loaded file: gip_A00053990002_features.csv\n",
            "Loaded file: gip_A00053990003_features.csv\n",
            "Loaded file: gip_A00053990005_features.csv\n",
            "Loaded file: gip_A00053990006_features.csv\n",
            "Loaded file: gip_A00053990008_features.csv\n",
            "Loaded file: gip_A00053990009_features.csv\n",
            "Loaded file: gip_A00053990011_features.csv\n",
            "Loaded file: gip_A00053990015_features.csv\n",
            "Loaded file: gip_A00053990016_features.csv\n",
            "Loaded file: gip_A00053990017_features.csv\n",
            "Loaded file: gip_A00053990018_features.csv\n",
            "Loaded file: gip_A00053990019_features.csv\n",
            "Loaded file: gip_A00053990020_features.csv\n",
            "Loaded file: gip_A00054023003_features.csv\n",
            "Loaded file: gip_A00054023004_features.csv\n",
            "Loaded file: gip_A00054023005_features.csv\n",
            "Loaded file: gip_A00054023006_features.csv\n",
            "Loaded file: gip_A00054023007_features.csv\n",
            "Loaded file: gip_A00054023009_features.csv\n",
            "Loaded file: gip_A00054023011_features.csv\n",
            "Loaded file: gip_A00054039005_features.csv\n",
            "Loaded file: gip_A00054039007_features.csv\n",
            "Loaded file: gip_A00054039009_features.csv\n",
            "Loaded file: gip_A00054039010_features.csv\n",
            "Loaded file: gip_A00054039011_features.csv\n",
            "Loaded file: gip_A00054207001_features.csv\n",
            "Loaded file: gip_A00054207002_features.csv\n",
            "Loaded file: gip_A00054207004_features.csv\n",
            "Loaded file: gip_A00054207005_features.csv\n",
            "Loaded file: gip_A00054207006_features.csv\n",
            "Loaded file: gip_A00054207009_features.csv\n",
            "Loaded file: gip_A00054207010_features.csv\n",
            "Loaded file: gip_A00054207011_features.csv\n",
            "Loaded file: gip_A00054215006_features.csv\n",
            "Loaded file: gip_A00054239005_features.csv\n",
            "Loaded file: gip_A00054239006_features.csv\n",
            "Loaded file: gip_A00054287002_features.csv\n",
            "Loaded file: gip_A00054287003_features.csv\n",
            "Loaded file: gip_A00054287004_features.csv\n",
            "Loaded file: gip_A00054287005_features.csv\n",
            "Loaded file: gip_A00054287006_features.csv\n",
            "Loaded file: gip_A00054287007_features.csv\n",
            "Loaded file: gip_A00054287008_features.csv\n",
            "Loaded file: gip_A00054287009_features.csv\n",
            "Loaded file: gip_A00054359001_features.csv\n",
            "Loaded file: gip_A00054359004_features.csv\n",
            "Loaded file: gip_A00054359006_features.csv\n",
            "Loaded file: gip_A00054359007_features.csv\n",
            "Loaded file: gip_A00054359008_features.csv\n",
            "Loaded file: gip_A00054359009_features.csv\n",
            "Loaded file: gip_A00054359010_features.csv\n",
            "Loaded file: gip_A00054359011_features.csv\n",
            "Loaded file: gip_A00054359012_features.csv\n",
            "Loaded file: gip_A00054359013_features.csv\n",
            "Loaded file: gip_A00054369001_features.csv\n",
            "Loaded file: gip_A00054369002_features.csv\n",
            "Loaded file: gip_A00054369003_features.csv\n",
            "Loaded file: gip_A00054369004_features.csv\n",
            "Loaded file: gip_A00054369005_features.csv\n",
            "Loaded file: gip_A00054369006_features.csv\n",
            "Loaded file: gip_A00054369008_features.csv\n",
            "Loaded file: gip_A00054369009_features.csv\n",
            "Loaded file: gip_A00054387002_features.csv\n",
            "Loaded file: gip_A00054387003_features.csv\n",
            "Loaded file: gip_A00054387005_features.csv\n",
            "Loaded file: gip_A00054387006_features.csv\n",
            "Loaded file: gip_A00054387007_features.csv\n",
            "Loaded file: gip_A00054387008_features.csv\n",
            "Loaded file: gip_A00054387009_features.csv\n",
            "Loaded file: gip_A00054387010_features.csv\n",
            "Loaded file: gip_A00054387011_features.csv\n",
            "Loaded file: gip_A00054387013_features.csv\n",
            "Loaded file: gip_A00054387014_features.csv\n",
            "Loaded file: gip_A00054387015_features.csv\n",
            "Loaded file: gip_A00054400001_features.csv\n",
            "Loaded file: gip_A00054400002_features.csv\n",
            "Loaded file: gip_A00054400003_features.csv\n",
            "Loaded file: gip_A00054400004_features.csv\n",
            "Loaded file: gip_A00054400005_features.csv\n",
            "Loaded file: gip_A00054400008_features.csv\n",
            "Loaded file: gip_A00054400009_features.csv\n",
            "Loaded file: gip_A00054417001_features.csv\n",
            "Loaded file: gip_A00054417002_features.csv\n",
            "Loaded file: gip_A00054417003_features.csv\n",
            "Loaded file: gip_A00054417004_features.csv\n",
            "Loaded file: gip_A00054417005_features.csv\n",
            "Loaded file: gip_A00054417006_features.csv\n",
            "Loaded file: gip_A00054417007_features.csv\n",
            "Loaded file: gip_A00054417008_features.csv\n",
            "Loaded file: gip_A00054417009_features.csv\n",
            "Loaded file: gip_A00054417010_features.csv\n",
            "Loaded file: gip_A00054417011_features.csv\n",
            "Loaded file: gip_A00054417013_features.csv\n",
            "Loaded file: gip_A00054417014_features.csv\n",
            "Loaded file: gip_A00054417015_features.csv\n",
            "Loaded file: gip_A00054432002_features.csv\n",
            "Loaded file: gip_A00054432003_features.csv\n",
            "Loaded file: gip_A00054469004_features.csv\n",
            "Loaded file: gip_A00054469006_features.csv\n",
            "Loaded file: gip_A00054488001_features.csv\n",
            "Loaded file: gip_A00054488002_features.csv\n",
            "Loaded file: gip_A00054488003_features.csv\n",
            "Loaded file: gip_A00054488004_features.csv\n",
            "Loaded file: gip_A00054488006_features.csv\n",
            "Loaded file: gip_A00054488007_features.csv\n",
            "Loaded file: gip_A00054488009_features.csv\n",
            "Loaded file: gip_A00054488010_features.csv\n",
            "Loaded file: gip_A00054488011_features.csv\n",
            "Loaded file: gip_A00054488012_features.csv\n",
            "Loaded file: gip_A00054488014_features.csv\n",
            "Loaded file: gip_A00054517001_features.csv\n",
            "Loaded file: gip_A00054517004_features.csv\n",
            "Loaded file: gip_A00054517005_features.csv\n",
            "Loaded file: gip_A00054517008_features.csv\n",
            "Loaded file: gip_A00054517009_features.csv\n",
            "Loaded file: gip_A00054517010_features.csv\n",
            "Loaded file: gip_A00054517012_features.csv\n",
            "Loaded file: gip_A00054517014_features.csv\n",
            "Loaded file: gip_A00054535001_features.csv\n",
            "Loaded file: gip_A00054535002_features.csv\n",
            "Loaded file: gip_A00054535003_features.csv\n",
            "Loaded file: gip_A00054535004_features.csv\n",
            "Loaded file: gip_A00054535005_features.csv\n",
            "Loaded file: gip_A00054535006_features.csv\n",
            "Loaded file: gip_A00054535009_features.csv\n",
            "Loaded file: gip_A00054535010_features.csv\n",
            "Loaded file: gip_A00054597004_features.csv\n",
            "Loaded file: gip_A00054597005_features.csv\n",
            "Loaded file: gip_A00054597006_features.csv\n",
            "Loaded file: gip_A00054597007_features.csv\n",
            "Loaded file: gip_A00054623003_features.csv\n",
            "Loaded file: gip_A00054623006_features.csv\n",
            "Loaded file: gip_A00054623007_features.csv\n",
            "Loaded file: gip_A00054623008_features.csv\n",
            "Loaded file: gip_A00054623014_features.csv\n",
            "Loaded file: gip_A00054623015_features.csv\n",
            "Loaded file: gip_A00054647001_features.csv\n",
            "Loaded file: gip_A00054647005_features.csv\n",
            "Loaded file: gip_A00054647006_features.csv\n",
            "Loaded file: gip_A00054647010_features.csv\n",
            "Loaded file: gip_A00054647013_features.csv\n",
            "Loaded file: gip_A00054659002_features.csv\n",
            "Loaded file: gip_A00054659003_features.csv\n",
            "Loaded file: gip_A00054659005_features.csv\n",
            "Loaded file: gip_A00054659008_features.csv\n",
            "Loaded file: gip_A00054659010_features.csv\n",
            "Loaded file: gip_A00054659013_features.csv\n",
            "Loaded file: gip_A00054659014_features.csv\n",
            "Loaded file: gip_A00054673002_features.csv\n",
            "Loaded file: gip_A00054694001_features.csv\n",
            "Loaded file: gip_A00054694002_features.csv\n",
            "Loaded file: gip_A00054694007_features.csv\n",
            "Loaded file: gip_A00054694008_features.csv\n",
            "Loaded file: gip_A00054743002_features.csv\n",
            "Loaded file: gip_A00054743003_features.csv\n",
            "Loaded file: gip_A00054743004_features.csv\n",
            "Loaded file: gip_A00054743005_features.csv\n",
            "Loaded file: gip_A00054743007_features.csv\n",
            "Loaded file: gip_A00054743008_features.csv\n",
            "Loaded file: gip_A00054743009_features.csv\n",
            "Loaded file: gip_A00054743011_features.csv\n",
            "Loaded file: gip_A00054743014_features.csv\n",
            "Loaded file: gip_A00054753002_features.csv\n",
            "Loaded file: gip_A00054753003_features.csv\n",
            "Loaded file: gip_A00054753004_features.csv\n",
            "Loaded file: gip_A00054753005_features.csv\n",
            "Loaded file: gip_A00054753006_features.csv\n",
            "Loaded file: gip_A00054753007_features.csv\n",
            "Loaded file: gip_A00054753008_features.csv\n",
            "Loaded file: gip_A00054753009_features.csv\n",
            "Loaded file: gip_A00054753010_features.csv\n",
            "Loaded file: gip_A00054753012_features.csv\n",
            "Loaded file: gip_A00054753013_features.csv\n",
            "Loaded file: gip_A00054753014_features.csv\n",
            "Loaded file: gip_A00054766003_features.csv\n",
            "Loaded file: gip_A00054766006_features.csv\n",
            "Loaded file: gip_A00054817001_features.csv\n",
            "Loaded file: gip_A00054817002_features.csv\n",
            "Loaded file: gip_A00054817003_features.csv\n",
            "Loaded file: gip_A00054817004_features.csv\n",
            "Loaded file: gip_A00054817005_features.csv\n",
            "Loaded file: gip_A00054817006_features.csv\n",
            "Loaded file: gip_A00054817007_features.csv\n",
            "Loaded file: gip_A00054817008_features.csv\n",
            "Loaded file: gip_A00054817010_features.csv\n",
            "Loaded file: gip_A00054817011_features.csv\n",
            "Loaded file: gip_A00054817013_features.csv\n",
            "Loaded file: gip_A00054817014_features.csv\n",
            "Loaded file: gip_A00054817015_features.csv\n",
            "Loaded file: gip_A00054836003_features.csv\n",
            "Loaded file: gip_A00054836005_features.csv\n",
            "Loaded file: gip_A00054836013_features.csv\n",
            "Loaded file: gip_A00054852001_features.csv\n",
            "Loaded file: gip_A00054852006_features.csv\n",
            "Loaded file: gip_A00054852007_features.csv\n",
            "Loaded file: gip_A00054866 002_features.csv\n",
            "Loaded file: gip_A00054866 005_features.csv\n",
            "Loaded file: gip_A00054866 006_features.csv\n",
            "Loaded file: gip_A00054866 007_features.csv\n",
            "Loaded file: gip_A00054866 009_features.csv\n",
            "Loaded file: gip_A00054866 010_features.csv\n",
            "Loaded file: gip_A00054866 011_features.csv\n",
            "Loaded file: gip_A00054866 012_features.csv\n",
            "Loaded file: gip_A00054866 014_features.csv\n",
            "Loaded file: gip_A00054866 016_features.csv\n",
            "Loaded file: gip_A00054894006_features.csv\n",
            "Loaded file: gip_A00054894007_features.csv\n",
            "Loaded file: gip_A00054894008_features.csv\n",
            "Loaded file: gip_A00054894009_features.csv\n",
            "Loaded file: gip_A00054894010_features.csv\n",
            "Loaded file: gip_A00054894011_features.csv\n",
            "Loaded file: gip_A00054894013_features.csv\n",
            "Loaded file: gip_A00054894014_features.csv\n",
            "Loaded file: gip_A00054894015_features.csv\n",
            "Loaded file: gip_A00054894016_features.csv\n",
            "Loaded file: gip_A00054907002_features.csv\n",
            "Loaded file: gip_A00054907006_features.csv\n",
            "Loaded file: gip_A00054907007_features.csv\n",
            "Loaded file: gip_A00054907010_features.csv\n",
            "Loaded file: gip_A00054907011_features.csv\n",
            "Loaded file: gip_A00054907013_features.csv\n",
            "Loaded file: gip_A00054907014_features.csv\n",
            "Loaded file: gip_A00054907015_features.csv\n",
            "Loaded file: gip_A00054917001_features.csv\n",
            "Loaded file: gip_A00054917002_features.csv\n",
            "Loaded file: gip_A00054917003_features.csv\n",
            "Loaded file: gip_A00054917006_features.csv\n",
            "Loaded file: gip_A00054917007_features.csv\n",
            "Loaded file: gip_A00054917008_features.csv\n",
            "Loaded file: gip_A00054917009_features.csv\n",
            "Loaded file: gip_A00054917013_features.csv\n",
            "Loaded file: gip_A00054923001_features.csv\n",
            "Loaded file: gip_A00054923002_features.csv\n",
            "Loaded file: gip_A00054923003_features.csv\n",
            "Loaded file: gip_A00054923004_features.csv\n",
            "Loaded file: gip_A00054923005_features.csv\n",
            "Loaded file: gip_A00054923009_features.csv\n",
            "Loaded file: gip_A00054923010_features.csv\n",
            "Loaded file: gip_A00054923013_features.csv\n",
            "Loaded file: gip_A00054923014_features.csv\n",
            "Loaded file: gip_A00054923015_features.csv\n",
            "Loaded file: gip_A00054930007_features.csv\n",
            "Loaded file: gip_A00054930008_features.csv\n",
            "Loaded file: gip_A00054930009_features.csv\n",
            "Loaded file: gip_A00054930010_features.csv\n",
            "Loaded file: gip_A00054930011_features.csv\n",
            "Loaded file: gip_A00054930013_features.csv\n",
            "Loaded file: gip_A00054930015_features.csv\n",
            "Loaded file: gip_A00055024001_features.csv\n",
            "Loaded file: gip_A00055024003_features.csv\n",
            "Loaded file: gip_A00055024004_features.csv\n",
            "Loaded file: gip_A00055024005_features.csv\n",
            "Loaded file: gip_A00055024006_features.csv\n",
            "Loaded file: gip_A00055024009_features.csv\n",
            "Loaded file: gip_A00055038002_features.csv\n",
            "Loaded file: gip_A00055038003_features.csv\n",
            "Loaded file: gip_A00055038004_features.csv\n",
            "Loaded file: gip_A00055038007_features.csv\n",
            "Loaded file: gip_A00055038008_features.csv\n",
            "Loaded file: gip_A00055055001_features.csv\n",
            "Loaded file: gip_A00055055005_features.csv\n",
            "Loaded file: gip_A00055055009_features.csv\n",
            "Loaded file: gip_A00055065002_features.csv\n",
            "Loaded file: gip_A00055065003_features.csv\n",
            "Loaded file: gip_A00055065004_features.csv\n",
            "Loaded file: gip_A00055065005_features.csv\n",
            "Loaded file: gip_A00055065007_features.csv\n",
            "Loaded file: gip_A00055065009_features.csv\n",
            "Loaded file: gip_A00055065012_features.csv\n",
            "Loaded file: gip_A00055065013_features.csv\n",
            "Loaded file: gip_A00055077001_features.csv\n",
            "Loaded file: gip_A00055077002_features.csv\n",
            "Loaded file: gip_A00055077003_features.csv\n",
            "Loaded file: gip_A00055077004_features.csv\n",
            "Loaded file: gip_A00055077005_features.csv\n",
            "Loaded file: gip_A00055077006_features.csv\n",
            "Loaded file: gip_A00055077007_features.csv\n",
            "Loaded file: gip_A00055077013_features.csv\n",
            "Loaded file: gip_A00055077014_features.csv\n",
            "Loaded file: gip_A00055085008_features.csv\n",
            "Loaded file: gip_A00055085011_features.csv\n",
            "Loaded file: gip_A00055103005_features.csv\n",
            "Loaded file: gip_A00055103008_features.csv\n",
            "Loaded file: gip_A00055103011_features.csv\n",
            "Loaded file: gip_A00055103012_features.csv\n",
            "Loaded file: gip_A00055103013_features.csv\n",
            "Loaded file: gip_A00055296003_features.csv\n",
            "Loaded file: gip_A00055424002_features.csv\n",
            "Loaded file: gip_A00055424003_features.csv\n",
            "Loaded file: gip_A00055424004_features.csv\n",
            "Loaded file: gip_A00055429003_features.csv\n",
            "Loaded file: gip_A00055429004_features.csv\n",
            "Loaded file: gip_A00055429006_features.csv\n",
            "Loaded file: gip_A00055429008_features.csv\n",
            "Loaded file: gip_A00055429009_features.csv\n",
            "Loaded file: gip_A00055429010_features.csv\n",
            "Loaded file: gip_A00055429011_features.csv\n",
            "Loaded file: gip_A00055540001_features.csv\n",
            "Loaded file: gip_A00055540002_features.csv\n",
            "Loaded file: gip_A00055540006_features.csv\n",
            "Loaded file: gip_A00055540013_features.csv\n",
            "Loaded file: gip_A00055540014_features.csv\n",
            "Loaded file: gip_A00055623003_features.csv\n",
            "Loaded file: gip_A00055623004_features.csv\n",
            "Loaded file: gip_A00055623005_features.csv\n",
            "Loaded file: gip_A00055623008_features.csv\n",
            "Loaded file: gip_A00055623014_features.csv\n",
            "Loaded file: gip_A00055623016_features.csv\n",
            "Loaded file: gip_A00055628002_features.csv\n",
            "Loaded file: gip_A00055628003_features.csv\n",
            "Loaded file: gip_A00055628005_features.csv\n",
            "Loaded file: gip_A00055628008_features.csv\n",
            "Loaded file: gip_A00055628013_features.csv\n",
            "Loaded file: gip_A00055628014_features.csv\n",
            "Loaded file: gip_A00055649004_features.csv\n",
            "Loaded file: gip_A00055649005_features.csv\n",
            "Loaded file: gip_A00055649009_features.csv\n",
            "Loaded file: gip_A00055649010_features.csv\n",
            "Loaded file: gip_A00055649011_features.csv\n",
            "Loaded file: gip_A00055649013_features.csv\n",
            "Loaded file: gip_A00055649014_features.csv\n",
            "Loaded file: gip_A00055662007_features.csv\n",
            "Loaded file: gip_A00055682001_features.csv\n",
            "Loaded file: gip_A00055682006_features.csv\n",
            "Loaded file: gip_A00055682009_features.csv\n",
            "Loaded file: gip_A00055682010_features.csv\n",
            "Loaded file: gip_A00055682011_features.csv\n",
            "Loaded file: gip_A00055682013_features.csv\n",
            "Loaded file: gip_A00055682014_features.csv\n",
            "Loaded file: gip_A00055682015_features.csv\n",
            "Loaded file: gip_A00055731003_features.csv\n",
            "Loaded file: gip_A00055731005_features.csv\n",
            "Loaded file: gip_A00055731006_features.csv\n",
            "Loaded file: gip_A00055731007_features.csv\n",
            "Loaded file: gip_A00055731008_features.csv\n",
            "Loaded file: gip_A00055731013_features.csv\n",
            "Loaded file: gip_A00055731016_features.csv\n",
            "Loaded file: gip_A00055745002_features.csv\n",
            "Loaded file: gip_A00055745003_features.csv\n",
            "Loaded file: gip_A00055745004_features.csv\n",
            "Loaded file: gip_A00055745013_features.csv\n",
            "Loaded file: gip_A00055745014_features.csv\n",
            "Loaded file: gip_A00055745015_features.csv\n",
            "Loaded file: gip_A00055754003_features.csv\n",
            "Loaded file: gip_A00055837002_features.csv\n",
            "Loaded file: gip_A00055837003_features.csv\n",
            "Loaded file: gip_A00055837005_features.csv\n",
            "Loaded file: gip_A00055837007_features.csv\n",
            "Loaded file: gip_A00055837008_features.csv\n",
            "Loaded file: gip_A00055837009_features.csv\n",
            "Loaded file: gip_A00055837010_features.csv\n",
            "Loaded file: gip_A00055837013_features.csv\n",
            "Loaded file: gip_A00055865002_features.csv\n",
            "Loaded file: gip_A00055865004_features.csv\n",
            "Loaded file: gip_A00055865005_features.csv\n",
            "Loaded file: gip_A00055865009_features.csv\n",
            "Loaded file: gip_A00055865010_features.csv\n",
            "Loaded file: gip_A00055865013_features.csv\n",
            "Loaded file: gip_A00055865014_features.csv\n",
            "Loaded file: gip_A00055893001_features.csv\n",
            "Loaded file: gip_A00055893002_features.csv\n",
            "Loaded file: gip_A00055893003_features.csv\n",
            "Loaded file: gip_A00055893004_features.csv\n",
            "Loaded file: gip_A00055893015_features.csv\n",
            "Loaded file: gip_A00055893016_features.csv\n",
            "Loaded file: gip_A00055910004_features.csv\n",
            "Loaded file: gip_A00055910008_features.csv\n",
            "Loaded file: gip_A00055910009_features.csv\n",
            "Loaded file: gip_A00055910011_features.csv\n",
            "Loaded file: gip_A00055910013_features.csv\n",
            "Loaded file: gip_A00055910014_features.csv\n",
            "Loaded file: gip_A00055910015_features.csv\n",
            "Loaded file: gip_A00055910016_features.csv\n",
            "Loaded file: gip_A00055947002_features.csv\n",
            "Loaded file: gip_A00055947003_features.csv\n",
            "Loaded file: gip_A00055947004_features.csv\n",
            "Loaded file: gip_A00055947005_features.csv\n",
            "Loaded file: gip_A00055947008_features.csv\n",
            "Loaded file: gip_A00055956001_features.csv\n",
            "Loaded file: gip_A00055956002_features.csv\n",
            "Loaded file: gip_A00055956004_features.csv\n",
            "Loaded file: gip_A00055956006_features.csv\n",
            "Loaded file: gip_A00055956007_features.csv\n",
            "Loaded file: gip_A00055956008_features.csv\n",
            "Loaded file: gip_A00055956009_features.csv\n",
            "Loaded file: gip_A00055956012_features.csv\n",
            "Loaded file: gip_A00055956013_features.csv\n",
            "Loaded file: gip_A00055956014_features.csv\n",
            "Loaded file: gip_A00056054001_features.csv\n",
            "Loaded file: gip_A00056054007_features.csv\n",
            "Loaded file: gip_A00056054008_features.csv\n",
            "Loaded file: gip_A00056054009_features.csv\n",
            "Loaded file: gip_A00056116005_features.csv\n",
            "Loaded file: gip_A00056116009_features.csv\n",
            "Loaded file: gip_A00056116010_features.csv\n",
            "Loaded file: gip_A00056116011_features.csv\n",
            "Loaded file: gip_A00056116014_features.csv\n",
            "Loaded file: gip_A00056116017_features.csv\n",
            "Loaded file: gip_A00056166001_features.csv\n",
            "Loaded file: gip_A00056166002_features.csv\n",
            "Loaded file: gip_A00056166003_features.csv\n",
            "Loaded file: gip_A00056166004_features.csv\n",
            "Loaded file: gip_A00056166010_features.csv\n",
            "Loaded file: gip_A00056166013_features.csv\n",
            "Loaded file: gip_A00056166014_features.csv\n",
            "Loaded file: gip_A00056166015_features.csv\n",
            "Loaded file: gip_A00056604003_features.csv\n",
            "Loaded file: gip_A00056604004_features.csv\n",
            "Loaded file: gip_A00056604005_features.csv\n",
            "Loaded file: gip_A00056604006_features.csv\n",
            "Loaded file: gip_A00056604010_features.csv\n",
            "Loaded file: gip_A00056716001_features.csv\n",
            "Loaded file: gip_A00056716004_features.csv\n",
            "Loaded file: gip_A00056716008_features.csv\n",
            "Loaded file: gip_A00056716009_features.csv\n",
            "Loaded file: gip_A00056716011_features.csv\n",
            "Loaded file: gip_A00056723002_features.csv\n",
            "Loaded file: gip_A00056723003_features.csv\n",
            "Loaded file: gip_A00056723005_features.csv\n",
            "Loaded file: gip_A00056723006_features.csv\n",
            "Loaded file: gip_A00056723007_features.csv\n",
            "Loaded file: gip_A00056723009_features.csv\n",
            "Loaded file: gip_A00056723011_features.csv\n",
            "Loaded file: gip_A00056723012_features.csv\n",
            "Loaded file: gip_A00056723013_features.csv\n",
            "Loaded file: gip_A00056733008_features.csv\n",
            "Loaded file: gip_A00056762002_features.csv\n",
            "Loaded file: gip_A00056762003_features.csv\n",
            "Loaded file: gip_A00056762006_features.csv\n",
            "Loaded file: gip_A00056762007_features.csv\n",
            "Loaded file: gip_A00056762008_features.csv\n",
            "Loaded file: gip_A00056913003_features.csv\n",
            "Loaded file: gip_A00056913004_features.csv\n",
            "Loaded file: gip_A00056913006_features.csv\n",
            "Loaded file: gip_A00056913007_features.csv\n",
            "Loaded file: gip_A00056913008_features.csv\n",
            "Loaded file: gip_A00056913009_features.csv\n",
            "Loaded file: gip_A00056913012_features.csv\n",
            "Loaded file: gip_A00056913013_features.csv\n",
            "Loaded file: gip_A00057092001_features.csv\n",
            "Loaded file: gip_A00057092002_features.csv\n",
            "Loaded file: gip_A00057092003_features.csv\n",
            "Loaded file: gip_A00057092004_features.csv\n",
            "Loaded file: gip_A00057092005_features.csv\n",
            "Loaded file: gip_A00057092006_features.csv\n",
            "Loaded file: gip_A00057092007_features.csv\n",
            "Loaded file: gip_A00057092014_features.csv\n",
            "Loaded file: gip_A00057092015_features.csv\n",
            "Loaded file: gip_A00057599001_features.csv\n",
            "Loaded file: gip_A00057599004_features.csv\n",
            "Loaded file: gip_A00057599005_features.csv\n",
            "Loaded file: gip_A00057599009_features.csv\n",
            "Loaded file: gip_A00057630002_features.csv\n",
            "Loaded file: gip_A00057630007_features.csv\n",
            "Loaded file: gip_A00057630009_features.csv\n",
            "Loaded file: gip_A00058775001_features.csv\n",
            "Loaded file: gip_A00058775002_features.csv\n",
            "Loaded file: gip_A00058775003_features.csv\n",
            "Loaded file: gip_A00058775004_features.csv\n",
            "Loaded file: gip_A00058775005_features.csv\n",
            "Loaded file: gip_A00058775006_features.csv\n",
            "Loaded file: gip_A00058775007_features.csv\n",
            "Loaded file: gip_A00058775008_features.csv\n",
            "Loaded file: gip_A00058775011_features.csv\n",
            "Loaded file: gip_A00058775012_features.csv\n",
            "Loaded file: gip_A00058775013_features.csv\n",
            "Loaded file: gip_A00058775014_features.csv\n",
            "Loaded file: gip_A00059063008_features.csv\n",
            "Loaded file: gip_A00059063009_features.csv\n",
            "Loaded file: gip_A00059063010_features.csv\n",
            "Loaded file: gip_A00059063011_features.csv\n",
            "Loaded file: gip_A00059063013_features.csv\n",
            "Loaded file: gip_A00059063014_features.csv\n",
            "Loaded file: gip_A00059063015_features.csv\n",
            "Loaded file: gip_A00059063016_features.csv\n",
            "Loaded file: gip_A00059083001_features.csv\n",
            "Loaded file: gip_A00059083003_features.csv\n",
            "Loaded file: gip_A00059083006_features.csv\n",
            "Loaded file: gip_A00059083008_features.csv\n",
            "Loaded file: gip_A00059083009_features.csv\n",
            "Loaded file: gip_A00059083010_features.csv\n",
            "Loaded file: gip_A00059083012_features.csv\n",
            "Loaded file: gip_A00059083015_features.csv\n",
            "Loaded file: gip_A00059083016_features.csv\n",
            "Loaded file: gip_A00059083017_features.csv\n",
            "Loaded file: gip_A00059578001_features.csv\n",
            "Loaded file: gip_A00059578003_features.csv\n",
            "Loaded file: gip_A00059578004_features.csv\n",
            "Loaded file: gip_A00059578006_features.csv\n",
            "Loaded file: gip_A00059578007_features.csv\n",
            "Loaded file: gip_A00059578010_features.csv\n",
            "Loaded file: gip_A00059904004_features.csv\n",
            "Loaded file: gip_A00059904012_features.csv\n",
            "Loaded file: gip_A00062029001_features.csv\n",
            "Loaded file: gip_A00062029003_features.csv\n",
            "Loaded file: gip_A00062029004_features.csv\n",
            "Loaded file: gip_A00062029008_features.csv\n",
            "Loaded file: gip_A00062029009_features.csv\n",
            "Loaded file: gip_A00062029011_features.csv\n",
            "Loaded file: gip_A00062029013_features.csv\n",
            "Loaded file: gip_A00062055006_features.csv\n",
            "Loaded file: gip_A00062055008_features.csv\n",
            "Loaded file: gip_A00062055009_features.csv\n",
            "Loaded file: gip_A00062055010_features.csv\n",
            "Loaded file: gip_A00062055011_features.csv\n",
            "Loaded file: gip_A00062125001_features.csv\n",
            "Loaded file: gip_A00062125002_features.csv\n",
            "Loaded file: gip_A00062125003_features.csv\n",
            "Loaded file: gip_A00062125004_features.csv\n",
            "Loaded file: gip_A00062125005_features.csv\n",
            "Loaded file: gip_A00062125006_features.csv\n",
            "Loaded file: gip_A00062125007_features.csv\n",
            "Loaded file: gip_A00062125008_features.csv\n",
            "Loaded file: gip_A00062125010_features.csv\n",
            "Loaded file: gip_A00062125011_features.csv\n",
            "Loaded file: gip_A00062165001_features.csv\n",
            "Loaded file: gip_A00062165004_features.csv\n",
            "Loaded file: gip_A00062165007_features.csv\n",
            "Loaded file: gip_A00062165008_features.csv\n",
            "Loaded file: gip_A00062165009_features.csv\n",
            "Loaded file: gip_A00062165010_features.csv\n",
            "Loaded file: gip_A00062219001_features.csv\n",
            "Loaded file: gip_A00062219003_features.csv\n",
            "Loaded file: gip_A00062219004_features.csv\n",
            "Loaded file: gip_A00062219006_features.csv\n",
            "Loaded file: gip_A00062219010_features.csv\n",
            "Loaded file: gip_A00062219011_features.csv\n",
            "Loaded file: gip_A00062219012_features.csv\n",
            "Loaded file: gip_A00062219014_features.csv\n",
            "Loaded file: gip_A00062279001_features.csv\n",
            "Loaded file: gip_A00062279002_features.csv\n",
            "Loaded file: gip_A00062279003_features.csv\n",
            "Loaded file: gip_A00062279004_features.csv\n",
            "Loaded file: gip_A00062279005_features.csv\n",
            "Loaded file: gip_A00062279006_features.csv\n",
            "Loaded file: gip_A00062279007_features.csv\n",
            "Loaded file: gip_A00062279008_features.csv\n",
            "Loaded file: gip_A00062279009_features.csv\n",
            "Loaded file: gip_A00062279010_features.csv\n",
            "Loaded file: gip_A00062279011_features.csv\n",
            "Loaded file: gip_A00062279012_features.csv\n",
            "Loaded file: gip_A00062329001_features.csv\n",
            "Loaded file: gip_A00062329002_features.csv\n",
            "Loaded file: gip_A00062329003_features.csv\n",
            "Loaded file: gip_A00062329004_features.csv\n",
            "Loaded file: gip_A00062329005_features.csv\n",
            "Loaded file: gip_A00062329006_features.csv\n",
            "Loaded file: gip_A00062329007_features.csv\n",
            "Loaded file: gip_A00062329008_features.csv\n",
            "Loaded file: gip_A00062329009_features.csv\n",
            "Loaded file: gip_A00062329010_features.csv\n",
            "Loaded file: gip_A00062329011_features.csv\n",
            "Loaded file: gip_A00062329012_features.csv\n",
            "Loaded file: gip_A00062435001_features.csv\n",
            "Loaded file: gip_A00062435003_features.csv\n",
            "Loaded file: gip_A00062435005_features.csv\n",
            "Loaded file: gip_A00062435006_features.csv\n",
            "Loaded file: gip_A00062435013_features.csv\n",
            "Loaded file: gip_A00062453002_features.csv\n",
            "Loaded file: gip_A00062453003_features.csv\n",
            "Loaded file: gip_A00062453005_features.csv\n",
            "Loaded file: gip_A00062578008_features.csv\n",
            "Loaded file: gip_A00062578009_features.csv\n",
            "Loaded file: gip_A00062578010_features.csv\n",
            "Loaded file: gip_A00062704003_features.csv\n",
            "Loaded file: gip_A00062704012_features.csv\n",
            "Loaded file: gip_A00062704013_features.csv\n",
            "Loaded file: gip_A00062842001_features.csv\n",
            "Loaded file: gip_A00062842002_features.csv\n",
            "Loaded file: gip_A00062842003_features.csv\n",
            "Loaded file: gip_A00062842004_features.csv\n",
            "Loaded file: gip_A00062842005_features.csv\n",
            "Loaded file: gip_A00062842006_features.csv\n",
            "Loaded file: gip_A00062842007_features.csv\n",
            "Loaded file: gip_A00062842008_features.csv\n",
            "Loaded file: gip_A00062842009_features.csv\n",
            "Loaded file: gip_A00062842010_features.csv\n",
            "Loaded file: gip_A00062842011_features.csv\n",
            "Loaded file: gip_A00062842013_features.csv\n",
            "Loaded file: gip_A00062919 001_features.csv\n",
            "Loaded file: gip_A00062919 002_features.csv\n",
            "Loaded file: gip_A00062919 004_features.csv\n",
            "Loaded file: gip_A00062919 005_features.csv\n",
            "Loaded file: gip_A00062919 006_features.csv\n",
            "Loaded file: gip_A00062919 007_features.csv\n",
            "Loaded file: gip_A00062919 008_features.csv\n",
            "Loaded file: gip_A00062919 010_features.csv\n",
            "Loaded file: gip_A00062919 011_features.csv\n",
            "Loaded file: gip_A00062919 012_features.csv\n",
            "Loaded file: gip_A00062951 001_features.csv\n",
            "Loaded file: gip_A00062951 002_features.csv\n",
            "Loaded file: gip_A00062951 003_features.csv\n",
            "Loaded file: gip_A00062951 004_features.csv\n",
            "Loaded file: gip_A00062951 005_features.csv\n",
            "Loaded file: gip_A00062951 007_features.csv\n",
            "Loaded file: gip_A00062951 009_features.csv\n",
            "Loaded file: gip_A00063029 001_features.csv\n",
            "Loaded file: gip_A00063029 002_features.csv\n",
            "Loaded file: gip_A00063029 003_features.csv\n",
            "Loaded file: gip_A00063029 004_features.csv\n",
            "Loaded file: gip_A00063029 005_features.csv\n",
            "Loaded file: gip_A00063029 006_features.csv\n",
            "Loaded file: gip_A00063029 007_features.csv\n",
            "Loaded file: gip_A00063029 008_features.csv\n",
            "Loaded file: gip_A00063029 009_features.csv\n",
            "Loaded file: gip_A00063117 001_features.csv\n",
            "Loaded file: gip_A00063117 002_features.csv\n",
            "Loaded file: gip_A00063117 003_features.csv\n",
            "Loaded file: gip_A00063117 004_features.csv\n",
            "Loaded file: gip_A00063117 005_features.csv\n",
            "Loaded file: gip_A00063117 006_features.csv\n",
            "Loaded file: gip_A00063117 008_features.csv\n",
            "Loaded file: gip_A00063117 009_features.csv\n",
            "Loaded file: gip_A00063117 010_features.csv\n",
            "Loaded file: gip_A00063117 011_features.csv\n",
            "Loaded file: gip_A00063117 013_features.csv\n",
            "Loaded file: gip_A00063377 001_features.csv\n",
            "Loaded file: gip_A00063377 002_features.csv\n",
            "Loaded file: gip_A00063377 003_features.csv\n",
            "Loaded file: gip_A00063377 005_features.csv\n",
            "Loaded file: gip_A00063377 009_features.csv\n",
            "Loaded file: gip_A00063377 011_features.csv\n",
            "Loaded file: gp_A00051826001_features.csv\n",
            "Loaded file: gp_A00051826002_features.csv\n",
            "Loaded file: gp_A00051826003_features.csv\n",
            "Loaded file: gp_A00051826004_features.csv\n",
            "Loaded file: gp_A00051886001_features.csv\n",
            "Loaded file: gp_A00051886004_features.csv\n",
            "Loaded file: gp_A00051886007_features.csv\n",
            "Loaded file: gp_A00051886009_features.csv\n",
            "Loaded file: gp_A00051886011_features.csv\n",
            "Loaded file: gp_A00051955002_features.csv\n",
            "Loaded file: gp_A00051955011_features.csv\n",
            "Loaded file: gp_A00053398_features.csv\n",
            "Loaded file: gp_A00053440003_features.csv\n",
            "Loaded file: gp_A00053440004_features.csv\n",
            "Loaded file: gp_A00053440005_features.csv\n",
            "Loaded file: gp_A00053440006_features.csv\n",
            "Loaded file: gp_A00053440_part2001_features.csv\n",
            "Loaded file: gp_A00053440_part2003_features.csv\n",
            "Loaded file: gp_A00053440_part2005_features.csv\n",
            "Loaded file: gp_A00053597001_features.csv\n",
            "Loaded file: gp_A00053597007_features.csv\n",
            "Loaded file: gp_A00053597008_features.csv\n",
            "Loaded file: gp_A00053597009_features.csv\n",
            "Loaded file: gp_A00053597011_features.csv\n",
            "Loaded file: gp_A00053990001_features.csv\n",
            "Loaded file: gp_A00053990004_features.csv\n",
            "Loaded file: gp_A00053990007_features.csv\n",
            "Loaded file: gp_A00053990012_features.csv\n",
            "Loaded file: gp_A00053990013_features.csv\n",
            "Loaded file: gp_A00053990014_features.csv\n",
            "Loaded file: gp_A00054023001_features.csv\n",
            "Loaded file: gp_A00054023002_features.csv\n",
            "Loaded file: gp_A00054023008_features.csv\n",
            "Loaded file: gp_A00054023010_features.csv\n",
            "Loaded file: gp_A00054023012_features.csv\n",
            "Loaded file: gp_A00054039001_features.csv\n",
            "Loaded file: gp_A00054039002_features.csv\n",
            "Loaded file: gp_A00054039003_features.csv\n",
            "Loaded file: gp_A00054039004_features.csv\n",
            "Loaded file: gp_A00054039006_features.csv\n",
            "Loaded file: gp_A00054039008_features.csv\n",
            "Loaded file: gp_A00054207003_features.csv\n",
            "Loaded file: gp_A00054207007_features.csv\n",
            "Loaded file: gp_A00054207008_features.csv\n",
            "Loaded file: gp_A00054239001_features.csv\n",
            "Loaded file: gp_A00054239002_features.csv\n",
            "Loaded file: gp_A00054239003_features.csv\n",
            "Loaded file: gp_A00054239004_features.csv\n",
            "Loaded file: gp_A00054239007_features.csv\n",
            "Loaded file: gp_A00054239008_features.csv\n",
            "Loaded file: gp_A00054239009_features.csv\n",
            "Loaded file: gp_A00054239010_features.csv\n",
            "Loaded file: gp_A00054239011_features.csv\n",
            "Loaded file: gp_A00054287011_features.csv\n",
            "Loaded file: gp_A00054287012_features.csv\n",
            "Loaded file: gp_A00054359002_features.csv\n",
            "Loaded file: gp_A00054359015_features.csv\n",
            "Loaded file: gp_A00054387001_features.csv\n",
            "Loaded file: gp_A00054387004_features.csv\n",
            "Loaded file: gp_A00054417016_features.csv\n",
            "Loaded file: gp_A00054469001_features.csv\n",
            "Loaded file: gp_A00054469002_features.csv\n",
            "Loaded file: gp_A00054469003_features.csv\n",
            "Loaded file: gp_A00054469005_features.csv\n",
            "Loaded file: gp_A00054469007_features.csv\n",
            "Loaded file: gp_A00054469008_features.csv\n",
            "Loaded file: gp_A00054469009_features.csv\n",
            "Loaded file: gp_A00054469010_features.csv\n",
            "Loaded file: gp_A00054469012_features.csv\n",
            "Loaded file: gp_A00054469013_features.csv\n",
            "Loaded file: gp_A00054469014_features.csv\n",
            "Loaded file: gp_A00054488008_features.csv\n",
            "Loaded file: gp_A00054517017_features.csv\n",
            "Loaded file: gp_A00054535007_features.csv\n",
            "Loaded file: gp_A00054535008_features.csv\n",
            "Loaded file: gp_A00054535015_features.csv\n",
            "Loaded file: gp_A00054623001_features.csv\n",
            "Loaded file: gp_A00054623002_features.csv\n",
            "Loaded file: gp_A00054623004_features.csv\n",
            "Loaded file: gp_A00054623005_features.csv\n",
            "Loaded file: gp_A00054623009_features.csv\n",
            "Loaded file: gp_A00054623010_features.csv\n",
            "Loaded file: gp_A00054623011_features.csv\n",
            "Loaded file: gp_A00054623013_features.csv\n",
            "Loaded file: gp_A00054623016_features.csv\n",
            "Loaded file: gp_A00054647002_features.csv\n",
            "Loaded file: gp_A00054647011_features.csv\n",
            "Loaded file: gp_A00054659007_features.csv\n",
            "Loaded file: gp_A00054666007_features.csv\n",
            "Loaded file: gp_A00054673013_features.csv\n",
            "Loaded file: gp_A00054694009_features.csv\n",
            "Loaded file: gp_A00054694016_features.csv\n",
            "Loaded file: gp_A00054743001_features.csv\n",
            "Loaded file: gp_A00054743010_features.csv\n",
            "Loaded file: gp_A00054743013_features.csv\n",
            "Loaded file: gp_A00054743015_features.csv\n",
            "Loaded file: gp_A00054743016_features.csv\n",
            "Loaded file: gp_A00054766016_features.csv\n",
            "Loaded file: gp_A00054817009_features.csv\n",
            "Loaded file: gp_A00054817016_features.csv\n",
            "Loaded file: gp_A00054836001_features.csv\n",
            "Loaded file: gp_A00054836002_features.csv\n",
            "Loaded file: gp_A00054836004_features.csv\n",
            "Loaded file: gp_A00054836006_features.csv\n",
            "Loaded file: gp_A00054836007_features.csv\n",
            "Loaded file: gp_A00054836008_features.csv\n",
            "Loaded file: gp_A00054836009_features.csv\n",
            "Loaded file: gp_A00054836010_features.csv\n",
            "Loaded file: gp_A00054836011_features.csv\n",
            "Loaded file: gp_A00054836014_features.csv\n",
            "Loaded file: gp_A00054852015_features.csv\n",
            "Loaded file: gp_A00054866 001_features.csv\n",
            "Loaded file: gp_A00054866 003_features.csv\n",
            "Loaded file: gp_A00054866 004_features.csv\n",
            "Loaded file: gp_A00054866 008_features.csv\n",
            "Loaded file: gp_A00054894001_features.csv\n",
            "Loaded file: gp_A00054894002_features.csv\n",
            "Loaded file: gp_A00054894003_features.csv\n",
            "Loaded file: gp_A00054894004_features.csv\n",
            "Loaded file: gp_A00054894005_features.csv\n",
            "Loaded file: gp_A00054907009_features.csv\n",
            "Loaded file: gp_A00054907016_features.csv\n",
            "Loaded file: gp_A00054917015_features.csv\n",
            "Loaded file: gp_A00054930001_features.csv\n",
            "Loaded file: gp_A00054930002_features.csv\n",
            "Loaded file: gp_A00054930003_features.csv\n",
            "Loaded file: gp_A00054930004_features.csv\n",
            "Loaded file: gp_A00054930005_features.csv\n",
            "Loaded file: gp_A00054930006_features.csv\n",
            "Loaded file: gp_A00054930014_features.csv\n",
            "Loaded file: gp_A00054930016_features.csv\n",
            "Loaded file: gp_A00055024011_features.csv\n",
            "Loaded file: gp_A00055065001_features.csv\n",
            "Loaded file: gp_A00055065006_features.csv\n",
            "Loaded file: gp_A00055065011_features.csv\n",
            "Loaded file: gp_A00055077015_features.csv\n",
            "Loaded file: gp_A00055085001_features.csv\n",
            "Loaded file: gp_A00055085002_features.csv\n",
            "Loaded file: gp_A00055085003_features.csv\n",
            "Loaded file: gp_A00055085004_features.csv\n",
            "Loaded file: gp_A00055085005_features.csv\n",
            "Loaded file: gp_A00055085006_features.csv\n",
            "Loaded file: gp_A00055085007_features.csv\n",
            "Loaded file: gp_A00055085009_features.csv\n",
            "Loaded file: gp_A00055085010_features.csv\n",
            "Loaded file: gp_A00055085013_features.csv\n",
            "Loaded file: gp_A00055085014_features.csv\n",
            "Loaded file: gp_A00055085015_features.csv\n",
            "Loaded file: gp_A00055085016_features.csv\n",
            "Loaded file: gp_A00055103002_features.csv\n",
            "Loaded file: gp_A00055424001_features.csv\n",
            "Loaded file: gp_A00055424008_features.csv\n",
            "Loaded file: gp_A00055429001_features.csv\n",
            "Loaded file: gp_A00055429002_features.csv\n",
            "Loaded file: gp_A00055429005_features.csv\n",
            "Loaded file: gp_A00055429016_features.csv\n",
            "Loaded file: gp_A00055613016_features.csv\n",
            "Loaded file: gp_A00055662016_features.csv\n",
            "Loaded file: gp_A00055682002_features.csv\n",
            "Loaded file: gp_A00055682003_features.csv\n",
            "Loaded file: gp_A00055682004_features.csv\n",
            "Loaded file: gp_A00055682007_features.csv\n",
            "Loaded file: gp_A00055682008_features.csv\n",
            "Loaded file: gp_A00055731002_features.csv\n",
            "Loaded file: gp_A00055745005_features.csv\n",
            "Loaded file: gp_A00055745006_features.csv\n",
            "Loaded file: gp_A00055745007_features.csv\n",
            "Loaded file: gp_A00055745008_features.csv\n",
            "Loaded file: gp_A00055745011_features.csv\n",
            "Loaded file: gp_A00055837001_features.csv\n",
            "Loaded file: gp_A00055837014_features.csv\n",
            "Loaded file: gp_A00055837015_features.csv\n",
            "Loaded file: gp_A00055865001_features.csv\n",
            "Loaded file: gp_A00055865003_features.csv\n",
            "Loaded file: gp_A00055865006_features.csv\n",
            "Loaded file: gp_A00055865011_features.csv\n",
            "Loaded file: gp_A00055865015_features.csv\n",
            "Loaded file: gp_A00056116001_features.csv\n",
            "Loaded file: gp_A00056116002_features.csv\n",
            "Loaded file: gp_A00056116003_features.csv\n",
            "Loaded file: gp_A00056116004_features.csv\n",
            "Loaded file: gp_A00056116008_features.csv\n",
            "Loaded file: gp_A00056166005_features.csv\n",
            "Loaded file: gp_A00056604001_features.csv\n",
            "Loaded file: gp_A00056604002_features.csv\n",
            "Loaded file: gp_A00056604007_features.csv\n",
            "Loaded file: gp_A00056604008_features.csv\n",
            "Loaded file: gp_A00056604009_features.csv\n",
            "Loaded file: gp_A00056716007_features.csv\n",
            "Loaded file: gp_A00056913001_features.csv\n",
            "Loaded file: gp_A00056913002_features.csv\n",
            "Loaded file: gp_A00056913010_features.csv\n",
            "Loaded file: gp_A00056913014_features.csv\n",
            "Loaded file: gp_A00057092013_features.csv\n",
            "Loaded file: gp_A00057630005_features.csv\n",
            "Loaded file: gp_A00058596001_features.csv\n",
            "Loaded file: gp_A00058596002_features.csv\n",
            "Loaded file: gp_A00059063007_features.csv\n",
            "Loaded file: gp_A00059083002_features.csv\n",
            "Loaded file: gp_A00059083004_features.csv\n",
            "Loaded file: gp_A00059083005_features.csv\n",
            "Loaded file: gp_A00059083014_features.csv\n",
            "Loaded file: gp_A00059904001_features.csv\n",
            "Loaded file: gp_A00062029002_features.csv\n",
            "Loaded file: gp_A00062029005_features.csv\n",
            "Loaded file: gp_A00062029007_features.csv\n",
            "Loaded file: gp_A00062029010_features.csv\n",
            "Loaded file: gp_A00062055007_features.csv\n",
            "Loaded file: gp_A00062055013_features.csv\n",
            "Loaded file: gp_A00062125009_features.csv\n",
            "Loaded file: gp_A00062125012_features.csv\n",
            "Loaded file: gp_A00062125014_features.csv\n",
            "Loaded file: gp_A00062219002_features.csv\n",
            "Loaded file: gp_A00062219009_features.csv\n",
            "Loaded file: gp_A00062219013_features.csv\n",
            "Loaded file: gp_A00062279014_features.csv\n",
            "Loaded file: gp_A00062435014_features.csv\n",
            "Loaded file: gp_A00062435015_features.csv\n",
            "Loaded file: gp_A00062453004_features.csv\n",
            "Loaded file: gp_A00062704004_features.csv\n",
            "Loaded file: gp_A00062919 003_features.csv\n",
            "Loaded file: gp_A00062951 008_features.csv\n",
            "Loaded file: gp_A00062951 010_features.csv\n",
            "Loaded file: gp_A00062951 011_features.csv\n",
            "Loaded file: gp_A00062951 012_features.csv\n",
            "Loaded file: gp_A00062951 013_features.csv\n",
            "Loaded file: gp_A00062951 014_features.csv\n",
            "Loaded file: gp_A00063117 007_features.csv\n",
            "Loaded file: gp_A00063377 004_features.csv\n"
          ]
        },
        {
          "name": "stderr",
          "output_type": "stream",
          "text": [
            "/tmp/ipykernel_1571142/1146713451.py:30: DtypeWarning: Columns (0) have mixed types. Specify dtype option on import or set low_memory=False.\n",
            "  df = pd.read_csv(f)\n"
          ]
        },
        {
          "name": "stdout",
          "output_type": "stream",
          "text": [
            "Loaded file: merged_features.csv\n",
            "Loaded file: oip_A00051826006_features.csv\n",
            "Loaded file: oip_A00051826007_features.csv\n",
            "Loaded file: oip_A00051826008_features.csv\n",
            "Loaded file: oip_A00051826009_features.csv\n",
            "Loaded file: oip_A00051826010_features.csv\n",
            "Loaded file: oip_A00051826011_features.csv\n",
            "Loaded file: oip_A00053375005_features.csv\n",
            "Loaded file: oip_A00053375007_features.csv\n",
            "Loaded file: oip_A00053398_part2001_features.csv\n",
            "Loaded file: oip_A00053398_part2002_features.csv\n",
            "Loaded file: oip_A00053398_part2010_features.csv\n",
            "Loaded file: oip_A00053398_part2011_features.csv\n",
            "Loaded file: oip_A00053440_part2004_features.csv\n",
            "Loaded file: oip_A00053460003_features.csv\n",
            "Loaded file: oip_A00053460004_features.csv\n",
            "Loaded file: oip_A00053460005_features.csv\n",
            "Loaded file: oip_A00053460006_features.csv\n",
            "Loaded file: oip_A00053460010_features.csv\n",
            "Loaded file: oip_A00053480001_features.csv\n",
            "Loaded file: oip_A00053480002_features.csv\n",
            "Loaded file: oip_A00053480003_features.csv\n",
            "Loaded file: oip_A00053480005_features.csv\n",
            "Loaded file: oip_A00053480007_features.csv\n",
            "Loaded file: oip_A00053480008_features.csv\n",
            "Loaded file: oip_A00053597004_features.csv\n",
            "Loaded file: oip_A00053597005_features.csv\n",
            "Loaded file: oip_A00053909001_features.csv\n",
            "Loaded file: oip_A00053909003_features.csv\n",
            "Loaded file: oip_A00053909006_features.csv\n",
            "Loaded file: oip_A00053909007_features.csv\n",
            "Loaded file: oip_A00053909009_features.csv\n",
            "Loaded file: oip_A00053909010_features.csv\n",
            "Loaded file: oip_A00053990010_features.csv\n",
            "Loaded file: oip_A00054215002_features.csv\n",
            "Loaded file: oip_A00054215003_features.csv\n",
            "Loaded file: oip_A00054215005_features.csv\n",
            "Loaded file: oip_A00054215007_features.csv\n",
            "Loaded file: oip_A00054215008_features.csv\n",
            "Loaded file: oip_A00054215009_features.csv\n",
            "Loaded file: oip_A00054287001_features.csv\n",
            "Loaded file: oip_A00054287010_features.csv\n",
            "Loaded file: oip_A00054359005_features.csv\n",
            "Loaded file: oip_A00054369010_features.csv\n",
            "Loaded file: oip_A00054369011_features.csv\n",
            "Loaded file: oip_A00054400006_features.csv\n",
            "Loaded file: oip_A00054400007_features.csv\n",
            "Loaded file: oip_A00054400010_features.csv\n",
            "Loaded file: oip_A00054400011_features.csv\n",
            "Loaded file: oip_A00054400013_features.csv\n",
            "Loaded file: oip_A00054400014_features.csv\n",
            "Loaded file: oip_A00054432004_features.csv\n",
            "Loaded file: oip_A00054488005_features.csv\n",
            "Loaded file: oip_A00054517002_features.csv\n",
            "Loaded file: oip_A00054517003_features.csv\n",
            "Loaded file: oip_A00054517006_features.csv\n",
            "Loaded file: oip_A00054517011_features.csv\n",
            "Loaded file: oip_A00054517015_features.csv\n",
            "Loaded file: oip_A00054517016_features.csv\n",
            "Loaded file: oip_A00054535012_features.csv\n",
            "Loaded file: oip_A00054535013_features.csv\n",
            "Loaded file: oip_A00054535014_features.csv\n",
            "Loaded file: oip_A00054597001_features.csv\n",
            "Loaded file: oip_A00054597002_features.csv\n",
            "Loaded file: oip_A00054597003_features.csv\n",
            "Loaded file: oip_A00054597009_features.csv\n",
            "Loaded file: oip_A00054597010_features.csv\n",
            "Loaded file: oip_A00054647003_features.csv\n",
            "Loaded file: oip_A00054647004_features.csv\n",
            "Loaded file: oip_A00054647014_features.csv\n",
            "Loaded file: oip_A00054659001_features.csv\n",
            "Loaded file: oip_A00054659006_features.csv\n",
            "Loaded file: oip_A00054659009_features.csv\n",
            "Loaded file: oip_A00054659012_features.csv\n",
            "Loaded file: oip_A00054666001_features.csv\n",
            "Loaded file: oip_A00054666002_features.csv\n",
            "Loaded file: oip_A00054666003_features.csv\n",
            "Loaded file: oip_A00054666004_features.csv\n",
            "Loaded file: oip_A00054666009_features.csv\n",
            "Loaded file: oip_A00054666010_features.csv\n",
            "Loaded file: oip_A00054673001_features.csv\n",
            "Loaded file: oip_A00054673003_features.csv\n",
            "Loaded file: oip_A00054673004_features.csv\n",
            "Loaded file: oip_A00054673005_features.csv\n",
            "Loaded file: oip_A00054673006_features.csv\n",
            "Loaded file: oip_A00054673007_features.csv\n",
            "Loaded file: oip_A00054673008_features.csv\n",
            "Loaded file: oip_A00054673010_features.csv\n",
            "Loaded file: oip_A00054673011_features.csv\n",
            "Loaded file: oip_A00054673012_features.csv\n",
            "Loaded file: oip_A00054694005_features.csv\n",
            "Loaded file: oip_A00054694013_features.csv\n",
            "Loaded file: oip_A00054694014_features.csv\n",
            "Loaded file: oip_A00054694015_features.csv\n",
            "Loaded file: oip_A00054721001_features.csv\n",
            "Loaded file: oip_A00054721002_features.csv\n",
            "Loaded file: oip_A00054721003_features.csv\n",
            "Loaded file: oip_A00054743006_features.csv\n",
            "Loaded file: oip_A00054753001_features.csv\n",
            "Loaded file: oip_A00054766001_features.csv\n",
            "Loaded file: oip_A00054766002_features.csv\n",
            "Loaded file: oip_A00054766005_features.csv\n",
            "Loaded file: oip_A00054766007_features.csv\n",
            "Loaded file: oip_A00054766009_features.csv\n",
            "Loaded file: oip_A00054766010_features.csv\n",
            "Loaded file: oip_A00054766013_features.csv\n",
            "Loaded file: oip_A00054766014_features.csv\n",
            "Loaded file: oip_A00054766015_features.csv\n",
            "Loaded file: oip_A00054852002_features.csv\n",
            "Loaded file: oip_A00054852003_features.csv\n",
            "Loaded file: oip_A00054852004_features.csv\n",
            "Loaded file: oip_A00054852005_features.csv\n",
            "Loaded file: oip_A00054852008_features.csv\n",
            "Loaded file: oip_A00054852009_features.csv\n",
            "Loaded file: oip_A00054852012_features.csv\n",
            "Loaded file: oip_A00054852013_features.csv\n",
            "Loaded file: oip_A00054866 015_features.csv\n",
            "Loaded file: oip_A00054907001_features.csv\n",
            "Loaded file: oip_A00054907003_features.csv\n",
            "Loaded file: oip_A00054907004_features.csv\n",
            "Loaded file: oip_A00054907005_features.csv\n",
            "Loaded file: oip_A00054907008_features.csv\n",
            "Loaded file: oip_A00054917004_features.csv\n",
            "Loaded file: oip_A00054917005_features.csv\n",
            "Loaded file: oip_A00054917010_features.csv\n",
            "Loaded file: oip_A00054917012_features.csv\n",
            "Loaded file: oip_A00054917014_features.csv\n",
            "Loaded file: oip_A00054923006_features.csv\n",
            "Loaded file: oip_A00054923007_features.csv\n",
            "Loaded file: oip_A00054923008_features.csv\n",
            "Loaded file: oip_A00054923011_features.csv\n",
            "Loaded file: oip_A00055024002_features.csv\n",
            "Loaded file: oip_A00055024007_features.csv\n",
            "Loaded file: oip_A00055024008_features.csv\n",
            "Loaded file: oip_A00055024010_features.csv\n",
            "Loaded file: oip_A00055024013_features.csv\n",
            "Loaded file: oip_A00055024014_features.csv\n",
            "Loaded file: oip_A00055024015_features.csv\n",
            "Loaded file: oip_A00055038001_features.csv\n",
            "Loaded file: oip_A00055038005_features.csv\n",
            "Loaded file: oip_A00055038006_features.csv\n",
            "Loaded file: oip_A00055038009_features.csv\n",
            "Loaded file: oip_A00055038011_features.csv\n",
            "Loaded file: oip_A00055038014_features.csv\n",
            "Loaded file: oip_A00055038015_features.csv\n",
            "Loaded file: oip_A00055055002_features.csv\n",
            "Loaded file: oip_A00055055004_features.csv\n",
            "Loaded file: oip_A00055055006_features.csv\n",
            "Loaded file: oip_A00055055007_features.csv\n",
            "Loaded file: oip_A00055077008_features.csv\n",
            "Loaded file: oip_A00055077011_features.csv\n",
            "Loaded file: oip_A00055103001_features.csv\n",
            "Loaded file: oip_A00055103004_features.csv\n",
            "Loaded file: oip_A00055103007_features.csv\n",
            "Loaded file: oip_A00055103009_features.csv\n",
            "Loaded file: oip_A00055296001_features.csv\n",
            "Loaded file: oip_A00055392001_features.csv\n",
            "Loaded file: oip_A00055392002_features.csv\n",
            "Loaded file: oip_A00055392003_features.csv\n",
            "Loaded file: oip_A00055392004_features.csv\n",
            "Loaded file: oip_A00055392005_features.csv\n",
            "Loaded file: oip_A00055392006_features.csv\n",
            "Loaded file: oip_A00055392007_features.csv\n",
            "Loaded file: oip_A00055392009_features.csv\n",
            "Loaded file: oip_A00055392010_features.csv\n",
            "Loaded file: oip_A00055392011_features.csv\n",
            "Loaded file: oip_A00055424005_features.csv\n",
            "Loaded file: oip_A00055424006_features.csv\n",
            "Loaded file: oip_A00055424007_features.csv\n",
            "Loaded file: oip_A00055424009_features.csv\n",
            "Loaded file: oip_A00055424010_features.csv\n",
            "Loaded file: oip_A00055424013_features.csv\n",
            "Loaded file: oip_A00055429007_features.csv\n",
            "Loaded file: oip_A00055429014_features.csv\n",
            "Loaded file: oip_A00055429015_features.csv\n",
            "Loaded file: oip_A00055436003_features.csv\n",
            "Loaded file: oip_A00055540003_features.csv\n",
            "Loaded file: oip_A00055540004_features.csv\n",
            "Loaded file: oip_A00055540005_features.csv\n",
            "Loaded file: oip_A00055540007_features.csv\n",
            "Loaded file: oip_A00055540008_features.csv\n",
            "Loaded file: oip_A00055540009_features.csv\n",
            "Loaded file: oip_A00055540010_features.csv\n",
            "Loaded file: oip_A00055540012_features.csv\n",
            "Loaded file: oip_A00055613001_features.csv\n",
            "Loaded file: oip_A00055613002_features.csv\n",
            "Loaded file: oip_A00055613003_features.csv\n",
            "Loaded file: oip_A00055613004_features.csv\n",
            "Loaded file: oip_A00055613005_features.csv\n",
            "Loaded file: oip_A00055613008_features.csv\n",
            "Loaded file: oip_A00055613009_features.csv\n",
            "Loaded file: oip_A00055613011_features.csv\n",
            "Loaded file: oip_A00055613013_features.csv\n",
            "Loaded file: oip_A00055613014_features.csv\n",
            "Loaded file: oip_A00055623001_features.csv\n",
            "Loaded file: oip_A00055623002_features.csv\n",
            "Loaded file: oip_A00055623006_features.csv\n",
            "Loaded file: oip_A00055623009_features.csv\n",
            "Loaded file: oip_A00055623010_features.csv\n",
            "Loaded file: oip_A00055623011_features.csv\n",
            "Loaded file: oip_A00055623012_features.csv\n",
            "Loaded file: oip_A00055623015_features.csv\n",
            "Loaded file: oip_A00055628001_features.csv\n",
            "Loaded file: oip_A00055628004_features.csv\n",
            "Loaded file: oip_A00055628006_features.csv\n",
            "Loaded file: oip_A00055628007_features.csv\n",
            "Loaded file: oip_A00055628009_features.csv\n",
            "Loaded file: oip_A00055628010_features.csv\n",
            "Loaded file: oip_A00055628011_features.csv\n",
            "Loaded file: oip_A00055628015_features.csv\n",
            "Loaded file: oip_A00055628016_features.csv\n",
            "Loaded file: oip_A00055649001_features.csv\n",
            "Loaded file: oip_A00055649002_features.csv\n",
            "Loaded file: oip_A00055649003_features.csv\n",
            "Loaded file: oip_A00055649006_features.csv\n",
            "Loaded file: oip_A00055649007_features.csv\n",
            "Loaded file: oip_A00055649008_features.csv\n",
            "Loaded file: oip_A00055649015_features.csv\n",
            "Loaded file: oip_A00055662001_features.csv\n",
            "Loaded file: oip_A00055662006_features.csv\n",
            "Loaded file: oip_A00055662011_features.csv\n",
            "Loaded file: oip_A00055662013_features.csv\n",
            "Loaded file: oip_A00055662015_features.csv\n",
            "Loaded file: oip_A00055682005_features.csv\n",
            "Loaded file: oip_A00055731001_features.csv\n",
            "Loaded file: oip_A00055731004_features.csv\n",
            "Loaded file: oip_A00055731009_features.csv\n",
            "Loaded file: oip_A00055731010_features.csv\n",
            "Loaded file: oip_A00055731014_features.csv\n",
            "Loaded file: oip_A00055731015_features.csv\n",
            "Loaded file: oip_A00055745001_features.csv\n",
            "Loaded file: oip_A00055745009_features.csv\n",
            "Loaded file: oip_A00055745010_features.csv\n",
            "Loaded file: oip_A00055754004_features.csv\n",
            "Loaded file: oip_A00055754005_features.csv\n",
            "Loaded file: oip_A00055754006_features.csv\n",
            "Loaded file: oip_A00055754008_features.csv\n",
            "Loaded file: oip_A00055754009_features.csv\n",
            "Loaded file: oip_A00055754010_features.csv\n",
            "Loaded file: oip_A00055837004_features.csv\n",
            "Loaded file: oip_A00055865007_features.csv\n",
            "Loaded file: oip_A00055865008_features.csv\n",
            "Loaded file: oip_A00055893005_features.csv\n",
            "Loaded file: oip_A00055893013_features.csv\n",
            "Loaded file: oip_A00055893014_features.csv\n",
            "Loaded file: oip_A00055910001_features.csv\n",
            "Loaded file: oip_A00055910002_features.csv\n",
            "Loaded file: oip_A00055910003_features.csv\n",
            "Loaded file: oip_A00055910010_features.csv\n",
            "Loaded file: oip_A00055947001_features.csv\n",
            "Loaded file: oip_A00055947007_features.csv\n",
            "Loaded file: oip_A00055956003_features.csv\n",
            "Loaded file: oip_A00055956005_features.csv\n",
            "Loaded file: oip_A00055956010_features.csv\n",
            "Loaded file: oip_A00056002001_features.csv\n",
            "Loaded file: oip_A00056002002_features.csv\n",
            "Loaded file: oip_A00056002003_features.csv\n",
            "Loaded file: oip_A00056002005_features.csv\n",
            "Loaded file: oip_A00056002006_features.csv\n",
            "Loaded file: oip_A00056002007_features.csv\n",
            "Loaded file: oip_A00056002008_features.csv\n",
            "Loaded file: oip_A00056054002_features.csv\n",
            "Loaded file: oip_A00056054003_features.csv\n",
            "Loaded file: oip_A00056054004_features.csv\n",
            "Loaded file: oip_A00056054005_features.csv\n",
            "Loaded file: oip_A00056054010_features.csv\n",
            "Loaded file: oip_A00056054013_features.csv\n",
            "Loaded file: oip_A00056054014_features.csv\n",
            "Loaded file: oip_A00056054015_features.csv\n",
            "Loaded file: oip_A00056166011_features.csv\n",
            "Loaded file: oip_A00056257003_features.csv\n",
            "Loaded file: oip_A00056257004_features.csv\n",
            "Loaded file: oip_A00056257005_features.csv\n",
            "Loaded file: oip_A00056257006_features.csv\n",
            "Loaded file: oip_A00056257008_features.csv\n",
            "Loaded file: oip_A00056257009_features.csv\n",
            "Loaded file: oip_A00056257010_features.csv\n",
            "Loaded file: oip_A00056257013_features.csv\n",
            "Loaded file: oip_A00056257014_features.csv\n",
            "Loaded file: oip_A00056693002_features.csv\n",
            "Loaded file: oip_A00056693003_features.csv\n",
            "Loaded file: oip_A00056693004_features.csv\n",
            "Loaded file: oip_A00056693005_features.csv\n",
            "Loaded file: oip_A00056693006_features.csv\n",
            "Loaded file: oip_A00056693007_features.csv\n",
            "Loaded file: oip_A00056693008_features.csv\n",
            "Loaded file: oip_A00056693009_features.csv\n",
            "Loaded file: oip_A00056693013_features.csv\n",
            "Loaded file: oip_A00056716002_features.csv\n",
            "Loaded file: oip_A00056716003_features.csv\n",
            "Loaded file: oip_A00056716005_features.csv\n",
            "Loaded file: oip_A00056716006_features.csv\n",
            "Loaded file: oip_A00056723001_features.csv\n",
            "Loaded file: oip_A00056723004_features.csv\n",
            "Loaded file: oip_A00056723008_features.csv\n",
            "Loaded file: oip_A00056733001_features.csv\n",
            "Loaded file: oip_A00056733002_features.csv\n",
            "Loaded file: oip_A00056733003_features.csv\n",
            "Loaded file: oip_A00056733006_features.csv\n",
            "Loaded file: oip_A00056733007_features.csv\n",
            "Loaded file: oip_A00056762004_features.csv\n",
            "Loaded file: oip_A00056762005_features.csv\n",
            "Loaded file: oip_A00056913005_features.csv\n",
            "Loaded file: oip_A00057092009_features.csv\n",
            "Loaded file: oip_A00057599002_features.csv\n",
            "Loaded file: oip_A00057599003_features.csv\n",
            "Loaded file: oip_A00057599007_features.csv\n",
            "Loaded file: oip_A00057599008_features.csv\n",
            "Loaded file: oip_A00057630001_features.csv\n",
            "Loaded file: oip_A00057630003_features.csv\n",
            "Loaded file: oip_A00057630004_features.csv\n",
            "Loaded file: oip_A00057630006_features.csv\n",
            "Loaded file: oip_A00057630008_features.csv\n",
            "Loaded file: oip_A00057630011_features.csv\n",
            "Loaded file: oip_A00057630012_features.csv\n",
            "Loaded file: oip_A00058596003_features.csv\n",
            "Loaded file: oip_A00058596005_features.csv\n",
            "Loaded file: oip_A00058775009_features.csv\n",
            "Loaded file: oip_A00059063001_features.csv\n",
            "Loaded file: oip_A00059063002_features.csv\n",
            "Loaded file: oip_A00059063003_features.csv\n",
            "Loaded file: oip_A00059063004_features.csv\n",
            "Loaded file: oip_A00059063005_features.csv\n",
            "Loaded file: oip_A00059063006_features.csv\n",
            "Loaded file: oip_A00059083007_features.csv\n",
            "Loaded file: oip_A00059083011_features.csv\n",
            "Loaded file: oip_A00059578002_features.csv\n",
            "Loaded file: oip_A00059578005_features.csv\n",
            "Loaded file: oip_A00059578008_features.csv\n",
            "Loaded file: oip_A00059578009_features.csv\n",
            "Loaded file: oip_A00059578012_features.csv\n",
            "Loaded file: oip_A00059578013_features.csv\n",
            "Loaded file: oip_A00059578014_features.csv\n",
            "Loaded file: oip_A00059904003_features.csv\n",
            "Loaded file: oip_A00059904005_features.csv\n",
            "Loaded file: oip_A00059904006_features.csv\n",
            "Loaded file: oip_A00059904008_features.csv\n",
            "Loaded file: oip_A00059904010_features.csv\n",
            "Loaded file: oip_A00059904011_features.csv\n",
            "Loaded file: oip_A00062055001_features.csv\n",
            "Loaded file: oip_A00062055002_features.csv\n",
            "Loaded file: oip_A00062055003_features.csv\n",
            "Loaded file: oip_A00062055004_features.csv\n",
            "Loaded file: oip_A00062055012_features.csv\n",
            "Loaded file: oip_A00062125013_features.csv\n",
            "Loaded file: oip_A00062165002_features.csv\n",
            "Loaded file: oip_A00062165003_features.csv\n",
            "Loaded file: oip_A00062165011_features.csv\n",
            "Loaded file: oip_A00062219005_features.csv\n",
            "Loaded file: oip_A00062219008_features.csv\n",
            "Loaded file: oip_A00062219015_features.csv\n",
            "Loaded file: oip_A00062279013_features.csv\n",
            "Loaded file: oip_A00062408001_features.csv\n",
            "Loaded file: oip_A00062408002_features.csv\n",
            "Loaded file: oip_A00062408003_features.csv\n",
            "Loaded file: oip_A00062408008_features.csv\n",
            "Loaded file: oip_A00062435002_features.csv\n",
            "Loaded file: oip_A00062435004_features.csv\n",
            "Loaded file: oip_A00062453001_features.csv\n",
            "Loaded file: oip_A00062453006_features.csv\n",
            "Loaded file: oip_A00062453007_features.csv\n",
            "Loaded file: oip_A00062453008_features.csv\n",
            "Loaded file: oip_A00062453009_features.csv\n",
            "Loaded file: oip_A00062453011_features.csv\n",
            "Loaded file: oip_A00062578001_features.csv\n",
            "Loaded file: oip_A00062578002_features.csv\n",
            "Loaded file: oip_A00062578003_features.csv\n",
            "Loaded file: oip_A00062578004_features.csv\n",
            "Loaded file: oip_A00062578005_features.csv\n",
            "Loaded file: oip_A00062578006_features.csv\n",
            "Loaded file: oip_A00062578007_features.csv\n",
            "Loaded file: oip_A00062704001_features.csv\n",
            "Loaded file: oip_A00062704002_features.csv\n",
            "Loaded file: oip_A00062704005_features.csv\n",
            "Loaded file: oip_A00062842012_features.csv\n",
            "Loaded file: oip_A00062919 009_features.csv\n",
            "Loaded file: oip_A00063029 011_features.csv\n",
            "Loaded file: oip_A00063029 012_features.csv\n",
            "Loaded file: oip_A00063051 001_features.csv\n",
            "Loaded file: oip_A00063051 002_features.csv\n",
            "Loaded file: oip_A00063051 003_features.csv\n",
            "Loaded file: oip_A00063051 005_features.csv\n",
            "Loaded file: oip_A00063051 006_features.csv\n",
            "Loaded file: oip_A00063051 007_features.csv\n",
            "Loaded file: oip_A00063051 008_features.csv\n",
            "Loaded file: oip_A00063051 009_features.csv\n",
            "Loaded file: oip_A00063051 011_features.csv\n",
            "Loaded file: oip_A00063377 006_features.csv\n",
            "Loaded file: oip_A00063377 007_features.csv\n",
            "Loaded file: oip_A00063377 008_features.csv\n",
            "Loaded file: oip_A00063377 010_features.csv\n",
            "Loaded file: op_A00051955004_features.csv\n",
            "Loaded file: op_A00053398_part2008_features.csv\n",
            "Loaded file: op_A00053460002_features.csv\n",
            "Loaded file: op_A00053460007_features.csv\n",
            "Loaded file: op_A00053480004_features.csv\n",
            "Loaded file: op_A00054432001_features.csv\n",
            "Loaded file: op_A00054597008_features.csv\n",
            "Loaded file: op_A00054647015_features.csv\n",
            "Loaded file: op_A00054666008_features.csv\n",
            "Loaded file: op_A00054694010_features.csv\n",
            "Loaded file: op_A00054766004_features.csv\n",
            "Loaded file: op_A00055038010_features.csv\n",
            "Loaded file: op_A00055103003_features.csv\n",
            "Loaded file: op_A00055103006_features.csv\n",
            "Loaded file: op_A00055296004_features.csv\n",
            "Loaded file: op_A00055424011_features.csv\n",
            "Loaded file: op_A00055429013_features.csv\n",
            "Loaded file: op_A00055613007_features.csv\n",
            "Loaded file: op_A00055662002_features.csv\n",
            "Loaded file: op_A00055662003_features.csv\n",
            "Loaded file: op_A00055662004_features.csv\n",
            "Loaded file: op_A00055662005_features.csv\n",
            "Loaded file: op_A00055754002_features.csv\n",
            "Loaded file: op_A00055910005_features.csv\n",
            "Loaded file: op_A00056116006_features.csv\n",
            "Loaded file: op_A00056116007_features.csv\n",
            "Loaded file: op_A00056116015_features.csv\n",
            "Loaded file: op_A00056116016_features.csv\n",
            "Loaded file: op_A00056257002_features.csv\n",
            "Loaded file: op_A00056257007_features.csv\n",
            "Loaded file: op_A00056257011_features.csv\n",
            "Loaded file: op_A00058596004_features.csv\n",
            "Loaded file: op_A00059904002_features.csv\n",
            "Loaded file: op_A00059904007_features.csv\n",
            "EmptyDataError: No columns to parse from file: eegchild/processed_features/processed_eyetracking_features (1).csv. Skipping.\n",
            "Merged DataFrame shape: (435772691, 12)\n",
            "Merged CSV file saved to: gs://eegchild/processed_features/merged_features.csv\n"
          ]
        }
      ],
      "source": [
        "import os\n",
        "import pandas as pd\n",
        "import gcsfs\n",
        "\n",
        "# -------------------------------\n",
        "# CONFIGURATION\n",
        "# -------------------------------\n",
        "KEY_PATH = \"Key.json\"  # Path to your service account JSON key\n",
        "BUCKET_NAME = \"eegchild\"\n",
        "PROCESSED_FEATURES_FOLDER = f\"gs://{BUCKET_NAME}/processed_features\"  # Folder with feature CSVs\n",
        "\n",
        "# Create a GCS filesystem object (reuse your KEY_PATH)\n",
        "fs = gcsfs.GCSFileSystem(token=KEY_PATH)\n",
        "\n",
        "# -------------------------------\n",
        "# 1. List all CSV files in the processed features folder\n",
        "# -------------------------------\n",
        "csv_pattern = os.path.join(PROCESSED_FEATURES_FOLDER, \"*.csv\")\n",
        "csv_files = fs.glob(csv_pattern)\n",
        "print(f\"Found {len(csv_files)} CSV files in {PROCESSED_FEATURES_FOLDER}.\")\n",
        "\n",
        "# -------------------------------\n",
        "# 2. Load each CSV and add extra columns with error handling\n",
        "# -------------------------------\n",
        "dataframes = []\n",
        "for file_path in csv_files:\n",
        "    try:\n",
        "        # Open and read CSV from GCS\n",
        "        with fs.open(file_path, 'r') as f:\n",
        "            df = pd.read_csv(f)\n",
        "\n",
        "        # Check if the DataFrame is empty (no columns)\n",
        "        if df.empty or df.columns.empty:\n",
        "            print(f\"Skipping empty file: {file_path}\")\n",
        "            continue\n",
        "\n",
        "        # Get the base file name (e.g., \"A123_features.csv\")\n",
        "        file_name = os.path.basename(file_path)\n",
        "        df['file_name'] = file_name\n",
        "\n",
        "        # Extract patient_id from the file name.\n",
        "        # Assumes that the file name starts with the patient id (e.g., \"A123_features.csv\").\n",
        "        patient_id = file_name.split(\"_\")[0]\n",
        "        df['patient_id'] = patient_id\n",
        "\n",
        "        dataframes.append(df)\n",
        "        print(f\"Loaded file: {file_name}\")\n",
        "    except pd.errors.EmptyDataError:\n",
        "        print(f\"EmptyDataError: No columns to parse from file: {file_path}. Skipping.\")\n",
        "    except Exception as e:\n",
        "        print(f\"Error reading {file_path}: {e}. Skipping.\")\n",
        "\n",
        "# -------------------------------\n",
        "# 3. Merge all DataFrames into one\n",
        "# -------------------------------\n",
        "if dataframes:\n",
        "    merged_df = pd.concat(dataframes, ignore_index=True)\n",
        "    print(\"Merged DataFrame shape:\", merged_df.shape)\n",
        "else:\n",
        "    print(\"No valid CSV files found to merge.\")\n",
        "    merged_df = pd.DataFrame()\n",
        "\n",
        "# -------------------------------\n",
        "# 4. Save the merged DataFrame to GCS\n",
        "# -------------------------------\n",
        "merged_file_path = os.path.join(PROCESSED_FEATURES_FOLDER, \"merged_features.csv\")\n",
        "with fs.open(merged_file_path, 'w') as f:\n",
        "    merged_df.to_csv(f, index=False)\n",
        "\n",
        "print(f\"Merged CSV file saved to: {merged_file_path}\")\n"
      ]
    },
    {
      "cell_type": "code",
      "execution_count": null,
      "id": "79386721-8362-4e90-82ca-c8998cddb819",
      "metadata": {
        "id": "79386721-8362-4e90-82ca-c8998cddb819",
        "outputId": "c99893dd-0cf9-4b60-8102-1e38a1e42fa4"
      },
      "outputs": [
        {
          "name": "stderr",
          "output_type": "stream",
          "text": [
            "/tmp/ipykernel_1571142/872443576.py:22: DtypeWarning: Columns (0) have mixed types. Specify dtype option on import or set low_memory=False.\n",
            "  df_third_modality = pd.read_csv(f)\n"
          ]
        },
        {
          "name": "stdout",
          "output_type": "stream",
          "text": [
            "Loaded 435772691 rows from eegchild/processed_features/merged_features.csv\n",
            "\n",
            "Dataset Info:\n",
            "<class 'pandas.core.frame.DataFrame'>\n",
            "RangeIndex: 435772691 entries, 0 to 435772690\n",
            "Data columns (total 12 columns):\n",
            " #   Column            Dtype  \n",
            "---  ------            -----  \n",
            " 0   file              object \n",
            " 1   mean_rt           float64\n",
            " 2   std_rt            float64\n",
            " 3   median_rt         float64\n",
            " 4   min_rt            float64\n",
            " 5   max_rt            float64\n",
            " 6   accuracy          float64\n",
            " 7   file_name         object \n",
            " 8   patient_id        object \n",
            " 9   Mobility          float64\n",
            " 10  Complexity        float64\n",
            " 11  Spectral_Entropy  float64\n",
            "dtypes: float64(9), object(3)\n",
            "memory usage: 39.0+ GB\n",
            "None\n",
            "\n",
            "Sample Rows:\n",
            "                              file  mean_rt  std_rt  median_rt  min_rt  \\\n",
            "0  A00051826_SAIIT_2AFC_Block1.csv     86.0     0.0       86.0    86.0   \n",
            "1  A00051826_SAIIT_2AFC_Block2.csv     87.0     0.0       87.0    87.0   \n",
            "2  A00051826_SAIIT_2AFC_Block3.csv     88.0     0.0       88.0    88.0   \n",
            "3  A00051886_SAIIT_2AFC_Block1.csv     86.0     0.0       86.0    86.0   \n",
            "4  A00051886_SAIIT_2AFC_Block2.csv     87.0     0.0       87.0    87.0   \n",
            "\n",
            "   max_rt   accuracy                file_name  patient_id  Mobility  \\\n",
            "0    86.0  21.818182  behavioral_features.csv  behavioral       NaN   \n",
            "1    87.0  18.333333  behavioral_features.csv  behavioral       NaN   \n",
            "2    88.0  23.684211  behavioral_features.csv  behavioral       NaN   \n",
            "3    86.0  20.000000  behavioral_features.csv  behavioral       NaN   \n",
            "4    87.0  40.740741  behavioral_features.csv  behavioral       NaN   \n",
            "\n",
            "   Complexity  Spectral_Entropy  \n",
            "0         NaN               NaN  \n",
            "1         NaN               NaN  \n",
            "2         NaN               NaN  \n",
            "3         NaN               NaN  \n",
            "4         NaN               NaN  \n",
            "\n",
            "Missing Values:\n",
            "file                435772053\n",
            "mean_rt             435772053\n",
            "std_rt              435772053\n",
            "median_rt           435772053\n",
            "min_rt              435772053\n",
            "max_rt              435772053\n",
            "accuracy            435772053\n",
            "file_name                   0\n",
            "patient_id                  0\n",
            "Mobility                  638\n",
            "Complexity                638\n",
            "Spectral_Entropy          638\n",
            "dtype: int64\n",
            "\n",
            "Summary Statistics:\n",
            "          mean_rt  std_rt   median_rt      min_rt      max_rt    accuracy  \\\n",
            "count  638.000000   638.0  638.000000  638.000000  638.000000  638.000000   \n",
            "mean    86.984326     0.0   86.984326   86.984326   86.984326   46.107843   \n",
            "std      0.821458     0.0    0.821458    0.821458    0.821458   14.663923   \n",
            "min     86.000000     0.0   86.000000   86.000000   86.000000    3.557312   \n",
            "25%     86.000000     0.0   86.000000   86.000000   86.000000   36.000000   \n",
            "50%     87.000000     0.0   87.000000   87.000000   87.000000   47.058824   \n",
            "75%     88.000000     0.0   88.000000   88.000000   88.000000   56.000000   \n",
            "max     88.000000     0.0   88.000000   88.000000   88.000000   88.000000   \n",
            "\n",
            "           Mobility    Complexity  Spectral_Entropy  \n",
            "count  4.357721e+08  4.357721e+08      4.357721e+08  \n",
            "mean   1.930624e-01  2.458261e+00      2.240207e+00  \n",
            "std    8.123936e-02  9.601554e-01      5.951848e-01  \n",
            "min    4.067387e-02  6.675556e-01      3.779760e-01  \n",
            "25%    1.299563e-01  1.708007e+00      1.788998e+00  \n",
            "50%    1.790023e-01  2.254287e+00      2.228655e+00  \n",
            "75%    2.439934e-01  3.019659e+00      2.714439e+00  \n",
            "max    6.045506e-01  7.982397e+00      3.769873e+00  \n"
          ]
        }
      ],
      "source": [
        "import gcsfs\n",
        "import pandas as pd\n",
        "import os\n",
        "\n",
        "# Set GOOGLE_APPLICATION_CREDENTIALS environment variable\n",
        "# This assumes your Key.json file is in the current directory\n",
        "os.environ[\"GOOGLE_APPLICATION_CREDENTIALS\"] = \"Key.json\"\n",
        "\n",
        "# Initialize GCS file system without explicitly passing the token\n",
        "fs = gcsfs.GCSFileSystem()\n",
        "\n",
        "\n",
        "# Define the GCS file path for the third modality\n",
        "THIRD_MODALITY_FILE = \"eegchild/processed_features/merged_features.csv\"\n",
        "\n",
        "# Initialize GCS file system\n",
        "fs = gcsfs.GCSFileSystem()\n",
        "\n",
        "# Load the third modality dataset\n",
        "try:\n",
        "    with fs.open(THIRD_MODALITY_FILE, 'r') as f:\n",
        "        df_third_modality = pd.read_csv(f)\n",
        "    print(f\"Loaded {len(df_third_modality)} rows from {THIRD_MODALITY_FILE}\\n\")\n",
        "\n",
        "    # Display basic dataset information\n",
        "    print(\"Dataset Info:\")\n",
        "    print(df_third_modality.info())\n",
        "\n",
        "    # Show the first few rows\n",
        "    print(\"\\nSample Rows:\")\n",
        "    print(df_third_modality.head())\n",
        "\n",
        "    # Check for missing values\n",
        "    print(\"\\nMissing Values:\")\n",
        "    print(df_third_modality.isnull().sum())\n",
        "\n",
        "    # Summary statistics\n",
        "    print(\"\\nSummary Statistics:\")\n",
        "    print(df_third_modality.describe())\n",
        "\n",
        "except Exception as e:\n",
        "    print(f\"Error loading {THIRD_MODALITY_FILE}: {e}\")\n"
      ]
    },
    {
      "cell_type": "code",
      "execution_count": null,
      "id": "5696f9dd-d37c-4df8-81fc-c93d7f02f3b7",
      "metadata": {
        "id": "5696f9dd-d37c-4df8-81fc-c93d7f02f3b7"
      },
      "outputs": [],
      "source": []
    },
    {
      "cell_type": "code",
      "execution_count": null,
      "id": "32cd5c52-a9d8-4f2d-8000-ab1da7e327ff",
      "metadata": {
        "id": "32cd5c52-a9d8-4f2d-8000-ab1da7e327ff"
      },
      "outputs": [],
      "source": []
    },
    {
      "cell_type": "code",
      "execution_count": null,
      "id": "a020a6ce-bfd4-4d31-bd0c-f1cebdaae975",
      "metadata": {
        "id": "a020a6ce-bfd4-4d31-bd0c-f1cebdaae975"
      },
      "outputs": [],
      "source": []
    },
    {
      "cell_type": "code",
      "execution_count": null,
      "id": "399a1bde-2376-4605-a38a-1cad338e3326",
      "metadata": {
        "id": "399a1bde-2376-4605-a38a-1cad338e3326"
      },
      "outputs": [],
      "source": []
    }
  ],
  "metadata": {
    "kernelspec": {
      "display_name": "Python 3 (ipykernel)",
      "language": "python",
      "name": "python3"
    },
    "language_info": {
      "codemirror_mode": {
        "name": "ipython",
        "version": 3
      },
      "file_extension": ".py",
      "mimetype": "text/x-python",
      "name": "python",
      "nbconvert_exporter": "python",
      "pygments_lexer": "ipython3",
      "version": "3.9.21"
    },
    "colab": {
      "provenance": [],
      "include_colab_link": true
    }
  },
  "nbformat": 4,
  "nbformat_minor": 5
}